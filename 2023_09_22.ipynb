{
  "nbformat": 4,
  "nbformat_minor": 0,
  "metadata": {
    "colab": {
      "provenance": [],
      "authorship_tag": "ABX9TyN3Av2gQtE9oMQCYadd7XCv",
      "include_colab_link": true
    },
    "kernelspec": {
      "name": "python3",
      "display_name": "Python 3"
    },
    "language_info": {
      "name": "python"
    }
  },
  "cells": [
    {
      "cell_type": "markdown",
      "metadata": {
        "id": "view-in-github",
        "colab_type": "text"
      },
      "source": [
        "<a href=\"https://colab.research.google.com/github/kacper-dobrow/tensorflow-course/blob/main/2023_09_22.ipynb\" target=\"_parent\"><img src=\"https://colab.research.google.com/assets/colab-badge.svg\" alt=\"Open In Colab\"/></a>"
      ]
    },
    {
      "cell_type": "markdown",
      "source": [
        "# Appendix: Pandas for Data Analysis\n",
        "## 399. Selecting and viewing data with Pandas Part 2"
      ],
      "metadata": {
        "id": "NcA48QPo0vBx"
      }
    },
    {
      "cell_type": "code",
      "source": [],
      "metadata": {
        "id": "UQxo6PZx1FrU"
      },
      "execution_count": null,
      "outputs": []
    }
  ]
}