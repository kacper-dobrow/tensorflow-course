{
  "nbformat": 4,
  "nbformat_minor": 0,
  "metadata": {
    "colab": {
      "provenance": [],
      "authorship_tag": "ABX9TyODs2aa66XT0+L1g+s43atQ",
      "include_colab_link": true
    },
    "kernelspec": {
      "name": "python3",
      "display_name": "Python 3"
    },
    "language_info": {
      "name": "python"
    }
  },
  "cells": [
    {
      "cell_type": "markdown",
      "metadata": {
        "id": "view-in-github",
        "colab_type": "text"
      },
      "source": [
        "<a href=\"https://colab.research.google.com/github/kacper-dobrow/tensorflow-course/blob/main/10_time_series_forecasting_with_tensorflow.ipynb\" target=\"_parent\"><img src=\"https://colab.research.google.com/assets/colab-badge.svg\" alt=\"Open In Colab\"/></a>"
      ]
    },
    {
      "cell_type": "markdown",
      "source": [
        "# Time series forecasting fundamentals with tensorflow + Milestone Project 3: BitPredict\n",
        "\n",
        "Project to predict tomorrow's BTC price based on historical data"
      ],
      "metadata": {
        "id": "fATO94fPNtJL"
      }
    },
    {
      "cell_type": "markdown",
      "source": [
        "## Get data"
      ],
      "metadata": {
        "id": "9aesr7PxPFo0"
      }
    },
    {
      "cell_type": "code",
      "source": [
        "!wget https://raw.githubusercontent.com/mrdbourke/tensorflow-deep-learning/main/extras/BTC_USD_2013-10-01_2021-05-18-CoinDesk.csv"
      ],
      "metadata": {
        "id": "gmZGelecPZWU",
        "outputId": "b86edaea-f9ec-430e-cefd-d0741f790ecc",
        "colab": {
          "base_uri": "https://localhost:8080/"
        }
      },
      "execution_count": 2,
      "outputs": [
        {
          "output_type": "stream",
          "name": "stdout",
          "text": [
            "--2023-11-14 17:09:09--  https://raw.githubusercontent.com/mrdbourke/tensorflow-deep-learning/main/extras/BTC_USD_2013-10-01_2021-05-18-CoinDesk.csv\n",
            "Resolving raw.githubusercontent.com (raw.githubusercontent.com)... 185.199.108.133, 185.199.109.133, 185.199.110.133, ...\n",
            "Connecting to raw.githubusercontent.com (raw.githubusercontent.com)|185.199.108.133|:443... connected.\n",
            "HTTP request sent, awaiting response... 200 OK\n",
            "Length: 178509 (174K) [text/plain]\n",
            "Saving to: ‘BTC_USD_2013-10-01_2021-05-18-CoinDesk.csv’\n",
            "\n",
            "\r          BTC_USD_2   0%[                    ]       0  --.-KB/s               \rBTC_USD_2013-10-01_ 100%[===================>] 174.33K  --.-KB/s    in 0.03s   \n",
            "\n",
            "2023-11-14 17:09:09 (5.03 MB/s) - ‘BTC_USD_2013-10-01_2021-05-18-CoinDesk.csv’ saved [178509/178509]\n",
            "\n"
          ]
        }
      ]
    },
    {
      "cell_type": "markdown",
      "source": [
        "## Importing time series with Pandas"
      ],
      "metadata": {
        "id": "Lpa5wMWaQJ1h"
      }
    },
    {
      "cell_type": "code",
      "source": [
        "# Import with pandas\n",
        "import pandas as pd\n",
        "df = pd.read_csv(\"/content/BTC_USD_2013-10-01_2021-05-18-CoinDesk.csv\",\n",
        "                 parse_dates=[\"Date\"], # treat the \"Date\" column as dates\n",
        "                 index_col=[\"Date\"]) # index by the date column\n",
        "df.head()"
      ],
      "metadata": {
        "id": "dG228IzJQZ3m",
        "outputId": "dfffe001-8012-4a41-f571-2984220347ae",
        "colab": {
          "base_uri": "https://localhost:8080/",
          "height": 238
        }
      },
      "execution_count": 3,
      "outputs": [
        {
          "output_type": "execute_result",
          "data": {
            "text/plain": [
              "           Currency  Closing Price (USD)  24h Open (USD)  24h High (USD)  \\\n",
              "Date                                                                       \n",
              "2013-10-01      BTC            123.65499       124.30466       124.75166   \n",
              "2013-10-02      BTC            125.45500       123.65499       125.75850   \n",
              "2013-10-03      BTC            108.58483       125.45500       125.66566   \n",
              "2013-10-04      BTC            118.67466       108.58483       118.67500   \n",
              "2013-10-05      BTC            121.33866       118.67466       121.93633   \n",
              "\n",
              "            24h Low (USD)  \n",
              "Date                       \n",
              "2013-10-01      122.56349  \n",
              "2013-10-02      123.63383  \n",
              "2013-10-03       83.32833  \n",
              "2013-10-04      107.05816  \n",
              "2013-10-05      118.00566  "
            ],
            "text/html": [
              "\n",
              "  <div id=\"df-c93086ea-71fc-472c-a69b-3e2b77c9a548\" class=\"colab-df-container\">\n",
              "    <div>\n",
              "<style scoped>\n",
              "    .dataframe tbody tr th:only-of-type {\n",
              "        vertical-align: middle;\n",
              "    }\n",
              "\n",
              "    .dataframe tbody tr th {\n",
              "        vertical-align: top;\n",
              "    }\n",
              "\n",
              "    .dataframe thead th {\n",
              "        text-align: right;\n",
              "    }\n",
              "</style>\n",
              "<table border=\"1\" class=\"dataframe\">\n",
              "  <thead>\n",
              "    <tr style=\"text-align: right;\">\n",
              "      <th></th>\n",
              "      <th>Currency</th>\n",
              "      <th>Closing Price (USD)</th>\n",
              "      <th>24h Open (USD)</th>\n",
              "      <th>24h High (USD)</th>\n",
              "      <th>24h Low (USD)</th>\n",
              "    </tr>\n",
              "    <tr>\n",
              "      <th>Date</th>\n",
              "      <th></th>\n",
              "      <th></th>\n",
              "      <th></th>\n",
              "      <th></th>\n",
              "      <th></th>\n",
              "    </tr>\n",
              "  </thead>\n",
              "  <tbody>\n",
              "    <tr>\n",
              "      <th>2013-10-01</th>\n",
              "      <td>BTC</td>\n",
              "      <td>123.65499</td>\n",
              "      <td>124.30466</td>\n",
              "      <td>124.75166</td>\n",
              "      <td>122.56349</td>\n",
              "    </tr>\n",
              "    <tr>\n",
              "      <th>2013-10-02</th>\n",
              "      <td>BTC</td>\n",
              "      <td>125.45500</td>\n",
              "      <td>123.65499</td>\n",
              "      <td>125.75850</td>\n",
              "      <td>123.63383</td>\n",
              "    </tr>\n",
              "    <tr>\n",
              "      <th>2013-10-03</th>\n",
              "      <td>BTC</td>\n",
              "      <td>108.58483</td>\n",
              "      <td>125.45500</td>\n",
              "      <td>125.66566</td>\n",
              "      <td>83.32833</td>\n",
              "    </tr>\n",
              "    <tr>\n",
              "      <th>2013-10-04</th>\n",
              "      <td>BTC</td>\n",
              "      <td>118.67466</td>\n",
              "      <td>108.58483</td>\n",
              "      <td>118.67500</td>\n",
              "      <td>107.05816</td>\n",
              "    </tr>\n",
              "    <tr>\n",
              "      <th>2013-10-05</th>\n",
              "      <td>BTC</td>\n",
              "      <td>121.33866</td>\n",
              "      <td>118.67466</td>\n",
              "      <td>121.93633</td>\n",
              "      <td>118.00566</td>\n",
              "    </tr>\n",
              "  </tbody>\n",
              "</table>\n",
              "</div>\n",
              "    <div class=\"colab-df-buttons\">\n",
              "\n",
              "  <div class=\"colab-df-container\">\n",
              "    <button class=\"colab-df-convert\" onclick=\"convertToInteractive('df-c93086ea-71fc-472c-a69b-3e2b77c9a548')\"\n",
              "            title=\"Convert this dataframe to an interactive table.\"\n",
              "            style=\"display:none;\">\n",
              "\n",
              "  <svg xmlns=\"http://www.w3.org/2000/svg\" height=\"24px\" viewBox=\"0 -960 960 960\">\n",
              "    <path d=\"M120-120v-720h720v720H120Zm60-500h600v-160H180v160Zm220 220h160v-160H400v160Zm0 220h160v-160H400v160ZM180-400h160v-160H180v160Zm440 0h160v-160H620v160ZM180-180h160v-160H180v160Zm440 0h160v-160H620v160Z\"/>\n",
              "  </svg>\n",
              "    </button>\n",
              "\n",
              "  <style>\n",
              "    .colab-df-container {\n",
              "      display:flex;\n",
              "      gap: 12px;\n",
              "    }\n",
              "\n",
              "    .colab-df-convert {\n",
              "      background-color: #E8F0FE;\n",
              "      border: none;\n",
              "      border-radius: 50%;\n",
              "      cursor: pointer;\n",
              "      display: none;\n",
              "      fill: #1967D2;\n",
              "      height: 32px;\n",
              "      padding: 0 0 0 0;\n",
              "      width: 32px;\n",
              "    }\n",
              "\n",
              "    .colab-df-convert:hover {\n",
              "      background-color: #E2EBFA;\n",
              "      box-shadow: 0px 1px 2px rgba(60, 64, 67, 0.3), 0px 1px 3px 1px rgba(60, 64, 67, 0.15);\n",
              "      fill: #174EA6;\n",
              "    }\n",
              "\n",
              "    .colab-df-buttons div {\n",
              "      margin-bottom: 4px;\n",
              "    }\n",
              "\n",
              "    [theme=dark] .colab-df-convert {\n",
              "      background-color: #3B4455;\n",
              "      fill: #D2E3FC;\n",
              "    }\n",
              "\n",
              "    [theme=dark] .colab-df-convert:hover {\n",
              "      background-color: #434B5C;\n",
              "      box-shadow: 0px 1px 3px 1px rgba(0, 0, 0, 0.15);\n",
              "      filter: drop-shadow(0px 1px 2px rgba(0, 0, 0, 0.3));\n",
              "      fill: #FFFFFF;\n",
              "    }\n",
              "  </style>\n",
              "\n",
              "    <script>\n",
              "      const buttonEl =\n",
              "        document.querySelector('#df-c93086ea-71fc-472c-a69b-3e2b77c9a548 button.colab-df-convert');\n",
              "      buttonEl.style.display =\n",
              "        google.colab.kernel.accessAllowed ? 'block' : 'none';\n",
              "\n",
              "      async function convertToInteractive(key) {\n",
              "        const element = document.querySelector('#df-c93086ea-71fc-472c-a69b-3e2b77c9a548');\n",
              "        const dataTable =\n",
              "          await google.colab.kernel.invokeFunction('convertToInteractive',\n",
              "                                                    [key], {});\n",
              "        if (!dataTable) return;\n",
              "\n",
              "        const docLinkHtml = 'Like what you see? Visit the ' +\n",
              "          '<a target=\"_blank\" href=https://colab.research.google.com/notebooks/data_table.ipynb>data table notebook</a>'\n",
              "          + ' to learn more about interactive tables.';\n",
              "        element.innerHTML = '';\n",
              "        dataTable['output_type'] = 'display_data';\n",
              "        await google.colab.output.renderOutput(dataTable, element);\n",
              "        const docLink = document.createElement('div');\n",
              "        docLink.innerHTML = docLinkHtml;\n",
              "        element.appendChild(docLink);\n",
              "      }\n",
              "    </script>\n",
              "  </div>\n",
              "\n",
              "\n",
              "<div id=\"df-b04e4dac-697e-4a6a-8e9e-9e1a536e102a\">\n",
              "  <button class=\"colab-df-quickchart\" onclick=\"quickchart('df-b04e4dac-697e-4a6a-8e9e-9e1a536e102a')\"\n",
              "            title=\"Suggest charts\"\n",
              "            style=\"display:none;\">\n",
              "\n",
              "<svg xmlns=\"http://www.w3.org/2000/svg\" height=\"24px\"viewBox=\"0 0 24 24\"\n",
              "     width=\"24px\">\n",
              "    <g>\n",
              "        <path d=\"M19 3H5c-1.1 0-2 .9-2 2v14c0 1.1.9 2 2 2h14c1.1 0 2-.9 2-2V5c0-1.1-.9-2-2-2zM9 17H7v-7h2v7zm4 0h-2V7h2v10zm4 0h-2v-4h2v4z\"/>\n",
              "    </g>\n",
              "</svg>\n",
              "  </button>\n",
              "\n",
              "<style>\n",
              "  .colab-df-quickchart {\n",
              "      --bg-color: #E8F0FE;\n",
              "      --fill-color: #1967D2;\n",
              "      --hover-bg-color: #E2EBFA;\n",
              "      --hover-fill-color: #174EA6;\n",
              "      --disabled-fill-color: #AAA;\n",
              "      --disabled-bg-color: #DDD;\n",
              "  }\n",
              "\n",
              "  [theme=dark] .colab-df-quickchart {\n",
              "      --bg-color: #3B4455;\n",
              "      --fill-color: #D2E3FC;\n",
              "      --hover-bg-color: #434B5C;\n",
              "      --hover-fill-color: #FFFFFF;\n",
              "      --disabled-bg-color: #3B4455;\n",
              "      --disabled-fill-color: #666;\n",
              "  }\n",
              "\n",
              "  .colab-df-quickchart {\n",
              "    background-color: var(--bg-color);\n",
              "    border: none;\n",
              "    border-radius: 50%;\n",
              "    cursor: pointer;\n",
              "    display: none;\n",
              "    fill: var(--fill-color);\n",
              "    height: 32px;\n",
              "    padding: 0;\n",
              "    width: 32px;\n",
              "  }\n",
              "\n",
              "  .colab-df-quickchart:hover {\n",
              "    background-color: var(--hover-bg-color);\n",
              "    box-shadow: 0 1px 2px rgba(60, 64, 67, 0.3), 0 1px 3px 1px rgba(60, 64, 67, 0.15);\n",
              "    fill: var(--button-hover-fill-color);\n",
              "  }\n",
              "\n",
              "  .colab-df-quickchart-complete:disabled,\n",
              "  .colab-df-quickchart-complete:disabled:hover {\n",
              "    background-color: var(--disabled-bg-color);\n",
              "    fill: var(--disabled-fill-color);\n",
              "    box-shadow: none;\n",
              "  }\n",
              "\n",
              "  .colab-df-spinner {\n",
              "    border: 2px solid var(--fill-color);\n",
              "    border-color: transparent;\n",
              "    border-bottom-color: var(--fill-color);\n",
              "    animation:\n",
              "      spin 1s steps(1) infinite;\n",
              "  }\n",
              "\n",
              "  @keyframes spin {\n",
              "    0% {\n",
              "      border-color: transparent;\n",
              "      border-bottom-color: var(--fill-color);\n",
              "      border-left-color: var(--fill-color);\n",
              "    }\n",
              "    20% {\n",
              "      border-color: transparent;\n",
              "      border-left-color: var(--fill-color);\n",
              "      border-top-color: var(--fill-color);\n",
              "    }\n",
              "    30% {\n",
              "      border-color: transparent;\n",
              "      border-left-color: var(--fill-color);\n",
              "      border-top-color: var(--fill-color);\n",
              "      border-right-color: var(--fill-color);\n",
              "    }\n",
              "    40% {\n",
              "      border-color: transparent;\n",
              "      border-right-color: var(--fill-color);\n",
              "      border-top-color: var(--fill-color);\n",
              "    }\n",
              "    60% {\n",
              "      border-color: transparent;\n",
              "      border-right-color: var(--fill-color);\n",
              "    }\n",
              "    80% {\n",
              "      border-color: transparent;\n",
              "      border-right-color: var(--fill-color);\n",
              "      border-bottom-color: var(--fill-color);\n",
              "    }\n",
              "    90% {\n",
              "      border-color: transparent;\n",
              "      border-bottom-color: var(--fill-color);\n",
              "    }\n",
              "  }\n",
              "</style>\n",
              "\n",
              "  <script>\n",
              "    async function quickchart(key) {\n",
              "      const quickchartButtonEl =\n",
              "        document.querySelector('#' + key + ' button');\n",
              "      quickchartButtonEl.disabled = true;  // To prevent multiple clicks.\n",
              "      quickchartButtonEl.classList.add('colab-df-spinner');\n",
              "      try {\n",
              "        const charts = await google.colab.kernel.invokeFunction(\n",
              "            'suggestCharts', [key], {});\n",
              "      } catch (error) {\n",
              "        console.error('Error during call to suggestCharts:', error);\n",
              "      }\n",
              "      quickchartButtonEl.classList.remove('colab-df-spinner');\n",
              "      quickchartButtonEl.classList.add('colab-df-quickchart-complete');\n",
              "    }\n",
              "    (() => {\n",
              "      let quickchartButtonEl =\n",
              "        document.querySelector('#df-b04e4dac-697e-4a6a-8e9e-9e1a536e102a button');\n",
              "      quickchartButtonEl.style.display =\n",
              "        google.colab.kernel.accessAllowed ? 'block' : 'none';\n",
              "    })();\n",
              "  </script>\n",
              "</div>\n",
              "    </div>\n",
              "  </div>\n"
            ]
          },
          "metadata": {},
          "execution_count": 3
        }
      ]
    },
    {
      "cell_type": "code",
      "source": [
        "df.info()"
      ],
      "metadata": {
        "id": "Tkqdur2wRP8e",
        "outputId": "a7859399-5e62-4863-a93e-5db136509eab",
        "colab": {
          "base_uri": "https://localhost:8080/"
        }
      },
      "execution_count": 4,
      "outputs": [
        {
          "output_type": "stream",
          "name": "stdout",
          "text": [
            "<class 'pandas.core.frame.DataFrame'>\n",
            "DatetimeIndex: 2787 entries, 2013-10-01 to 2021-05-18\n",
            "Data columns (total 5 columns):\n",
            " #   Column               Non-Null Count  Dtype  \n",
            "---  ------               --------------  -----  \n",
            " 0   Currency             2787 non-null   object \n",
            " 1   Closing Price (USD)  2787 non-null   float64\n",
            " 2   24h Open (USD)       2787 non-null   float64\n",
            " 3   24h High (USD)       2787 non-null   float64\n",
            " 4   24h Low (USD)        2787 non-null   float64\n",
            "dtypes: float64(4), object(1)\n",
            "memory usage: 130.6+ KB\n"
          ]
        }
      ]
    },
    {
      "cell_type": "code",
      "source": [
        "# How many samples\n",
        "len(df)"
      ],
      "metadata": {
        "id": "4bxP4I6wRR4k",
        "outputId": "20c96682-bcbb-4997-9eda-753c27dc66e9",
        "colab": {
          "base_uri": "https://localhost:8080/"
        }
      },
      "execution_count": 5,
      "outputs": [
        {
          "output_type": "execute_result",
          "data": {
            "text/plain": [
              "2787"
            ]
          },
          "metadata": {},
          "execution_count": 5
        }
      ]
    },
    {
      "cell_type": "markdown",
      "source": [
        "2787 samples is not much in case of a deep learning model"
      ],
      "metadata": {
        "id": "88PCTQBPRYHt"
      }
    },
    {
      "cell_type": "code",
      "source": [
        "# Only want closing price for each day\n",
        "bitcoin_prices = pd.DataFrame(df.rename(columns={\"Closing Price (USD)\": \"Price\"})[\"Price\"]) # Doing it the same way Daniel did produces an error. .rename() method needs to be called on a DataFrame and not Series\n",
        "bitcoin_prices.head()"
      ],
      "metadata": {
        "id": "l-_KJScgRrTV",
        "outputId": "de26d6e0-7854-4c52-9270-61bebd710be3",
        "colab": {
          "base_uri": "https://localhost:8080/",
          "height": 238
        }
      },
      "execution_count": 6,
      "outputs": [
        {
          "output_type": "execute_result",
          "data": {
            "text/plain": [
              "                Price\n",
              "Date                 \n",
              "2013-10-01  123.65499\n",
              "2013-10-02  125.45500\n",
              "2013-10-03  108.58483\n",
              "2013-10-04  118.67466\n",
              "2013-10-05  121.33866"
            ],
            "text/html": [
              "\n",
              "  <div id=\"df-14279336-9680-4f75-9be3-2a3d5d742613\" class=\"colab-df-container\">\n",
              "    <div>\n",
              "<style scoped>\n",
              "    .dataframe tbody tr th:only-of-type {\n",
              "        vertical-align: middle;\n",
              "    }\n",
              "\n",
              "    .dataframe tbody tr th {\n",
              "        vertical-align: top;\n",
              "    }\n",
              "\n",
              "    .dataframe thead th {\n",
              "        text-align: right;\n",
              "    }\n",
              "</style>\n",
              "<table border=\"1\" class=\"dataframe\">\n",
              "  <thead>\n",
              "    <tr style=\"text-align: right;\">\n",
              "      <th></th>\n",
              "      <th>Price</th>\n",
              "    </tr>\n",
              "    <tr>\n",
              "      <th>Date</th>\n",
              "      <th></th>\n",
              "    </tr>\n",
              "  </thead>\n",
              "  <tbody>\n",
              "    <tr>\n",
              "      <th>2013-10-01</th>\n",
              "      <td>123.65499</td>\n",
              "    </tr>\n",
              "    <tr>\n",
              "      <th>2013-10-02</th>\n",
              "      <td>125.45500</td>\n",
              "    </tr>\n",
              "    <tr>\n",
              "      <th>2013-10-03</th>\n",
              "      <td>108.58483</td>\n",
              "    </tr>\n",
              "    <tr>\n",
              "      <th>2013-10-04</th>\n",
              "      <td>118.67466</td>\n",
              "    </tr>\n",
              "    <tr>\n",
              "      <th>2013-10-05</th>\n",
              "      <td>121.33866</td>\n",
              "    </tr>\n",
              "  </tbody>\n",
              "</table>\n",
              "</div>\n",
              "    <div class=\"colab-df-buttons\">\n",
              "\n",
              "  <div class=\"colab-df-container\">\n",
              "    <button class=\"colab-df-convert\" onclick=\"convertToInteractive('df-14279336-9680-4f75-9be3-2a3d5d742613')\"\n",
              "            title=\"Convert this dataframe to an interactive table.\"\n",
              "            style=\"display:none;\">\n",
              "\n",
              "  <svg xmlns=\"http://www.w3.org/2000/svg\" height=\"24px\" viewBox=\"0 -960 960 960\">\n",
              "    <path d=\"M120-120v-720h720v720H120Zm60-500h600v-160H180v160Zm220 220h160v-160H400v160Zm0 220h160v-160H400v160ZM180-400h160v-160H180v160Zm440 0h160v-160H620v160ZM180-180h160v-160H180v160Zm440 0h160v-160H620v160Z\"/>\n",
              "  </svg>\n",
              "    </button>\n",
              "\n",
              "  <style>\n",
              "    .colab-df-container {\n",
              "      display:flex;\n",
              "      gap: 12px;\n",
              "    }\n",
              "\n",
              "    .colab-df-convert {\n",
              "      background-color: #E8F0FE;\n",
              "      border: none;\n",
              "      border-radius: 50%;\n",
              "      cursor: pointer;\n",
              "      display: none;\n",
              "      fill: #1967D2;\n",
              "      height: 32px;\n",
              "      padding: 0 0 0 0;\n",
              "      width: 32px;\n",
              "    }\n",
              "\n",
              "    .colab-df-convert:hover {\n",
              "      background-color: #E2EBFA;\n",
              "      box-shadow: 0px 1px 2px rgba(60, 64, 67, 0.3), 0px 1px 3px 1px rgba(60, 64, 67, 0.15);\n",
              "      fill: #174EA6;\n",
              "    }\n",
              "\n",
              "    .colab-df-buttons div {\n",
              "      margin-bottom: 4px;\n",
              "    }\n",
              "\n",
              "    [theme=dark] .colab-df-convert {\n",
              "      background-color: #3B4455;\n",
              "      fill: #D2E3FC;\n",
              "    }\n",
              "\n",
              "    [theme=dark] .colab-df-convert:hover {\n",
              "      background-color: #434B5C;\n",
              "      box-shadow: 0px 1px 3px 1px rgba(0, 0, 0, 0.15);\n",
              "      filter: drop-shadow(0px 1px 2px rgba(0, 0, 0, 0.3));\n",
              "      fill: #FFFFFF;\n",
              "    }\n",
              "  </style>\n",
              "\n",
              "    <script>\n",
              "      const buttonEl =\n",
              "        document.querySelector('#df-14279336-9680-4f75-9be3-2a3d5d742613 button.colab-df-convert');\n",
              "      buttonEl.style.display =\n",
              "        google.colab.kernel.accessAllowed ? 'block' : 'none';\n",
              "\n",
              "      async function convertToInteractive(key) {\n",
              "        const element = document.querySelector('#df-14279336-9680-4f75-9be3-2a3d5d742613');\n",
              "        const dataTable =\n",
              "          await google.colab.kernel.invokeFunction('convertToInteractive',\n",
              "                                                    [key], {});\n",
              "        if (!dataTable) return;\n",
              "\n",
              "        const docLinkHtml = 'Like what you see? Visit the ' +\n",
              "          '<a target=\"_blank\" href=https://colab.research.google.com/notebooks/data_table.ipynb>data table notebook</a>'\n",
              "          + ' to learn more about interactive tables.';\n",
              "        element.innerHTML = '';\n",
              "        dataTable['output_type'] = 'display_data';\n",
              "        await google.colab.output.renderOutput(dataTable, element);\n",
              "        const docLink = document.createElement('div');\n",
              "        docLink.innerHTML = docLinkHtml;\n",
              "        element.appendChild(docLink);\n",
              "      }\n",
              "    </script>\n",
              "  </div>\n",
              "\n",
              "\n",
              "<div id=\"df-8ad4e3cc-1c76-4e59-a743-251edf5f9b75\">\n",
              "  <button class=\"colab-df-quickchart\" onclick=\"quickchart('df-8ad4e3cc-1c76-4e59-a743-251edf5f9b75')\"\n",
              "            title=\"Suggest charts\"\n",
              "            style=\"display:none;\">\n",
              "\n",
              "<svg xmlns=\"http://www.w3.org/2000/svg\" height=\"24px\"viewBox=\"0 0 24 24\"\n",
              "     width=\"24px\">\n",
              "    <g>\n",
              "        <path d=\"M19 3H5c-1.1 0-2 .9-2 2v14c0 1.1.9 2 2 2h14c1.1 0 2-.9 2-2V5c0-1.1-.9-2-2-2zM9 17H7v-7h2v7zm4 0h-2V7h2v10zm4 0h-2v-4h2v4z\"/>\n",
              "    </g>\n",
              "</svg>\n",
              "  </button>\n",
              "\n",
              "<style>\n",
              "  .colab-df-quickchart {\n",
              "      --bg-color: #E8F0FE;\n",
              "      --fill-color: #1967D2;\n",
              "      --hover-bg-color: #E2EBFA;\n",
              "      --hover-fill-color: #174EA6;\n",
              "      --disabled-fill-color: #AAA;\n",
              "      --disabled-bg-color: #DDD;\n",
              "  }\n",
              "\n",
              "  [theme=dark] .colab-df-quickchart {\n",
              "      --bg-color: #3B4455;\n",
              "      --fill-color: #D2E3FC;\n",
              "      --hover-bg-color: #434B5C;\n",
              "      --hover-fill-color: #FFFFFF;\n",
              "      --disabled-bg-color: #3B4455;\n",
              "      --disabled-fill-color: #666;\n",
              "  }\n",
              "\n",
              "  .colab-df-quickchart {\n",
              "    background-color: var(--bg-color);\n",
              "    border: none;\n",
              "    border-radius: 50%;\n",
              "    cursor: pointer;\n",
              "    display: none;\n",
              "    fill: var(--fill-color);\n",
              "    height: 32px;\n",
              "    padding: 0;\n",
              "    width: 32px;\n",
              "  }\n",
              "\n",
              "  .colab-df-quickchart:hover {\n",
              "    background-color: var(--hover-bg-color);\n",
              "    box-shadow: 0 1px 2px rgba(60, 64, 67, 0.3), 0 1px 3px 1px rgba(60, 64, 67, 0.15);\n",
              "    fill: var(--button-hover-fill-color);\n",
              "  }\n",
              "\n",
              "  .colab-df-quickchart-complete:disabled,\n",
              "  .colab-df-quickchart-complete:disabled:hover {\n",
              "    background-color: var(--disabled-bg-color);\n",
              "    fill: var(--disabled-fill-color);\n",
              "    box-shadow: none;\n",
              "  }\n",
              "\n",
              "  .colab-df-spinner {\n",
              "    border: 2px solid var(--fill-color);\n",
              "    border-color: transparent;\n",
              "    border-bottom-color: var(--fill-color);\n",
              "    animation:\n",
              "      spin 1s steps(1) infinite;\n",
              "  }\n",
              "\n",
              "  @keyframes spin {\n",
              "    0% {\n",
              "      border-color: transparent;\n",
              "      border-bottom-color: var(--fill-color);\n",
              "      border-left-color: var(--fill-color);\n",
              "    }\n",
              "    20% {\n",
              "      border-color: transparent;\n",
              "      border-left-color: var(--fill-color);\n",
              "      border-top-color: var(--fill-color);\n",
              "    }\n",
              "    30% {\n",
              "      border-color: transparent;\n",
              "      border-left-color: var(--fill-color);\n",
              "      border-top-color: var(--fill-color);\n",
              "      border-right-color: var(--fill-color);\n",
              "    }\n",
              "    40% {\n",
              "      border-color: transparent;\n",
              "      border-right-color: var(--fill-color);\n",
              "      border-top-color: var(--fill-color);\n",
              "    }\n",
              "    60% {\n",
              "      border-color: transparent;\n",
              "      border-right-color: var(--fill-color);\n",
              "    }\n",
              "    80% {\n",
              "      border-color: transparent;\n",
              "      border-right-color: var(--fill-color);\n",
              "      border-bottom-color: var(--fill-color);\n",
              "    }\n",
              "    90% {\n",
              "      border-color: transparent;\n",
              "      border-bottom-color: var(--fill-color);\n",
              "    }\n",
              "  }\n",
              "</style>\n",
              "\n",
              "  <script>\n",
              "    async function quickchart(key) {\n",
              "      const quickchartButtonEl =\n",
              "        document.querySelector('#' + key + ' button');\n",
              "      quickchartButtonEl.disabled = true;  // To prevent multiple clicks.\n",
              "      quickchartButtonEl.classList.add('colab-df-spinner');\n",
              "      try {\n",
              "        const charts = await google.colab.kernel.invokeFunction(\n",
              "            'suggestCharts', [key], {});\n",
              "      } catch (error) {\n",
              "        console.error('Error during call to suggestCharts:', error);\n",
              "      }\n",
              "      quickchartButtonEl.classList.remove('colab-df-spinner');\n",
              "      quickchartButtonEl.classList.add('colab-df-quickchart-complete');\n",
              "    }\n",
              "    (() => {\n",
              "      let quickchartButtonEl =\n",
              "        document.querySelector('#df-8ad4e3cc-1c76-4e59-a743-251edf5f9b75 button');\n",
              "      quickchartButtonEl.style.display =\n",
              "        google.colab.kernel.accessAllowed ? 'block' : 'none';\n",
              "    })();\n",
              "  </script>\n",
              "</div>\n",
              "    </div>\n",
              "  </div>\n"
            ]
          },
          "metadata": {},
          "execution_count": 6
        }
      ]
    },
    {
      "cell_type": "code",
      "source": [
        "import matplotlib.pyplot as plt\n",
        "bitcoin_prices.plot(figsize=(10,7))\n",
        "plt.ylabel(\"BTC Price\")\n",
        "plt.title(\"Price of Bitcoin froom 1 Oct 2013 to 18 May 2021\", fontsize=16)\n",
        "plt.legend(fontsize=14);"
      ],
      "metadata": {
        "id": "YNejYm8lT8W9",
        "outputId": "e900667c-4ed3-412f-84f8-39867ee30fcd",
        "colab": {
          "base_uri": "https://localhost:8080/",
          "height": 643
        }
      },
      "execution_count": 7,
      "outputs": [
        {
          "output_type": "display_data",
          "data": {
            "text/plain": [
              "<Figure size 1000x700 with 1 Axes>"
            ],
            "image/png": "[encoded data removed]"
          },
          "metadata": {}
        }
      ]
    },
    {
      "cell_type": "markdown",
      "source": [
        "## Importing time series with CSV module instead of Pandas\n",
        "\n",
        "When not using Pandas"
      ],
      "metadata": {
        "id": "uHaVoZTLVRoF"
      }
    },
    {
      "cell_type": "code",
      "source": [
        "import csv\n",
        "from datetime import datetime\n",
        "\n",
        "timesteps = []\n",
        "btc_price = []\n",
        "with open(\"/content/BTC_USD_2013-10-01_2021-05-18-CoinDesk.csv\", \"r\") as f:\n",
        "  csv_reader = csv.reader(f, delimiter=\",\")\n",
        "  next(csv_reader) # skip 1st line (gets rid of column names)\n",
        "  for line in csv_reader:\n",
        "    timesteps.append(datetime.strptime(line[1],  \"%Y-%m-%d\")) # get the date from the line as date not string\n",
        "    btc_price.append(float(line[2])) # get the price as float\n",
        "\n",
        "# View 1st 10 of each\n",
        "timesteps[:10], btc_price[:10]"
      ],
      "metadata": {
        "id": "QebqEHSyWIdX",
        "outputId": "6a926a9b-86dc-4162-acf5-c010d30a3c33",
        "colab": {
          "base_uri": "https://localhost:8080/"
        }
      },
      "execution_count": 8,
      "outputs": [
        {
          "output_type": "execute_result",
          "data": {
            "text/plain": [
              "([datetime.datetime(2013, 10, 1, 0, 0),\n",
              "  datetime.datetime(2013, 10, 2, 0, 0),\n",
              "  datetime.datetime(2013, 10, 3, 0, 0),\n",
              "  datetime.datetime(2013, 10, 4, 0, 0),\n",
              "  datetime.datetime(2013, 10, 5, 0, 0),\n",
              "  datetime.datetime(2013, 10, 6, 0, 0),\n",
              "  datetime.datetime(2013, 10, 7, 0, 0),\n",
              "  datetime.datetime(2013, 10, 8, 0, 0),\n",
              "  datetime.datetime(2013, 10, 9, 0, 0),\n",
              "  datetime.datetime(2013, 10, 10, 0, 0)],\n",
              " [123.65499,\n",
              "  125.455,\n",
              "  108.58483,\n",
              "  118.67466,\n",
              "  121.33866,\n",
              "  120.65533,\n",
              "  121.795,\n",
              "  123.033,\n",
              "  124.049,\n",
              "  125.96116])"
            ]
          },
          "metadata": {},
          "execution_count": 8
        }
      ]
    },
    {
      "cell_type": "code",
      "source": [
        "# Plot from CSV\n",
        "import numpy as np\n",
        "plt.figure(figsize=(10,7))\n",
        "plt.plot(timesteps, btc_price)\n",
        "plt.ylabel(\"BTC Price\")\n",
        "plt.title(\"Price of Bitcoin froom 1 Oct 2013 to 18 May 2021\", fontsize=16)\n",
        "plt.legend(fontsize=14);"
      ],
      "metadata": {
        "id": "vp0GCxSbXZUl",
        "outputId": "0e9b4f4c-e80c-400a-a2ce-78698b77e338",
        "colab": {
          "base_uri": "https://localhost:8080/",
          "height": 661
        }
      },
      "execution_count": 9,
      "outputs": [
        {
          "output_type": "stream",
          "name": "stderr",
          "text": [
            "WARNING:matplotlib.legend:No artists with labels found to put in legend.  Note that artists whose label start with an underscore are ignored when legend() is called with no argument.\n"
          ]
        },
        {
          "output_type": "display_data",
          "data": {
            "text/plain": [
              "<Figure size 1000x700 with 1 Axes>"
            ],
            "image/png": "[encoded data removed]"
          },
          "metadata": {}
        }
      ]
    },
    {
      "cell_type": "markdown",
      "source": [
        "## Format data part 1: Create train and test split"
      ],
      "metadata": {
        "id": "fD7z1tUhZFY5"
      }
    },
    {
      "cell_type": "markdown",
      "source": [
        "### Creating train and test data the wrong way (data leakage)"
      ],
      "metadata": {
        "id": "mnbbRagOYrSF"
      }
    },
    {
      "cell_type": "code",
      "source": [
        "# Get the date array\n",
        "timesteps = bitcoin_prices.index.to_numpy()\n",
        "prices = bitcoin_prices[\"Price\"].to_numpy()"
      ],
      "metadata": {
        "id": "lQDPhtNjKvXs"
      },
      "execution_count": 10,
      "outputs": []
    },
    {
      "cell_type": "code",
      "source": [
        "# Wrong way to make train/test data\n",
        "from sklearn.model_selection import train_test_split\n",
        "X_train, X_test, y_train, y_test = train_test_split(timesteps, prices, test_size=.2, random_state=42)"
      ],
      "metadata": {
        "id": "cQ0h8Kd-LMuC"
      },
      "execution_count": 11,
      "outputs": []
    },
    {
      "cell_type": "code",
      "source": [
        "# Plot wrong splits\n",
        "plt.figure(figsize=(10,7))\n",
        "plt.scatter(X_train, y_train, s=5, label=\"Train data\")\n",
        "plt.scatter(X_test, y_test, s=5, label=\"Test data\")\n",
        "plt.xlabel(\"Date\")\n",
        "plt.ylabel(\"BTC price\")\n",
        "plt.show();"
      ],
      "metadata": {
        "id": "7jLJvIkUj8Z9",
        "outputId": "5ce6a7d1-fee5-4e4c-e4fe-f45f1c260af3",
        "colab": {
          "base_uri": "https://localhost:8080/",
          "height": 619
        }
      },
      "execution_count": 12,
      "outputs": [
        {
          "output_type": "display_data",
          "data": {
            "text/plain": [
              "<Figure size 1000x700 with 1 Axes>"
            ],
            "image/png": "[encoded data removed]"
          },
          "metadata": {}
        }
      ]
    },
    {
      "cell_type": "markdown",
      "source": [
        "### Create train and test split the right way"
      ],
      "metadata": {
        "id": "0i_7OWDKmB-X"
      }
    },
    {
      "cell_type": "code",
      "source": [
        "# Create train and test splits\n",
        "split_size = int(0.8*len(prices)) # 80% train, 20% test\n",
        "\n",
        "# Create train data splits\n",
        "X_train, y_train = timesteps[:split_size], prices[:split_size]\n",
        "# Create test data split\n",
        "X_test, y_test = timesteps[split_size:], prices[split_size:]"
      ],
      "metadata": {
        "id": "3KpkKoUgmfdL"
      },
      "execution_count": 13,
      "outputs": []
    },
    {
      "cell_type": "code",
      "source": [
        "# Plot\n",
        "plt.figure(figsize=(10,7))\n",
        "plt.scatter(X_train, y_train, s=5, label=\"Train data\")\n",
        "plt.scatter(X_test, y_test, s=5, label=\"Test data\")\n",
        "plt.xlabel(\"Date\")\n",
        "plt.ylabel(\"BTC price\")\n",
        "plt.show();"
      ],
      "metadata": {
        "id": "RgWQy-6knc8J",
        "outputId": "7d605141-d5a7-4950-aba9-f059f4426090",
        "colab": {
          "base_uri": "https://localhost:8080/",
          "height": 619
        }
      },
      "execution_count": 14,
      "outputs": [
        {
          "output_type": "display_data",
          "data": {
            "text/plain": [
              "<Figure size 1000x700 with 1 Axes>"
            ],
            "image/png": "[encoded data removed]"
          },
          "metadata": {}
        }
      ]
    },
    {
      "cell_type": "markdown",
      "source": [
        "## Create plotting function"
      ],
      "metadata": {
        "id": "9G_Bj_xMng34"
      }
    },
    {
      "cell_type": "code",
      "source": [
        "def plot_time_series(timesteps, values, format=\".\", start=0, end=None, label=None):\n",
        "  \"\"\"\n",
        "  Plots timesteps against values\n",
        "  \"\"\"\n",
        "  plt.plot(timesteps[start:end], values[start:end], format, label=label)\n",
        "  plt.xlabel(\"Time\")\n",
        "  plt.ylabel(\"BTC Price\")\n",
        "  if label:\n",
        "    plt.legend(fontsize=14)\n",
        "  plt.grid(True)"
      ],
      "metadata": {
        "id": "2_YHalKwn6eG"
      },
      "execution_count": 15,
      "outputs": []
    },
    {
      "cell_type": "code",
      "source": [
        "# Test out plotting function\n",
        "plt.figure(figsize=(10, 7))\n",
        "plot_time_series(X_train, y_train, label=\"Train data\")\n",
        "plot_time_series(X_test, y_test, label=\"Test data\")"
      ],
      "metadata": {
        "id": "fEUbNGp8pMOa",
        "outputId": "822cb820-70cd-41d1-9189-c566953d646a",
        "colab": {
          "base_uri": "https://localhost:8080/",
          "height": 619
        }
      },
      "execution_count": 16,
      "outputs": [
        {
          "output_type": "display_data",
          "data": {
            "text/plain": [
              "<Figure size 1000x700 with 1 Axes>"
            ],
            "image/png": "[encoded data removed]"
          },
          "metadata": {}
        }
      ]
    },
    {
      "cell_type": "markdown",
      "source": [
        "## Modelling\n",
        "\n",
        "Terms:\n",
        "* Horizon - number of timesteps into the future we're going to project\n",
        "* Window size - number of timesteps to be used when predicting the horizon\n",
        "\n",
        "Experiments:\n",
        "0. Naive model (baseline)\n",
        "1. Dense model, horizon = 1, window = 7\n",
        "2. Dense model, horizon = 1, window = 30\n",
        "3. Dense modesl, horizon = 7, window = 30\n",
        "4. Conv1D\n",
        "5. LSTM\n",
        "6. Dense with multivariate data\n",
        "7. N-BEATs Algorithm\n",
        "8. Ensemble - multiple models optimized on different loss functions\n",
        "9. Future prediction model\n",
        "10. Dense with turkey data"
      ],
      "metadata": {
        "id": "hZ4U7xT5pvIo"
      }
    },
    {
      "cell_type": "code",
      "source": [
        "346/426"
      ],
      "metadata": {
        "id": "z8oZb8sbrLAk",
        "outputId": "b6b77574-290d-49e7-93f4-8fb8459fbbc6",
        "colab": {
          "base_uri": "https://localhost:8080/"
        }
      },
      "execution_count": 17,
      "outputs": [
        {
          "output_type": "execute_result",
          "data": {
            "text/plain": [
              "0.812206572769953"
            ]
          },
          "metadata": {},
          "execution_count": 17
        }
      ]
    },
    {
      "cell_type": "markdown",
      "source": [
        "## Model 0: Naive forecast baseline\n",
        "\n",
        "We just assume the next value is the same as the current one"
      ],
      "metadata": {
        "id": "KnRsrJGrxOjo"
      }
    },
    {
      "cell_type": "code",
      "source": [
        "# Create a naive forecast\n",
        "naive_forecast = y_test[:-1]"
      ],
      "metadata": {
        "id": "-1uS7-WEx9Zb"
      },
      "execution_count": 18,
      "outputs": []
    },
    {
      "cell_type": "code",
      "source": [
        "# Plot naive forecast\n",
        "plt.figure(figsize=(10, 7))\n",
        "# plot_time_series(X_train, y_train, label=\"Train tata\")\n",
        "plot_time_series(X_test, y_test, format=\"-\", label=\"Test tata\")\n",
        "plot_time_series(X_test[1:], naive_forecast, format=\"-\", label=\"Naive forecast\")"
      ],
      "metadata": {
        "id": "i12yeReVyuDR",
        "outputId": "1163fcc0-a8a6-4119-e614-c265a36e8f3d",
        "colab": {
          "base_uri": "https://localhost:8080/",
          "height": 619
        }
      },
      "execution_count": 19,
      "outputs": [
        {
          "output_type": "display_data",
          "data": {
            "text/plain": [
              "<Figure size 1000x700 with 1 Axes>"
            ],
            "image/png": "[encoded data removed]"
          },
          "metadata": {}
        }
      ]
    },
    {
      "cell_type": "markdown",
      "source": [
        "## Evaluating a time series model\n",
        "\n",
        "Common regression metrics:\n",
        "* MAE - mean absolute error\n",
        "* MSE - mean squared error\n",
        "* RMSE - root MSE, easier to interpret than MSE\n",
        "* (s)MAPE - (symmetric) mean absolute percentage error (not advised)\n",
        "* MASE - mean absolute scaled error - scaled by error of naive forecast\n",
        "\n",
        "https://otexts.com/fpp3/accuracy.html\n",
        "\n",
        "https://github.com/CamDavidsonPilon/Python-Numerics/blob/master/TimeSeries/MASE.py"
      ],
      "metadata": {
        "id": "je4B23-kzefW"
      }
    },
    {
      "cell_type": "code",
      "source": [
        "import tensorflow as tf"
      ],
      "metadata": {
        "id": "IfGqNiSd3WGS"
      },
      "execution_count": 20,
      "outputs": []
    },
    {
      "cell_type": "code",
      "source": [
        "# MASE implementation\n",
        "def mean_absolute_scaled_error(y_true, y_pred):\n",
        "  \"\"\"\n",
        "  Implement MASE, assuming no seasonality/seasonality of 1 day\n",
        "  \"\"\"\n",
        "  mae = tf.reduce_mean(tf.abs(y_true-y_pred))\n",
        "\n",
        "  # Find MAE of naive forecast\n",
        "  mae_naive_no_season = tf.reduce_mean(tf.abs(y_true[1:] - y_true[:-1]))\n",
        "\n",
        "  return mae / mae_naive_no_season\n"
      ],
      "metadata": {
        "id": "ucGLUhrq5u6w"
      },
      "execution_count": 21,
      "outputs": []
    },
    {
      "cell_type": "code",
      "source": [
        "mean_absolute_scaled_error(y_test[1:], naive_forecast).numpy()"
      ],
      "metadata": {
        "id": "49Vw81VZ70JR",
        "outputId": "d52ef80c-486d-4427-c30f-74a55f7c473a",
        "colab": {
          "base_uri": "https://localhost:8080/"
        }
      },
      "execution_count": 22,
      "outputs": [
        {
          "output_type": "execute_result",
          "data": {
            "text/plain": [
              "0.9995699939182624"
            ]
          },
          "metadata": {},
          "execution_count": 22
        }
      ]
    },
    {
      "cell_type": "code",
      "source": [
        "# Multi-metric function for calculating prediction metrics\n",
        "def evaluate_preds(y_true, y_pred):\n",
        "  # Make sure float32 datatype for metric calculations in order for tf not to spew errors\n",
        "  y_true = tf.cast(y_true, dtype=tf.float32)\n",
        "  y_true = tf.cast(y_true, dtype=tf.float32)\n",
        "\n",
        "  # Calculate various metrics\n",
        "  mae = tf.keras.metrics.mean_absolute_error(y_true, y_pred)\n",
        "  mse = tf.keras.metrics.mean_squared_error(y_true, y_pred)\n",
        "  rmse = tf.sqrt(mse)\n",
        "  mape = tf.keras.metrics.mean_absolute_percentage_error(y_true, y_pred)\n",
        "  mase = mean_absolute_scaled_error(y_true, y_pred)\n",
        "\n",
        "  return {\"mae\": mae.numpy(), # so that it doesn't return tf tensors\n",
        "          \"mse\": mse.numpy(),\n",
        "          \"rmse\": rmse.numpy(),\n",
        "          \"mape\": mape.numpy(),\n",
        "          \"mase\": mase.numpy()}"
      ],
      "metadata": {
        "id": "Zh0xXhHN8XCY"
      },
      "execution_count": 23,
      "outputs": []
    },
    {
      "cell_type": "code",
      "source": [
        "naive_results = evaluate_preds(y_test[1:], naive_forecast)\n",
        "naive_results"
      ],
      "metadata": {
        "id": "uLs5kH-K-kXp",
        "outputId": "081c0959-1710-4c0f-a307-760012101555",
        "colab": {
          "base_uri": "https://localhost:8080/"
        }
      },
      "execution_count": 24,
      "outputs": [
        {
          "output_type": "execute_result",
          "data": {
            "text/plain": [
              "{'mae': 567.9802183723001,\n",
              " 'mse': 1147547.0780835983,\n",
              " 'rmse': 1071.2362382236695,\n",
              " 'mape': 2.5165248502692306,\n",
              " 'mase': 0.99957}"
            ]
          },
          "metadata": {},
          "execution_count": 24
        }
      ]
    },
    {
      "cell_type": "markdown",
      "source": [
        "## Other models that can be used as baselines and actual forecasts\n",
        "\n",
        "https://dev.mrdbourke.com/tensorflow-deep-learning/10_time_series_forecasting_in_tensorflow/?ref=mrdbourke.com#other-kinds-of-time-series-forecasting-models-which-can-be-used-for-baselines-and-actual-forecasts"
      ],
      "metadata": {
        "id": "0HmaqUym-3J_"
      }
    },
    {
      "cell_type": "markdown",
      "source": [
        "## Format data part 2: Windowing the the dataset\n",
        "\n",
        "So that the model predicts on 7 samples\n",
        "\n",
        "https://www.uber.com/en-PL/blog/forecasting-introduction/"
      ],
      "metadata": {
        "id": "iTG28JIUC-Jq"
      }
    },
    {
      "cell_type": "code",
      "source": [
        "# Set up global variables for window and horizon size\n",
        "HORIZON = 1 # predict next 1 day\n",
        "WINDOW_SIZE = 7 # based on last week"
      ],
      "metadata": {
        "id": "PU7M0vhXDvhV"
      },
      "execution_count": 25,
      "outputs": []
    },
    {
      "cell_type": "code",
      "source": [
        "# Create fcn to label windowed data\n",
        "def get_labelled_window(x, horizon=HORIZON):\n",
        "  return x[:,:-horizon], x[:, -horizon:]"
      ],
      "metadata": {
        "id": "Mdnfm08iEmQ0"
      },
      "execution_count": 26,
      "outputs": []
    },
    {
      "cell_type": "code",
      "source": [
        "# Test out the window labelling fcn\n",
        "test_window, test_label = get_labelled_window(tf.expand_dims(tf.range(8), axis=0))\n",
        "test_window, test_label"
      ],
      "metadata": {
        "id": "mFL5oVlKE7rB",
        "outputId": "9ef45aef-199a-4bc0-8f53-ffc19bd7840a",
        "colab": {
          "base_uri": "https://localhost:8080/"
        }
      },
      "execution_count": 27,
      "outputs": [
        {
          "output_type": "execute_result",
          "data": {
            "text/plain": [
              "(<tf.Tensor: shape=(1, 7), dtype=int32, numpy=array([[0, 1, 2, 3, 4, 5, 6]], dtype=int32)>,\n",
              " <tf.Tensor: shape=(1, 1), dtype=int32, numpy=array([[7]], dtype=int32)>)"
            ]
          },
          "metadata": {},
          "execution_count": 27
        }
      ]
    },
    {
      "cell_type": "markdown",
      "source": [
        "Instead of using for loops to convert our data into features and labels, we'll use numpy array indexing for speed\n",
        "\n",
        "https://numpy.org/doc/stable/user/basics.indexing.html\n",
        "\n",
        "https://towardsdatascience.com/fast-and-robust-sliding-window-vectorization-with-numpy-3ad950ed62f5"
      ],
      "metadata": {
        "id": "--IumDDnF1Q_"
      }
    },
    {
      "cell_type": "code",
      "source": [
        "import numpy as np\n",
        "\n",
        "#  Function to window the input data\n",
        "def make_windows(x, window_size=WINDOW_SIZE, horizon=HORIZON):\n",
        "  \"\"\"\n",
        "  Turns a 1 D array into a 2D arrayof sequential labelled windows of window_size with horizon size labels\n",
        "  \"\"\"\n",
        "  # Create a window of specific size\n",
        "  window_step = np.expand_dims(np.arange(window_size+horizon), axis=0)\n",
        "  # Create a 2D array of multiple windows\n",
        "  window_indexes = window_step + np.expand_dims(np.arange(len(x)-(window_size+horizon-1)), axis=0).T\n",
        "  # Use the above to index on the timeseries\n",
        "  windowed_array = x[window_indexes]\n",
        "  # Get labelled windows\n",
        "  windows, labels = get_labelled_window(windowed_array, horizon)\n",
        "\n",
        "  return windows, labels\n",
        "\n",
        "# Much much faster than python for loops"
      ],
      "metadata": {
        "id": "K3tPQ79KIOHH"
      },
      "execution_count": 28,
      "outputs": []
    },
    {
      "cell_type": "code",
      "source": [
        "full_windows, full_labels = make_windows(prices)\n",
        "len(full_windows), len(full_labels)"
      ],
      "metadata": {
        "id": "Vnre8jkBMZLg",
        "outputId": "e2640882-fe08-45e0-c5df-a9882d48ed77",
        "colab": {
          "base_uri": "https://localhost:8080/"
        }
      },
      "execution_count": 29,
      "outputs": [
        {
          "output_type": "execute_result",
          "data": {
            "text/plain": [
              "(2780, 2780)"
            ]
          },
          "metadata": {},
          "execution_count": 29
        }
      ]
    },
    {
      "cell_type": "code",
      "source": [
        "# View first 3 windows w/ labels\n",
        "for i in range(3):\n",
        "  print(f\"Window: {full_windows[i]}, label: {full_labels[i]}\")"
      ],
      "metadata": {
        "id": "IIAqynxGMuhP",
        "outputId": "525afd40-be34-4ab5-e575-8b525493937d",
        "colab": {
          "base_uri": "https://localhost:8080/"
        }
      },
      "execution_count": 30,
      "outputs": [
        {
          "output_type": "stream",
          "name": "stdout",
          "text": [
            "Window: [123.65499 125.455   108.58483 118.67466 121.33866 120.65533 121.795  ], label: [123.033]\n",
            "Window: [125.455   108.58483 118.67466 121.33866 120.65533 121.795   123.033  ], label: [124.049]\n",
            "Window: [108.58483 118.67466 121.33866 120.65533 121.795   123.033   124.049  ], label: [125.96116]\n"
          ]
        }
      ]
    },
    {
      "cell_type": "code",
      "source": [
        "# View last 3 windows w/ labels\n",
        "for i in range(3):\n",
        "  print(f\"Window: {full_windows[i-3]}, label: {full_labels[i-3]}\")"
      ],
      "metadata": {
        "id": "c4eT5yRKNEB1",
        "outputId": "08b676fd-b9bd-4330-cb4c-9b9fb1dad1b2",
        "colab": {
          "base_uri": "https://localhost:8080/"
        }
      },
      "execution_count": 31,
      "outputs": [
        {
          "output_type": "stream",
          "name": "stdout",
          "text": [
            "Window: [58788.20967893 58102.19142623 55715.54665129 56573.5554719\n",
            " 52147.82118698 49764.1320816  50032.69313676], label: [47885.62525472]\n",
            "Window: [58102.19142623 55715.54665129 56573.5554719  52147.82118698\n",
            " 49764.1320816  50032.69313676 47885.62525472], label: [45604.61575361]\n",
            "Window: [55715.54665129 56573.5554719  52147.82118698 49764.1320816\n",
            " 50032.69313676 47885.62525472 45604.61575361], label: [43144.47129086]\n"
          ]
        }
      ]
    },
    {
      "cell_type": "markdown",
      "source": [
        "Actually you can do all that with just the function `tf.keras.preprocessing.timeseries_dataset_from_array` https://www.tensorflow.org/api_docs/python/tf/keras/utils/timeseries_dataset_from_array"
      ],
      "metadata": {
        "id": "HAxw0XFhNsaF"
      }
    },
    {
      "cell_type": "markdown",
      "source": [
        "## Turning windows into training and test sets"
      ],
      "metadata": {
        "id": "133ewnLNOhUS"
      }
    },
    {
      "cell_type": "code",
      "source": [
        "# Make train/test splits\n",
        "def make_train_test_splits(windows, labels, test_split=0.2):\n",
        "  \"\"\"\n",
        "  Splits matching pairs of windows and labels into train and test splits\n",
        "  \"\"\"\n",
        "  split_size = int(len(windows)*(1-test_split))\n",
        "  train_windows = windows[:split_size]\n",
        "  train_labels = labels[:split_size]\n",
        "  test_windows = windows[split_size:]\n",
        "  test_labels = labels[split_size:]\n",
        "  return train_windows, test_windows, train_labels, test_labels"
      ],
      "metadata": {
        "id": "ipj06vFerMS_"
      },
      "execution_count": 32,
      "outputs": []
    },
    {
      "cell_type": "code",
      "source": [
        "train_windows, test_windows, train_labels, test_labels = make_train_test_splits(full_windows, full_labels)"
      ],
      "metadata": {
        "id": "Miwe1fF8sMWi"
      },
      "execution_count": 33,
      "outputs": []
    },
    {
      "cell_type": "markdown",
      "source": [
        "## Make a modelling checkpoint callback\n",
        "\n",
        "To compare each model's best performances\n"
      ],
      "metadata": {
        "id": "cMgM5WbeuuUT"
      }
    },
    {
      "cell_type": "code",
      "source": [
        "import os\n",
        "\n",
        "# Create a fcn to implement a checkpoint callback\n",
        "def create_model_checkpoint(model_name, save_path=\"model_experiments\"):\n",
        "  return tf.keras.callbacks.ModelCheckpoint(filepath=os.path.join(save_path, model_name),\n",
        "                                            verbose=0,\n",
        "                                            save_best_only=True)"
      ],
      "metadata": {
        "id": "1SOZ18Kavyc1"
      },
      "execution_count": 34,
      "outputs": []
    },
    {
      "cell_type": "markdown",
      "source": [
        "## Model 1: Dense model with window = 7 and horizon = 1\n",
        "\n",
        "* Single dense layer with 128 neurons and ReLU\n",
        "* Output layer with linear activation\n",
        "* Adam optimizer and MAE loss fcn\n",
        "* Batch size of 128\n",
        "* 100 epochs\n",
        "\n",
        "https://www.tensorflow.org/tutorials/keras/keras_tuner?hl=pl"
      ],
      "metadata": {
        "id": "0_N4Jh0GxDIa"
      }
    },
    {
      "cell_type": "code",
      "source": [
        "import tensorflow as tf\n",
        "from tensorflow.keras import layers\n",
        "\n",
        "# Set random seed for reproducibility\n",
        "tf.random.set_seed(42)\n",
        "\n",
        "# Construct model\n",
        "model_1 = tf.keras.Sequential([\n",
        "    layers.Dense(128, activation=\"relu\"),\n",
        "    layers.Dense(HORIZON, activation=\"linear\")\n",
        "], name=\"model_1_dense_7_1\")\n",
        "\n",
        "# Compile\n",
        "model_1.compile(optimizer=tf.keras.optimizers.Adam(),\n",
        "                loss=\"mae\",\n",
        "                metrics=[\"mae\",\"mse\"])\n",
        "\n",
        "# Fit\n",
        "model_1.fit(train_windows,\n",
        "            train_labels,\n",
        "            epochs=100,\n",
        "            batch_size=128,\n",
        "            validation_data=(test_windows, test_labels),\n",
        "            callbacks=[create_model_checkpoint(model_name=model_1.name)])"
      ],
      "metadata": {
        "id": "OUSrlFPwxX__",
        "outputId": "8443a840-93c4-494a-83bb-075414f02d05",
        "colab": {
          "base_uri": "https://localhost:8080/"
        }
      },
      "execution_count": 35,
      "outputs": [
        {
          "output_type": "stream",
          "name": "stdout",
          "text": [
            "Epoch 1/100\n",
            "18/18 [==============================] - 2s 59ms/step - loss: 2782.0652 - mae: 2782.0652 - mse: 21220040.0000 - val_loss: 5062.7993 - val_mae: 5062.7993 - val_mse: 46524524.0000\n",
            "Epoch 2/100\n",
            "18/18 [==============================] - 0s 23ms/step - loss: 398.8729 - mae: 398.8729 - mse: 543333.5625 - val_loss: 954.2167 - val_mae: 954.2167 - val_mse: 2750662.2500\n",
            "Epoch 3/100\n",
            "18/18 [==============================] - 0s 25ms/step - loss: 211.1964 - mae: 211.1964 - mse: 201154.0781 - val_loss: 897.4153 - val_mae: 897.4153 - val_mse: 2687863.2500\n",
            "Epoch 4/100\n",
            "18/18 [==============================] - 0s 23ms/step - loss: 162.4615 - mae: 162.4615 - mse: 137093.4844 - val_loss: 863.3165 - val_mae: 863.3165 - val_mse: 2476163.5000\n",
            "Epoch 5/100\n",
            "18/18 [==============================] - 0s 3ms/step - loss: 156.6103 - mae: 156.6103 - mse: 132197.7344 - val_loss: 863.8461 - val_mae: 863.8461 - val_mse: 2395353.7500\n",
            "Epoch 6/100\n",
            "18/18 [==============================] - 0s 28ms/step - loss: 153.6560 - mae: 153.6560 - mse: 127017.1797 - val_loss: 856.6655 - val_mae: 856.6655 - val_mse: 2451019.0000\n",
            "Epoch 7/100\n",
            "18/18 [==============================] - 0s 5ms/step - loss: 149.7332 - mae: 149.7332 - mse: 120794.8359 - val_loss: 860.0785 - val_mae: 860.0785 - val_mse: 2304956.7500\n",
            "Epoch 8/100\n",
            "18/18 [==============================] - 0s 21ms/step - loss: 146.7695 - mae: 146.7695 - mse: 117935.7734 - val_loss: 812.0103 - val_mae: 812.0103 - val_mse: 2184476.5000\n",
            "Epoch 9/100\n",
            "18/18 [==============================] - 0s 3ms/step - loss: 146.4550 - mae: 146.4550 - mse: 117648.5391 - val_loss: 856.3836 - val_mae: 856.3836 - val_mse: 2225843.7500\n",
            "Epoch 10/100\n",
            "18/18 [==============================] - 0s 21ms/step - loss: 143.4858 - mae: 143.4858 - mse: 113677.3828 - val_loss: 784.7958 - val_mae: 784.7958 - val_mse: 2044088.6250\n",
            "Epoch 11/100\n",
            "18/18 [==============================] - 0s 27ms/step - loss: 140.0055 - mae: 140.0055 - mse: 108756.5234 - val_loss: 773.7969 - val_mae: 773.7969 - val_mse: 1968710.2500\n",
            "Epoch 12/100\n",
            "18/18 [==============================] - 0s 3ms/step - loss: 137.8066 - mae: 137.8066 - mse: 105360.2422 - val_loss: 820.4241 - val_mae: 820.4241 - val_mse: 2034278.6250\n",
            "Epoch 13/100\n",
            "18/18 [==============================] - 0s 4ms/step - loss: 138.6451 - mae: 138.6451 - mse: 108321.1172 - val_loss: 774.3058 - val_mae: 774.3058 - val_mse: 1888934.7500\n",
            "Epoch 14/100\n",
            "18/18 [==============================] - 1s 48ms/step - loss: 134.0213 - mae: 134.0213 - mse: 100873.0000 - val_loss: 755.7489 - val_mae: 755.7489 - val_mse: 1820390.5000\n",
            "Epoch 15/100\n",
            "18/18 [==============================] - 0s 5ms/step - loss: 135.4645 - mae: 135.4645 - mse: 100278.9297 - val_loss: 835.4499 - val_mae: 835.4499 - val_mse: 2022514.6250\n",
            "Epoch 16/100\n",
            "18/18 [==============================] - 1s 34ms/step - loss: 135.0601 - mae: 135.0601 - mse: 100350.7812 - val_loss: 732.1964 - val_mae: 732.1964 - val_mse: 1716986.0000\n",
            "Epoch 17/100\n",
            "18/18 [==============================] - 1s 32ms/step - loss: 129.4163 - mae: 129.4163 - mse: 94093.1953 - val_loss: 715.7966 - val_mae: 715.7966 - val_mse: 1662226.3750\n",
            "Epoch 18/100\n",
            "18/18 [==============================] - 0s 5ms/step - loss: 126.6916 - mae: 126.6916 - mse: 92322.1250 - val_loss: 718.0403 - val_mae: 718.0403 - val_mse: 1643052.5000\n",
            "Epoch 19/100\n",
            "18/18 [==============================] - 0s 5ms/step - loss: 125.2979 - mae: 125.2979 - mse: 89943.3438 - val_loss: 725.2621 - val_mae: 725.2621 - val_mse: 1643595.0000\n",
            "Epoch 20/100\n",
            "18/18 [==============================] - 0s 26ms/step - loss: 128.5861 - mae: 128.5861 - mse: 94326.2578 - val_loss: 686.5074 - val_mae: 686.5074 - val_mse: 1593931.0000\n",
            "Epoch 21/100\n",
            "18/18 [==============================] - 0s 25ms/step - loss: 127.3707 - mae: 127.3707 - mse: 91779.0391 - val_loss: 665.6061 - val_mae: 665.6061 - val_mse: 1508077.6250\n",
            "Epoch 22/100\n",
            "18/18 [==============================] - 0s 25ms/step - loss: 123.5178 - mae: 123.5178 - mse: 88484.8594 - val_loss: 658.3569 - val_mae: 658.3569 - val_mse: 1481311.0000\n",
            "Epoch 23/100\n",
            "18/18 [==============================] - 0s 27ms/step - loss: 120.9460 - mae: 120.9460 - mse: 85396.4531 - val_loss: 657.1761 - val_mae: 657.1761 - val_mse: 1450393.1250\n",
            "Epoch 24/100\n",
            "18/18 [==============================] - 0s 26ms/step - loss: 119.5014 - mae: 119.5014 - mse: 83899.4688 - val_loss: 645.6726 - val_mae: 645.6726 - val_mse: 1433018.8750\n",
            "Epoch 25/100\n",
            "18/18 [==============================] - 0s 5ms/step - loss: 119.6348 - mae: 119.6348 - mse: 81904.8516 - val_loss: 647.9016 - val_mae: 647.9016 - val_mse: 1441551.3750\n",
            "Epoch 26/100\n",
            "18/18 [==============================] - 0s 4ms/step - loss: 121.3962 - mae: 121.3962 - mse: 82542.1016 - val_loss: 657.9513 - val_mae: 657.9513 - val_mse: 1472261.5000\n",
            "Epoch 27/100\n",
            "18/18 [==============================] - 0s 27ms/step - loss: 120.6449 - mae: 120.6449 - mse: 83573.8516 - val_loss: 628.5159 - val_mae: 628.5159 - val_mse: 1361328.5000\n",
            "Epoch 28/100\n",
            "18/18 [==============================] - 0s 25ms/step - loss: 120.3077 - mae: 120.3077 - mse: 81405.7812 - val_loss: 624.6635 - val_mae: 624.6635 - val_mse: 1346185.8750\n",
            "Epoch 29/100\n",
            "18/18 [==============================] - 0s 3ms/step - loss: 125.2743 - mae: 125.2743 - mse: 87451.8281 - val_loss: 657.3742 - val_mae: 657.3742 - val_mse: 1400805.3750\n",
            "Epoch 30/100\n",
            "18/18 [==============================] - 0s 4ms/step - loss: 122.9824 - mae: 122.9824 - mse: 84184.1406 - val_loss: 754.3235 - val_mae: 754.3235 - val_mse: 1656553.5000\n",
            "Epoch 31/100\n",
            "18/18 [==============================] - 0s 3ms/step - loss: 129.3973 - mae: 129.3973 - mse: 89153.1094 - val_loss: 855.9262 - val_mae: 855.9262 - val_mse: 1979310.7500\n",
            "Epoch 32/100\n",
            "18/18 [==============================] - 0s 20ms/step - loss: 130.1533 - mae: 130.1533 - mse: 85694.3984 - val_loss: 623.1950 - val_mae: 623.1950 - val_mse: 1321423.8750\n",
            "Epoch 33/100\n",
            "18/18 [==============================] - 0s 3ms/step - loss: 117.6957 - mae: 117.6957 - mse: 76828.7734 - val_loss: 628.1929 - val_mae: 628.1929 - val_mse: 1327181.1250\n",
            "Epoch 34/100\n",
            "18/18 [==============================] - 1s 31ms/step - loss: 115.3953 - mae: 115.3953 - mse: 79053.7891 - val_loss: 618.8758 - val_mae: 618.8758 - val_mse: 1306039.2500\n",
            "Epoch 35/100\n",
            "18/18 [==============================] - 0s 21ms/step - loss: 113.6605 - mae: 113.6605 - mse: 77556.4297 - val_loss: 604.0230 - val_mae: 604.0230 - val_mse: 1283946.6250\n",
            "Epoch 36/100\n",
            "18/18 [==============================] - 0s 3ms/step - loss: 118.6956 - mae: 118.6956 - mse: 78276.5547 - val_loss: 663.2624 - val_mae: 663.2624 - val_mse: 1399389.0000\n",
            "Epoch 37/100\n",
            "18/18 [==============================] - 1s 32ms/step - loss: 115.6264 - mae: 115.6264 - mse: 78486.4062 - val_loss: 601.8867 - val_mae: 601.8867 - val_mse: 1265868.6250\n",
            "Epoch 38/100\n",
            "18/18 [==============================] - 0s 4ms/step - loss: 113.0296 - mae: 113.0296 - mse: 76910.2031 - val_loss: 617.3073 - val_mae: 617.3073 - val_mse: 1314856.6250\n",
            "Epoch 39/100\n",
            "18/18 [==============================] - 0s 3ms/step - loss: 115.1514 - mae: 115.1514 - mse: 77076.4141 - val_loss: 665.6441 - val_mae: 665.6441 - val_mse: 1438794.0000\n",
            "Epoch 40/100\n",
            "18/18 [==============================] - 0s 24ms/step - loss: 112.3798 - mae: 112.3798 - mse: 76207.5469 - val_loss: 594.6004 - val_mae: 594.6004 - val_mse: 1246639.8750\n",
            "Epoch 41/100\n",
            "18/18 [==============================] - 0s 5ms/step - loss: 111.3720 - mae: 111.3720 - mse: 75041.0000 - val_loss: 605.0101 - val_mae: 605.0101 - val_mse: 1278270.6250\n",
            "Epoch 42/100\n",
            "18/18 [==============================] - 0s 25ms/step - loss: 116.7602 - mae: 116.7602 - mse: 78719.1406 - val_loss: 591.7034 - val_mae: 591.7034 - val_mse: 1236206.3750\n",
            "Epoch 43/100\n",
            "18/18 [==============================] - 0s 4ms/step - loss: 111.9025 - mae: 111.9025 - mse: 73796.8281 - val_loss: 611.1893 - val_mae: 611.1893 - val_mse: 1290203.0000\n",
            "Epoch 44/100\n",
            "18/18 [==============================] - 0s 3ms/step - loss: 115.7810 - mae: 115.7810 - mse: 77027.6719 - val_loss: 645.3257 - val_mae: 645.3257 - val_mse: 1373099.0000\n",
            "Epoch 45/100\n",
            "18/18 [==============================] - 0s 3ms/step - loss: 114.0649 - mae: 114.0649 - mse: 77385.5547 - val_loss: 598.4969 - val_mae: 598.4969 - val_mse: 1242270.1250\n",
            "Epoch 46/100\n",
            "18/18 [==============================] - 0s 26ms/step - loss: 112.1305 - mae: 112.1305 - mse: 75315.4922 - val_loss: 587.7737 - val_mae: 587.7737 - val_mse: 1220877.1250\n",
            "Epoch 47/100\n",
            "18/18 [==============================] - 0s 3ms/step - loss: 110.1465 - mae: 110.1465 - mse: 74403.6250 - val_loss: 621.2812 - val_mae: 621.2812 - val_mse: 1288085.3750\n",
            "Epoch 48/100\n",
            "18/18 [==============================] - 0s 3ms/step - loss: 110.6873 - mae: 110.6873 - mse: 73335.3984 - val_loss: 622.0735 - val_mae: 622.0735 - val_mse: 1287892.2500\n",
            "Epoch 49/100\n",
            "18/18 [==============================] - 1s 34ms/step - loss: 120.8336 - mae: 120.8336 - mse: 77850.0469 - val_loss: 582.7894 - val_mae: 582.7894 - val_mse: 1211840.2500\n",
            "Epoch 50/100\n",
            "18/18 [==============================] - 0s 5ms/step - loss: 109.4365 - mae: 109.4365 - mse: 73668.5781 - val_loss: 599.4946 - val_mae: 599.4946 - val_mse: 1253801.5000\n",
            "Epoch 51/100\n",
            "18/18 [==============================] - 0s 5ms/step - loss: 110.3768 - mae: 110.3768 - mse: 73779.4453 - val_loss: 607.8167 - val_mae: 607.8167 - val_mse: 1255377.0000\n",
            "Epoch 52/100\n",
            "18/18 [==============================] - 0s 4ms/step - loss: 116.0210 - mae: 116.0210 - mse: 78092.4688 - val_loss: 589.0864 - val_mae: 589.0864 - val_mse: 1227729.5000\n",
            "Epoch 53/100\n",
            "18/18 [==============================] - 0s 6ms/step - loss: 116.3903 - mae: 116.3903 - mse: 77576.7969 - val_loss: 590.0574 - val_mae: 590.0574 - val_mse: 1229355.0000\n",
            "Epoch 54/100\n",
            "18/18 [==============================] - 0s 5ms/step - loss: 111.1346 - mae: 111.1346 - mse: 74461.4609 - val_loss: 603.3113 - val_mae: 603.3113 - val_mse: 1244056.3750\n",
            "Epoch 55/100\n",
            "18/18 [==============================] - 1s 58ms/step - loss: 111.1021 - mae: 111.1021 - mse: 74547.0312 - val_loss: 578.5468 - val_mae: 578.5468 - val_mse: 1200424.0000\n",
            "Epoch 56/100\n",
            "18/18 [==============================] - 0s 3ms/step - loss: 109.5073 - mae: 109.5073 - mse: 73047.0469 - val_loss: 743.6953 - val_mae: 743.6953 - val_mse: 1646891.2500\n",
            "Epoch 57/100\n",
            "18/18 [==============================] - 0s 3ms/step - loss: 121.7359 - mae: 121.7359 - mse: 81779.5859 - val_loss: 658.7955 - val_mae: 658.7955 - val_mse: 1387741.0000\n",
            "Epoch 58/100\n",
            "18/18 [==============================] - 0s 3ms/step - loss: 116.6064 - mae: 116.6064 - mse: 74568.0391 - val_loss: 580.1114 - val_mae: 580.1114 - val_mse: 1194765.0000\n",
            "Epoch 59/100\n",
            "18/18 [==============================] - 0s 3ms/step - loss: 109.9325 - mae: 109.9325 - mse: 72833.8594 - val_loss: 581.1627 - val_mae: 581.1627 - val_mse: 1206813.5000\n",
            "Epoch 60/100\n",
            "18/18 [==============================] - 0s 3ms/step - loss: 110.0282 - mae: 110.0282 - mse: 73774.6172 - val_loss: 598.1539 - val_mae: 598.1539 - val_mse: 1228617.6250\n",
            "Epoch 61/100\n",
            "18/18 [==============================] - 0s 5ms/step - loss: 109.4224 - mae: 109.4224 - mse: 73126.9062 - val_loss: 591.7198 - val_mae: 591.7198 - val_mse: 1214685.6250\n",
            "Epoch 62/100\n",
            "18/18 [==============================] - 0s 4ms/step - loss: 110.1366 - mae: 110.1366 - mse: 71606.0547 - val_loss: 579.8016 - val_mae: 579.8016 - val_mse: 1202629.7500\n",
            "Epoch 63/100\n",
            "18/18 [==============================] - 1s 29ms/step - loss: 109.7646 - mae: 109.7646 - mse: 72948.2188 - val_loss: 578.0458 - val_mae: 578.0458 - val_mse: 1188197.5000\n",
            "Epoch 64/100\n",
            "18/18 [==============================] - 0s 5ms/step - loss: 109.9677 - mae: 109.9677 - mse: 72523.3125 - val_loss: 611.9329 - val_mae: 611.9329 - val_mse: 1255878.8750\n",
            "Epoch 65/100\n",
            "18/18 [==============================] - 1s 62ms/step - loss: 113.4622 - mae: 113.4622 - mse: 74854.7109 - val_loss: 573.7692 - val_mae: 573.7692 - val_mse: 1186418.2500\n",
            "Epoch 66/100\n",
            "18/18 [==============================] - 0s 11ms/step - loss: 111.6177 - mae: 111.6177 - mse: 72181.2812 - val_loss: 595.0815 - val_mae: 595.0815 - val_mse: 1232953.5000\n",
            "Epoch 67/100\n",
            "18/18 [==============================] - 0s 10ms/step - loss: 108.5403 - mae: 108.5403 - mse: 70932.1250 - val_loss: 640.9476 - val_mae: 640.9476 - val_mse: 1334010.0000\n",
            "Epoch 68/100\n",
            "18/18 [==============================] - 0s 9ms/step - loss: 115.0423 - mae: 115.0423 - mse: 72073.2891 - val_loss: 692.1483 - val_mae: 692.1483 - val_mse: 1475384.1250\n",
            "Epoch 69/100\n",
            "18/18 [==============================] - 0s 15ms/step - loss: 128.5674 - mae: 128.5674 - mse: 84200.0938 - val_loss: 723.3235 - val_mae: 723.3235 - val_mse: 1568675.8750\n",
            "Epoch 70/100\n",
            "18/18 [==============================] - 0s 8ms/step - loss: 123.5343 - mae: 123.5343 - mse: 82417.5781 - val_loss: 575.5094 - val_mae: 575.5094 - val_mse: 1190280.7500\n",
            "Epoch 71/100\n",
            "18/18 [==============================] - 0s 8ms/step - loss: 111.0406 - mae: 111.0406 - mse: 71723.2891 - val_loss: 583.6559 - val_mae: 583.6559 - val_mse: 1193815.2500\n",
            "Epoch 72/100\n",
            "18/18 [==============================] - 1s 63ms/step - loss: 108.6227 - mae: 108.6227 - mse: 72024.7578 - val_loss: 571.0186 - val_mae: 571.0186 - val_mse: 1178755.0000\n",
            "Epoch 73/100\n",
            "18/18 [==============================] - 0s 10ms/step - loss: 113.1510 - mae: 113.1510 - mse: 73864.2500 - val_loss: 669.0064 - val_mae: 669.0064 - val_mse: 1405951.8750\n",
            "Epoch 74/100\n",
            "18/18 [==============================] - 0s 6ms/step - loss: 108.2843 - mae: 108.2843 - mse: 71925.3984 - val_loss: 571.6953 - val_mae: 571.6953 - val_mse: 1173253.7500\n",
            "Epoch 75/100\n",
            "18/18 [==============================] - 0s 8ms/step - loss: 108.7318 - mae: 108.7318 - mse: 71100.1250 - val_loss: 605.6604 - val_mae: 605.6604 - val_mse: 1237371.6250\n",
            "Epoch 76/100\n",
            "18/18 [==============================] - 0s 11ms/step - loss: 111.4309 - mae: 111.4309 - mse: 73417.8906 - val_loss: 582.1531 - val_mae: 582.1531 - val_mse: 1201060.3750\n",
            "Epoch 77/100\n",
            "18/18 [==============================] - 0s 13ms/step - loss: 110.4812 - mae: 110.4812 - mse: 72086.9844 - val_loss: 578.9854 - val_mae: 578.9854 - val_mse: 1194334.2500\n",
            "Epoch 78/100\n",
            "18/18 [==============================] - 1s 61ms/step - loss: 110.7665 - mae: 110.7665 - mse: 71742.1328 - val_loss: 567.9025 - val_mae: 567.9025 - val_mse: 1166723.0000\n",
            "Epoch 79/100\n",
            "18/18 [==============================] - 0s 3ms/step - loss: 110.2206 - mae: 110.2206 - mse: 74488.7734 - val_loss: 640.5844 - val_mae: 640.5844 - val_mse: 1327070.8750\n",
            "Epoch 80/100\n",
            "18/18 [==============================] - 0s 3ms/step - loss: 110.0647 - mae: 110.0647 - mse: 72632.5312 - val_loss: 571.3958 - val_mae: 571.3958 - val_mse: 1169779.1250\n",
            "Epoch 81/100\n",
            "18/18 [==============================] - 0s 4ms/step - loss: 106.8425 - mae: 106.8425 - mse: 69930.0703 - val_loss: 568.0323 - val_mae: 568.0323 - val_mse: 1164957.7500\n",
            "Epoch 82/100\n",
            "18/18 [==============================] - 0s 12ms/step - loss: 114.6647 - mae: 114.6647 - mse: 76424.1328 - val_loss: 572.8634 - val_mae: 572.8634 - val_mse: 1170004.0000\n",
            "Epoch 83/100\n",
            "18/18 [==============================] - 0s 9ms/step - loss: 114.4145 - mae: 114.4145 - mse: 75258.2500 - val_loss: 636.6087 - val_mae: 636.6087 - val_mse: 1315460.7500\n",
            "Epoch 84/100\n",
            "18/18 [==============================] - 0s 9ms/step - loss: 114.7158 - mae: 114.7158 - mse: 73198.1406 - val_loss: 569.7548 - val_mae: 569.7548 - val_mse: 1172605.6250\n",
            "Epoch 85/100\n",
            "18/18 [==============================] - 0s 8ms/step - loss: 107.4774 - mae: 107.4774 - mse: 71309.3281 - val_loss: 569.6549 - val_mae: 569.6549 - val_mse: 1165203.7500\n",
            "Epoch 86/100\n",
            "18/18 [==============================] - 0s 14ms/step - loss: 109.6284 - mae: 109.6284 - mse: 71678.8828 - val_loss: 636.5069 - val_mae: 636.5069 - val_mse: 1303858.6250\n",
            "Epoch 87/100\n",
            "18/18 [==============================] - 0s 7ms/step - loss: 107.7711 - mae: 107.7711 - mse: 68694.7422 - val_loss: 583.8352 - val_mae: 583.8352 - val_mse: 1201849.2500\n",
            "Epoch 88/100\n",
            "18/18 [==============================] - 0s 8ms/step - loss: 107.3483 - mae: 107.3483 - mse: 71356.9609 - val_loss: 571.2121 - val_mae: 571.2121 - val_mse: 1175263.8750\n",
            "Epoch 89/100\n",
            "18/18 [==============================] - 0s 10ms/step - loss: 107.3530 - mae: 107.3530 - mse: 69785.5625 - val_loss: 570.7540 - val_mae: 570.7540 - val_mse: 1173726.0000\n",
            "Epoch 90/100\n",
            "18/18 [==============================] - 0s 10ms/step - loss: 106.2203 - mae: 106.2203 - mse: 68897.3594 - val_loss: 606.0911 - val_mae: 606.0911 - val_mse: 1234754.1250\n",
            "Epoch 91/100\n",
            "18/18 [==============================] - 0s 7ms/step - loss: 113.0958 - mae: 113.0958 - mse: 73568.9688 - val_loss: 628.8320 - val_mae: 628.8320 - val_mse: 1295445.6250\n",
            "Epoch 92/100\n",
            "18/18 [==============================] - 0s 13ms/step - loss: 109.3725 - mae: 109.3725 - mse: 71953.2656 - val_loss: 576.3799 - val_mae: 576.3799 - val_mse: 1187507.6250\n",
            "Epoch 93/100\n",
            "18/18 [==============================] - 0s 10ms/step - loss: 115.0739 - mae: 115.0739 - mse: 74616.3750 - val_loss: 626.6748 - val_mae: 626.6748 - val_mse: 1291090.1250\n",
            "Epoch 94/100\n",
            "18/18 [==============================] - 0s 10ms/step - loss: 111.2680 - mae: 111.2680 - mse: 72968.4453 - val_loss: 616.2035 - val_mae: 616.2035 - val_mse: 1256738.7500\n",
            "Epoch 95/100\n",
            "18/18 [==============================] - 1s 70ms/step - loss: 107.7078 - mae: 107.7078 - mse: 68817.3281 - val_loss: 565.3579 - val_mae: 565.3579 - val_mse: 1160815.5000\n",
            "Epoch 96/100\n",
            "18/18 [==============================] - 0s 7ms/step - loss: 115.9853 - mae: 115.9853 - mse: 74281.4531 - val_loss: 681.2769 - val_mae: 681.2768 - val_mse: 1431771.8750\n",
            "Epoch 97/100\n",
            "18/18 [==============================] - 0s 8ms/step - loss: 113.8651 - mae: 113.8651 - mse: 74578.8516 - val_loss: 607.4054 - val_mae: 607.4054 - val_mse: 1248613.8750\n",
            "Epoch 98/100\n",
            "18/18 [==============================] - 0s 5ms/step - loss: 113.1133 - mae: 113.1133 - mse: 72342.6406 - val_loss: 601.0470 - val_mae: 601.0470 - val_mse: 1223665.6250\n",
            "Epoch 99/100\n",
            "18/18 [==============================] - 0s 7ms/step - loss: 113.7236 - mae: 113.7236 - mse: 73407.8672 - val_loss: 577.8080 - val_mae: 577.8080 - val_mse: 1176098.8750\n",
            "Epoch 100/100\n",
            "18/18 [==============================] - 0s 12ms/step - loss: 108.8370 - mae: 108.8370 - mse: 69961.1328 - val_loss: 591.1266 - val_mae: 591.1266 - val_mse: 1202852.6250\n"
          ]
        },
        {
          "output_type": "execute_result",
          "data": {
            "text/plain": [
              "<keras.src.callbacks.History at 0x7ebe68644dc0>"
            ]
          },
          "metadata": {},
          "execution_count": 35
        }
      ]
    },
    {
      "cell_type": "code",
      "source": [
        "# Evaluate model\n",
        "model_1.evaluate(test_windows, test_labels)"
      ],
      "metadata": {
        "id": "D0_IL2eR0mxG",
        "outputId": "fa1141de-dcd5-45af-f6f8-c04b109c95c1",
        "colab": {
          "base_uri": "https://localhost:8080/"
        }
      },
      "execution_count": 36,
      "outputs": [
        {
          "output_type": "stream",
          "name": "stdout",
          "text": [
            "18/18 [==============================] - 0s 3ms/step - loss: 591.1265 - mae: 591.1265 - mse: 1202852.7500\n"
          ]
        },
        {
          "output_type": "execute_result",
          "data": {
            "text/plain": [
              "[591.1265258789062, 591.1265258789062, 1202852.75]"
            ]
          },
          "metadata": {},
          "execution_count": 36
        }
      ]
    },
    {
      "cell_type": "code",
      "source": [
        "# Load in the saved best performing model\n",
        "model_1 = tf.keras.models.load_model(\"/content/model_experiments/model_1_dense_7_1\")\n",
        "model_1.evaluate(test_windows, test_labels)"
      ],
      "metadata": {
        "id": "4CmWl3ey1I-z",
        "outputId": "6d76e7b2-4bb1-40c1-99b0-b50ebcd45365",
        "colab": {
          "base_uri": "https://localhost:8080/"
        }
      },
      "execution_count": 37,
      "outputs": [
        {
          "output_type": "stream",
          "name": "stdout",
          "text": [
            "18/18 [==============================] - 0s 2ms/step - loss: 565.3578 - mae: 565.3578 - mse: 1160815.6250\n"
          ]
        },
        {
          "output_type": "execute_result",
          "data": {
            "text/plain": [
              "[565.3578491210938, 565.3578491210938, 1160815.625]"
            ]
          },
          "metadata": {},
          "execution_count": 37
        }
      ]
    },
    {
      "cell_type": "code",
      "source": [
        "naive_results"
      ],
      "metadata": {
        "id": "oCtBinez1ghh",
        "outputId": "4de7e324-ecec-4f8a-99b1-16b241e4368c",
        "colab": {
          "base_uri": "https://localhost:8080/"
        }
      },
      "execution_count": 38,
      "outputs": [
        {
          "output_type": "execute_result",
          "data": {
            "text/plain": [
              "{'mae': 567.9802183723001,\n",
              " 'mse': 1147547.0780835983,\n",
              " 'rmse': 1071.2362382236695,\n",
              " 'mape': 2.5165248502692306,\n",
              " 'mase': 0.99957}"
            ]
          },
          "metadata": {},
          "execution_count": 38
        }
      ]
    },
    {
      "cell_type": "markdown",
      "source": [
        "## Making forecasts with the model"
      ],
      "metadata": {
        "id": "3dChdbel1s5B"
      }
    },
    {
      "cell_type": "code",
      "source": [
        "def make_preds(model, input_data):\n",
        "  \"\"\"\n",
        "  Uses model to make predictions on input_data\n",
        "  \"\"\"\n",
        "  forecast = model.predict(input_data)\n",
        "  return tf.squeeze(forecast)"
      ],
      "metadata": {
        "id": "Fh-reog514yh"
      },
      "execution_count": 39,
      "outputs": []
    },
    {
      "cell_type": "code",
      "source": [
        "# Make predictions and view results\n",
        "model_1_preds = make_preds(model_1, test_windows)\n",
        "model_1_results = evaluate_preds(tf.squeeze(test_labels), model_1_preds) # tensors of different shapes\n",
        "model_1_results"
      ],
      "metadata": {
        "id": "0z8h27Jl2tJu",
        "outputId": "81e2c45a-8cb9-42ef-955e-b927a7e3164a",
        "colab": {
          "base_uri": "https://localhost:8080/"
        }
      },
      "execution_count": 40,
      "outputs": [
        {
          "output_type": "stream",
          "name": "stdout",
          "text": [
            "18/18 [==============================] - 0s 1ms/step\n"
          ]
        },
        {
          "output_type": "execute_result",
          "data": {
            "text/plain": [
              "{'mae': 565.3578,\n",
              " 'mse': 1160815.2,\n",
              " 'rmse': 1077.4114,\n",
              " 'mape': 2.5342188,\n",
              " 'mase': 0.99317706}"
            ]
          },
          "metadata": {},
          "execution_count": 40
        }
      ]
    },
    {
      "cell_type": "code",
      "source": [
        "# Plot preds\n",
        "offset = 450\n",
        "plt.figure(figsize=(10, 7))\n",
        "plot_time_series(timesteps=X_test[-len(test_windows):], values=test_labels[:,0], start=offset, label=\"test_data\")\n",
        "plot_time_series(timesteps=X_test[-len(test_windows):], values=model_1_preds, start=offset, format=\"-\", label=\"Predictions\")"
      ],
      "metadata": {
        "id": "ZrYamWLF3J5E",
        "outputId": "e29a7d40-3d02-433b-9bf5-075fafc47306",
        "colab": {
          "base_uri": "https://localhost:8080/",
          "height": 621
        }
      },
      "execution_count": 41,
      "outputs": [
        {
          "output_type": "display_data",
          "data": {
            "text/plain": [
              "<Figure size 1000x700 with 1 Axes>"
            ],
            "image/png": "[encoded data removed]"
          },
          "metadata": {}
        }
      ]
    },
    {
      "cell_type": "markdown",
      "source": [
        "https://otexts.com/fpp2/autocorrelation.html"
      ],
      "metadata": {
        "id": "K-2aNMA94Gy4"
      }
    },
    {
      "cell_type": "markdown",
      "source": [
        "## Model 2: Dense window = 30, horizon = 1"
      ],
      "metadata": {
        "id": "PjFinXufzCOR"
      }
    },
    {
      "cell_type": "code",
      "source": [
        "WINDOW_SIZE = 30"
      ],
      "metadata": {
        "id": "XCD7BL2pzGvO"
      },
      "execution_count": 47,
      "outputs": []
    },
    {
      "cell_type": "code",
      "source": [
        "# Make window data\n",
        "full_windows, full_labels = make_windows(prices, window_size=WINDOW_SIZE) # otherwise it takes the WINDOW value specified before fcn definition\n",
        "len(full_windows), len(full_labels)"
      ],
      "metadata": {
        "id": "uzz1sTOjzoao",
        "outputId": "1bdb58c2-175a-498b-ba0e-ad3235a49d01",
        "colab": {
          "base_uri": "https://localhost:8080/"
        }
      },
      "execution_count": 49,
      "outputs": [
        {
          "output_type": "execute_result",
          "data": {
            "text/plain": [
              "(2757, 2757)"
            ]
          },
          "metadata": {},
          "execution_count": 49
        }
      ]
    },
    {
      "cell_type": "code",
      "source": [
        "# Make train and test splits\n",
        "train_windows, test_windows, train_labels, test_labels = make_train_test_splits(full_windows, full_labels)\n",
        "\n",
        "len(train_windows), len(test_windows)"
      ],
      "metadata": {
        "id": "ZoROtWSqz6pT",
        "outputId": "e3f566ec-e3e2-4d3d-8cb3-9a41a9f3634c",
        "colab": {
          "base_uri": "https://localhost:8080/"
        }
      },
      "execution_count": 50,
      "outputs": [
        {
          "output_type": "execute_result",
          "data": {
            "text/plain": [
              "(2205, 552)"
            ]
          },
          "metadata": {},
          "execution_count": 50
        }
      ]
    },
    {
      "cell_type": "code",
      "source": [
        "tf.random.set_seed(42)\n",
        "\n",
        "# Create model\n",
        "model_2 = tf.keras.Sequential([\n",
        "    layers.Dense(128, activation=\"relu\"),\n",
        "    layers.Dense(HORIZON)\n",
        "], name=\"model_2_dense_30_1\")\n",
        "\n",
        "# Compile\n",
        "model_2.compile(optimizer=tf.keras.optimizers.Adam(),\n",
        "                loss=\"mae\")\n",
        "\n",
        "# Fit\n",
        "model_2.fit(train_windows,\n",
        "            train_labels,\n",
        "            epochs=100,\n",
        "            batch_size=128,\n",
        "            verbose=0,\n",
        "            validation_data=(test_windows, test_labels),\n",
        "            callbacks=[create_model_checkpoint(model_name=model_2.name)])"
      ],
      "metadata": {
        "id": "WHhExgRg02bT",
        "outputId": "9713a48b-0d30-4369-9a77-54bc5226f148",
        "colab": {
          "base_uri": "https://localhost:8080/"
        }
      },
      "execution_count": 51,
      "outputs": [
        {
          "output_type": "execute_result",
          "data": {
            "text/plain": [
              "<keras.src.callbacks.History at 0x7ebe5489f4c0>"
            ]
          },
          "metadata": {},
          "execution_count": 51
        }
      ]
    },
    {
      "cell_type": "code",
      "source": [
        "# Evaluate\n",
        "model_2.evaluate(test_windows, test_labels)"
      ],
      "metadata": {
        "id": "0Cz34mes2Ou6",
        "outputId": "54088504-8885-45a3-9c51-c944b63d9706",
        "colab": {
          "base_uri": "https://localhost:8080/"
        }
      },
      "execution_count": 52,
      "outputs": [
        {
          "output_type": "stream",
          "name": "stdout",
          "text": [
            "18/18 [==============================] - 0s 2ms/step - loss: 635.3311\n"
          ]
        },
        {
          "output_type": "execute_result",
          "data": {
            "text/plain": [
              "635.3310546875"
            ]
          },
          "metadata": {},
          "execution_count": 52
        }
      ]
    },
    {
      "cell_type": "code",
      "source": [
        "# Load the best performig one\n",
        "model_2 = tf.keras.models.load_model(\"/content/model_experiments/model_2_dense_30_1\")\n",
        "model_2.evaluate(test_windows, test_labels)"
      ],
      "metadata": {
        "id": "S4UWv1yb2Zu3",
        "outputId": "a8c6652a-af1c-4fa7-e7ec-fe4e5a0d10e5",
        "colab": {
          "base_uri": "https://localhost:8080/"
        }
      },
      "execution_count": 53,
      "outputs": [
        {
          "output_type": "stream",
          "name": "stdout",
          "text": [
            "18/18 [==============================] - 0s 2ms/step - loss: 603.8740\n"
          ]
        },
        {
          "output_type": "execute_result",
          "data": {
            "text/plain": [
              "603.8739624023438"
            ]
          },
          "metadata": {},
          "execution_count": 53
        }
      ]
    },
    {
      "cell_type": "code",
      "source": [
        "# Get forecast predictions\n",
        "model_2_preds = make_preds(model_2, test_windows)\n",
        "# Calculate resultd\n",
        "model_2_results = evaluate_preds(tf.squeeze(test_labels), model_2_preds)\n",
        "model_2_results"
      ],
      "metadata": {
        "id": "RbhsH1bl2oFB",
        "outputId": "272e440d-d55c-4d9f-8019-01f79c55ff89",
        "colab": {
          "base_uri": "https://localhost:8080/"
        }
      },
      "execution_count": 54,
      "outputs": [
        {
          "output_type": "stream",
          "name": "stdout",
          "text": [
            "18/18 [==============================] - 0s 2ms/step\n"
          ]
        },
        {
          "output_type": "execute_result",
          "data": {
            "text/plain": [
              "{'mae': 603.87396,\n",
              " 'mse': 1269884.8,\n",
              " 'rmse': 1126.8916,\n",
              " 'mape': 2.7564359,\n",
              " 'mase': 1.0555775}"
            ]
          },
          "metadata": {},
          "execution_count": 54
        }
      ]
    },
    {
      "cell_type": "code",
      "source": [
        "offset = 300\n",
        "plt.figure(figsize=(10, 7))\n",
        "plot_time_series(X_test[-len(test_windows):], test_labels[:,0], start=offset, label=\"Test data\")\n",
        "plot_time_series(X_test[-len(test_windows):], model_2_preds, start=offset, format=\"-\", label=\"Predictions\")"
      ],
      "metadata": {
        "id": "B7GOxJC43Etv",
        "outputId": "95406b63-c1e2-486a-d0b9-830511ca2bda",
        "colab": {
          "base_uri": "https://localhost:8080/",
          "height": 619
        }
      },
      "execution_count": 58,
      "outputs": [
        {
          "output_type": "display_data",
          "data": {
            "text/plain": [
              "<Figure size 1000x700 with 1 Axes>"
            ],
            "image/png": "[encoded data removed]"
          },
          "metadata": {}
        }
      ]
    },
    {
      "cell_type": "markdown",
      "source": [
        "## Model 3: Dense window = 30 horizon = 7"
      ],
      "metadata": {
        "id": "umbrO8XJ3_eP"
      }
    },
    {
      "cell_type": "code",
      "source": [
        "WINDOW_SIZE = 30\n",
        "HORIZON = 7\n",
        "\n",
        "# Make window data\n",
        "full_windows, full_labels = make_windows(prices, window_size=WINDOW_SIZE, horizon=HORIZON)\n",
        "# Make train and test splits\n",
        "train_windows, test_windows, train_labels, test_labels = make_train_test_splits(full_windows, full_labels)\n",
        "len(train_windows), len(test_windows)"
      ],
      "metadata": {
        "id": "YInNZryp5L6I",
        "outputId": "ba5783a3-adc8-4ca7-9c25-ae013027fd17",
        "colab": {
          "base_uri": "https://localhost:8080/"
        }
      },
      "execution_count": 59,
      "outputs": [
        {
          "output_type": "execute_result",
          "data": {
            "text/plain": [
              "(2200, 551)"
            ]
          },
          "metadata": {},
          "execution_count": 59
        }
      ]
    },
    {
      "cell_type": "code",
      "source": [
        "tf.random.set_seed(42)\n",
        "\n",
        "# Create model\n",
        "model_3 = tf.keras.Sequential([\n",
        "    layers.Dense(128, activation=\"relu\"),\n",
        "    layers.Dense(HORIZON)\n",
        "], name=\"model_3_dense_30_7\")\n",
        "\n",
        "# Compile\n",
        "model_3.compile(optimizer=tf.keras.optimizers.Adam(),\n",
        "                loss=\"mae\")\n",
        "\n",
        "# Fit\n",
        "model_3.fit(train_windows,\n",
        "            train_labels,\n",
        "            epochs=100,\n",
        "            batch_size=128,\n",
        "            verbose=0,\n",
        "            validation_data=(test_windows, test_labels),\n",
        "            callbacks=[create_model_checkpoint(model_name=model_3.name)])"
      ],
      "metadata": {
        "id": "UEMl_5oa5cLy",
        "outputId": "d1eb55f8-f54d-47ad-bfb6-7643e205e133",
        "colab": {
          "base_uri": "https://localhost:8080/"
        }
      },
      "execution_count": 60,
      "outputs": [
        {
          "output_type": "execute_result",
          "data": {
            "text/plain": [
              "<keras.src.callbacks.History at 0x7ebe6491df60>"
            ]
          },
          "metadata": {},
          "execution_count": 60
        }
      ]
    },
    {
      "cell_type": "code",
      "source": [
        "# Evaluate\n",
        "model_3.evaluate(test_windows, test_labels)"
      ],
      "metadata": {
        "id": "kUF9iwyC6hcG",
        "outputId": "85404590-e02f-4d98-e120-39f71a6897c7",
        "colab": {
          "base_uri": "https://localhost:8080/"
        }
      },
      "execution_count": 61,
      "outputs": [
        {
          "output_type": "stream",
          "name": "stdout",
          "text": [
            "18/18 [==============================] - 0s 2ms/step - loss: 1440.7449\n"
          ]
        },
        {
          "output_type": "execute_result",
          "data": {
            "text/plain": [
              "1440.744873046875"
            ]
          },
          "metadata": {},
          "execution_count": 61
        }
      ]
    },
    {
      "cell_type": "code",
      "source": [
        "# Load the best performig one\n",
        "model_3 = tf.keras.models.load_model(\"/content/model_experiments/model_3_dense_30_7\")\n",
        "model_3.evaluate(test_windows, test_labels)"
      ],
      "metadata": {
        "id": "_yYVSvC17nW9",
        "outputId": "8db0dd20-455a-47ec-e24c-a37e0dea4a6e",
        "colab": {
          "base_uri": "https://localhost:8080/"
        }
      },
      "execution_count": 66,
      "outputs": [
        {
          "output_type": "stream",
          "name": "stdout",
          "text": [
            "18/18 [==============================] - 0s 1ms/step - loss: 1235.4626\n"
          ]
        },
        {
          "output_type": "execute_result",
          "data": {
            "text/plain": [
              "1235.462646484375"
            ]
          },
          "metadata": {},
          "execution_count": 66
        }
      ]
    },
    {
      "cell_type": "code",
      "source": [
        "# Get forecast predictions\n",
        "model_3_preds = make_preds(model_3, test_windows)\n",
        "# Calculate results\n",
        "model_3_results = evaluate_preds(tf.squeeze(test_labels), model_3_preds[:,6])\n",
        "model_3_results"
      ],
      "metadata": {
        "id": "CaUZmlxM7s4V",
        "outputId": "281127da-1f08-45f7-8085-bbf535f09714",
        "colab": {
          "base_uri": "https://localhost:8080/"
        }
      },
      "execution_count": 67,
      "outputs": [
        {
          "output_type": "stream",
          "name": "stdout",
          "text": [
            "18/18 [==============================] - 0s 1ms/step\n"
          ]
        },
        {
          "output_type": "execute_result",
          "data": {
            "text/plain": [
              "{'mae': array([  676.4827  ,   415.75055 ,   314.98004 ,   378.2246  ,\n",
              "          321.6921  ,   377.2054  ,   492.24457 ,   589.8555  ,\n",
              "          486.7795  ,   511.14914 ,   731.2834  ,   706.81903 ,\n",
              "          795.4994  ,   883.1368  ,   653.5037  ,   306.3886  ,\n",
              "          245.46365 ,   200.2064  ,   195.15381 ,   230.35623 ,\n",
              "          176.0761  ,   202.87326 ,   388.4029  ,   396.16852 ,\n",
              "          237.7583  ,   151.75285 ,   119.82701 ,   121.006905,\n",
              "          162.37402 ,   147.21115 ,   266.8455  ,   366.78256 ,\n",
              "          327.7073  ,   347.84445 ,   269.79703 ,   276.71713 ,\n",
              "          281.06683 ,   254.6827  ,   226.0422  ,   242.93652 ,\n",
              "          470.79904 ,   131.46715 ,    86.862656,    91.11433 ,\n",
              "           92.576035,   120.405556,    55.799805,    94.66706 ,\n",
              "          108.86433 ,    92.25495 ,   126.18848 ,    90.08775 ,\n",
              "          130.8817  ,   204.89153 ,   248.33797 ,   389.49332 ,\n",
              "          503.81027 ,   563.5487  ,   551.6493  ,   558.4384  ,\n",
              "          428.64655 ,   202.0551  ,   268.21164 ,   391.90033 ,\n",
              "          396.82254 ,   504.9294  ,   469.55463 ,   534.2486  ,\n",
              "          167.85435 ,   152.41545 ,   287.67258 ,   378.35785 ,\n",
              "          578.57196 ,   404.34836 ,   321.4986  ,   330.5734  ,\n",
              "          333.66113 ,   415.1003  ,   564.69055 ,   762.2924  ,\n",
              "          773.08887 ,   599.50226 ,   341.9273  ,   201.6211  ,\n",
              "          197.12709 ,   201.83078 ,   238.84933 ,   328.32254 ,\n",
              "          393.26883 ,   620.4694  ,   565.14746 ,   421.30777 ,\n",
              "          338.51996 ,   231.66281 ,   230.70815 ,   235.8005  ,\n",
              "          314.00195 ,   483.85352 ,   584.1423  ,   715.84973 ,\n",
              "          511.6723  ,   288.26926 ,   144.119   ,   318.53    ,\n",
              "          290.7397  ,   404.96945 ,   510.44254 ,   707.625   ,\n",
              "          943.2821  ,  1053.5109  ,   839.5091  ,   373.97852 ,\n",
              "          206.53809 ,   211.19545 ,   227.98982 ,   368.97147 ,\n",
              "          382.89713 ,   495.80518 ,   606.1557  ,  1074.7551  ,\n",
              "         1712.2988  ,  2170.59    ,  2126.1587  ,  2118.5208  ,\n",
              "         2260.6108  ,  2584.194   ,  1424.0148  ,   746.07733 ,\n",
              "          518.41266 ,   337.72357 ,   472.4094  ,   453.0274  ,\n",
              "          577.47253 ,   243.20926 ,   251.42941 ,   300.35846 ,\n",
              "          320.43716 ,   283.48312 ,   294.12674 ,   289.194   ,\n",
              "          264.05566 ,   317.03537 ,   349.52524 ,   643.2956  ,\n",
              "          594.3668  ,   634.5565  ,   604.92865 ,   323.9177  ,\n",
              "          227.91609 ,   276.02972 ,   161.43137 ,   245.13387 ,\n",
              "          274.71707 ,   385.92514 ,   362.1227  ,   153.27957 ,\n",
              "          225.50008 ,   161.29842 ,   176.5886  ,   239.27316 ,\n",
              "          305.81088 ,   231.20242 ,   238.63037 ,   207.55992 ,\n",
              "          291.7779  ,   348.82785 ,   591.6654  ,   726.6406  ,\n",
              "          679.9292  ,   657.4001  ,   781.86676 ,   867.38043 ,\n",
              "          908.2502  ,  1081.7014  ,   450.91156 ,   317.62457 ,\n",
              "          325.63324 ,   389.0939  ,   404.47504 ,   446.8559  ,\n",
              "          483.82993 ,   500.75113 ,   631.2179  ,   870.8612  ,\n",
              "          835.482   ,   310.75153 ,   465.50864 ,   608.80634 ,\n",
              "          410.7853  ,   157.99553 ,   250.0957  ,   247.01646 ,\n",
              "          362.11313 ,   561.5944  ,   723.81793 ,   639.64105 ,\n",
              "          258.38297 ,   265.91016 ,   294.23285 ,   337.5777  ,\n",
              "          524.1698  ,   617.9439  ,   661.2337  ,   493.98508 ,\n",
              "          323.48187 ,   176.81682 ,   225.18777 ,   572.6738  ,\n",
              "          196.81375 ,   114.67369 ,   166.024   ,   134.56863 ,\n",
              "          158.55441 ,   283.09793 ,   275.8648  ,   436.33664 ,\n",
              "          573.8753  ,   221.48006 ,   170.42857 ,   173.5533  ,\n",
              "          166.52664 ,   149.3365  ,   201.9114  ,   149.63002 ,\n",
              "          131.11287 ,   186.49539 ,   211.18987 ,   195.83203 ,\n",
              "          311.01926 ,   436.01297 ,   395.44293 ,   221.73953 ,\n",
              "          170.98006 ,    74.74554 ,    57.103657,    99.656944,\n",
              "           77.58231 ,   138.23982 ,   105.460655,   110.78753 ,\n",
              "          140.04674 ,   113.83203 ,    98.01925 ,    84.120674,\n",
              "          172.0911  ,   142.07617 ,   161.30678 ,    96.79115 ,\n",
              "          141.26465 ,    89.68373 ,   118.17006 ,   138.01912 ,\n",
              "          138.42397 ,   189.03613 ,   235.37598 ,   328.68207 ,\n",
              "          622.601   ,   711.388   ,   831.7341  ,   901.17816 ,\n",
              "         1096.8373  ,  1310.5355  ,  1297.6713  ,   498.69238 ,\n",
              "          242.74358 ,   238.65207 ,   220.7002  ,   252.70187 ,\n",
              "          339.42188 ,   135.50027 ,   232.89955 ,   198.18527 ,\n",
              "          128.51033 ,   254.79395 ,   264.74527 ,   244.3619  ,\n",
              "          282.26926 ,   331.99496 ,   203.47531 ,   330.68512 ,\n",
              "          185.23424 ,   204.7998  ,   181.30455 ,   246.0897  ,\n",
              "          377.50027 ,   539.1876  ,   392.40625 ,   319.64175 ,\n",
              "          297.92984 ,   232.27596 ,   313.72516 ,   304.8312  ,\n",
              "          180.81487 ,   159.96498 ,   329.99847 ,   410.96875 ,\n",
              "          616.80634 ,   828.2741  ,  1007.45496 ,  1500.3788  ,\n",
              "         1437.5406  ,   859.7077  ,   540.2094  ,   116.887   ,\n",
              "          219.27957 ,   188.74455 ,   291.1483  ,   292.88254 ,\n",
              "          251.98479 ,   283.46402 ,   297.68723 ,   373.87946 ,\n",
              "          224.57826 ,   192.11551 ,   309.21957 ,   324.84277 ,\n",
              "          363.17523 ,   469.8845  ,   371.41684 ,   154.22266 ,\n",
              "          192.18303 ,   325.4922  ,   110.010605,   163.76576 ,\n",
              "          228.25502 ,   260.93192 ,   283.4816  ,   250.35031 ,\n",
              "          205.14049 ,   163.5731  ,   173.5494  ,   275.2253  ,\n",
              "          324.8824  ,   451.00684 ,   607.981   ,   630.49036 ,\n",
              "          587.1607  ,   392.57742 ,   147.38979 ,   122.453545,\n",
              "          318.39355 ,   295.09653 ,   401.5389  ,   635.80023 ,\n",
              "          811.3951  ,  1052.0803  ,  1210.9814  ,  1189.673   ,\n",
              "         1187.9133  ,   366.1179  ,   249.13797 ,   202.63728 ,\n",
              "          281.93512 ,   231.3019  ,   364.40652 ,   170.54213 ,\n",
              "          214.7341  ,   446.52106 ,   635.24817 ,   655.5893  ,\n",
              "          872.45715 ,  1003.5155  ,  1167.4766  ,  1097.3844  ,\n",
              "          460.76633 ,   369.53934 ,   458.20438 ,   456.23242 ,\n",
              "          486.94574 ,   855.8849  ,   896.97644 ,   834.95605 ,\n",
              "         1012.72375 ,  1263.0575  ,  1721.6232  ,  1484.6276  ,\n",
              "          954.9004  ,   522.19086 ,   541.01117 ,   593.46875 ,\n",
              "          914.2419  ,   988.5589  ,  1048.5801  ,  1085.3225  ,\n",
              "          969.80273 ,   825.356   ,  1611.372   ,  1366.8744  ,\n",
              "         1090.4779  ,   231.37556 ,   349.97433 ,   440.75446 ,\n",
              "          843.8089  ,   707.17914 ,   572.5419  ,   703.6113  ,\n",
              "          615.90204 ,   467.2274  ,   936.3778  ,  1619.2721  ,\n",
              "         2349.6099  ,  2636.4724  ,  2838.8142  ,  3226.3499  ,\n",
              "         3424.5627  ,  2471.2593  ,   836.47546 ,   430.69644 ,\n",
              "          911.3379  ,  1158.5792  ,  1482.2617  ,  1929.6102  ,\n",
              "         2466.9856  ,  3183.4817  ,  2914.5955  ,  2328.7454  ,\n",
              "         2561.0513  ,  2737.4934  ,  3392.697   ,  3153.4724  ,\n",
              "         3973.2268  ,  5031.722   ,  4779.3447  ,  4316.411   ,\n",
              "         4764.8877  ,  3528.5317  ,  2687.299   ,  2521.7808  ,\n",
              "         3997.1272  ,  5349.2407  ,  4710.7993  ,  1857.8242  ,\n",
              "          812.7221  ,   996.1049  ,  2881.9246  ,  2954.7473  ,\n",
              "         2527.6003  ,  2822.431   ,  3702.4673  ,  4371.816   ,\n",
              "         4266.054   ,   708.5159  ,  1237.3607  ,  1276.9227  ,\n",
              "         1724.2216  ,  1891.363   ,  2121.8928  ,  3794.9321  ,\n",
              "         3042.0425  ,  2247.336   ,  2341.3767  ,  3021.0474  ,\n",
              "         3979.8967  ,  4793.436   ,  4701.0366  ,  5599.0586  ,\n",
              "         6689.978   ,  5759.6646  ,  7193.5493  ,  4270.2144  ,\n",
              "         1358.2701  ,  1223.3778  ,  1449.5809  ,  2041.1361  ,\n",
              "         2860.8594  ,  3075.7917  ,  3744.1362  ,  3779.683   ,\n",
              "         3058.7708  ,  3658.6914  ,  5090.043   ,  6906.6562  ,\n",
              "        10383.407   ,  9511.967   ,  5278.2417  ,  2363.846   ,\n",
              "         1906.1697  ,  2067.698   ,  2793.6506  ,  4244.234   ,\n",
              "         2432.0872  ,  3247.8347  ,  2224.121   ,  3639.5027  ,\n",
              "         4509.165   ,  5996.7173  ,  6477.2354  ,  6888.517   ,\n",
              "         4124.949   ,  2840.266   ,  1307.8427  ,  1340.5597  ,\n",
              "         1723.1423  ,  3775.283   ,  1914.7299  ,  2336.3723  ,\n",
              "         3475.184   ,  4093.1987  ,  4953.624   ,  5000.081   ,\n",
              "         4671.4033  ,  2005.1334  ,  2055.207   ,  2979.369   ,\n",
              "         4576.895   ,  3848.2378  ,  2672.0034  ,  2923.3723  ,\n",
              "         1669.8661  ,   518.21094 ,   912.4593  ,   961.31085 ,\n",
              "         1504.5234  ,   723.25446 ,  1017.9838  ,  1351.597   ,\n",
              "         1709.7238  ,  2483.1558  ,  3032.9263  ,  3322.6758  ,\n",
              "         2478.2856  ,  2287.7834  ,  2867.664   ,  3534.4666  ,\n",
              "         5747.0776  ,  7618.9272  ,  8107.73    ,  8020.043   ,\n",
              "         5965.758   ,  4495.015   ,  3717.851   ,  2709.4526  ,\n",
              "         1942.8878  ,  2925.691   ,  3829.2668  ,  5429.13    ,\n",
              "         3648.2434  ,  1714.779   ,  1791.39    ,  2445.1702  ,\n",
              "          632.9833  ,  1287.3522  ,  1256.3744  ,  1496.9655  ,\n",
              "         2145.7583  ,  1806.0625  ,  2453.1206  ,  3423.2817  ,\n",
              "         5732.638   ,  8936.165   ,  8837.639   ], dtype=float32),\n",
              " 'mse': array([4.89576156e+05, 2.08271625e+05, 1.27811055e+05, 1.72410609e+05,\n",
              "        1.42337078e+05, 1.78729891e+05, 2.78581938e+05, 4.09071562e+05,\n",
              "        3.51630781e+05, 4.54477938e+05, 7.58421500e+05, 6.90695812e+05,\n",
              "        7.85474375e+05, 8.10258000e+05, 4.52597969e+05, 1.11699484e+05,\n",
              "        6.75606797e+04, 6.09008398e+04, 5.30793242e+04, 9.49271797e+04,\n",
              "        4.27521875e+04, 5.70481445e+04, 1.68287406e+05, 1.60947328e+05,\n",
              "        7.02543281e+04, 3.33021211e+04, 1.95471562e+04, 2.29607754e+04,\n",
              "        3.00964668e+04, 3.67894023e+04, 8.33411953e+04, 1.43393062e+05,\n",
              "        1.34702828e+05, 1.81693000e+05, 1.39374016e+05, 1.56917109e+05,\n",
              "        1.24919555e+05, 9.83054922e+04, 8.51392734e+04, 7.79938359e+04,\n",
              "        2.33233031e+05, 2.32136289e+04, 1.11897207e+04, 1.05669160e+04,\n",
              "        1.43698574e+04, 1.73655059e+04, 4.40435303e+03, 1.38194678e+04,\n",
              "        1.51108525e+04, 1.07174326e+04, 2.16162461e+04, 2.50700371e+04,\n",
              "        2.72935488e+04, 5.54385664e+04, 1.03422234e+05, 2.37155250e+05,\n",
              "        3.43260406e+05, 4.02334281e+05, 3.85838094e+05, 3.32968750e+05,\n",
              "        1.91053266e+05, 8.61616406e+04, 1.49482734e+05, 2.47382422e+05,\n",
              "        2.51999156e+05, 3.44192938e+05, 2.60787516e+05, 2.96830875e+05,\n",
              "        4.69712305e+04, 3.17015723e+04, 1.16278680e+05, 1.75304000e+05,\n",
              "        3.63676031e+05, 1.92219891e+05, 1.39646953e+05, 1.35403500e+05,\n",
              "        1.35394219e+05, 2.74142781e+05, 4.24045344e+05, 7.01376625e+05,\n",
              "        6.41798438e+05, 3.85870062e+05, 1.43638125e+05, 4.91443164e+04,\n",
              "        6.67567266e+04, 5.71878242e+04, 7.44620547e+04, 1.44433766e+05,\n",
              "        1.84443953e+05, 4.55563938e+05, 3.98491344e+05, 2.19331969e+05,\n",
              "        1.50281766e+05, 7.05136953e+04, 8.57583359e+04, 7.58291328e+04,\n",
              "        1.80245953e+05, 3.17258219e+05, 4.26839906e+05, 5.43460188e+05,\n",
              "        3.12032812e+05, 1.06602133e+05, 2.68110879e+04, 1.16547414e+05,\n",
              "        1.79683359e+05, 3.03351500e+05, 4.27049312e+05, 6.85309188e+05,\n",
              "        1.02165862e+06, 1.18954688e+06, 7.15551625e+05, 1.54269234e+05,\n",
              "        5.03078984e+04, 6.56870703e+04, 6.98484609e+04, 1.45837578e+05,\n",
              "        2.62210000e+05, 3.48147062e+05, 4.80703344e+05, 2.23006250e+06,\n",
              "        4.36674500e+06, 6.25927450e+06, 6.03003700e+06, 5.75166100e+06,\n",
              "        5.91950000e+06, 6.75599100e+06, 2.29697650e+06, 7.43936812e+05,\n",
              "        3.23345500e+05, 1.33781281e+05, 3.23637781e+05, 2.97435656e+05,\n",
              "        4.12925062e+05, 7.37685156e+04, 1.22915516e+05, 1.16349203e+05,\n",
              "        1.30160625e+05, 1.16179672e+05, 1.86337859e+05, 1.75032859e+05,\n",
              "        1.14692617e+05, 1.51828281e+05, 1.65783266e+05, 4.57219062e+05,\n",
              "        4.13715094e+05, 4.94487938e+05, 3.90569000e+05, 1.44283672e+05,\n",
              "        7.70879844e+04, 9.18181641e+04, 3.83887500e+04, 7.32700859e+04,\n",
              "        1.32405344e+05, 1.93273172e+05, 1.57792953e+05, 3.53266797e+04,\n",
              "        7.48358594e+04, 3.71180273e+04, 4.34135352e+04, 7.67585469e+04,\n",
              "        1.24848055e+05, 8.49443516e+04, 7.23697109e+04, 5.97826133e+04,\n",
              "        1.16500438e+05, 1.58048484e+05, 4.07605500e+05, 7.11623125e+05,\n",
              "        7.67095500e+05, 7.32105875e+05, 9.12159312e+05, 1.04516988e+06,\n",
              "        9.56300875e+05, 1.18000438e+06, 2.34212859e+05, 2.19128672e+05,\n",
              "        1.82585203e+05, 1.90928391e+05, 1.99532406e+05, 2.43375609e+05,\n",
              "        2.73217312e+05, 3.12198844e+05, 6.29030500e+05, 9.18376188e+05,\n",
              "        8.05953438e+05, 1.66940422e+05, 2.97250594e+05, 4.01405844e+05,\n",
              "        1.86732469e+05, 3.88284727e+04, 7.95621875e+04, 8.34191641e+04,\n",
              "        1.91570109e+05, 3.80143344e+05, 5.74198438e+05, 4.39992000e+05,\n",
              "        1.09070195e+05, 8.64893359e+04, 1.15349180e+05, 1.37047859e+05,\n",
              "        3.90200656e+05, 5.05947656e+05, 5.20739406e+05, 3.67630094e+05,\n",
              "        1.92712422e+05, 6.07599336e+04, 9.49466250e+04, 3.36239312e+05,\n",
              "        5.89767070e+04, 1.87738262e+04, 3.61415352e+04, 5.42938555e+04,\n",
              "        4.01603828e+04, 1.15172320e+05, 9.82015859e+04, 2.31293359e+05,\n",
              "        3.43929250e+05, 5.76963555e+04, 3.61199922e+04, 4.08334961e+04,\n",
              "        4.25324883e+04, 4.03303242e+04, 4.91840195e+04, 2.56256523e+04,\n",
              "        2.44783027e+04, 5.09489336e+04, 7.38675391e+04, 4.97792422e+04,\n",
              "        1.42556859e+05, 2.01440266e+05, 1.71426922e+05, 6.25801953e+04,\n",
              "        3.65116953e+04, 7.74818750e+03, 7.71868457e+03, 1.29989980e+04,\n",
              "        1.12177891e+04, 2.90498555e+04, 1.42597354e+04, 1.92154434e+04,\n",
              "        3.10265586e+04, 2.10896309e+04, 1.99653262e+04, 9.76650879e+03,\n",
              "        3.58687500e+04, 2.38511387e+04, 3.13995801e+04, 1.27495215e+04,\n",
              "        2.17003145e+04, 1.02278926e+04, 1.94450801e+04, 2.86014121e+04,\n",
              "        3.23797148e+04, 5.29870625e+04, 7.05049766e+04, 1.46498422e+05,\n",
              "        7.45814188e+05, 9.04718438e+05, 1.19137325e+06, 1.25788138e+06,\n",
              "        1.60249338e+06, 2.01349662e+06, 1.73670988e+06, 3.13501312e+05,\n",
              "        1.02687391e+05, 7.44013047e+04, 6.47813789e+04, 9.70894844e+04,\n",
              "        1.83714672e+05, 4.55864727e+04, 6.41897695e+04, 5.01437812e+04,\n",
              "        4.07588984e+04, 9.99823516e+04, 1.00534148e+05, 7.62878516e+04,\n",
              "        1.19499023e+05, 1.47191172e+05, 7.30051641e+04, 1.48077250e+05,\n",
              "        6.56612578e+04, 6.35826367e+04, 5.76868008e+04, 7.95581953e+04,\n",
              "        1.50833578e+05, 3.06895844e+05, 1.83379672e+05, 1.47472391e+05,\n",
              "        1.20970234e+05, 7.55334375e+04, 1.33032359e+05, 1.13787805e+05,\n",
              "        5.38292930e+04, 4.94980859e+04, 1.57549000e+05, 2.80038688e+05,\n",
              "        6.22517562e+05, 1.11130775e+06, 1.34974638e+06, 2.43993550e+06,\n",
              "        2.11099325e+06, 7.69338062e+05, 3.38395469e+05, 2.00071660e+04,\n",
              "        5.19683828e+04, 5.90658555e+04, 1.27499570e+05, 1.41460281e+05,\n",
              "        1.00882266e+05, 1.06488266e+05, 9.99331953e+04, 1.64124953e+05,\n",
              "        6.26308320e+04, 4.22728438e+04, 1.33429625e+05, 1.52056844e+05,\n",
              "        1.83377719e+05, 2.46415484e+05, 1.67109250e+05, 3.60029102e+04,\n",
              "        4.85001172e+04, 1.17181750e+05, 1.33218701e+04, 3.49704336e+04,\n",
              "        6.97056641e+04, 8.12330547e+04, 9.94871484e+04, 6.72323594e+04,\n",
              "        4.44264727e+04, 3.39731055e+04, 4.52393672e+04, 1.76122516e+05,\n",
              "        1.88901266e+05, 2.95862344e+05, 4.64374844e+05, 4.51776531e+05,\n",
              "        3.98922562e+05, 1.69757422e+05, 4.18013438e+04, 2.31568242e+04,\n",
              "        1.22241703e+05, 1.00610227e+05, 3.69493938e+05, 7.73631875e+05,\n",
              "        1.09022575e+06, 1.56818062e+06, 1.78449775e+06, 1.58163512e+06,\n",
              "        1.47026138e+06, 1.82926422e+05, 6.94288906e+04, 5.34100625e+04,\n",
              "        1.15966320e+05, 7.46635391e+04, 1.73661781e+05, 4.40712773e+04,\n",
              "        7.25148594e+04, 6.00258125e+05, 1.02975194e+06, 7.50397875e+05,\n",
              "        1.22321012e+06, 1.39779625e+06, 1.56942900e+06, 1.32926738e+06,\n",
              "        3.16926156e+05, 1.87879297e+05, 2.99687969e+05, 2.18524875e+05,\n",
              "        3.52750938e+05, 1.11074175e+06, 1.32884300e+06, 1.13210300e+06,\n",
              "        1.42132312e+06, 2.09369375e+06, 3.39314225e+06, 2.36814925e+06,\n",
              "        1.11604250e+06, 3.14359188e+05, 3.74063000e+05, 8.60207062e+05,\n",
              "        1.44468862e+06, 1.50874725e+06, 1.58982025e+06, 1.75585925e+06,\n",
              "        1.58909712e+06, 9.57517812e+05, 3.05758200e+06, 2.03103200e+06,\n",
              "        1.25670475e+06, 9.10992969e+04, 1.80780078e+05, 3.54657281e+05,\n",
              "        8.34981312e+05, 6.80401875e+05, 4.29326844e+05, 6.53721938e+05,\n",
              "        5.32409938e+05, 3.01276594e+05, 1.69896062e+06, 4.65357200e+06,\n",
              "        8.39820300e+06, 1.03289100e+07, 1.07591900e+07, 1.24032010e+07,\n",
              "        1.22741190e+07, 6.33993750e+06, 8.05381438e+05, 2.63548281e+05,\n",
              "        1.13576100e+06, 1.84479512e+06, 3.47435425e+06, 5.15058500e+06,\n",
              "        8.33706750e+06, 1.21308640e+07, 9.74996500e+06, 8.42453900e+06,\n",
              "        1.03522500e+07, 1.03940180e+07, 1.47645510e+07, 1.48149130e+07,\n",
              "        2.49009380e+07, 3.49827080e+07, 3.29311400e+07, 2.39947220e+07,\n",
              "        2.79347080e+07, 1.86791900e+07, 9.06805000e+06, 8.68657800e+06,\n",
              "        2.10566260e+07, 3.11638120e+07, 2.35769980e+07, 4.25660750e+06,\n",
              "        9.84816375e+05, 1.22228825e+06, 1.27308640e+07, 1.43947980e+07,\n",
              "        1.24519790e+07, 1.22344630e+07, 1.76364160e+07, 2.05835300e+07,\n",
              "        1.91192060e+07, 9.17658875e+05, 2.77671475e+06, 3.15631925e+06,\n",
              "        4.13155050e+06, 4.22384850e+06, 5.67170300e+06, 1.64815250e+07,\n",
              "        1.12557440e+07, 7.57827200e+06, 7.82174450e+06, 1.31004940e+07,\n",
              "        2.25230040e+07, 3.63261720e+07, 3.65873040e+07, 4.49748680e+07,\n",
              "        5.67732040e+07, 3.87217160e+07, 5.30394320e+07, 1.93178140e+07,\n",
              "        2.19953975e+06, 3.89251825e+06, 3.17877725e+06, 6.28549700e+06,\n",
              "        1.36504940e+07, 1.40516310e+07, 1.82522740e+07, 1.73120640e+07,\n",
              "        1.21588130e+07, 1.58592160e+07, 3.79954920e+07, 5.97549320e+07,\n",
              "        1.20177432e+08, 9.31425280e+07, 3.09639720e+07, 7.56167250e+06,\n",
              "        5.07396550e+06, 6.41375550e+06, 8.98226500e+06, 1.93527060e+07,\n",
              "        8.24210500e+06, 1.30665260e+07, 9.34353500e+06, 2.10271240e+07,\n",
              "        2.78563400e+07, 4.61131240e+07, 5.20427800e+07, 5.29311560e+07,\n",
              "        1.95124980e+07, 1.21198580e+07, 2.76336225e+06, 2.87471925e+06,\n",
              "        3.79046925e+06, 1.47509250e+07, 5.93889650e+06, 8.55597700e+06,\n",
              "        1.84436980e+07, 2.33370360e+07, 3.17669220e+07, 2.87001240e+07,\n",
              "        2.33675980e+07, 5.71038750e+06, 5.53315600e+06, 1.17524210e+07,\n",
              "        2.29523360e+07, 1.77605640e+07, 8.47413900e+06, 9.20460100e+06,\n",
              "        3.36365475e+06, 4.12155812e+05, 1.32495025e+06, 1.31603800e+06,\n",
              "        3.04151425e+06, 8.49569938e+05, 1.50945038e+06, 2.80130600e+06,\n",
              "        5.44024900e+06, 1.11472690e+07, 1.20166550e+07, 1.39030970e+07,\n",
              "        8.24946150e+06, 7.83018550e+06, 1.02369510e+07, 2.16253320e+07,\n",
              "        4.40464520e+07, 6.75982000e+07, 7.33647200e+07, 7.01210400e+07,\n",
              "        4.27845840e+07, 2.58474740e+07, 1.86816440e+07, 1.15104800e+07,\n",
              "        4.25158400e+06, 1.16441970e+07, 1.67483440e+07, 3.19740620e+07,\n",
              "        1.53173970e+07, 4.32277900e+06, 3.51743225e+06, 6.28928350e+06,\n",
              "        8.92290500e+05, 3.86795575e+06, 2.99160025e+06, 3.93326525e+06,\n",
              "        5.34605450e+06, 4.49707500e+06, 1.07063650e+07, 2.18749940e+07,\n",
              "        4.76506600e+07, 9.72069680e+07, 9.56986640e+07], dtype=float32),\n",
              " 'rmse': array([  699.6972  ,   456.36786 ,   357.5067  ,   415.22357 ,\n",
              "          377.27588 ,   422.7646  ,   527.8086  ,   639.58704 ,\n",
              "          592.9846  ,   674.1498  ,   870.87396 ,   831.0811  ,\n",
              "          886.2699  ,   900.1433  ,   672.754   ,   334.21472 ,\n",
              "          259.92438 ,   246.78096 ,   230.38951 ,   308.10254 ,\n",
              "          206.76602 ,   238.84753 ,   410.2285  ,   401.1824  ,\n",
              "          265.05533 ,   182.4887  ,   139.81114 ,   151.52814 ,\n",
              "          173.48334 ,   191.80563 ,   288.68875 ,   378.67276 ,\n",
              "          367.01883 ,   426.2546  ,   373.3283  ,   396.12766 ,\n",
              "          353.4396  ,   313.53708 ,   291.78635 ,   279.27377 ,\n",
              "          482.94205 ,   152.3602  ,   105.78148 ,   102.79551 ,\n",
              "          119.874344,   131.77824 ,    66.3653  ,   117.55623 ,\n",
              "          122.92621 ,   103.52503 ,   147.02464 ,   158.3352  ,\n",
              "          165.2076  ,   235.45396 ,   321.59326 ,   486.98587 ,\n",
              "          585.8843  ,   634.2983  ,   621.1587  ,   577.0344  ,\n",
              "          437.0964  ,   293.53302 ,   386.62997 ,   497.37552 ,\n",
              "          501.99518 ,   586.67957 ,   510.67358 ,   544.8219  ,\n",
              "          216.72847 ,   178.04935 ,   340.9966  ,   418.6932  ,\n",
              "          603.0556  ,   438.4289  ,   373.69366 ,   367.97214 ,\n",
              "          367.95953 ,   523.5865  ,   651.1876  ,   837.4823  ,\n",
              "          801.1232  ,   621.1844  ,   378.99622 ,   221.68518 ,\n",
              "          258.37323 ,   239.13976 ,   272.87735 ,   380.04443 ,\n",
              "          429.4694  ,   674.9548  ,   631.2617  ,   468.32892 ,\n",
              "          387.66193 ,   265.54416 ,   292.84525 ,   275.3709  ,\n",
              "          424.55383 ,   563.2568  ,   653.32983 ,   737.1975  ,\n",
              "          558.599   ,   326.49982 ,   163.74092 ,   341.3904  ,\n",
              "          423.89075 ,   550.77356 ,   653.4901  ,   827.83405 ,\n",
              "         1010.7713  ,  1090.6635  ,   845.90283 ,   392.7712  ,\n",
              "          224.29422 ,   256.2949  ,   264.2886  ,   381.88687 ,\n",
              "          512.06445 ,   590.03986 ,   693.32776 ,  1493.3394  ,\n",
              "         2089.6758  ,  2501.8542  ,  2455.6133  ,  2398.262   ,\n",
              "         2433.0022  ,  2599.229   ,  1515.578   ,   862.5177  ,\n",
              "          568.63477 ,   365.76123 ,   568.8917  ,   545.37665 ,\n",
              "          642.59247 ,   271.6036  ,   350.59308 ,   341.09998 ,\n",
              "          360.7778  ,   340.85138 ,   431.6687  ,   418.3693  ,\n",
              "          338.663   ,   389.6515  ,   407.16492 ,   676.17975 ,\n",
              "          643.2069  ,   703.19836 ,   624.9552  ,   379.8469  ,\n",
              "          277.64722 ,   303.01514 ,   195.93047 ,   270.68448 ,\n",
              "          363.87546 ,   439.62845 ,   397.2316  ,   187.95393 ,\n",
              "          273.56143 ,   192.6604  ,   208.35915 ,   277.0533  ,\n",
              "          353.33844 ,   291.45215 ,   269.0162  ,   244.50484 ,\n",
              "          341.3216  ,   397.55313 ,   638.4399  ,   843.5776  ,\n",
              "          875.8399  ,   855.63184 ,   955.0703  ,  1022.3355  ,\n",
              "          977.9064  ,  1086.28    ,   483.95544 ,   468.11182 ,\n",
              "          427.2999  ,   436.95352 ,   446.6905  ,   493.33115 ,\n",
              "          522.7019  ,   558.74756 ,   793.11444 ,   958.31946 ,\n",
              "          897.7491  ,   408.58344 ,   545.2069  ,   633.566   ,\n",
              "          432.12552 ,   197.04942 ,   282.0677  ,   288.82376 ,\n",
              "          437.68723 ,   616.5577  ,   757.75885 ,   663.3189  ,\n",
              "          330.25778 ,   294.0907  ,   339.63095 ,   370.19977 ,\n",
              "          624.66046 ,   711.3     ,   721.62274 ,   606.3251  ,\n",
              "          438.99023 ,   246.4953  ,   308.1341  ,   579.86145 ,\n",
              "          242.8512  ,   137.01761 ,   190.10927 ,   233.01042 ,\n",
              "          200.40056 ,   339.37048 ,   313.37134 ,   480.9297  ,\n",
              "          586.45483 ,   240.20065 ,   190.0526  ,   202.073   ,\n",
              "          206.23405 ,   200.82411 ,   221.7747  ,   160.08014 ,\n",
              "          156.45543 ,   225.7187  ,   271.78583 ,   223.11263 ,\n",
              "          377.56702 ,   448.82098 ,   414.03735 ,   250.16034 ,\n",
              "          191.08034 ,    88.02379 ,    87.85604 ,   114.013145,\n",
              "          105.91406 ,   170.44019 ,   119.41413 ,   138.61978 ,\n",
              "          176.14357 ,   145.22269 ,   141.2987  ,    98.825645,\n",
              "          189.39047 ,   154.43814 ,   177.19926 ,   112.91378 ,\n",
              "          147.31027 ,   101.13304 ,   139.44562 ,   169.11952 ,\n",
              "          179.94365 ,   230.1892  ,   265.52774 ,   382.75113 ,\n",
              "          863.60535 ,   951.1669  ,  1091.5005  ,  1121.5531  ,\n",
              "         1265.8962  ,  1418.9773  ,  1317.8429  ,   559.91187 ,\n",
              "          320.44873 ,   272.76602 ,   254.52187 ,   311.59186 ,\n",
              "          428.6195  ,   213.50989 ,   253.357   ,   223.92807 ,\n",
              "          201.88834 ,   316.19986 ,   317.0712  ,   276.20255 ,\n",
              "          345.6863  ,   383.65503 ,   270.19467 ,   384.80807 ,\n",
              "          256.24454 ,   252.15598 ,   240.18077 ,   282.06064 ,\n",
              "          388.373   ,   553.9818  ,   428.22852 ,   384.02133 ,\n",
              "          347.80777 ,   274.83347 ,   364.73602 ,   337.3245  ,\n",
              "          232.01141 ,   222.48166 ,   396.92444 ,   529.1868  ,\n",
              "          788.9978  ,  1054.1858  ,  1161.7859  ,  1562.0293  ,\n",
              "         1452.9258  ,   877.1192  ,   581.7177  ,   141.44669 ,\n",
              "          227.96574 ,   243.03468 ,   357.07083 ,   376.11206 ,\n",
              "          317.6197  ,   326.3254  ,   316.12213 ,   405.12338 ,\n",
              "          250.26152 ,   205.6036  ,   365.2802  ,   389.94467 ,\n",
              "          428.22626 ,   496.40256 ,   408.78998 ,   189.74432 ,\n",
              "          220.22742 ,   342.3182  ,   115.4204  ,   187.00383 ,\n",
              "          264.0183  ,   285.01413 ,   315.41583 ,   259.29202 ,\n",
              "          210.77588 ,   184.31795 ,   212.69548 ,   419.66953 ,\n",
              "          434.62775 ,   543.9323  ,   681.45056 ,   672.14325 ,\n",
              "          631.60315 ,   412.0163  ,   204.45377 ,   152.17366 ,\n",
              "          349.6308  ,   317.19116 ,   607.8601  ,   879.5635  ,\n",
              "         1044.1388  ,  1252.2701  ,  1335.851   ,  1257.6307  ,\n",
              "         1212.5433  ,   427.69897 ,   263.49362 ,   231.10617 ,\n",
              "          340.53827 ,   273.2463  ,   416.72748 ,   209.9316  ,\n",
              "          269.28583 ,   774.76324 ,  1014.76697 ,   866.25507 ,\n",
              "         1105.9883  ,  1182.2843  ,  1252.7686  ,  1152.9386  ,\n",
              "          562.962   ,   433.45047 ,   547.4376  ,   467.46643 ,\n",
              "          593.9284  ,  1053.9174  ,  1152.7545  ,  1064.0033  ,\n",
              "         1192.1926  ,  1446.9602  ,  1842.0483  ,  1538.8793  ,\n",
              "         1056.4291  ,   560.6774  ,   611.6069  ,   927.4735  ,\n",
              "         1201.952   ,  1228.3108  ,  1260.8807  ,  1325.0884  ,\n",
              "         1260.594   ,   978.5284  ,  1748.5942  ,  1425.1428  ,\n",
              "         1121.0284  ,   301.8266  ,   425.1824  ,   595.53107 ,\n",
              "          913.77313 ,   824.86475 ,   655.23035 ,   808.5307  ,\n",
              "          729.66425 ,   548.88666 ,  1303.4419  ,  2157.2139  ,\n",
              "         2897.9653  ,  3213.862   ,  3280.1204  ,  3521.8179  ,\n",
              "         3503.4438  ,  2517.9233  ,   897.4305  ,   513.3695  ,\n",
              "         1065.7208  ,  1358.2323  ,  1863.962   ,  2269.49    ,\n",
              "         2887.398   ,  3482.939   ,  3122.4934  ,  2902.5056  ,\n",
              "         3217.4912  ,  3223.9756  ,  3842.4668  ,  3849.0146  ,\n",
              "         4990.084   ,  5914.618   ,  5738.566   ,  4898.441   ,\n",
              "         5285.3296  ,  4321.943   ,  3011.3203  ,  2947.3     ,\n",
              "         4588.75    ,  5582.4556  ,  4855.615   ,  2063.1548  ,\n",
              "          992.37915 ,  1105.5714  ,  3568.0337  ,  3794.0476  ,\n",
              "         3528.736   ,  3497.7798  ,  4199.573   ,  4536.9077  ,\n",
              "         4372.5513  ,   957.9451  ,  1666.3478  ,  1776.6033  ,\n",
              "         2032.6216  ,  2055.2004  ,  2381.5337  ,  4059.7444  ,\n",
              "         3354.958   ,  2752.8662  ,  2796.7383  ,  3619.4604  ,\n",
              "         4745.841   ,  6027.1196  ,  6048.744   ,  6706.3306  ,\n",
              "         7534.7993  ,  6222.6777  ,  7282.8174  ,  4395.2036  ,\n",
              "         1483.0846  ,  1972.9465  ,  1782.9126  ,  2507.0894  ,\n",
              "         3694.6575  ,  3748.5505  ,  4272.268   ,  4160.777   ,\n",
              "         3486.949   ,  3982.363   ,  6164.0483  ,  7730.1313  ,\n",
              "        10962.547   ,  9651.038   ,  5564.528   ,  2749.8496  ,\n",
              "         2252.5464  ,  2532.5393  ,  2997.0427  ,  4399.171   ,\n",
              "         2870.9067  ,  3614.765   ,  3056.7197  ,  4585.534   ,\n",
              "         5277.9106  ,  6790.6646  ,  7214.0684  ,  7275.3804  ,\n",
              "         4417.2954  ,  3481.3586  ,  1662.3364  ,  1695.4998  ,\n",
              "         1946.9127  ,  3840.6934  ,  2436.985   ,  2925.06    ,\n",
              "         4294.613   ,  4830.8423  ,  5636.2153  ,  5357.2495  ,\n",
              "         4834.0044  ,  2389.6416  ,  2352.266   ,  3428.1804  ,\n",
              "         4790.86    ,  4214.3286  ,  2911.0374  ,  3033.9084  ,\n",
              "         1834.027   ,   641.99365 ,  1151.0648  ,  1147.187   ,\n",
              "         1743.9938  ,   921.7212  ,  1228.5969  ,  1673.7102  ,\n",
              "         2332.434   ,  3338.7527  ,  3466.5046  ,  3728.6858  ,\n",
              "         2872.1875  ,  2798.2468  ,  3199.5234  ,  4650.3047  ,\n",
              "         6636.75    ,  8221.8125  ,  8565.32    ,  8373.831   ,\n",
              "         6540.9927  ,  5084.041   ,  4322.2266  ,  3392.7097  ,\n",
              "         2061.937   ,  3412.3594  ,  4092.474   ,  5654.561   ,\n",
              "         3913.7446  ,  2079.1294  ,  1875.4818  ,  2507.8445  ,\n",
              "          944.61127 ,  1966.7119  ,  1729.6243  ,  1983.2461  ,\n",
              "         2312.1536  ,  2120.6309  ,  3272.058   ,  4677.0713  ,\n",
              "         6902.946   ,  9859.359   ,  9782.569   ], dtype=float32),\n",
              " 'mape': array([ 7.72262   ,  4.7875967 ,  3.653602  ,  4.4106765 ,  3.8069804 ,\n",
              "         4.507155  ,  5.933975  ,  7.3010826 ,  6.295342  ,  6.82948   ,\n",
              "         9.929004  ,  9.723291  , 11.014177  , 12.154561  ,  9.03784   ,\n",
              "         4.2236066 ,  3.3605628 ,  2.6642933 ,  2.5913131 ,  3.040093  ,\n",
              "         2.383606  ,  2.7528296 ,  5.281875  ,  5.377149  ,  3.2341208 ,\n",
              "         2.0684    ,  1.6364638 ,  1.6206185 ,  2.2040293 ,  2.0385609 ,\n",
              "         3.69831   ,  5.1064644 ,  4.6292458 ,  5.0546465 ,  3.9383655 ,\n",
              "         4.056243  ,  4.0943475 ,  3.6857624 ,  3.2697637 ,  3.4466016 ,\n",
              "         6.4933906 ,  1.8182275 ,  1.2004782 ,  1.2599988 ,  1.2832912 ,\n",
              "         1.6650777 ,  0.76750815,  1.3104416 ,  1.5011154 ,  1.2844222 ,\n",
              "         1.7579409 ,  1.2741591 ,  1.8373857 ,  2.8080907 ,  3.300165  ,\n",
              "         5.032726  ,  6.4329095 ,  7.1178555 ,  6.8913436 ,  6.958387  ,\n",
              "         5.314286  ,  2.423624  ,  3.146914  ,  4.538884  ,  4.5235057 ,\n",
              "         5.7250543 ,  5.332888  ,  6.073985  ,  1.8937677 ,  1.7532392 ,\n",
              "         3.350804  ,  4.4243317 ,  6.8021784 ,  4.768967  ,  3.7956052 ,\n",
              "         3.8703535 ,  3.8182075 ,  4.5432396 ,  6.1152925 ,  8.189706  ,\n",
              "         8.278234  ,  6.395765  ,  3.6397915 ,  2.1350086 ,  2.1230798 ,\n",
              "         2.1552126 ,  2.5102134 ,  3.3860412 ,  4.00718   ,  6.221223  ,\n",
              "         5.5929713 ,  4.143587  ,  3.3024716 ,  2.2666476 ,  2.3134575 ,\n",
              "         2.3683758 ,  3.186708  ,  4.920579  ,  5.9769106 ,  7.3332586 ,\n",
              "         5.2798624 ,  2.9755652 ,  1.462078  ,  3.3143036 ,  3.1677566 ,\n",
              "         4.474615  ,  5.710753  ,  7.996869  , 10.735752  , 12.018752  ,\n",
              "         9.607859  ,  4.2904115 ,  2.3561988 ,  2.3704674 ,  2.5431612 ,\n",
              "         4.167667  ,  4.589448  ,  6.019247  ,  7.440906  , 15.727456  ,\n",
              "        26.364067  , 35.5357    , 36.86045   , 38.80941   , 41.88052   ,\n",
              "        48.0691    , 26.71086   , 14.106709  ,  9.420375  ,  5.9546504 ,\n",
              "         7.6183686 ,  7.0834303 ,  8.921961  ,  3.7783575 ,  4.009952  ,\n",
              "         4.714231  ,  4.9472384 ,  4.4372983 ,  4.7655306 ,  4.6881533 ,\n",
              "         4.23144   ,  5.009604  ,  5.3425403 ,  9.581625  ,  8.668099  ,\n",
              "         9.109335  ,  8.604992  ,  4.524355  ,  3.1887345 ,  3.8513005 ,\n",
              "         2.2629197 ,  3.506153  ,  3.9709454 ,  5.6286235 ,  5.2574515 ,\n",
              "         2.2304506 ,  3.210346  ,  2.3067775 ,  2.507399  ,  3.3744686 ,\n",
              "         4.271345  ,  3.1702566 ,  3.2924857 ,  2.931611  ,  4.100694  ,\n",
              "         4.627927  ,  7.7512035 ,  9.085364  ,  8.146659  ,  7.6433344 ,\n",
              "         8.952608  ,  9.802411  , 10.25818   , 12.180586  ,  4.9985456 ,\n",
              "         3.3514905 ,  3.397417  ,  4.0841293 ,  4.2690377 ,  4.7450123 ,\n",
              "         5.1968446 ,  5.4979863 ,  7.0991635 ,  9.6960125 ,  9.29413   ,\n",
              "         3.4350877 ,  4.851868  ,  6.330302  ,  4.2614136 ,  1.6772459 ,\n",
              "         2.6523738 ,  2.6386342 ,  3.9400697 ,  6.149383  ,  7.989172  ,\n",
              "         7.0853724 ,  2.8645132 ,  2.9096365 ,  3.1614501 ,  3.6223006 ,\n",
              "         5.4044356 ,  6.3496246 ,  6.7926755 ,  5.011401  ,  3.259733  ,\n",
              "         1.7865578 ,  2.284215  ,  5.915727  ,  2.0301206 ,  1.1751411 ,\n",
              "         1.7261544 ,  1.428476  ,  1.6660104 ,  2.9969192 ,  2.9309878 ,\n",
              "         4.639518  ,  6.095144  ,  2.3474681 ,  1.8168371 ,  1.852857  ,\n",
              "         1.7826006 ,  1.5744795 ,  2.1493957 ,  1.586004  ,  1.3874605 ,\n",
              "         1.9678506 ,  2.2387156 ,  2.0990164 ,  3.4068036 ,  4.761992  ,\n",
              "         4.326303  ,  2.4322739 ,  1.876585  ,  0.8166744 ,  0.6231126 ,\n",
              "         1.0887109 ,  0.8472792 ,  1.4937981 ,  1.1422802 ,  1.1959502 ,\n",
              "         1.5084525 ,  1.2181238 ,  1.0479738 ,  0.9027504 ,  1.8630681 ,\n",
              "         1.540435  ,  1.7525547 ,  1.0535663 ,  1.5376076 ,  0.97662723,\n",
              "         1.2826394 ,  1.4850658 ,  1.4687583 ,  1.9923875 ,  2.465655  ,\n",
              "         3.3957582 ,  6.0228176 ,  6.712014  ,  7.62654   ,  8.160944  ,\n",
              "         9.838926  , 11.602259  , 11.488681  ,  4.380469  ,  2.114969  ,\n",
              "         2.0871286 ,  1.9102607 ,  2.2296855 ,  3.0047183 ,  1.1965944 ,\n",
              "         1.9951677 ,  1.690853  ,  1.1143827 ,  2.2073314 ,  2.2880008 ,\n",
              "         2.106312  ,  2.4332385 ,  2.8185773 ,  1.6818223 ,  2.7431104 ,\n",
              "         1.5296938 ,  1.7084932 ,  1.5092754 ,  2.0812154 ,  3.218023  ,\n",
              "         4.63549   ,  3.3946044 ,  2.7925382 ,  2.6033452 ,  2.030104  ,\n",
              "         2.7441297 ,  2.6618328 ,  1.5551567 ,  1.3720396 ,  2.8765666 ,\n",
              "         3.7120275 ,  5.778672  ,  7.959942  ,  9.69772   , 14.508116  ,\n",
              "        13.986182  ,  8.404791  ,  5.302084  ,  1.1384314 ,  2.1247754 ,\n",
              "         1.812404  ,  2.752045  ,  2.721975  ,  2.3220842 ,  2.6123283 ,\n",
              "         2.7420926 ,  3.4165766 ,  2.0565174 ,  1.780563  ,  2.9287658 ,\n",
              "         3.0869157 ,  3.4514134 ,  4.4515533 ,  3.5283666 ,  1.462086  ,\n",
              "         1.808942  ,  3.0292425 ,  1.0232353 ,  1.5326426 ,  2.1454544 ,\n",
              "         2.4525492 ,  2.6644855 ,  2.3551297 ,  1.9325022 ,  1.535278  ,\n",
              "         1.6019223 ,  2.4726927 ,  2.9044192 ,  3.9870937 ,  5.353052  ,\n",
              "         5.5367265 ,  5.1255307 ,  3.4239333 ,  1.2786095 ,  1.0691276 ,\n",
              "         2.7878718 ,  2.5675008 ,  3.2606668 ,  5.0315533 ,  6.335903  ,\n",
              "         8.147817  ,  9.3477125 ,  9.136317  ,  9.006967  ,  2.7513871 ,\n",
              "         1.876228  ,  1.5232311 ,  2.0930638 ,  1.6991162 ,  2.6586025 ,\n",
              "         1.2597541 ,  1.5446688 ,  3.0089343 ,  4.172069  ,  4.357448  ,\n",
              "         5.7199483 ,  6.550177  ,  7.620264  ,  7.091467  ,  2.9300249 ,\n",
              "         2.3838072 ,  2.8586106 ,  2.8742924 ,  2.986287  ,  5.1071568 ,\n",
              "         5.2104874 ,  4.7637224 ,  5.7115197 ,  6.998764  ,  9.446932  ,\n",
              "         8.095971  ,  5.128103  ,  2.7970583 ,  2.9696198 ,  3.413776  ,\n",
              "         5.2268863 ,  5.6422653 ,  5.949642  ,  6.1750283 ,  5.5433335 ,\n",
              "         4.3886843 ,  8.457965  ,  7.15212   ,  5.6853046 ,  1.2034875 ,\n",
              "         1.8466214 ,  2.3524978 ,  4.513099  ,  3.8237326 ,  3.094676  ,\n",
              "         3.8048625 ,  3.3318276 ,  2.4860957 ,  4.683257  ,  7.6903687 ,\n",
              "        10.851491  , 11.728962  , 12.407741  , 13.98938   , 14.773891  ,\n",
              "        10.579697  ,  3.5593607 ,  1.8068401 ,  3.7276459 ,  4.6525187 ,\n",
              "         5.7210217 ,  7.3503213 ,  9.105559  , 11.553422  , 10.379269  ,\n",
              "         7.827984  ,  8.264858  ,  8.756443  , 10.557674  ,  9.328753  ,\n",
              "        11.061113  , 13.545442  , 12.368255  , 11.128135  , 12.267031  ,\n",
              "         8.942533  ,  6.9617944 ,  6.942173  , 11.137448  , 14.864037  ,\n",
              "        13.159935  ,  5.174238  ,  2.1811037 ,  2.7301579 ,  8.542339  ,\n",
              "         8.92388   ,  7.8658214 ,  8.775543  , 11.507773  , 13.569758  ,\n",
              "        13.449367  ,  2.225246  ,  3.8043797 ,  3.7626672 ,  5.1306734 ,\n",
              "         5.667189  ,  6.242984  , 10.812194  ,  8.49651   ,  6.116599  ,\n",
              "         6.205797  ,  7.88357   ,  9.881078  , 11.215787  , 10.622547  ,\n",
              "        12.368899  , 14.534033  , 12.395488  , 15.286319  ,  8.970089  ,\n",
              "         2.8346484 ,  2.433506  ,  2.889206  ,  3.960998  ,  5.3304    ,\n",
              "         5.644358  ,  6.831422  ,  6.9386616 ,  5.787922  ,  7.151278  ,\n",
              "        10.512664  , 14.442168  , 22.04005   , 20.185396  , 11.264161  ,\n",
              "         5.07058   ,  4.0775385 ,  4.2521043 ,  5.7069154 ,  8.575683  ,\n",
              "         4.835655  ,  6.3266644 ,  4.135194  ,  6.6001706 ,  8.083319  ,\n",
              "        10.481458  , 11.104608  , 11.826999  ,  7.0488586 ,  4.795664  ,\n",
              "         2.2127295 ,  2.2644963 ,  2.9930968 ,  6.5499396 ,  3.3890922 ,\n",
              "         4.175489  ,  6.3463883 ,  7.5819573 ,  9.214749  ,  9.266004  ,\n",
              "         8.6574955 ,  3.725708  ,  3.7177198 ,  5.2052407 ,  7.941123  ,\n",
              "         6.602307  ,  4.57278   ,  4.9997945 ,  2.8459387 ,  0.8845697 ,\n",
              "         1.5827875 ,  1.6696563 ,  2.6147277 ,  1.2502315 ,  1.7388778 ,\n",
              "         2.3370798 ,  2.852955  ,  4.0132813 ,  4.89392   ,  5.337634  ,\n",
              "         3.9734814 ,  3.7305872 ,  4.810966  ,  6.1701317 , 10.150136  ,\n",
              "        13.73419   , 14.98868   , 15.12554   , 11.621631  ,  8.818042  ,\n",
              "         7.3194766 ,  5.3669114 ,  3.7687058 ,  5.412289  ,  6.958981  ,\n",
              "         9.722333  ,  6.461758  ,  3.0286539 ,  3.2017548 ,  4.3076916 ,\n",
              "         1.1430957 ,  2.3209925 ,  2.242693  ,  2.6871536 ,  3.731825  ,\n",
              "         3.207475  ,  4.6264853 ,  6.67098   , 11.382725  , 18.159151  ,\n",
              "        18.734528  ], dtype=float32),\n",
              " 'mase': 2.1984365}"
            ]
          },
          "metadata": {},
          "execution_count": 67
        }
      ]
    },
    {
      "cell_type": "markdown",
      "source": [
        "## Make the evaluation fcn work for larger horizons"
      ],
      "metadata": {
        "id": "BnSK5KjQ76z7"
      }
    },
    {
      "cell_type": "code",
      "source": [
        "def evaluate_preds(y_true, y_pred):\n",
        "  # Make sure float32 datatype for metric calculations in order for tf not to spew errors\n",
        "  y_true = tf.cast(y_true, dtype=tf.float32)\n",
        "  y_true = tf.cast(y_true, dtype=tf.float32)\n",
        "\n",
        "  # Calculate various metrics\n",
        "  mae = tf.keras.metrics.mean_absolute_error(y_true, y_pred)\n",
        "  mse = tf.keras.metrics.mean_squared_error(y_true, y_pred)\n",
        "  rmse = tf.sqrt(mse)\n",
        "  mape = tf.keras.metrics.mean_absolute_percentage_error(y_true, y_pred)\n",
        "  mase = mean_absolute_scaled_error(y_true, y_pred)\n",
        "\n",
        "  if mae.ndim > 0:\n",
        "    mae = tf.reduce_mean(mae)\n",
        "    mse = tf.reduce_mean(mse)\n",
        "    rmse = tf.reduce_mean(rmse)\n",
        "    mape = tf.reduce_mean(mape)\n",
        "    mase = tf.reduce_mean(mase)\n",
        "\n",
        "  return {\"mae\": mae.numpy(), # so that it doesn't return tf tensors\n",
        "          \"mse\": mse.numpy(),\n",
        "          \"rmse\": rmse.numpy(),\n",
        "          \"mape\": mape.numpy(),\n",
        "          \"mase\": mase.numpy()}"
      ],
      "metadata": {
        "id": "TTy5KsD8_hsF"
      },
      "execution_count": 68,
      "outputs": []
    },
    {
      "cell_type": "code",
      "source": [
        "model_3_results = evaluate_preds(tf.squeeze(test_labels), model_3_preds)\n",
        "model_3_results"
      ],
      "metadata": {
        "id": "R7VMrlHzAkqO",
        "outputId": "4fcc88fb-54d4-4d28-d0e1-b7fe118158a5",
        "colab": {
          "base_uri": "https://localhost:8080/"
        }
      },
      "execution_count": 69,
      "outputs": [
        {
          "output_type": "execute_result",
          "data": {
            "text/plain": [
              "{'mae': 1235.4626,\n",
              " 'mse': 5357249.5,\n",
              " 'rmse': 1416.3392,\n",
              " 'mape': 5.5189996,\n",
              " 'mase': 2.1984365}"
            ]
          },
          "metadata": {},
          "execution_count": 69
        }
      ]
    },
    {
      "cell_type": "code",
      "source": [
        "# Plot results\n",
        "offset = 300\n",
        "plt.figure(figsize=(10, 7))\n",
        "plot_time_series(X_test[-len(test_windows):], test_labels[:,0], start=offset, label=\"Test data\")\n",
        "plot_time_series(X_test[-len(test_windows):], tf.reduce_mean(model_3_preds, axis=1), start=offset, label=f\"Model 3 preds\", format=\"-\")"
      ],
      "metadata": {
        "id": "pL6PNe7xAzQe",
        "outputId": "6fe029b0-fc3a-4b43-b7fb-8db88fb1767c",
        "colab": {
          "base_uri": "https://localhost:8080/",
          "height": 619
        }
      },
      "execution_count": 74,
      "outputs": [
        {
          "output_type": "display_data",
          "data": {
            "text/plain": [
              "<Figure size 1000x700 with 1 Axes>"
            ],
            "image/png": "[encoded data removed]"
          },
          "metadata": {}
        }
      ]
    },
    {
      "cell_type": "markdown",
      "source": [
        "## Which of the models is performing best so far\n",
        "\n",
        "https://towardsdatascience.com/how-not-to-use-machine-learning-for-time-series-forecasting-avoiding-the-pitfalls-19f9d7adf424"
      ],
      "metadata": {
        "id": "fkdRsZCTBfur"
      }
    },
    {
      "cell_type": "code",
      "source": [
        "import pandas as pd\n",
        "pd.DataFrame({\"naive\": naive_results[\"mae\"],\n",
        "              \"w7h1\": model_1_results[\"mae\"],\n",
        "              \"w30h1\": model_2_results[\"mae\"],\n",
        "              \"w30h7\": model_3_results[\"mae\"]}, index=[\"mae\"]).plot(figsize=(10, 7), kind=\"bar\")"
      ],
      "metadata": {
        "id": "wxFhzW1xDlsc",
        "outputId": "08807030-0c02-4e53-cc7e-b65caf9ddab2",
        "colab": {
          "base_uri": "https://localhost:8080/",
          "height": 633
        }
      },
      "execution_count": 75,
      "outputs": [
        {
          "output_type": "execute_result",
          "data": {
            "text/plain": [
              "<Axes: >"
            ]
          },
          "metadata": {},
          "execution_count": 75
        },
        {
          "output_type": "display_data",
          "data": {
            "text/plain": [
              "<Figure size 1000x700 with 1 Axes>"
            ],
            "image/png": "[encoded data removed]"
          },
          "metadata": {}
        }
      ]
    },
    {
      "cell_type": "markdown",
      "source": [
        "## Model 4: Conv1D"
      ],
      "metadata": {
        "id": "gouMW3r0ERM1"
      }
    },
    {
      "cell_type": "code",
      "source": [
        "HORIZON = 1\n",
        "WINDOW_SIZE = 7"
      ],
      "metadata": {
        "id": "GAKXY1yoGGmk"
      },
      "execution_count": 76,
      "outputs": []
    },
    {
      "cell_type": "code",
      "source": [
        "# Create a window dataset\n",
        "full_windows, full_labels = make_windows(prices, window_size=WINDOW_SIZE, horizon=HORIZON)\n",
        "# Make train and test splits\n",
        "train_windows, test_windows, train_labels, test_labels = make_train_test_splits(full_windows, full_labels)\n",
        "len(train_windows), len(test_windows), len(train_labels), len(test_labels)"
      ],
      "metadata": {
        "id": "drndMePGGO4v",
        "outputId": "bffaa69f-e9cd-47de-bf00-8df179ee3240",
        "colab": {
          "base_uri": "https://localhost:8080/"
        }
      },
      "execution_count": 77,
      "outputs": [
        {
          "output_type": "execute_result",
          "data": {
            "text/plain": [
              "(2224, 556, 2224, 556)"
            ]
          },
          "metadata": {},
          "execution_count": 77
        }
      ]
    },
    {
      "cell_type": "markdown",
      "source": [
        "TO use a Conv1D layer we need an input shape of `(batch_size, timesteps, input_dim)`"
      ],
      "metadata": {
        "id": "PdMMhO_GGnjx"
      }
    },
    {
      "cell_type": "code",
      "source": [
        "train_windows[0].shape"
      ],
      "metadata": {
        "id": "2VS8Cd3JG90y",
        "outputId": "07c6c5df-fedb-4a45-cc4c-102964a2a010",
        "colab": {
          "base_uri": "https://localhost:8080/"
        }
      },
      "execution_count": 78,
      "outputs": [
        {
          "output_type": "execute_result",
          "data": {
            "text/plain": [
              "(7,)"
            ]
          },
          "metadata": {},
          "execution_count": 78
        }
      ]
    },
    {
      "cell_type": "code",
      "source": [
        "# Reahape the data\n",
        "x = tf.constant(train_windows[0])\n",
        "expand_dims_layer = layers.Lambda(lambda x: tf.expand_dims(x, axis=1)) # add an extra layer"
      ],
      "metadata": {
        "id": "_80dAl3hHDIM"
      },
      "execution_count": 79,
      "outputs": []
    },
    {
      "cell_type": "code",
      "source": [
        "# Test the lambda layer\n",
        "print(f\"Original shape: {x.shape}\")\n",
        "print(f\"Expanded shape: {expand_dims_layer(x).shape}\")"
      ],
      "metadata": {
        "id": "8cAH3l1PHkCL",
        "outputId": "fa5efc59-59d4-4caa-dbb0-1d594ea0317f",
        "colab": {
          "base_uri": "https://localhost:8080/"
        }
      },
      "execution_count": 80,
      "outputs": [
        {
          "output_type": "stream",
          "name": "stdout",
          "text": [
            "Original shape: (7,)\n",
            "Expanded shape: (7, 1)\n"
          ]
        }
      ]
    },
    {
      "cell_type": "code",
      "source": [
        "tf.random.set_seed(42)\n",
        "\n",
        "# Create a model\n",
        "model_4 = tf.keras.Sequential([\n",
        "    layers.Lambda(lambda x: tf.expand_dims(x, axis=1)),\n",
        "    layers.Conv1D(128, kernel_size=WINDOW_SIZE, padding=\"causal\", activation=\"relu\"), # Padding specifically for temporal data\n",
        "    layers.Dense(HORIZON)\n",
        "], name=\"model_4_conv1d\")\n",
        "\n",
        "# Compile\n",
        "model_4.compile(optimizer=tf.keras.optimizers.Adam(),\n",
        "                loss=\"mae\")\n",
        "\n",
        "# Fit\n",
        "model_4.fit(train_windows,\n",
        "            train_labels,\n",
        "            batch_size=128,\n",
        "            epochs=100,\n",
        "            verbose=0,\n",
        "            validation_data=(test_windows, test_labels),\n",
        "            callbacks=[create_model_checkpoint(model_name=model_4.name)])"
      ],
      "metadata": {
        "id": "pYV7w_wMH5w4",
        "outputId": "fa021627-29b7-4e3a-9daa-e6f51d993dd0",
        "colab": {
          "base_uri": "https://localhost:8080/"
        }
      },
      "execution_count": 82,
      "outputs": [
        {
          "output_type": "execute_result",
          "data": {
            "text/plain": [
              "<keras.src.callbacks.History at 0x7ebe6491f640>"
            ]
          },
          "metadata": {},
          "execution_count": 82
        }
      ]
    },
    {
      "cell_type": "code",
      "source": [
        "model_4.summary()"
      ],
      "metadata": {
        "id": "A_8uUx2IKg71",
        "outputId": "a90d7164-8418-46ec-8288-663ca5079bb8",
        "colab": {
          "base_uri": "https://localhost:8080/"
        }
      },
      "execution_count": 83,
      "outputs": [
        {
          "output_type": "stream",
          "name": "stdout",
          "text": [
            "Model: \"model_4_conv1d\"\n",
            "_________________________________________________________________\n",
            " Layer (type)                Output Shape              Param #   \n",
            "=================================================================\n",
            " lambda_2 (Lambda)           (None, 1, 7)              0         \n",
            "                                                                 \n",
            " conv1d_1 (Conv1D)           (None, 1, 128)            6400      \n",
            "                                                                 \n",
            " dense_7 (Dense)             (None, 1, 1)              129       \n",
            "                                                                 \n",
            "=================================================================\n",
            "Total params: 6529 (25.50 KB)\n",
            "Trainable params: 6529 (25.50 KB)\n",
            "Non-trainable params: 0 (0.00 Byte)\n",
            "_________________________________________________________________\n"
          ]
        }
      ]
    },
    {
      "cell_type": "code",
      "source": [
        "model_4.evaluate(test_windows, test_labels)"
      ],
      "metadata": {
        "id": "60N8Fwc8K7tl",
        "outputId": "f5fa2b2c-d1f7-4541-9f63-31f467b6c15f",
        "colab": {
          "base_uri": "https://localhost:8080/"
        }
      },
      "execution_count": 85,
      "outputs": [
        {
          "output_type": "stream",
          "name": "stdout",
          "text": [
            "18/18 [==============================] - 0s 2ms/step - loss: 598.8919\n"
          ]
        },
        {
          "output_type": "execute_result",
          "data": {
            "text/plain": [
              "598.8919067382812"
            ]
          },
          "metadata": {},
          "execution_count": 85
        }
      ]
    },
    {
      "cell_type": "code",
      "source": [
        "model_4 = tf.keras.models.load_model(\"/content/model_experiments/model_4_conv1d\")\n",
        "model_4.evaluate(test_windows, test_labels)"
      ],
      "metadata": {
        "id": "5-7aRi_6K_EN",
        "outputId": "97a34639-c784-44eb-fc1a-89734e65c12a",
        "colab": {
          "base_uri": "https://localhost:8080/"
        }
      },
      "execution_count": 87,
      "outputs": [
        {
          "output_type": "stream",
          "name": "stdout",
          "text": [
            "18/18 [==============================] - 0s 3ms/step - loss: 570.9067\n"
          ]
        },
        {
          "output_type": "execute_result",
          "data": {
            "text/plain": [
              "570.90673828125"
            ]
          },
          "metadata": {},
          "execution_count": 87
        }
      ]
    },
    {
      "cell_type": "code",
      "source": [
        "# Make predictions\n",
        "model_4_preds = make_preds(model_4, test_windows)\n",
        "model_4_preds.shape"
      ],
      "metadata": {
        "id": "CmA00LseLLYG",
        "outputId": "e67100dd-54dc-4a3a-ec69-02aa71c4abd7",
        "colab": {
          "base_uri": "https://localhost:8080/"
        }
      },
      "execution_count": 89,
      "outputs": [
        {
          "output_type": "stream",
          "name": "stdout",
          "text": [
            "18/18 [==============================] - 0s 2ms/step\n"
          ]
        },
        {
          "output_type": "execute_result",
          "data": {
            "text/plain": [
              "TensorShape([556])"
            ]
          },
          "metadata": {},
          "execution_count": 89
        }
      ]
    },
    {
      "cell_type": "code",
      "source": [
        "# Evaluate\n",
        "model_4_results = evaluate_preds(tf.squeeze(test_labels), model_4_preds)\n",
        "model_4_results"
      ],
      "metadata": {
        "id": "VyRZZZcDLyu3",
        "outputId": "a1eea2b0-b3f3-42d8-8319-1f2d317b6125",
        "colab": {
          "base_uri": "https://localhost:8080/"
        }
      },
      "execution_count": 90,
      "outputs": [
        {
          "output_type": "execute_result",
          "data": {
            "text/plain": [
              "{'mae': 570.90674,\n",
              " 'mse': 1178646.4,\n",
              " 'rmse': 1085.6548,\n",
              " 'mape': 2.55354,\n",
              " 'mase': 1.002925}"
            ]
          },
          "metadata": {},
          "execution_count": 90
        }
      ]
    },
    {
      "cell_type": "markdown",
      "source": [
        "## Model 5: LSTM"
      ],
      "metadata": {
        "id": "iDgQDvPQMAa-"
      }
    },
    {
      "cell_type": "code",
      "source": [
        "tf.random.set_seed(42)\n",
        "\n",
        "# Create a model the functional way\n",
        "inputs = layers.Input(shape=WINDOW_SIZE)\n",
        "x = layers.Lambda(lambda x: tf.expand_dims(x, axis=1))(inputs) # for LSTM layer\n",
        "# x = layers.LSTM(128, return_sequences=True)(x) # return_sequences=True needed if the LSTMs are stacked\n",
        "x = layers.LSTM(128, activation=\"relu\")(x)\n",
        "# x = layers.Dense(32, activation=\"relu\")(x)\n",
        "outputs = layers.Dense(HORIZON)(x)\n",
        "\n",
        "model_5 = tf.keras.Model(inputs, outputs, name=\"model_5_LSTM\")\n",
        "\n",
        "# Compile\n",
        "model_5.compile(optimizer=tf.keras.optimizers.Adam(),\n",
        "                loss=\"mae\")\n",
        "\n",
        "# Fit\n",
        "model_5.fit(train_windows,\n",
        "            train_labels,\n",
        "            batch_size=128,\n",
        "            epochs=100,\n",
        "            verbose=1,\n",
        "            validation_data=(test_windows, test_labels),\n",
        "            callbacks=[create_model_checkpoint(model_name=model_5.name)])"
      ],
      "metadata": {
        "id": "CvVRjycsMZ3x",
        "outputId": "27f59fb4-9813-49b7-89ed-ba60ab543097",
        "colab": {
          "base_uri": "https://localhost:8080/"
        }
      },
      "execution_count": 93,
      "outputs": [
        {
          "output_type": "stream",
          "name": "stdout",
          "text": [
            "Epoch 1/100\n",
            "18/18 [==============================] - 3s 86ms/step - loss: 2616.7100 - val_loss: 12089.5381\n",
            "Epoch 2/100\n",
            "18/18 [==============================] - 1s 70ms/step - loss: 1122.5334 - val_loss: 1728.3298\n",
            "Epoch 3/100\n",
            "18/18 [==============================] - 1s 70ms/step - loss: 283.4679 - val_loss: 1118.8572\n",
            "Epoch 4/100\n",
            "18/18 [==============================] - 1s 67ms/step - loss: 219.4935 - val_loss: 1112.5746\n",
            "Epoch 5/100\n",
            "18/18 [==============================] - 0s 5ms/step - loss: 204.3181 - val_loss: 1170.8685\n",
            "Epoch 6/100\n",
            "18/18 [==============================] - 59s 3s/step - loss: 198.4174 - val_loss: 1099.3329\n",
            "Epoch 7/100\n",
            "18/18 [==============================] - 0s 6ms/step - loss: 196.1600 - val_loss: 1107.4928\n",
            "Epoch 8/100\n",
            "18/18 [==============================] - 0s 5ms/step - loss: 193.5637 - val_loss: 1111.5531\n",
            "Epoch 9/100\n",
            "18/18 [==============================] - 0s 6ms/step - loss: 191.8961 - val_loss: 1103.7770\n",
            "Epoch 10/100\n",
            "18/18 [==============================] - 1s 85ms/step - loss: 190.6893 - val_loss: 1078.9991\n",
            "Epoch 11/100\n",
            "18/18 [==============================] - 0s 7ms/step - loss: 190.8946 - val_loss: 1084.2218\n",
            "Epoch 12/100\n",
            "18/18 [==============================] - 2s 89ms/step - loss: 189.0128 - val_loss: 1069.5756\n",
            "Epoch 13/100\n",
            "18/18 [==============================] - 1s 70ms/step - loss: 186.5662 - val_loss: 1059.2987\n",
            "Epoch 14/100\n",
            "18/18 [==============================] - 0s 7ms/step - loss: 184.6407 - val_loss: 1073.2700\n",
            "Epoch 15/100\n",
            "18/18 [==============================] - 1s 68ms/step - loss: 184.1228 - val_loss: 1054.2635\n",
            "Epoch 16/100\n",
            "18/18 [==============================] - 1s 68ms/step - loss: 181.6703 - val_loss: 1013.3423\n",
            "Epoch 17/100\n",
            "18/18 [==============================] - 0s 5ms/step - loss: 179.8909 - val_loss: 1071.4812\n",
            "Epoch 18/100\n",
            "18/18 [==============================] - 0s 5ms/step - loss: 179.1698 - val_loss: 1050.2521\n",
            "Epoch 19/100\n",
            "18/18 [==============================] - 0s 5ms/step - loss: 177.3260 - val_loss: 1049.3260\n",
            "Epoch 20/100\n",
            "18/18 [==============================] - 1s 68ms/step - loss: 176.6145 - val_loss: 981.5355\n",
            "Epoch 21/100\n",
            "18/18 [==============================] - 0s 5ms/step - loss: 173.7963 - val_loss: 990.9495\n",
            "Epoch 22/100\n",
            "18/18 [==============================] - 1s 70ms/step - loss: 172.0118 - val_loss: 978.3424\n",
            "Epoch 23/100\n",
            "18/18 [==============================] - 0s 5ms/step - loss: 172.1814 - val_loss: 998.5854\n",
            "Epoch 24/100\n",
            "18/18 [==============================] - 2s 115ms/step - loss: 168.6031 - val_loss: 977.3130\n",
            "Epoch 25/100\n",
            "18/18 [==============================] - 1s 68ms/step - loss: 167.0812 - val_loss: 945.2285\n",
            "Epoch 26/100\n",
            "18/18 [==============================] - 1s 82ms/step - loss: 165.2167 - val_loss: 938.1360\n",
            "Epoch 27/100\n",
            "18/18 [==============================] - 0s 7ms/step - loss: 163.7749 - val_loss: 938.5354\n",
            "Epoch 28/100\n",
            "18/18 [==============================] - 2s 91ms/step - loss: 162.3399 - val_loss: 911.1566\n",
            "Epoch 29/100\n",
            "18/18 [==============================] - 0s 5ms/step - loss: 160.2831 - val_loss: 932.2795\n",
            "Epoch 30/100\n",
            "18/18 [==============================] - 0s 5ms/step - loss: 158.8978 - val_loss: 912.7303\n",
            "Epoch 31/100\n",
            "18/18 [==============================] - 1s 69ms/step - loss: 156.5704 - val_loss: 881.6505\n",
            "Epoch 32/100\n",
            "18/18 [==============================] - 1s 66ms/step - loss: 155.8011 - val_loss: 881.0230\n",
            "Epoch 33/100\n",
            "18/18 [==============================] - 0s 5ms/step - loss: 155.3771 - val_loss: 943.3638\n",
            "Epoch 34/100\n",
            "18/18 [==============================] - 1s 67ms/step - loss: 154.7750 - val_loss: 842.5260\n",
            "Epoch 35/100\n",
            "18/18 [==============================] - 0s 6ms/step - loss: 150.8751 - val_loss: 858.0459\n",
            "Epoch 36/100\n",
            "18/18 [==============================] - 1s 70ms/step - loss: 150.4802 - val_loss: 823.9229\n",
            "Epoch 37/100\n",
            "18/18 [==============================] - 0s 5ms/step - loss: 148.4930 - val_loss: 854.5017\n",
            "Epoch 38/100\n",
            "18/18 [==============================] - 1s 69ms/step - loss: 146.9690 - val_loss: 807.7995\n",
            "Epoch 39/100\n",
            "18/18 [==============================] - 2s 121ms/step - loss: 145.5833 - val_loss: 799.7629\n",
            "Epoch 40/100\n",
            "18/18 [==============================] - 0s 5ms/step - loss: 144.3566 - val_loss: 810.0898\n",
            "Epoch 41/100\n",
            "18/18 [==============================] - 1s 68ms/step - loss: 142.2865 - val_loss: 789.7050\n",
            "Epoch 42/100\n",
            "18/18 [==============================] - 0s 5ms/step - loss: 140.9253 - val_loss: 812.5310\n",
            "Epoch 43/100\n",
            "18/18 [==============================] - 1s 87ms/step - loss: 139.3934 - val_loss: 774.6895\n",
            "Epoch 44/100\n",
            "18/18 [==============================] - 2s 90ms/step - loss: 137.7465 - val_loss: 763.1381\n",
            "Epoch 45/100\n",
            "18/18 [==============================] - 1s 70ms/step - loss: 136.7337 - val_loss: 761.0421\n",
            "Epoch 46/100\n",
            "18/18 [==============================] - 1s 69ms/step - loss: 136.0184 - val_loss: 757.0662\n",
            "Epoch 47/100\n",
            "18/18 [==============================] - 0s 6ms/step - loss: 134.1376 - val_loss: 773.5896\n",
            "Epoch 48/100\n",
            "18/18 [==============================] - 0s 6ms/step - loss: 133.6823 - val_loss: 760.4570\n",
            "Epoch 49/100\n",
            "18/18 [==============================] - 1s 71ms/step - loss: 132.9869 - val_loss: 737.3288\n",
            "Epoch 50/100\n",
            "18/18 [==============================] - 0s 6ms/step - loss: 137.3893 - val_loss: 762.9987\n",
            "Epoch 51/100\n",
            "18/18 [==============================] - 0s 7ms/step - loss: 135.1143 - val_loss: 831.8135\n",
            "Epoch 52/100\n",
            "18/18 [==============================] - 1s 72ms/step - loss: 135.3471 - val_loss: 719.3574\n",
            "Epoch 53/100\n",
            "18/18 [==============================] - 0s 5ms/step - loss: 130.1835 - val_loss: 722.9111\n",
            "Epoch 54/100\n",
            "18/18 [==============================] - 1s 73ms/step - loss: 129.9292 - val_loss: 715.9532\n",
            "Epoch 55/100\n",
            "18/18 [==============================] - 2s 129ms/step - loss: 127.6246 - val_loss: 708.7917\n",
            "Epoch 56/100\n",
            "18/18 [==============================] - 1s 78ms/step - loss: 129.6653 - val_loss: 702.6716\n",
            "Epoch 57/100\n",
            "18/18 [==============================] - 0s 8ms/step - loss: 129.2510 - val_loss: 723.1644\n",
            "Epoch 58/100\n",
            "18/18 [==============================] - 2s 89ms/step - loss: 126.3798 - val_loss: 687.1926\n",
            "Epoch 59/100\n",
            "18/18 [==============================] - 1s 78ms/step - loss: 124.6327 - val_loss: 684.4593\n",
            "Epoch 60/100\n",
            "18/18 [==============================] - 1s 70ms/step - loss: 124.4582 - val_loss: 683.9784\n",
            "Epoch 61/100\n",
            "18/18 [==============================] - 0s 6ms/step - loss: 124.3357 - val_loss: 708.7206\n",
            "Epoch 62/100\n",
            "18/18 [==============================] - 0s 6ms/step - loss: 124.3899 - val_loss: 714.0636\n",
            "Epoch 63/100\n",
            "18/18 [==============================] - 1s 68ms/step - loss: 128.1483 - val_loss: 667.5511\n",
            "Epoch 64/100\n",
            "18/18 [==============================] - 0s 7ms/step - loss: 123.1981 - val_loss: 672.0510\n",
            "Epoch 65/100\n",
            "18/18 [==============================] - 1s 69ms/step - loss: 121.7418 - val_loss: 659.9976\n",
            "Epoch 66/100\n",
            "18/18 [==============================] - 0s 5ms/step - loss: 121.5339 - val_loss: 667.5613\n",
            "Epoch 67/100\n",
            "18/18 [==============================] - 0s 5ms/step - loss: 123.9053 - val_loss: 663.0634\n",
            "Epoch 68/100\n",
            "18/18 [==============================] - 1s 70ms/step - loss: 121.2963 - val_loss: 651.5079\n",
            "Epoch 69/100\n",
            "18/18 [==============================] - 0s 6ms/step - loss: 124.9025 - val_loss: 675.4079\n",
            "Epoch 70/100\n",
            "18/18 [==============================] - 0s 6ms/step - loss: 121.9720 - val_loss: 655.5854\n",
            "Epoch 71/100\n",
            "18/18 [==============================] - 0s 5ms/step - loss: 120.2782 - val_loss: 682.7172\n",
            "Epoch 72/100\n",
            "18/18 [==============================] - 1s 72ms/step - loss: 123.1925 - val_loss: 650.8661\n",
            "Epoch 73/100\n",
            "18/18 [==============================] - 1s 71ms/step - loss: 119.7925 - val_loss: 644.6735\n",
            "Epoch 74/100\n",
            "18/18 [==============================] - 0s 5ms/step - loss: 119.0313 - val_loss: 663.0322\n",
            "Epoch 75/100\n",
            "18/18 [==============================] - 0s 5ms/step - loss: 119.1137 - val_loss: 663.9866\n",
            "Epoch 76/100\n",
            "18/18 [==============================] - 0s 5ms/step - loss: 118.6319 - val_loss: 658.0635\n",
            "Epoch 77/100\n",
            "18/18 [==============================] - 0s 5ms/step - loss: 121.2333 - val_loss: 737.4246\n",
            "Epoch 78/100\n",
            "18/18 [==============================] - 1s 79ms/step - loss: 123.9849 - val_loss: 639.7286\n",
            "Epoch 79/100\n",
            "18/18 [==============================] - 2s 90ms/step - loss: 117.2129 - val_loss: 629.4851\n",
            "Epoch 80/100\n",
            "18/18 [==============================] - 0s 7ms/step - loss: 117.2344 - val_loss: 641.6796\n",
            "Epoch 81/100\n",
            "18/18 [==============================] - 0s 7ms/step - loss: 117.7153 - val_loss: 666.9493\n",
            "Epoch 82/100\n",
            "18/18 [==============================] - 3s 150ms/step - loss: 120.3326 - val_loss: 629.4237\n",
            "Epoch 83/100\n",
            "18/18 [==============================] - 0s 5ms/step - loss: 117.4146 - val_loss: 666.9656\n",
            "Epoch 84/100\n",
            "18/18 [==============================] - 0s 5ms/step - loss: 118.7418 - val_loss: 643.5651\n",
            "Epoch 85/100\n",
            "18/18 [==============================] - 0s 6ms/step - loss: 119.0471 - val_loss: 654.1168\n",
            "Epoch 86/100\n",
            "18/18 [==============================] - 1s 73ms/step - loss: 119.4090 - val_loss: 628.2236\n",
            "Epoch 87/100\n",
            "18/18 [==============================] - 1s 69ms/step - loss: 115.9166 - val_loss: 618.5642\n",
            "Epoch 88/100\n",
            "18/18 [==============================] - 0s 5ms/step - loss: 115.6282 - val_loss: 627.6828\n",
            "Epoch 89/100\n",
            "18/18 [==============================] - 0s 4ms/step - loss: 114.7228 - val_loss: 644.5005\n",
            "Epoch 90/100\n",
            "18/18 [==============================] - 0s 6ms/step - loss: 120.0971 - val_loss: 649.3320\n",
            "Epoch 91/100\n",
            "18/18 [==============================] - 0s 5ms/step - loss: 118.5884 - val_loss: 637.3456\n",
            "Epoch 92/100\n",
            "18/18 [==============================] - 1s 67ms/step - loss: 115.3670 - val_loss: 617.0826\n",
            "Epoch 93/100\n",
            "18/18 [==============================] - 0s 5ms/step - loss: 115.1205 - val_loss: 630.7062\n",
            "Epoch 94/100\n",
            "18/18 [==============================] - 0s 5ms/step - loss: 115.2877 - val_loss: 635.2787\n",
            "Epoch 95/100\n",
            "18/18 [==============================] - 0s 6ms/step - loss: 115.1339 - val_loss: 617.9935\n",
            "Epoch 96/100\n",
            "18/18 [==============================] - 0s 5ms/step - loss: 115.4335 - val_loss: 621.1935\n",
            "Epoch 97/100\n",
            "18/18 [==============================] - 0s 6ms/step - loss: 115.9973 - val_loss: 655.2808\n",
            "Epoch 98/100\n",
            "18/18 [==============================] - 1s 70ms/step - loss: 116.2852 - val_loss: 607.8505\n",
            "Epoch 99/100\n",
            "18/18 [==============================] - 0s 7ms/step - loss: 114.1583 - val_loss: 616.0319\n",
            "Epoch 100/100\n",
            "18/18 [==============================] - 0s 6ms/step - loss: 117.5596 - val_loss: 615.9239\n"
          ]
        },
        {
          "output_type": "execute_result",
          "data": {
            "text/plain": [
              "<keras.src.callbacks.History at 0x7ebe5693c7f0>"
            ]
          },
          "metadata": {},
          "execution_count": 93
        }
      ]
    },
    {
      "cell_type": "code",
      "source": [
        "# Load in the best version of model 5 and evaluate\n",
        "model_5 = tf.keras.models.load_model(\"/content/model_experiments/model_5_LSTM\")\n",
        "model_5.evaluate(test_windows, test_labels)"
      ],
      "metadata": {
        "id": "qMlKryGzUiR2",
        "outputId": "0511da18-d8a3-407f-f1e0-b5c5ad251249",
        "colab": {
          "base_uri": "https://localhost:8080/"
        }
      },
      "execution_count": 94,
      "outputs": [
        {
          "output_type": "stream",
          "name": "stdout",
          "text": [
            "18/18 [==============================] - 1s 4ms/step - loss: 607.8505\n"
          ]
        },
        {
          "output_type": "execute_result",
          "data": {
            "text/plain": [
              "607.8505249023438"
            ]
          },
          "metadata": {},
          "execution_count": 94
        }
      ]
    },
    {
      "cell_type": "code",
      "source": [
        "# make preds\n",
        "model_5_preds = make_preds(model_5, test_windows)\n",
        "model_5_preds.shape"
      ],
      "metadata": {
        "id": "FkQRbs8aV-h3",
        "outputId": "8075ad5a-a34b-467b-8ed7-d20081028bbe",
        "colab": {
          "base_uri": "https://localhost:8080/"
        }
      },
      "execution_count": 95,
      "outputs": [
        {
          "output_type": "stream",
          "name": "stdout",
          "text": [
            "18/18 [==============================] - 0s 1ms/step\n"
          ]
        },
        {
          "output_type": "execute_result",
          "data": {
            "text/plain": [
              "TensorShape([556])"
            ]
          },
          "metadata": {},
          "execution_count": 95
        }
      ]
    },
    {
      "cell_type": "code",
      "source": [
        "# Evaluate\n",
        "model_5_results = evaluate_preds(tf.squeeze(test_labels), model_5_preds)\n",
        "model_5_results"
      ],
      "metadata": {
        "id": "v4RsMV4MWO67",
        "outputId": "3479bafe-4b24-4119-ab8d-214a57d7d693",
        "colab": {
          "base_uri": "https://localhost:8080/"
        }
      },
      "execution_count": 97,
      "outputs": [
        {
          "output_type": "execute_result",
          "data": {
            "text/plain": [
              "{'mae': 607.85046,\n",
              " 'mse': 1306120.5,\n",
              " 'rmse': 1142.8563,\n",
              " 'mape': 2.7487872,\n",
              " 'mase': 1.067825}"
            ]
          },
          "metadata": {},
          "execution_count": 97
        }
      ]
    },
    {
      "cell_type": "markdown",
      "source": [
        "## Make a multivariate time series\n",
        "\n",
        "Add BTC halving events\n",
        "\n",
        "https://www.cmcmarkets.com/en-nz/learn-cryptocurrencies/bitcoin-halving"
      ],
      "metadata": {
        "id": "fHJI3jW8WwWl"
      }
    },
    {
      "cell_type": "code",
      "source": [
        "# Let's add these to the dataset\n",
        "block_reward_1 = 50 # 3 January 2009 - out of our dtaset\n",
        "block_reward_2 = 25 # 8 November 2012\n",
        "block_reward_3 = 12.5 # 9 July 2016\n",
        "block_reward_4 = 6.25# 18 May 2020\n",
        "\n",
        "# Block reward dates\n",
        "block_reward_2_datetime = np.datetime64(\"2012-11-28\")\n",
        "block_reward_3_datetime = np.datetime64(\"2016-07-09\")\n",
        "block_reward_4_datetime = np.datetime64(\"2020-05-18\")"
      ],
      "metadata": {
        "id": "Wfd0w-3sXjKM"
      },
      "execution_count": 98,
      "outputs": []
    },
    {
      "cell_type": "code",
      "source": [
        "# Create date ranges of cpecific block_reward values"
      ],
      "metadata": {
        "id": "uTkiHXNnaJby"
      },
      "execution_count": null,
      "outputs": []
    }
  ]
}