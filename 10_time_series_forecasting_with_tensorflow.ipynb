{
  "nbformat": 4,
  "nbformat_minor": 0,
  "metadata": {
    "colab": {
      "provenance": [],
      "authorship_tag": "ABX9TyPE64TnC+q2JzRS2xi3BFlh",
      "include_colab_link": true
    },
    "kernelspec": {
      "name": "python3",
      "display_name": "Python 3"
    },
    "language_info": {
      "name": "python"
    }
  },
  "cells": [
    {
      "cell_type": "markdown",
      "metadata": {
        "id": "view-in-github",
        "colab_type": "text"
      },
      "source": [
        "<a href=\"https://colab.research.google.com/github/kacper-dobrow/tensorflow-course/blob/main/10_time_series_forecasting_with_tensorflow.ipynb\" target=\"_parent\"><img src=\"https://colab.research.google.com/assets/colab-badge.svg\" alt=\"Open In Colab\"/></a>"
      ]
    },
    {
      "cell_type": "markdown",
      "source": [
        "# Time series forecasting fundamentals with tensorflow + Milestone Project 3: BitPredict\n",
        "\n",
        "Project to predict tomorrow's BTC price based on historical data"
      ],
      "metadata": {
        "id": "fATO94fPNtJL"
      }
    },
    {
      "cell_type": "markdown",
      "source": [
        "## Get data"
      ],
      "metadata": {
        "id": "9aesr7PxPFo0"
      }
    },
    {
      "cell_type": "code",
      "source": [
        "!wget https://raw.githubusercontent.com/mrdbourke/tensorflow-deep-learning/main/extras/BTC_USD_2013-10-01_2021-05-18-CoinDesk.csv"
      ],
      "metadata": {
        "id": "gmZGelecPZWU",
        "outputId": "a83aa74d-6244-4650-94c6-44bc3eb06c02",
        "colab": {
          "base_uri": "https://localhost:8080/"
        }
      },
      "execution_count": 1,
      "outputs": [
        {
          "output_type": "stream",
          "name": "stdout",
          "text": [
            "--2023-11-15 15:49:13--  https://raw.githubusercontent.com/mrdbourke/tensorflow-deep-learning/main/extras/BTC_USD_2013-10-01_2021-05-18-CoinDesk.csv\n",
            "Resolving raw.githubusercontent.com (raw.githubusercontent.com)... 185.199.110.133, 185.199.111.133, 185.199.108.133, ...\n",
            "Connecting to raw.githubusercontent.com (raw.githubusercontent.com)|185.199.110.133|:443... connected.\n",
            "HTTP request sent, awaiting response... 200 OK\n",
            "Length: 178509 (174K) [text/plain]\n",
            "Saving to: ‘BTC_USD_2013-10-01_2021-05-18-CoinDesk.csv’\n",
            "\n",
            "BTC_USD_2013-10-01_ 100%[===================>] 174.33K  --.-KB/s    in 0.03s   \n",
            "\n",
            "2023-11-15 15:49:13 (5.26 MB/s) - ‘BTC_USD_2013-10-01_2021-05-18-CoinDesk.csv’ saved [178509/178509]\n",
            "\n"
          ]
        }
      ]
    },
    {
      "cell_type": "markdown",
      "source": [
        "## Importing time series with Pandas"
      ],
      "metadata": {
        "id": "Lpa5wMWaQJ1h"
      }
    },
    {
      "cell_type": "code",
      "source": [
        "# Import with pandas\n",
        "import pandas as pd\n",
        "df = pd.read_csv(\"/content/BTC_USD_2013-10-01_2021-05-18-CoinDesk.csv\",\n",
        "                 parse_dates=[\"Date\"], # treat the \"Date\" column as dates\n",
        "                 index_col=[\"Date\"]) # index by the date column\n",
        "df.head()"
      ],
      "metadata": {
        "id": "dG228IzJQZ3m",
        "outputId": "81e3d263-ca11-48e4-9631-c953f0d7de4b",
        "colab": {
          "base_uri": "https://localhost:8080/",
          "height": 238
        }
      },
      "execution_count": 2,
      "outputs": [
        {
          "output_type": "execute_result",
          "data": {
            "text/plain": [
              "           Currency  Closing Price (USD)  24h Open (USD)  24h High (USD)  \\\n",
              "Date                                                                       \n",
              "2013-10-01      BTC            123.65499       124.30466       124.75166   \n",
              "2013-10-02      BTC            125.45500       123.65499       125.75850   \n",
              "2013-10-03      BTC            108.58483       125.45500       125.66566   \n",
              "2013-10-04      BTC            118.67466       108.58483       118.67500   \n",
              "2013-10-05      BTC            121.33866       118.67466       121.93633   \n",
              "\n",
              "            24h Low (USD)  \n",
              "Date                       \n",
              "2013-10-01      122.56349  \n",
              "2013-10-02      123.63383  \n",
              "2013-10-03       83.32833  \n",
              "2013-10-04      107.05816  \n",
              "2013-10-05      118.00566  "
            ],
            "text/html": [
              "\n",
              "  <div id=\"df-6c446de2-f347-406d-a410-13af57c58141\" class=\"colab-df-container\">\n",
              "    <div>\n",
              "<style scoped>\n",
              "    .dataframe tbody tr th:only-of-type {\n",
              "        vertical-align: middle;\n",
              "    }\n",
              "\n",
              "    .dataframe tbody tr th {\n",
              "        vertical-align: top;\n",
              "    }\n",
              "\n",
              "    .dataframe thead th {\n",
              "        text-align: right;\n",
              "    }\n",
              "</style>\n",
              "<table border=\"1\" class=\"dataframe\">\n",
              "  <thead>\n",
              "    <tr style=\"text-align: right;\">\n",
              "      <th></th>\n",
              "      <th>Currency</th>\n",
              "      <th>Closing Price (USD)</th>\n",
              "      <th>24h Open (USD)</th>\n",
              "      <th>24h High (USD)</th>\n",
              "      <th>24h Low (USD)</th>\n",
              "    </tr>\n",
              "    <tr>\n",
              "      <th>Date</th>\n",
              "      <th></th>\n",
              "      <th></th>\n",
              "      <th></th>\n",
              "      <th></th>\n",
              "      <th></th>\n",
              "    </tr>\n",
              "  </thead>\n",
              "  <tbody>\n",
              "    <tr>\n",
              "      <th>2013-10-01</th>\n",
              "      <td>BTC</td>\n",
              "      <td>123.65499</td>\n",
              "      <td>124.30466</td>\n",
              "      <td>124.75166</td>\n",
              "      <td>122.56349</td>\n",
              "    </tr>\n",
              "    <tr>\n",
              "      <th>2013-10-02</th>\n",
              "      <td>BTC</td>\n",
              "      <td>125.45500</td>\n",
              "      <td>123.65499</td>\n",
              "      <td>125.75850</td>\n",
              "      <td>123.63383</td>\n",
              "    </tr>\n",
              "    <tr>\n",
              "      <th>2013-10-03</th>\n",
              "      <td>BTC</td>\n",
              "      <td>108.58483</td>\n",
              "      <td>125.45500</td>\n",
              "      <td>125.66566</td>\n",
              "      <td>83.32833</td>\n",
              "    </tr>\n",
              "    <tr>\n",
              "      <th>2013-10-04</th>\n",
              "      <td>BTC</td>\n",
              "      <td>118.67466</td>\n",
              "      <td>108.58483</td>\n",
              "      <td>118.67500</td>\n",
              "      <td>107.05816</td>\n",
              "    </tr>\n",
              "    <tr>\n",
              "      <th>2013-10-05</th>\n",
              "      <td>BTC</td>\n",
              "      <td>121.33866</td>\n",
              "      <td>118.67466</td>\n",
              "      <td>121.93633</td>\n",
              "      <td>118.00566</td>\n",
              "    </tr>\n",
              "  </tbody>\n",
              "</table>\n",
              "</div>\n",
              "    <div class=\"colab-df-buttons\">\n",
              "\n",
              "  <div class=\"colab-df-container\">\n",
              "    <button class=\"colab-df-convert\" onclick=\"convertToInteractive('df-6c446de2-f347-406d-a410-13af57c58141')\"\n",
              "            title=\"Convert this dataframe to an interactive table.\"\n",
              "            style=\"display:none;\">\n",
              "\n",
              "  <svg xmlns=\"http://www.w3.org/2000/svg\" height=\"24px\" viewBox=\"0 -960 960 960\">\n",
              "    <path d=\"M120-120v-720h720v720H120Zm60-500h600v-160H180v160Zm220 220h160v-160H400v160Zm0 220h160v-160H400v160ZM180-400h160v-160H180v160Zm440 0h160v-160H620v160ZM180-180h160v-160H180v160Zm440 0h160v-160H620v160Z\"/>\n",
              "  </svg>\n",
              "    </button>\n",
              "\n",
              "  <style>\n",
              "    .colab-df-container {\n",
              "      display:flex;\n",
              "      gap: 12px;\n",
              "    }\n",
              "\n",
              "    .colab-df-convert {\n",
              "      background-color: #E8F0FE;\n",
              "      border: none;\n",
              "      border-radius: 50%;\n",
              "      cursor: pointer;\n",
              "      display: none;\n",
              "      fill: #1967D2;\n",
              "      height: 32px;\n",
              "      padding: 0 0 0 0;\n",
              "      width: 32px;\n",
              "    }\n",
              "\n",
              "    .colab-df-convert:hover {\n",
              "      background-color: #E2EBFA;\n",
              "      box-shadow: 0px 1px 2px rgba(60, 64, 67, 0.3), 0px 1px 3px 1px rgba(60, 64, 67, 0.15);\n",
              "      fill: #174EA6;\n",
              "    }\n",
              "\n",
              "    .colab-df-buttons div {\n",
              "      margin-bottom: 4px;\n",
              "    }\n",
              "\n",
              "    [theme=dark] .colab-df-convert {\n",
              "      background-color: #3B4455;\n",
              "      fill: #D2E3FC;\n",
              "    }\n",
              "\n",
              "    [theme=dark] .colab-df-convert:hover {\n",
              "      background-color: #434B5C;\n",
              "      box-shadow: 0px 1px 3px 1px rgba(0, 0, 0, 0.15);\n",
              "      filter: drop-shadow(0px 1px 2px rgba(0, 0, 0, 0.3));\n",
              "      fill: #FFFFFF;\n",
              "    }\n",
              "  </style>\n",
              "\n",
              "    <script>\n",
              "      const buttonEl =\n",
              "        document.querySelector('#df-6c446de2-f347-406d-a410-13af57c58141 button.colab-df-convert');\n",
              "      buttonEl.style.display =\n",
              "        google.colab.kernel.accessAllowed ? 'block' : 'none';\n",
              "\n",
              "      async function convertToInteractive(key) {\n",
              "        const element = document.querySelector('#df-6c446de2-f347-406d-a410-13af57c58141');\n",
              "        const dataTable =\n",
              "          await google.colab.kernel.invokeFunction('convertToInteractive',\n",
              "                                                    [key], {});\n",
              "        if (!dataTable) return;\n",
              "\n",
              "        const docLinkHtml = 'Like what you see? Visit the ' +\n",
              "          '<a target=\"_blank\" href=https://colab.research.google.com/notebooks/data_table.ipynb>data table notebook</a>'\n",
              "          + ' to learn more about interactive tables.';\n",
              "        element.innerHTML = '';\n",
              "        dataTable['output_type'] = 'display_data';\n",
              "        await google.colab.output.renderOutput(dataTable, element);\n",
              "        const docLink = document.createElement('div');\n",
              "        docLink.innerHTML = docLinkHtml;\n",
              "        element.appendChild(docLink);\n",
              "      }\n",
              "    </script>\n",
              "  </div>\n",
              "\n",
              "\n",
              "<div id=\"df-cef58254-fba5-453e-aad6-aab1936bd358\">\n",
              "  <button class=\"colab-df-quickchart\" onclick=\"quickchart('df-cef58254-fba5-453e-aad6-aab1936bd358')\"\n",
              "            title=\"Suggest charts\"\n",
              "            style=\"display:none;\">\n",
              "\n",
              "<svg xmlns=\"http://www.w3.org/2000/svg\" height=\"24px\"viewBox=\"0 0 24 24\"\n",
              "     width=\"24px\">\n",
              "    <g>\n",
              "        <path d=\"M19 3H5c-1.1 0-2 .9-2 2v14c0 1.1.9 2 2 2h14c1.1 0 2-.9 2-2V5c0-1.1-.9-2-2-2zM9 17H7v-7h2v7zm4 0h-2V7h2v10zm4 0h-2v-4h2v4z\"/>\n",
              "    </g>\n",
              "</svg>\n",
              "  </button>\n",
              "\n",
              "<style>\n",
              "  .colab-df-quickchart {\n",
              "      --bg-color: #E8F0FE;\n",
              "      --fill-color: #1967D2;\n",
              "      --hover-bg-color: #E2EBFA;\n",
              "      --hover-fill-color: #174EA6;\n",
              "      --disabled-fill-color: #AAA;\n",
              "      --disabled-bg-color: #DDD;\n",
              "  }\n",
              "\n",
              "  [theme=dark] .colab-df-quickchart {\n",
              "      --bg-color: #3B4455;\n",
              "      --fill-color: #D2E3FC;\n",
              "      --hover-bg-color: #434B5C;\n",
              "      --hover-fill-color: #FFFFFF;\n",
              "      --disabled-bg-color: #3B4455;\n",
              "      --disabled-fill-color: #666;\n",
              "  }\n",
              "\n",
              "  .colab-df-quickchart {\n",
              "    background-color: var(--bg-color);\n",
              "    border: none;\n",
              "    border-radius: 50%;\n",
              "    cursor: pointer;\n",
              "    display: none;\n",
              "    fill: var(--fill-color);\n",
              "    height: 32px;\n",
              "    padding: 0;\n",
              "    width: 32px;\n",
              "  }\n",
              "\n",
              "  .colab-df-quickchart:hover {\n",
              "    background-color: var(--hover-bg-color);\n",
              "    box-shadow: 0 1px 2px rgba(60, 64, 67, 0.3), 0 1px 3px 1px rgba(60, 64, 67, 0.15);\n",
              "    fill: var(--button-hover-fill-color);\n",
              "  }\n",
              "\n",
              "  .colab-df-quickchart-complete:disabled,\n",
              "  .colab-df-quickchart-complete:disabled:hover {\n",
              "    background-color: var(--disabled-bg-color);\n",
              "    fill: var(--disabled-fill-color);\n",
              "    box-shadow: none;\n",
              "  }\n",
              "\n",
              "  .colab-df-spinner {\n",
              "    border: 2px solid var(--fill-color);\n",
              "    border-color: transparent;\n",
              "    border-bottom-color: var(--fill-color);\n",
              "    animation:\n",
              "      spin 1s steps(1) infinite;\n",
              "  }\n",
              "\n",
              "  @keyframes spin {\n",
              "    0% {\n",
              "      border-color: transparent;\n",
              "      border-bottom-color: var(--fill-color);\n",
              "      border-left-color: var(--fill-color);\n",
              "    }\n",
              "    20% {\n",
              "      border-color: transparent;\n",
              "      border-left-color: var(--fill-color);\n",
              "      border-top-color: var(--fill-color);\n",
              "    }\n",
              "    30% {\n",
              "      border-color: transparent;\n",
              "      border-left-color: var(--fill-color);\n",
              "      border-top-color: var(--fill-color);\n",
              "      border-right-color: var(--fill-color);\n",
              "    }\n",
              "    40% {\n",
              "      border-color: transparent;\n",
              "      border-right-color: var(--fill-color);\n",
              "      border-top-color: var(--fill-color);\n",
              "    }\n",
              "    60% {\n",
              "      border-color: transparent;\n",
              "      border-right-color: var(--fill-color);\n",
              "    }\n",
              "    80% {\n",
              "      border-color: transparent;\n",
              "      border-right-color: var(--fill-color);\n",
              "      border-bottom-color: var(--fill-color);\n",
              "    }\n",
              "    90% {\n",
              "      border-color: transparent;\n",
              "      border-bottom-color: var(--fill-color);\n",
              "    }\n",
              "  }\n",
              "</style>\n",
              "\n",
              "  <script>\n",
              "    async function quickchart(key) {\n",
              "      const quickchartButtonEl =\n",
              "        document.querySelector('#' + key + ' button');\n",
              "      quickchartButtonEl.disabled = true;  // To prevent multiple clicks.\n",
              "      quickchartButtonEl.classList.add('colab-df-spinner');\n",
              "      try {\n",
              "        const charts = await google.colab.kernel.invokeFunction(\n",
              "            'suggestCharts', [key], {});\n",
              "      } catch (error) {\n",
              "        console.error('Error during call to suggestCharts:', error);\n",
              "      }\n",
              "      quickchartButtonEl.classList.remove('colab-df-spinner');\n",
              "      quickchartButtonEl.classList.add('colab-df-quickchart-complete');\n",
              "    }\n",
              "    (() => {\n",
              "      let quickchartButtonEl =\n",
              "        document.querySelector('#df-cef58254-fba5-453e-aad6-aab1936bd358 button');\n",
              "      quickchartButtonEl.style.display =\n",
              "        google.colab.kernel.accessAllowed ? 'block' : 'none';\n",
              "    })();\n",
              "  </script>\n",
              "</div>\n",
              "    </div>\n",
              "  </div>\n"
            ]
          },
          "metadata": {},
          "execution_count": 2
        }
      ]
    },
    {
      "cell_type": "code",
      "source": [
        "df.info()"
      ],
      "metadata": {
        "id": "Tkqdur2wRP8e",
        "outputId": "6de73b2a-b0a8-4490-8384-a049570efa8f",
        "colab": {
          "base_uri": "https://localhost:8080/"
        }
      },
      "execution_count": 3,
      "outputs": [
        {
          "output_type": "stream",
          "name": "stdout",
          "text": [
            "<class 'pandas.core.frame.DataFrame'>\n",
            "DatetimeIndex: 2787 entries, 2013-10-01 to 2021-05-18\n",
            "Data columns (total 5 columns):\n",
            " #   Column               Non-Null Count  Dtype  \n",
            "---  ------               --------------  -----  \n",
            " 0   Currency             2787 non-null   object \n",
            " 1   Closing Price (USD)  2787 non-null   float64\n",
            " 2   24h Open (USD)       2787 non-null   float64\n",
            " 3   24h High (USD)       2787 non-null   float64\n",
            " 4   24h Low (USD)        2787 non-null   float64\n",
            "dtypes: float64(4), object(1)\n",
            "memory usage: 130.6+ KB\n"
          ]
        }
      ]
    },
    {
      "cell_type": "code",
      "source": [
        "# How many samples\n",
        "len(df)"
      ],
      "metadata": {
        "id": "4bxP4I6wRR4k",
        "outputId": "6e10cdfc-48e6-43c4-a86b-56dcd1ecd4f3",
        "colab": {
          "base_uri": "https://localhost:8080/"
        }
      },
      "execution_count": 4,
      "outputs": [
        {
          "output_type": "execute_result",
          "data": {
            "text/plain": [
              "2787"
            ]
          },
          "metadata": {},
          "execution_count": 4
        }
      ]
    },
    {
      "cell_type": "markdown",
      "source": [
        "2787 samples is not much in case of a deep learning model"
      ],
      "metadata": {
        "id": "88PCTQBPRYHt"
      }
    },
    {
      "cell_type": "code",
      "source": [
        "# Only want closing price for each day\n",
        "bitcoin_prices = pd.DataFrame(df.rename(columns={\"Closing Price (USD)\": \"Price\"})[\"Price\"]) # Doing it the same way Daniel did produces an error. .rename() method needs to be called on a DataFrame and not Series\n",
        "bitcoin_prices.head()"
      ],
      "metadata": {
        "id": "l-_KJScgRrTV",
        "outputId": "38f9420f-8e30-4088-dc90-10477c3f80f3",
        "colab": {
          "base_uri": "https://localhost:8080/",
          "height": 238
        }
      },
      "execution_count": 5,
      "outputs": [
        {
          "output_type": "execute_result",
          "data": {
            "text/plain": [
              "                Price\n",
              "Date                 \n",
              "2013-10-01  123.65499\n",
              "2013-10-02  125.45500\n",
              "2013-10-03  108.58483\n",
              "2013-10-04  118.67466\n",
              "2013-10-05  121.33866"
            ],
            "text/html": [
              "\n",
              "  <div id=\"df-5bd46dd6-a433-4767-bc5f-c6a3108fc88c\" class=\"colab-df-container\">\n",
              "    <div>\n",
              "<style scoped>\n",
              "    .dataframe tbody tr th:only-of-type {\n",
              "        vertical-align: middle;\n",
              "    }\n",
              "\n",
              "    .dataframe tbody tr th {\n",
              "        vertical-align: top;\n",
              "    }\n",
              "\n",
              "    .dataframe thead th {\n",
              "        text-align: right;\n",
              "    }\n",
              "</style>\n",
              "<table border=\"1\" class=\"dataframe\">\n",
              "  <thead>\n",
              "    <tr style=\"text-align: right;\">\n",
              "      <th></th>\n",
              "      <th>Price</th>\n",
              "    </tr>\n",
              "    <tr>\n",
              "      <th>Date</th>\n",
              "      <th></th>\n",
              "    </tr>\n",
              "  </thead>\n",
              "  <tbody>\n",
              "    <tr>\n",
              "      <th>2013-10-01</th>\n",
              "      <td>123.65499</td>\n",
              "    </tr>\n",
              "    <tr>\n",
              "      <th>2013-10-02</th>\n",
              "      <td>125.45500</td>\n",
              "    </tr>\n",
              "    <tr>\n",
              "      <th>2013-10-03</th>\n",
              "      <td>108.58483</td>\n",
              "    </tr>\n",
              "    <tr>\n",
              "      <th>2013-10-04</th>\n",
              "      <td>118.67466</td>\n",
              "    </tr>\n",
              "    <tr>\n",
              "      <th>2013-10-05</th>\n",
              "      <td>121.33866</td>\n",
              "    </tr>\n",
              "  </tbody>\n",
              "</table>\n",
              "</div>\n",
              "    <div class=\"colab-df-buttons\">\n",
              "\n",
              "  <div class=\"colab-df-container\">\n",
              "    <button class=\"colab-df-convert\" onclick=\"convertToInteractive('df-5bd46dd6-a433-4767-bc5f-c6a3108fc88c')\"\n",
              "            title=\"Convert this dataframe to an interactive table.\"\n",
              "            style=\"display:none;\">\n",
              "\n",
              "  <svg xmlns=\"http://www.w3.org/2000/svg\" height=\"24px\" viewBox=\"0 -960 960 960\">\n",
              "    <path d=\"M120-120v-720h720v720H120Zm60-500h600v-160H180v160Zm220 220h160v-160H400v160Zm0 220h160v-160H400v160ZM180-400h160v-160H180v160Zm440 0h160v-160H620v160ZM180-180h160v-160H180v160Zm440 0h160v-160H620v160Z\"/>\n",
              "  </svg>\n",
              "    </button>\n",
              "\n",
              "  <style>\n",
              "    .colab-df-container {\n",
              "      display:flex;\n",
              "      gap: 12px;\n",
              "    }\n",
              "\n",
              "    .colab-df-convert {\n",
              "      background-color: #E8F0FE;\n",
              "      border: none;\n",
              "      border-radius: 50%;\n",
              "      cursor: pointer;\n",
              "      display: none;\n",
              "      fill: #1967D2;\n",
              "      height: 32px;\n",
              "      padding: 0 0 0 0;\n",
              "      width: 32px;\n",
              "    }\n",
              "\n",
              "    .colab-df-convert:hover {\n",
              "      background-color: #E2EBFA;\n",
              "      box-shadow: 0px 1px 2px rgba(60, 64, 67, 0.3), 0px 1px 3px 1px rgba(60, 64, 67, 0.15);\n",
              "      fill: #174EA6;\n",
              "    }\n",
              "\n",
              "    .colab-df-buttons div {\n",
              "      margin-bottom: 4px;\n",
              "    }\n",
              "\n",
              "    [theme=dark] .colab-df-convert {\n",
              "      background-color: #3B4455;\n",
              "      fill: #D2E3FC;\n",
              "    }\n",
              "\n",
              "    [theme=dark] .colab-df-convert:hover {\n",
              "      background-color: #434B5C;\n",
              "      box-shadow: 0px 1px 3px 1px rgba(0, 0, 0, 0.15);\n",
              "      filter: drop-shadow(0px 1px 2px rgba(0, 0, 0, 0.3));\n",
              "      fill: #FFFFFF;\n",
              "    }\n",
              "  </style>\n",
              "\n",
              "    <script>\n",
              "      const buttonEl =\n",
              "        document.querySelector('#df-5bd46dd6-a433-4767-bc5f-c6a3108fc88c button.colab-df-convert');\n",
              "      buttonEl.style.display =\n",
              "        google.colab.kernel.accessAllowed ? 'block' : 'none';\n",
              "\n",
              "      async function convertToInteractive(key) {\n",
              "        const element = document.querySelector('#df-5bd46dd6-a433-4767-bc5f-c6a3108fc88c');\n",
              "        const dataTable =\n",
              "          await google.colab.kernel.invokeFunction('convertToInteractive',\n",
              "                                                    [key], {});\n",
              "        if (!dataTable) return;\n",
              "\n",
              "        const docLinkHtml = 'Like what you see? Visit the ' +\n",
              "          '<a target=\"_blank\" href=https://colab.research.google.com/notebooks/data_table.ipynb>data table notebook</a>'\n",
              "          + ' to learn more about interactive tables.';\n",
              "        element.innerHTML = '';\n",
              "        dataTable['output_type'] = 'display_data';\n",
              "        await google.colab.output.renderOutput(dataTable, element);\n",
              "        const docLink = document.createElement('div');\n",
              "        docLink.innerHTML = docLinkHtml;\n",
              "        element.appendChild(docLink);\n",
              "      }\n",
              "    </script>\n",
              "  </div>\n",
              "\n",
              "\n",
              "<div id=\"df-6ef81b7e-b5dc-4e07-a7e3-aaafaaaef894\">\n",
              "  <button class=\"colab-df-quickchart\" onclick=\"quickchart('df-6ef81b7e-b5dc-4e07-a7e3-aaafaaaef894')\"\n",
              "            title=\"Suggest charts\"\n",
              "            style=\"display:none;\">\n",
              "\n",
              "<svg xmlns=\"http://www.w3.org/2000/svg\" height=\"24px\"viewBox=\"0 0 24 24\"\n",
              "     width=\"24px\">\n",
              "    <g>\n",
              "        <path d=\"M19 3H5c-1.1 0-2 .9-2 2v14c0 1.1.9 2 2 2h14c1.1 0 2-.9 2-2V5c0-1.1-.9-2-2-2zM9 17H7v-7h2v7zm4 0h-2V7h2v10zm4 0h-2v-4h2v4z\"/>\n",
              "    </g>\n",
              "</svg>\n",
              "  </button>\n",
              "\n",
              "<style>\n",
              "  .colab-df-quickchart {\n",
              "      --bg-color: #E8F0FE;\n",
              "      --fill-color: #1967D2;\n",
              "      --hover-bg-color: #E2EBFA;\n",
              "      --hover-fill-color: #174EA6;\n",
              "      --disabled-fill-color: #AAA;\n",
              "      --disabled-bg-color: #DDD;\n",
              "  }\n",
              "\n",
              "  [theme=dark] .colab-df-quickchart {\n",
              "      --bg-color: #3B4455;\n",
              "      --fill-color: #D2E3FC;\n",
              "      --hover-bg-color: #434B5C;\n",
              "      --hover-fill-color: #FFFFFF;\n",
              "      --disabled-bg-color: #3B4455;\n",
              "      --disabled-fill-color: #666;\n",
              "  }\n",
              "\n",
              "  .colab-df-quickchart {\n",
              "    background-color: var(--bg-color);\n",
              "    border: none;\n",
              "    border-radius: 50%;\n",
              "    cursor: pointer;\n",
              "    display: none;\n",
              "    fill: var(--fill-color);\n",
              "    height: 32px;\n",
              "    padding: 0;\n",
              "    width: 32px;\n",
              "  }\n",
              "\n",
              "  .colab-df-quickchart:hover {\n",
              "    background-color: var(--hover-bg-color);\n",
              "    box-shadow: 0 1px 2px rgba(60, 64, 67, 0.3), 0 1px 3px 1px rgba(60, 64, 67, 0.15);\n",
              "    fill: var(--button-hover-fill-color);\n",
              "  }\n",
              "\n",
              "  .colab-df-quickchart-complete:disabled,\n",
              "  .colab-df-quickchart-complete:disabled:hover {\n",
              "    background-color: var(--disabled-bg-color);\n",
              "    fill: var(--disabled-fill-color);\n",
              "    box-shadow: none;\n",
              "  }\n",
              "\n",
              "  .colab-df-spinner {\n",
              "    border: 2px solid var(--fill-color);\n",
              "    border-color: transparent;\n",
              "    border-bottom-color: var(--fill-color);\n",
              "    animation:\n",
              "      spin 1s steps(1) infinite;\n",
              "  }\n",
              "\n",
              "  @keyframes spin {\n",
              "    0% {\n",
              "      border-color: transparent;\n",
              "      border-bottom-color: var(--fill-color);\n",
              "      border-left-color: var(--fill-color);\n",
              "    }\n",
              "    20% {\n",
              "      border-color: transparent;\n",
              "      border-left-color: var(--fill-color);\n",
              "      border-top-color: var(--fill-color);\n",
              "    }\n",
              "    30% {\n",
              "      border-color: transparent;\n",
              "      border-left-color: var(--fill-color);\n",
              "      border-top-color: var(--fill-color);\n",
              "      border-right-color: var(--fill-color);\n",
              "    }\n",
              "    40% {\n",
              "      border-color: transparent;\n",
              "      border-right-color: var(--fill-color);\n",
              "      border-top-color: var(--fill-color);\n",
              "    }\n",
              "    60% {\n",
              "      border-color: transparent;\n",
              "      border-right-color: var(--fill-color);\n",
              "    }\n",
              "    80% {\n",
              "      border-color: transparent;\n",
              "      border-right-color: var(--fill-color);\n",
              "      border-bottom-color: var(--fill-color);\n",
              "    }\n",
              "    90% {\n",
              "      border-color: transparent;\n",
              "      border-bottom-color: var(--fill-color);\n",
              "    }\n",
              "  }\n",
              "</style>\n",
              "\n",
              "  <script>\n",
              "    async function quickchart(key) {\n",
              "      const quickchartButtonEl =\n",
              "        document.querySelector('#' + key + ' button');\n",
              "      quickchartButtonEl.disabled = true;  // To prevent multiple clicks.\n",
              "      quickchartButtonEl.classList.add('colab-df-spinner');\n",
              "      try {\n",
              "        const charts = await google.colab.kernel.invokeFunction(\n",
              "            'suggestCharts', [key], {});\n",
              "      } catch (error) {\n",
              "        console.error('Error during call to suggestCharts:', error);\n",
              "      }\n",
              "      quickchartButtonEl.classList.remove('colab-df-spinner');\n",
              "      quickchartButtonEl.classList.add('colab-df-quickchart-complete');\n",
              "    }\n",
              "    (() => {\n",
              "      let quickchartButtonEl =\n",
              "        document.querySelector('#df-6ef81b7e-b5dc-4e07-a7e3-aaafaaaef894 button');\n",
              "      quickchartButtonEl.style.display =\n",
              "        google.colab.kernel.accessAllowed ? 'block' : 'none';\n",
              "    })();\n",
              "  </script>\n",
              "</div>\n",
              "    </div>\n",
              "  </div>\n"
            ]
          },
          "metadata": {},
          "execution_count": 5
        }
      ]
    },
    {
      "cell_type": "code",
      "source": [
        "import matplotlib.pyplot as plt\n",
        "bitcoin_prices.plot(figsize=(10,7))\n",
        "plt.ylabel(\"BTC Price\")\n",
        "plt.title(\"Price of Bitcoin froom 1 Oct 2013 to 18 May 2021\", fontsize=16)\n",
        "plt.legend(fontsize=14);"
      ],
      "metadata": {
        "id": "YNejYm8lT8W9",
        "outputId": "457c8982-bc81-478f-ac0a-79604c71624e",
        "colab": {
          "base_uri": "https://localhost:8080/",
          "height": 643
        }
      },
      "execution_count": 6,
      "outputs": [
        {
          "output_type": "display_data",
          "data": {
            "text/plain": [
              "<Figure size 1000x700 with 1 Axes>"
            ],
            "image/png": "[encoded data removed]"
          },
          "metadata": {}
        }
      ]
    },
    {
      "cell_type": "markdown",
      "source": [
        "## Importing time series with CSV module instead of Pandas\n",
        "\n",
        "When not using Pandas"
      ],
      "metadata": {
        "id": "uHaVoZTLVRoF"
      }
    },
    {
      "cell_type": "code",
      "source": [
        "import csv\n",
        "from datetime import datetime\n",
        "\n",
        "timesteps = []\n",
        "btc_price = []\n",
        "with open(\"/content/BTC_USD_2013-10-01_2021-05-18-CoinDesk.csv\", \"r\") as f:\n",
        "  csv_reader = csv.reader(f, delimiter=\",\")\n",
        "  next(csv_reader) # skip 1st line (gets rid of column names)\n",
        "  for line in csv_reader:\n",
        "    timesteps.append(datetime.strptime(line[1],  \"%Y-%m-%d\")) # get the date from the line as date not string\n",
        "    btc_price.append(float(line[2])) # get the price as float\n",
        "\n",
        "# View 1st 10 of each\n",
        "timesteps[:10], btc_price[:10]"
      ],
      "metadata": {
        "id": "QebqEHSyWIdX",
        "outputId": "6e137ba0-4862-42d8-e009-20a732f486ec",
        "colab": {
          "base_uri": "https://localhost:8080/"
        }
      },
      "execution_count": 7,
      "outputs": [
        {
          "output_type": "execute_result",
          "data": {
            "text/plain": [
              "([datetime.datetime(2013, 10, 1, 0, 0),\n",
              "  datetime.datetime(2013, 10, 2, 0, 0),\n",
              "  datetime.datetime(2013, 10, 3, 0, 0),\n",
              "  datetime.datetime(2013, 10, 4, 0, 0),\n",
              "  datetime.datetime(2013, 10, 5, 0, 0),\n",
              "  datetime.datetime(2013, 10, 6, 0, 0),\n",
              "  datetime.datetime(2013, 10, 7, 0, 0),\n",
              "  datetime.datetime(2013, 10, 8, 0, 0),\n",
              "  datetime.datetime(2013, 10, 9, 0, 0),\n",
              "  datetime.datetime(2013, 10, 10, 0, 0)],\n",
              " [123.65499,\n",
              "  125.455,\n",
              "  108.58483,\n",
              "  118.67466,\n",
              "  121.33866,\n",
              "  120.65533,\n",
              "  121.795,\n",
              "  123.033,\n",
              "  124.049,\n",
              "  125.96116])"
            ]
          },
          "metadata": {},
          "execution_count": 7
        }
      ]
    },
    {
      "cell_type": "code",
      "source": [
        "# Plot from CSV\n",
        "import numpy as np\n",
        "plt.figure(figsize=(10,7))\n",
        "plt.plot(timesteps, btc_price)\n",
        "plt.ylabel(\"BTC Price\")\n",
        "plt.title(\"Price of Bitcoin froom 1 Oct 2013 to 18 May 2021\", fontsize=16)\n",
        "plt.legend(fontsize=14);"
      ],
      "metadata": {
        "id": "vp0GCxSbXZUl",
        "outputId": "029fd5f1-38f5-4387-d1eb-35515b916435",
        "colab": {
          "base_uri": "https://localhost:8080/",
          "height": 662
        }
      },
      "execution_count": 8,
      "outputs": [
        {
          "output_type": "stream",
          "name": "stderr",
          "text": [
            "WARNING:matplotlib.legend:No artists with labels found to put in legend.  Note that artists whose label start with an underscore are ignored when legend() is called with no argument.\n"
          ]
        },
        {
          "output_type": "display_data",
          "data": {
            "text/plain": [
              "<Figure size 1000x700 with 1 Axes>"
            ],
            "image/png": "[encoded data removed]"
          },
          "metadata": {}
        }
      ]
    },
    {
      "cell_type": "markdown",
      "source": [
        "## Format data part 1: Create train and test split"
      ],
      "metadata": {
        "id": "fD7z1tUhZFY5"
      }
    },
    {
      "cell_type": "markdown",
      "source": [
        "### Creating train and test data the wrong way (data leakage)"
      ],
      "metadata": {
        "id": "mnbbRagOYrSF"
      }
    },
    {
      "cell_type": "code",
      "source": [
        "# Get the date array\n",
        "timesteps = bitcoin_prices.index.to_numpy()\n",
        "prices = bitcoin_prices[\"Price\"].to_numpy()"
      ],
      "metadata": {
        "id": "lQDPhtNjKvXs"
      },
      "execution_count": 9,
      "outputs": []
    },
    {
      "cell_type": "code",
      "source": [
        "# Wrong way to make train/test data\n",
        "from sklearn.model_selection import train_test_split\n",
        "X_train, X_test, y_train, y_test = train_test_split(timesteps, prices, test_size=.2, random_state=42)"
      ],
      "metadata": {
        "id": "cQ0h8Kd-LMuC"
      },
      "execution_count": 10,
      "outputs": []
    },
    {
      "cell_type": "code",
      "source": [
        "# Plot wrong splits\n",
        "plt.figure(figsize=(10,7))\n",
        "plt.scatter(X_train, y_train, s=5, label=\"Train data\")\n",
        "plt.scatter(X_test, y_test, s=5, label=\"Test data\")\n",
        "plt.xlabel(\"Date\")\n",
        "plt.ylabel(\"BTC price\")\n",
        "plt.show();"
      ],
      "metadata": {
        "id": "7jLJvIkUj8Z9",
        "outputId": "389b987b-801b-47a3-c96c-9f06d9d57196",
        "colab": {
          "base_uri": "https://localhost:8080/",
          "height": 619
        }
      },
      "execution_count": 11,
      "outputs": [
        {
          "output_type": "display_data",
          "data": {
            "text/plain": [
              "<Figure size 1000x700 with 1 Axes>"
            ],
            "image/png": "[encoded data removed]"
          },
          "metadata": {}
        }
      ]
    },
    {
      "cell_type": "markdown",
      "source": [
        "### Create train and test split the right way"
      ],
      "metadata": {
        "id": "0i_7OWDKmB-X"
      }
    },
    {
      "cell_type": "code",
      "source": [
        "# Create train and test splits\n",
        "split_size = int(0.8*len(prices)) # 80% train, 20% test\n",
        "\n",
        "# Create train data splits\n",
        "X_train, y_train = timesteps[:split_size], prices[:split_size]\n",
        "# Create test data split\n",
        "X_test, y_test = timesteps[split_size:], prices[split_size:]"
      ],
      "metadata": {
        "id": "3KpkKoUgmfdL"
      },
      "execution_count": 12,
      "outputs": []
    },
    {
      "cell_type": "code",
      "source": [
        "# Plot\n",
        "plt.figure(figsize=(10,7))\n",
        "plt.scatter(X_train, y_train, s=5, label=\"Train data\")\n",
        "plt.scatter(X_test, y_test, s=5, label=\"Test data\")\n",
        "plt.xlabel(\"Date\")\n",
        "plt.ylabel(\"BTC price\")\n",
        "plt.show();"
      ],
      "metadata": {
        "id": "RgWQy-6knc8J",
        "outputId": "ea78a54a-7800-40c7-8c96-0bef59c672f8",
        "colab": {
          "base_uri": "https://localhost:8080/",
          "height": 619
        }
      },
      "execution_count": 13,
      "outputs": [
        {
          "output_type": "display_data",
          "data": {
            "text/plain": [
              "<Figure size 1000x700 with 1 Axes>"
            ],
            "image/png": "[encoded data removed]"
          },
          "metadata": {}
        }
      ]
    },
    {
      "cell_type": "markdown",
      "source": [
        "## Create plotting function"
      ],
      "metadata": {
        "id": "9G_Bj_xMng34"
      }
    },
    {
      "cell_type": "code",
      "source": [
        "def plot_time_series(timesteps, values, format=\".\", start=0, end=None, label=None):\n",
        "  \"\"\"\n",
        "  Plots timesteps against values\n",
        "  \"\"\"\n",
        "  plt.plot(timesteps[start:end], values[start:end], format, label=label)\n",
        "  plt.xlabel(\"Time\")\n",
        "  plt.ylabel(\"BTC Price\")\n",
        "  if label:\n",
        "    plt.legend(fontsize=14)\n",
        "  plt.grid(True)"
      ],
      "metadata": {
        "id": "2_YHalKwn6eG"
      },
      "execution_count": 14,
      "outputs": []
    },
    {
      "cell_type": "code",
      "source": [
        "# Test out plotting function\n",
        "plt.figure(figsize=(10, 7))\n",
        "plot_time_series(X_train, y_train, label=\"Train data\")\n",
        "plot_time_series(X_test, y_test, label=\"Test data\")"
      ],
      "metadata": {
        "id": "fEUbNGp8pMOa",
        "outputId": "ce4c71ef-59bc-4a4e-b507-ad76cf261469",
        "colab": {
          "base_uri": "https://localhost:8080/",
          "height": 619
        }
      },
      "execution_count": 15,
      "outputs": [
        {
          "output_type": "display_data",
          "data": {
            "text/plain": [
              "<Figure size 1000x700 with 1 Axes>"
            ],
            "image/png": "[encoded data removed]"
          },
          "metadata": {}
        }
      ]
    },
    {
      "cell_type": "markdown",
      "source": [
        "## Modelling\n",
        "\n",
        "Terms:\n",
        "* Horizon - number of timesteps into the future we're going to project\n",
        "* Window size - number of timesteps to be used when predicting the horizon\n",
        "\n",
        "Experiments:\n",
        "0. Naive model (baseline)\n",
        "1. Dense model, horizon = 1, window = 7\n",
        "2. Dense model, horizon = 1, window = 30\n",
        "3. Dense modesl, horizon = 7, window = 30\n",
        "4. Conv1D\n",
        "5. LSTM\n",
        "6. Dense with multivariate data\n",
        "7. N-BEATs Algorithm\n",
        "8. Ensemble - multiple models optimized on different loss functions\n",
        "9. Future prediction model\n",
        "10. Dense with turkey data"
      ],
      "metadata": {
        "id": "hZ4U7xT5pvIo"
      }
    },
    {
      "cell_type": "code",
      "source": [
        "346/426"
      ],
      "metadata": {
        "id": "z8oZb8sbrLAk",
        "outputId": "568ace25-9dcb-441e-bb95-3d7c42215520",
        "colab": {
          "base_uri": "https://localhost:8080/"
        }
      },
      "execution_count": 16,
      "outputs": [
        {
          "output_type": "execute_result",
          "data": {
            "text/plain": [
              "0.812206572769953"
            ]
          },
          "metadata": {},
          "execution_count": 16
        }
      ]
    },
    {
      "cell_type": "markdown",
      "source": [
        "## Model 0: Naive forecast baseline\n",
        "\n",
        "We just assume the next value is the same as the current one"
      ],
      "metadata": {
        "id": "KnRsrJGrxOjo"
      }
    },
    {
      "cell_type": "code",
      "source": [
        "# Create a naive forecast\n",
        "naive_forecast = y_test[:-1]"
      ],
      "metadata": {
        "id": "-1uS7-WEx9Zb"
      },
      "execution_count": 17,
      "outputs": []
    },
    {
      "cell_type": "code",
      "source": [
        "# Plot naive forecast\n",
        "plt.figure(figsize=(10, 7))\n",
        "# plot_time_series(X_train, y_train, label=\"Train tata\")\n",
        "plot_time_series(X_test, y_test, format=\"-\", label=\"Test tata\")\n",
        "plot_time_series(X_test[1:], naive_forecast, format=\"-\", label=\"Naive forecast\")"
      ],
      "metadata": {
        "id": "i12yeReVyuDR",
        "outputId": "cbc2ce0f-e73f-4d4e-c527-17935c3a8201",
        "colab": {
          "base_uri": "https://localhost:8080/",
          "height": 619
        }
      },
      "execution_count": 18,
      "outputs": [
        {
          "output_type": "display_data",
          "data": {
            "text/plain": [
              "<Figure size 1000x700 with 1 Axes>"
            ],
            "image/png": "[encoded data removed]"
          },
          "metadata": {}
        }
      ]
    },
    {
      "cell_type": "markdown",
      "source": [
        "## Evaluating a time series model\n",
        "\n",
        "Common regression metrics:\n",
        "* MAE - mean absolute error\n",
        "* MSE - mean squared error\n",
        "* RMSE - root MSE, easier to interpret than MSE\n",
        "* (s)MAPE - (symmetric) mean absolute percentage error (not advised)\n",
        "* MASE - mean absolute scaled error - scaled by error of naive forecast\n",
        "\n",
        "https://otexts.com/fpp3/accuracy.html\n",
        "\n",
        "https://github.com/CamDavidsonPilon/Python-Numerics/blob/master/TimeSeries/MASE.py"
      ],
      "metadata": {
        "id": "je4B23-kzefW"
      }
    },
    {
      "cell_type": "code",
      "source": [
        "import tensorflow as tf"
      ],
      "metadata": {
        "id": "IfGqNiSd3WGS"
      },
      "execution_count": 19,
      "outputs": []
    },
    {
      "cell_type": "code",
      "source": [
        "# MASE implementation\n",
        "def mean_absolute_scaled_error(y_true, y_pred):\n",
        "  \"\"\"\n",
        "  Implement MASE, assuming no seasonality/seasonality of 1 day\n",
        "  \"\"\"\n",
        "  mae = tf.reduce_mean(tf.abs(y_true-y_pred))\n",
        "\n",
        "  # Find MAE of naive forecast\n",
        "  mae_naive_no_season = tf.reduce_mean(tf.abs(y_true[1:] - y_true[:-1]))\n",
        "\n",
        "  return mae / mae_naive_no_season\n"
      ],
      "metadata": {
        "id": "ucGLUhrq5u6w"
      },
      "execution_count": 20,
      "outputs": []
    },
    {
      "cell_type": "code",
      "source": [
        "mean_absolute_scaled_error(y_test[1:], naive_forecast).numpy()"
      ],
      "metadata": {
        "id": "49Vw81VZ70JR",
        "outputId": "357d1422-cc9a-4c25-9645-d64bc02a4412",
        "colab": {
          "base_uri": "https://localhost:8080/"
        }
      },
      "execution_count": 21,
      "outputs": [
        {
          "output_type": "execute_result",
          "data": {
            "text/plain": [
              "0.9995699939182624"
            ]
          },
          "metadata": {},
          "execution_count": 21
        }
      ]
    },
    {
      "cell_type": "code",
      "source": [
        "# Multi-metric function for calculating prediction metrics\n",
        "def evaluate_preds(y_true, y_pred):\n",
        "  # Make sure float32 datatype for metric calculations in order for tf not to spew errors\n",
        "  y_true = tf.cast(y_true, dtype=tf.float32)\n",
        "  y_true = tf.cast(y_true, dtype=tf.float32)\n",
        "\n",
        "  # Calculate various metrics\n",
        "  mae = tf.keras.metrics.mean_absolute_error(y_true, y_pred)\n",
        "  mse = tf.keras.metrics.mean_squared_error(y_true, y_pred)\n",
        "  rmse = tf.sqrt(mse)\n",
        "  mape = tf.keras.metrics.mean_absolute_percentage_error(y_true, y_pred)\n",
        "  mase = mean_absolute_scaled_error(y_true, y_pred)\n",
        "\n",
        "  return {\"mae\": mae.numpy(), # so that it doesn't return tf tensors\n",
        "          \"mse\": mse.numpy(),\n",
        "          \"rmse\": rmse.numpy(),\n",
        "          \"mape\": mape.numpy(),\n",
        "          \"mase\": mase.numpy()}"
      ],
      "metadata": {
        "id": "Zh0xXhHN8XCY"
      },
      "execution_count": 22,
      "outputs": []
    },
    {
      "cell_type": "code",
      "source": [
        "naive_results = evaluate_preds(y_test[1:], naive_forecast)\n",
        "naive_results"
      ],
      "metadata": {
        "id": "uLs5kH-K-kXp",
        "outputId": "7ca61d61-f2b3-46a6-d485-6cafc8f49118",
        "colab": {
          "base_uri": "https://localhost:8080/"
        }
      },
      "execution_count": 23,
      "outputs": [
        {
          "output_type": "execute_result",
          "data": {
            "text/plain": [
              "{'mae': 567.9802183723001,\n",
              " 'mse': 1147547.0780835983,\n",
              " 'rmse': 1071.2362382236695,\n",
              " 'mape': 2.5165248502692306,\n",
              " 'mase': 0.99957}"
            ]
          },
          "metadata": {},
          "execution_count": 23
        }
      ]
    },
    {
      "cell_type": "markdown",
      "source": [
        "## Other models that can be used as baselines and actual forecasts\n",
        "\n",
        "https://dev.mrdbourke.com/tensorflow-deep-learning/10_time_series_forecasting_in_tensorflow/?ref=mrdbourke.com#other-kinds-of-time-series-forecasting-models-which-can-be-used-for-baselines-and-actual-forecasts"
      ],
      "metadata": {
        "id": "0HmaqUym-3J_"
      }
    },
    {
      "cell_type": "markdown",
      "source": [
        "## Format data part 2: Windowing the the dataset\n",
        "\n",
        "So that the model predicts on 7 samples\n",
        "\n",
        "https://www.uber.com/en-PL/blog/forecasting-introduction/"
      ],
      "metadata": {
        "id": "iTG28JIUC-Jq"
      }
    },
    {
      "cell_type": "code",
      "source": [
        "# Set up global variables for window and horizon size\n",
        "HORIZON = 1 # predict next 1 day\n",
        "WINDOW_SIZE = 7 # based on last week"
      ],
      "metadata": {
        "id": "PU7M0vhXDvhV"
      },
      "execution_count": 24,
      "outputs": []
    },
    {
      "cell_type": "code",
      "source": [
        "# Create fcn to label windowed data\n",
        "def get_labelled_window(x, horizon=HORIZON):\n",
        "  return x[:,:-horizon], x[:, -horizon:]"
      ],
      "metadata": {
        "id": "Mdnfm08iEmQ0"
      },
      "execution_count": 25,
      "outputs": []
    },
    {
      "cell_type": "code",
      "source": [
        "# Test out the window labelling fcn\n",
        "test_window, test_label = get_labelled_window(tf.expand_dims(tf.range(8), axis=0))\n",
        "test_window, test_label"
      ],
      "metadata": {
        "id": "mFL5oVlKE7rB",
        "outputId": "285020a7-e068-4bf9-9d0a-a12a91f60b59",
        "colab": {
          "base_uri": "https://localhost:8080/"
        }
      },
      "execution_count": 26,
      "outputs": [
        {
          "output_type": "execute_result",
          "data": {
            "text/plain": [
              "(<tf.Tensor: shape=(1, 7), dtype=int32, numpy=array([[0, 1, 2, 3, 4, 5, 6]], dtype=int32)>,\n",
              " <tf.Tensor: shape=(1, 1), dtype=int32, numpy=array([[7]], dtype=int32)>)"
            ]
          },
          "metadata": {},
          "execution_count": 26
        }
      ]
    },
    {
      "cell_type": "markdown",
      "source": [
        "Instead of using for loops to convert our data into features and labels, we'll use numpy array indexing for speed\n",
        "\n",
        "https://numpy.org/doc/stable/user/basics.indexing.html\n",
        "\n",
        "https://towardsdatascience.com/fast-and-robust-sliding-window-vectorization-with-numpy-3ad950ed62f5"
      ],
      "metadata": {
        "id": "--IumDDnF1Q_"
      }
    },
    {
      "cell_type": "code",
      "source": [
        "import numpy as np\n",
        "\n",
        "#  Function to window the input data\n",
        "def make_windows(x, window_size=WINDOW_SIZE, horizon=HORIZON):\n",
        "  \"\"\"\n",
        "  Turns a 1 D array into a 2D arrayof sequential labelled windows of window_size with horizon size labels\n",
        "  \"\"\"\n",
        "  # Create a window of specific size\n",
        "  window_step = np.expand_dims(np.arange(window_size+horizon), axis=0)\n",
        "  # Create a 2D array of multiple windows\n",
        "  window_indexes = window_step + np.expand_dims(np.arange(len(x)-(window_size+horizon-1)), axis=0).T\n",
        "  # Use the above to index on the timeseries\n",
        "  windowed_array = x[window_indexes]\n",
        "  # Get labelled windows\n",
        "  windows, labels = get_labelled_window(windowed_array, horizon)\n",
        "\n",
        "  return windows, labels\n",
        "\n",
        "# Much much faster than python for loops"
      ],
      "metadata": {
        "id": "K3tPQ79KIOHH"
      },
      "execution_count": 27,
      "outputs": []
    },
    {
      "cell_type": "code",
      "source": [
        "full_windows, full_labels = make_windows(prices)\n",
        "len(full_windows), len(full_labels)"
      ],
      "metadata": {
        "id": "Vnre8jkBMZLg",
        "outputId": "4a15c602-bcb8-4bcd-8983-56f77459af37",
        "colab": {
          "base_uri": "https://localhost:8080/"
        }
      },
      "execution_count": 28,
      "outputs": [
        {
          "output_type": "execute_result",
          "data": {
            "text/plain": [
              "(2780, 2780)"
            ]
          },
          "metadata": {},
          "execution_count": 28
        }
      ]
    },
    {
      "cell_type": "code",
      "source": [
        "# View first 3 windows w/ labels\n",
        "for i in range(3):\n",
        "  print(f\"Window: {full_windows[i]}, label: {full_labels[i]}\")"
      ],
      "metadata": {
        "id": "IIAqynxGMuhP",
        "outputId": "3a2b165d-2610-4ba6-b82c-865f1bfe1c34",
        "colab": {
          "base_uri": "https://localhost:8080/"
        }
      },
      "execution_count": 29,
      "outputs": [
        {
          "output_type": "stream",
          "name": "stdout",
          "text": [
            "Window: [123.65499 125.455   108.58483 118.67466 121.33866 120.65533 121.795  ], label: [123.033]\n",
            "Window: [125.455   108.58483 118.67466 121.33866 120.65533 121.795   123.033  ], label: [124.049]\n",
            "Window: [108.58483 118.67466 121.33866 120.65533 121.795   123.033   124.049  ], label: [125.96116]\n"
          ]
        }
      ]
    },
    {
      "cell_type": "code",
      "source": [
        "# View last 3 windows w/ labels\n",
        "for i in range(3):\n",
        "  print(f\"Window: {full_windows[i-3]}, label: {full_labels[i-3]}\")"
      ],
      "metadata": {
        "id": "c4eT5yRKNEB1",
        "outputId": "d5898d5a-c9e6-460e-a4fb-da46546a9ab6",
        "colab": {
          "base_uri": "https://localhost:8080/"
        }
      },
      "execution_count": 30,
      "outputs": [
        {
          "output_type": "stream",
          "name": "stdout",
          "text": [
            "Window: [58788.20967893 58102.19142623 55715.54665129 56573.5554719\n",
            " 52147.82118698 49764.1320816  50032.69313676], label: [47885.62525472]\n",
            "Window: [58102.19142623 55715.54665129 56573.5554719  52147.82118698\n",
            " 49764.1320816  50032.69313676 47885.62525472], label: [45604.61575361]\n",
            "Window: [55715.54665129 56573.5554719  52147.82118698 49764.1320816\n",
            " 50032.69313676 47885.62525472 45604.61575361], label: [43144.47129086]\n"
          ]
        }
      ]
    },
    {
      "cell_type": "markdown",
      "source": [
        "Actually you can do all that with just the function `tf.keras.preprocessing.timeseries_dataset_from_array` https://www.tensorflow.org/api_docs/python/tf/keras/utils/timeseries_dataset_from_array"
      ],
      "metadata": {
        "id": "HAxw0XFhNsaF"
      }
    },
    {
      "cell_type": "markdown",
      "source": [
        "## Turning windows into training and test sets"
      ],
      "metadata": {
        "id": "133ewnLNOhUS"
      }
    },
    {
      "cell_type": "code",
      "source": [
        "# Make train/test splits\n",
        "def make_train_test_splits(windows, labels, test_split=0.2):\n",
        "  \"\"\"\n",
        "  Splits matching pairs of windows and labels into train and test splits\n",
        "  \"\"\"\n",
        "  split_size = int(len(windows)*(1-test_split))\n",
        "  train_windows = windows[:split_size]\n",
        "  train_labels = labels[:split_size]\n",
        "  test_windows = windows[split_size:]\n",
        "  test_labels = labels[split_size:]\n",
        "  return train_windows, test_windows, train_labels, test_labels"
      ],
      "metadata": {
        "id": "ipj06vFerMS_"
      },
      "execution_count": 31,
      "outputs": []
    },
    {
      "cell_type": "code",
      "source": [
        "train_windows, test_windows, train_labels, test_labels = make_train_test_splits(full_windows, full_labels)"
      ],
      "metadata": {
        "id": "Miwe1fF8sMWi"
      },
      "execution_count": 32,
      "outputs": []
    },
    {
      "cell_type": "markdown",
      "source": [
        "## Make a modelling checkpoint callback\n",
        "\n",
        "To compare each model's best performances\n"
      ],
      "metadata": {
        "id": "cMgM5WbeuuUT"
      }
    },
    {
      "cell_type": "code",
      "source": [
        "import os\n",
        "\n",
        "# Create a fcn to implement a checkpoint callback\n",
        "def create_model_checkpoint(model_name, save_path=\"model_experiments\"):\n",
        "  return tf.keras.callbacks.ModelCheckpoint(filepath=os.path.join(save_path, model_name),\n",
        "                                            verbose=0,\n",
        "                                            save_best_only=True)"
      ],
      "metadata": {
        "id": "1SOZ18Kavyc1"
      },
      "execution_count": 33,
      "outputs": []
    },
    {
      "cell_type": "markdown",
      "source": [
        "## Model 1: Dense model with window = 7 and horizon = 1\n",
        "\n",
        "* Single dense layer with 128 neurons and ReLU\n",
        "* Output layer with linear activation\n",
        "* Adam optimizer and MAE loss fcn\n",
        "* Batch size of 128\n",
        "* 100 epochs\n",
        "\n",
        "https://www.tensorflow.org/tutorials/keras/keras_tuner?hl=pl"
      ],
      "metadata": {
        "id": "0_N4Jh0GxDIa"
      }
    },
    {
      "cell_type": "code",
      "source": [
        "import tensorflow as tf\n",
        "from tensorflow.keras import layers\n",
        "\n",
        "# Set random seed for reproducibility\n",
        "tf.random.set_seed(42)\n",
        "\n",
        "# Construct model\n",
        "model_1 = tf.keras.Sequential([\n",
        "    layers.Dense(128, activation=\"relu\"),\n",
        "    layers.Dense(HORIZON, activation=\"linear\")\n",
        "], name=\"model_1_dense_7_1\")\n",
        "\n",
        "# Compile\n",
        "model_1.compile(optimizer=tf.keras.optimizers.Adam(),\n",
        "                loss=\"mae\",\n",
        "                metrics=[\"mae\",\"mse\"])\n",
        "\n",
        "# Fit\n",
        "model_1.fit(train_windows,\n",
        "            train_labels,\n",
        "            epochs=100,\n",
        "            batch_size=128,\n",
        "            validation_data=(test_windows, test_labels),\n",
        "            callbacks=[create_model_checkpoint(model_name=model_1.name)])"
      ],
      "metadata": {
        "id": "OUSrlFPwxX__",
        "outputId": "523dc41c-ed4f-4351-c63d-8bd772dcb4e8",
        "colab": {
          "base_uri": "https://localhost:8080/"
        }
      },
      "execution_count": 34,
      "outputs": [
        {
          "output_type": "stream",
          "name": "stdout",
          "text": [
            "Epoch 1/100\n",
            "18/18 [==============================] - 6s 164ms/step - loss: 2156.5786 - mae: 2156.5786 - mse: 13629203.0000 - val_loss: 1870.4869 - val_mae: 1870.4869 - val_mse: 8367095.0000\n",
            "Epoch 2/100\n",
            "18/18 [==============================] - 2s 110ms/step - loss: 363.6466 - mae: 363.6466 - mse: 508723.8125 - val_loss: 1699.0441 - val_mae: 1699.0441 - val_mse: 7099539.0000\n",
            "Epoch 3/100\n",
            "18/18 [==============================] - 1s 66ms/step - loss: 240.3683 - mae: 240.3683 - mse: 271675.9688 - val_loss: 1090.3877 - val_mae: 1090.3877 - val_mse: 3822947.2500\n",
            "Epoch 4/100\n",
            "18/18 [==============================] - 1s 79ms/step - loss: 197.7773 - mae: 197.7773 - mse: 197883.3125 - val_loss: 1049.2423 - val_mae: 1049.2423 - val_mse: 3684569.0000\n",
            "Epoch 5/100\n",
            "18/18 [==============================] - 0s 12ms/step - loss: 190.4286 - mae: 190.4286 - mse: 189269.9375 - val_loss: 1062.5825 - val_mae: 1062.5825 - val_mse: 3574072.7500\n",
            "Epoch 6/100\n",
            "18/18 [==============================] - 2s 88ms/step - loss: 185.8133 - mae: 185.8133 - mse: 180221.2188 - val_loss: 1022.2078 - val_mae: 1022.2078 - val_mse: 3527138.7500\n",
            "Epoch 7/100\n",
            "18/18 [==============================] - 2s 94ms/step - loss: 183.4938 - mae: 183.4938 - mse: 175726.5938 - val_loss: 997.5466 - val_mae: 997.5466 - val_mse: 3262289.5000\n",
            "Epoch 8/100\n",
            "18/18 [==============================] - 1s 63ms/step - loss: 178.1964 - mae: 178.1964 - mse: 166573.2188 - val_loss: 980.0372 - val_mae: 980.0372 - val_mse: 3131091.0000\n",
            "Epoch 9/100\n",
            "18/18 [==============================] - 2s 106ms/step - loss: 175.0098 - mae: 175.0098 - mse: 162477.5469 - val_loss: 979.6823 - val_mae: 979.6823 - val_mse: 3028669.2500\n",
            "Epoch 10/100\n",
            "18/18 [==============================] - 2s 134ms/step - loss: 171.0060 - mae: 171.0060 - mse: 155498.0938 - val_loss: 945.6074 - val_mae: 945.6074 - val_mse: 2864494.7500\n",
            "Epoch 11/100\n",
            "18/18 [==============================] - 3s 159ms/step - loss: 166.3302 - mae: 166.3302 - mse: 146839.4844 - val_loss: 904.5817 - val_mae: 904.5817 - val_mse: 2738612.5000\n",
            "Epoch 12/100\n",
            "18/18 [==============================] - 0s 19ms/step - loss: 162.8589 - mae: 162.8589 - mse: 140499.0625 - val_loss: 1030.4354 - val_mae: 1030.4354 - val_mse: 2993861.0000\n",
            "Epoch 13/100\n",
            "18/18 [==============================] - 1s 62ms/step - loss: 162.7176 - mae: 162.7176 - mse: 141507.6094 - val_loss: 864.2835 - val_mae: 864.2835 - val_mse: 2462868.2500\n",
            "Epoch 14/100\n",
            "18/18 [==============================] - 2s 126ms/step - loss: 154.7136 - mae: 154.7136 - mse: 129942.4141 - val_loss: 860.3853 - val_mae: 860.3853 - val_mse: 2355317.7500\n",
            "Epoch 15/100\n",
            "18/18 [==============================] - 0s 9ms/step - loss: 161.0717 - mae: 161.0717 - mse: 134152.3281 - val_loss: 930.3723 - val_mae: 930.3723 - val_mse: 2505863.2500\n",
            "Epoch 16/100\n",
            "18/18 [==============================] - 1s 74ms/step - loss: 149.8856 - mae: 149.8856 - mse: 122064.2578 - val_loss: 813.8164 - val_mae: 813.8164 - val_mse: 2132902.5000\n",
            "Epoch 17/100\n",
            "18/18 [==============================] - 0s 9ms/step - loss: 143.5082 - mae: 143.5082 - mse: 114347.9453 - val_loss: 814.6068 - val_mae: 814.6068 - val_mse: 2074283.7500\n",
            "Epoch 18/100\n",
            "18/18 [==============================] - 0s 9ms/step - loss: 140.0721 - mae: 140.0721 - mse: 110217.8750 - val_loss: 820.8206 - val_mae: 820.8206 - val_mse: 2051576.6250\n",
            "Epoch 19/100\n",
            "18/18 [==============================] - 1s 78ms/step - loss: 137.3176 - mae: 137.3176 - mse: 105639.8125 - val_loss: 780.9083 - val_mae: 780.9083 - val_mse: 1911690.1250\n",
            "Epoch 20/100\n",
            "18/18 [==============================] - 1s 79ms/step - loss: 138.4121 - mae: 138.4121 - mse: 107996.4062 - val_loss: 733.2655 - val_mae: 733.2655 - val_mse: 1812237.6250\n",
            "Epoch 21/100\n",
            "18/18 [==============================] - 1s 36ms/step - loss: 136.4224 - mae: 136.4224 - mse: 104756.9922 - val_loss: 719.3753 - val_mae: 719.3753 - val_mse: 1734033.0000\n",
            "Epoch 22/100\n",
            "18/18 [==============================] - 1s 33ms/step - loss: 131.0360 - mae: 131.0360 - mse: 98680.5000 - val_loss: 706.8200 - val_mae: 706.8200 - val_mse: 1678482.3750\n",
            "Epoch 23/100\n",
            "18/18 [==============================] - 1s 33ms/step - loss: 128.0064 - mae: 128.0064 - mse: 94985.2812 - val_loss: 696.5083 - val_mae: 696.5083 - val_mse: 1630975.1250\n",
            "Epoch 24/100\n",
            "18/18 [==============================] - 1s 32ms/step - loss: 127.0844 - mae: 127.0844 - mse: 93416.6016 - val_loss: 687.5966 - val_mae: 687.5966 - val_mse: 1606835.1250\n",
            "Epoch 25/100\n",
            "18/18 [==============================] - 0s 5ms/step - loss: 129.4101 - mae: 129.4101 - mse: 91914.8281 - val_loss: 692.5001 - val_mae: 692.5001 - val_mse: 1625311.1250\n",
            "Epoch 26/100\n",
            "18/18 [==============================] - 0s 8ms/step - loss: 128.6920 - mae: 128.6920 - mse: 91490.8203 - val_loss: 705.6483 - val_mae: 705.6483 - val_mse: 1664041.2500\n",
            "Epoch 27/100\n",
            "18/18 [==============================] - 1s 47ms/step - loss: 127.8999 - mae: 127.8999 - mse: 91711.8281 - val_loss: 663.3987 - val_mae: 663.3987 - val_mse: 1510512.6250\n",
            "Epoch 28/100\n",
            "18/18 [==============================] - 1s 47ms/step - loss: 125.0086 - mae: 125.0086 - mse: 88187.3359 - val_loss: 663.0626 - val_mae: 663.0626 - val_mse: 1486629.6250\n",
            "Epoch 29/100\n",
            "18/18 [==============================] - 0s 8ms/step - loss: 129.2632 - mae: 129.2632 - mse: 92808.1562 - val_loss: 723.3818 - val_mae: 723.3818 - val_mse: 1614390.5000\n",
            "Epoch 30/100\n",
            "18/18 [==============================] - 0s 8ms/step - loss: 129.0820 - mae: 129.0820 - mse: 91751.5312 - val_loss: 668.1166 - val_mae: 668.1166 - val_mse: 1480183.0000\n",
            "Epoch 31/100\n",
            "18/18 [==============================] - 0s 7ms/step - loss: 129.1693 - mae: 129.1693 - mse: 88895.4141 - val_loss: 827.8599 - val_mae: 827.8599 - val_mse: 1913702.0000\n",
            "Epoch 32/100\n",
            "18/18 [==============================] - 0s 8ms/step - loss: 128.1405 - mae: 128.1405 - mse: 87274.4844 - val_loss: 676.7255 - val_mae: 676.7255 - val_mse: 1484913.5000\n",
            "Epoch 33/100\n",
            "18/18 [==============================] - 1s 48ms/step - loss: 120.8046 - mae: 120.8046 - mse: 81295.2734 - val_loss: 655.4338 - val_mae: 655.4338 - val_mse: 1435734.7500\n",
            "Epoch 34/100\n",
            "18/18 [==============================] - 1s 46ms/step - loss: 118.6832 - mae: 118.6832 - mse: 83010.8672 - val_loss: 636.4522 - val_mae: 636.4522 - val_mse: 1393716.5000\n",
            "Epoch 35/100\n",
            "18/18 [==============================] - 1s 40ms/step - loss: 118.1912 - mae: 118.1912 - mse: 82591.0078 - val_loss: 630.2778 - val_mae: 630.2778 - val_mse: 1379515.8750\n",
            "Epoch 36/100\n",
            "18/18 [==============================] - 0s 5ms/step - loss: 126.4081 - mae: 126.4081 - mse: 85872.3125 - val_loss: 727.0690 - val_mae: 727.0690 - val_mse: 1591288.1250\n",
            "Epoch 37/100\n",
            "18/18 [==============================] - 1s 32ms/step - loss: 119.6437 - mae: 119.6437 - mse: 81410.4531 - val_loss: 626.9342 - val_mae: 626.9342 - val_mse: 1371852.1250\n",
            "Epoch 38/100\n",
            "18/18 [==============================] - 0s 5ms/step - loss: 116.2378 - mae: 116.2378 - mse: 80318.2266 - val_loss: 636.0286 - val_mae: 636.0286 - val_mse: 1365341.7500\n",
            "Epoch 39/100\n",
            "18/18 [==============================] - 0s 5ms/step - loss: 118.0564 - mae: 118.0564 - mse: 81504.3984 - val_loss: 688.5749 - val_mae: 688.5750 - val_mse: 1548762.1250\n",
            "Epoch 40/100\n",
            "18/18 [==============================] - 1s 34ms/step - loss: 116.6955 - mae: 116.6955 - mse: 80206.1328 - val_loss: 618.8840 - val_mae: 618.8840 - val_mse: 1329866.5000\n",
            "Epoch 41/100\n",
            "18/18 [==============================] - 1s 33ms/step - loss: 115.4362 - mae: 115.4362 - mse: 79056.1250 - val_loss: 616.4361 - val_mae: 616.4361 - val_mse: 1334762.6250\n",
            "Epoch 42/100\n",
            "18/18 [==============================] - 1s 33ms/step - loss: 117.4254 - mae: 117.4254 - mse: 80557.1172 - val_loss: 612.6973 - val_mae: 612.6973 - val_mse: 1316206.7500\n",
            "Epoch 43/100\n",
            "18/18 [==============================] - 0s 6ms/step - loss: 114.6206 - mae: 114.6206 - mse: 77944.4141 - val_loss: 627.2357 - val_mae: 627.2357 - val_mse: 1361965.1250\n",
            "Epoch 44/100\n",
            "18/18 [==============================] - 0s 5ms/step - loss: 116.7945 - mae: 116.7945 - mse: 79495.8281 - val_loss: 616.5387 - val_mae: 616.5387 - val_mse: 1333229.5000\n",
            "Epoch 45/100\n",
            "18/18 [==============================] - 0s 6ms/step - loss: 114.2373 - mae: 114.2373 - mse: 78091.7422 - val_loss: 613.8954 - val_mae: 613.8954 - val_mse: 1304218.5000\n",
            "Epoch 46/100\n",
            "18/18 [==============================] - 0s 4ms/step - loss: 116.1297 - mae: 116.1297 - mse: 78864.0312 - val_loss: 618.6483 - val_mae: 618.6483 - val_mse: 1333903.0000\n",
            "Epoch 47/100\n",
            "18/18 [==============================] - 0s 5ms/step - loss: 114.8949 - mae: 114.8949 - mse: 79031.8828 - val_loss: 617.6481 - val_mae: 617.6481 - val_mse: 1304448.2500\n",
            "Epoch 48/100\n",
            "18/18 [==============================] - 0s 5ms/step - loss: 113.9990 - mae: 113.9990 - mse: 76584.0703 - val_loss: 635.9443 - val_mae: 635.9443 - val_mse: 1336006.6250\n",
            "Epoch 49/100\n",
            "18/18 [==============================] - 1s 32ms/step - loss: 116.6554 - mae: 116.6554 - mse: 77851.6797 - val_loss: 610.5302 - val_mae: 610.5302 - val_mse: 1286170.5000\n",
            "Epoch 50/100\n",
            "18/18 [==============================] - 1s 67ms/step - loss: 114.9950 - mae: 114.9950 - mse: 77349.2812 - val_loss: 610.0117 - val_mae: 610.0117 - val_mse: 1284755.7500\n",
            "Epoch 51/100\n",
            "18/18 [==============================] - 0s 6ms/step - loss: 114.3153 - mae: 114.3153 - mse: 76114.3828 - val_loss: 612.7702 - val_mae: 612.7702 - val_mse: 1285978.5000\n",
            "Epoch 52/100\n",
            "18/18 [==============================] - 0s 5ms/step - loss: 115.5541 - mae: 115.5541 - mse: 78523.7188 - val_loss: 617.1646 - val_mae: 617.1646 - val_mse: 1318199.0000\n",
            "Epoch 53/100\n",
            "18/18 [==============================] - 1s 34ms/step - loss: 118.0210 - mae: 118.0210 - mse: 78976.1875 - val_loss: 597.6780 - val_mae: 597.6780 - val_mse: 1268910.2500\n",
            "Epoch 54/100\n",
            "18/18 [==============================] - 0s 5ms/step - loss: 114.2267 - mae: 114.2267 - mse: 77000.8359 - val_loss: 637.8959 - val_mae: 637.8959 - val_mse: 1330344.0000\n",
            "Epoch 55/100\n",
            "18/18 [==============================] - 1s 33ms/step - loss: 115.0878 - mae: 115.0878 - mse: 77640.3359 - val_loss: 592.2869 - val_mae: 592.2869 - val_mse: 1251136.5000\n",
            "Epoch 56/100\n",
            "18/18 [==============================] - 0s 6ms/step - loss: 112.2179 - mae: 112.2179 - mse: 75033.2422 - val_loss: 788.3600 - val_mae: 788.3600 - val_mse: 1826541.1250\n",
            "Epoch 57/100\n",
            "18/18 [==============================] - 0s 6ms/step - loss: 131.7394 - mae: 131.7394 - mse: 90135.5703 - val_loss: 804.9900 - val_mae: 804.9900 - val_mse: 1886678.8750\n",
            "Epoch 58/100\n",
            "18/18 [==============================] - 0s 5ms/step - loss: 128.2769 - mae: 128.2769 - mse: 85488.7109 - val_loss: 699.4204 - val_mae: 699.4204 - val_mse: 1526421.7500\n",
            "Epoch 59/100\n",
            "18/18 [==============================] - 0s 5ms/step - loss: 113.1116 - mae: 113.1116 - mse: 74620.7812 - val_loss: 628.3210 - val_mae: 628.3210 - val_mse: 1336678.1250\n",
            "Epoch 60/100\n",
            "18/18 [==============================] - 0s 6ms/step - loss: 113.7994 - mae: 113.7994 - mse: 76109.7578 - val_loss: 623.4352 - val_mae: 623.4352 - val_mse: 1296226.7500\n",
            "Epoch 61/100\n",
            "18/18 [==============================] - 0s 5ms/step - loss: 112.2265 - mae: 112.2265 - mse: 75765.9375 - val_loss: 604.4006 - val_mae: 604.4006 - val_mse: 1257901.8750\n",
            "Epoch 62/100\n",
            "18/18 [==============================] - 0s 5ms/step - loss: 111.6950 - mae: 111.6950 - mse: 73794.8828 - val_loss: 609.0256 - val_mae: 609.0256 - val_mse: 1286152.5000\n",
            "Epoch 63/100\n",
            "18/18 [==============================] - 0s 7ms/step - loss: 112.9036 - mae: 112.9036 - mse: 75511.5078 - val_loss: 622.2711 - val_mae: 622.2711 - val_mse: 1290840.2500\n",
            "Epoch 64/100\n",
            "18/18 [==============================] - 0s 5ms/step - loss: 113.8033 - mae: 113.8033 - mse: 75490.1797 - val_loss: 675.2044 - val_mae: 675.2044 - val_mse: 1410868.0000\n",
            "Epoch 65/100\n",
            "18/18 [==============================] - 1s 33ms/step - loss: 119.5816 - mae: 119.5816 - mse: 79236.4766 - val_loss: 587.8705 - val_mae: 587.8705 - val_mse: 1224823.0000\n",
            "Epoch 66/100\n",
            "18/18 [==============================] - 1s 32ms/step - loss: 112.2885 - mae: 112.2885 - mse: 73642.8594 - val_loss: 581.8546 - val_mae: 581.8546 - val_mse: 1220951.6250\n",
            "Epoch 67/100\n",
            "18/18 [==============================] - 0s 6ms/step - loss: 109.9159 - mae: 109.9159 - mse: 72622.2422 - val_loss: 605.4493 - val_mae: 605.4493 - val_mse: 1273158.3750\n",
            "Epoch 68/100\n",
            "18/18 [==============================] - 0s 5ms/step - loss: 117.6998 - mae: 117.6998 - mse: 73776.6875 - val_loss: 743.8671 - val_mae: 743.8671 - val_mse: 1659169.3750\n",
            "Epoch 69/100\n",
            "18/18 [==============================] - 0s 5ms/step - loss: 130.6484 - mae: 130.6484 - mse: 86469.0703 - val_loss: 745.7603 - val_mae: 745.7603 - val_mse: 1667709.5000\n",
            "Epoch 70/100\n",
            "18/18 [==============================] - 0s 5ms/step - loss: 123.3586 - mae: 123.3586 - mse: 82316.0469 - val_loss: 589.5538 - val_mae: 589.5538 - val_mse: 1240712.2500\n",
            "Epoch 71/100\n",
            "18/18 [==============================] - 0s 5ms/step - loss: 111.8670 - mae: 111.8670 - mse: 72901.7969 - val_loss: 594.6254 - val_mae: 594.6254 - val_mse: 1231071.7500\n",
            "Epoch 72/100\n",
            "18/18 [==============================] - 0s 5ms/step - loss: 110.0205 - mae: 110.0205 - mse: 73563.9375 - val_loss: 587.0950 - val_mae: 587.0950 - val_mse: 1231079.1250\n",
            "Epoch 73/100\n",
            "18/18 [==============================] - 0s 4ms/step - loss: 113.3031 - mae: 113.3031 - mse: 74692.0469 - val_loss: 661.9614 - val_mae: 661.9614 - val_mse: 1406231.8750\n",
            "Epoch 74/100\n",
            "18/18 [==============================] - 1s 34ms/step - loss: 109.6741 - mae: 109.6741 - mse: 72745.0078 - val_loss: 580.9130 - val_mae: 580.9130 - val_mse: 1216705.7500\n",
            "Epoch 75/100\n",
            "18/18 [==============================] - 1s 49ms/step - loss: 109.3711 - mae: 109.3711 - mse: 72113.8672 - val_loss: 576.7998 - val_mae: 576.7998 - val_mse: 1205119.6250\n",
            "Epoch 76/100\n",
            "18/18 [==============================] - 0s 7ms/step - loss: 111.2285 - mae: 111.2285 - mse: 73651.0703 - val_loss: 577.8973 - val_mae: 577.8973 - val_mse: 1201789.2500\n",
            "Epoch 77/100\n",
            "18/18 [==============================] - 1s 46ms/step - loss: 109.3381 - mae: 109.3381 - mse: 71108.3359 - val_loss: 575.2531 - val_mae: 575.2531 - val_mse: 1200245.3750\n",
            "Epoch 78/100\n",
            "18/18 [==============================] - 0s 8ms/step - loss: 112.5025 - mae: 112.5025 - mse: 73181.2031 - val_loss: 578.3077 - val_mae: 578.3077 - val_mse: 1199788.6250\n",
            "Epoch 79/100\n",
            "18/18 [==============================] - 0s 8ms/step - loss: 112.0550 - mae: 112.0550 - mse: 75635.0781 - val_loss: 636.0496 - val_mae: 636.0496 - val_mse: 1329310.1250\n",
            "Epoch 80/100\n",
            "18/18 [==============================] - 0s 8ms/step - loss: 110.5330 - mae: 110.5330 - mse: 73197.5547 - val_loss: 586.8882 - val_mae: 586.8882 - val_mse: 1210210.7500\n",
            "Epoch 81/100\n",
            "18/18 [==============================] - 0s 8ms/step - loss: 107.4774 - mae: 107.4774 - mse: 70587.7109 - val_loss: 575.3071 - val_mae: 575.3071 - val_mse: 1194525.0000\n",
            "Epoch 82/100\n",
            "18/18 [==============================] - 1s 48ms/step - loss: 116.0849 - mae: 116.0849 - mse: 77559.8203 - val_loss: 574.7010 - val_mae: 574.7010 - val_mse: 1191654.5000\n",
            "Epoch 83/100\n",
            "18/18 [==============================] - 0s 8ms/step - loss: 112.1308 - mae: 112.1308 - mse: 73977.4375 - val_loss: 675.3381 - val_mae: 675.3381 - val_mse: 1427341.6250\n",
            "Epoch 84/100\n",
            "18/18 [==============================] - 0s 8ms/step - loss: 115.0502 - mae: 115.0502 - mse: 73674.6719 - val_loss: 614.5785 - val_mae: 614.5785 - val_mse: 1278186.1250\n",
            "Epoch 85/100\n",
            "18/18 [==============================] - 0s 8ms/step - loss: 108.8504 - mae: 108.8504 - mse: 71628.0391 - val_loss: 604.7703 - val_mae: 604.7703 - val_mse: 1237370.7500\n",
            "Epoch 86/100\n",
            "18/18 [==============================] - 0s 8ms/step - loss: 110.0321 - mae: 110.0321 - mse: 71016.5391 - val_loss: 602.2139 - val_mae: 602.2139 - val_mse: 1232156.0000\n",
            "Epoch 87/100\n",
            "18/18 [==============================] - 0s 10ms/step - loss: 107.3893 - mae: 107.3893 - mse: 69436.3359 - val_loss: 589.7186 - val_mae: 589.7186 - val_mse: 1221219.2500\n",
            "Epoch 88/100\n",
            "18/18 [==============================] - 0s 8ms/step - loss: 108.1691 - mae: 108.1691 - mse: 71753.4297 - val_loss: 585.2748 - val_mae: 585.2748 - val_mse: 1215729.0000\n",
            "Epoch 89/100\n",
            "18/18 [==============================] - 1s 36ms/step - loss: 107.6608 - mae: 107.6608 - mse: 70191.9219 - val_loss: 570.4505 - val_mae: 570.4505 - val_mse: 1185324.8750\n",
            "Epoch 90/100\n",
            "18/18 [==============================] - 0s 5ms/step - loss: 106.7054 - mae: 106.7054 - mse: 67982.4609 - val_loss: 605.5025 - val_mae: 605.5025 - val_mse: 1239582.5000\n",
            "Epoch 91/100\n",
            "18/18 [==============================] - 0s 5ms/step - loss: 113.4265 - mae: 113.4265 - mse: 73634.9922 - val_loss: 669.4648 - val_mae: 669.4648 - val_mse: 1404783.0000\n",
            "Epoch 92/100\n",
            "18/18 [==============================] - 0s 6ms/step - loss: 109.8578 - mae: 109.8578 - mse: 71773.4375 - val_loss: 605.5533 - val_mae: 605.5533 - val_mse: 1250963.6250\n",
            "Epoch 93/100\n",
            "18/18 [==============================] - 0s 5ms/step - loss: 118.1004 - mae: 118.1004 - mse: 76096.8203 - val_loss: 639.5706 - val_mae: 639.5706 - val_mse: 1327297.7500\n",
            "Epoch 94/100\n",
            "18/18 [==============================] - 0s 5ms/step - loss: 111.7005 - mae: 111.7005 - mse: 73515.7031 - val_loss: 573.6032 - val_mae: 573.6032 - val_mse: 1180229.8750\n",
            "Epoch 95/100\n",
            "18/18 [==============================] - 0s 5ms/step - loss: 109.8638 - mae: 109.8638 - mse: 71391.6797 - val_loss: 592.3129 - val_mae: 592.3129 - val_mse: 1209276.0000\n",
            "Epoch 96/100\n",
            "18/18 [==============================] - 0s 5ms/step - loss: 116.9042 - mae: 116.9042 - mse: 74909.7344 - val_loss: 648.1127 - val_mae: 648.1127 - val_mse: 1345960.8750\n",
            "Epoch 97/100\n",
            "18/18 [==============================] - 0s 6ms/step - loss: 111.0448 - mae: 111.0448 - mse: 72717.6094 - val_loss: 595.9883 - val_mae: 595.9883 - val_mse: 1227240.2500\n",
            "Epoch 98/100\n",
            "18/18 [==============================] - 0s 5ms/step - loss: 108.6078 - mae: 108.6078 - mse: 70256.4062 - val_loss: 571.9189 - val_mae: 571.9189 - val_mse: 1182318.7500\n",
            "Epoch 99/100\n",
            "18/18 [==============================] - 1s 32ms/step - loss: 107.6923 - mae: 107.6923 - mse: 70641.6953 - val_loss: 566.9916 - val_mae: 566.9916 - val_mse: 1171993.1250\n",
            "Epoch 100/100\n",
            "18/18 [==============================] - 0s 5ms/step - loss: 110.6368 - mae: 110.6368 - mse: 69784.3203 - val_loss: 621.5430 - val_mae: 621.5430 - val_mse: 1269586.1250\n"
          ]
        },
        {
          "output_type": "execute_result",
          "data": {
            "text/plain": [
              "<keras.src.callbacks.History at 0x7aa5513e3250>"
            ]
          },
          "metadata": {},
          "execution_count": 34
        }
      ]
    },
    {
      "cell_type": "code",
      "source": [
        "# Evaluate model\n",
        "model_1.evaluate(test_windows, test_labels)"
      ],
      "metadata": {
        "id": "D0_IL2eR0mxG",
        "outputId": "418d3fe6-4c78-47f8-d549-3fefd5ec7932",
        "colab": {
          "base_uri": "https://localhost:8080/"
        }
      },
      "execution_count": 35,
      "outputs": [
        {
          "output_type": "stream",
          "name": "stdout",
          "text": [
            "18/18 [==============================] - 0s 2ms/step - loss: 621.5430 - mae: 621.5430 - mse: 1269586.0000\n"
          ]
        },
        {
          "output_type": "execute_result",
          "data": {
            "text/plain": [
              "[621.54296875, 621.54296875, 1269586.0]"
            ]
          },
          "metadata": {},
          "execution_count": 35
        }
      ]
    },
    {
      "cell_type": "code",
      "source": [
        "# Load in the saved best performing model\n",
        "model_1 = tf.keras.models.load_model(\"/content/model_experiments/model_1_dense_7_1\")\n",
        "model_1.evaluate(test_windows, test_labels)"
      ],
      "metadata": {
        "id": "4CmWl3ey1I-z",
        "outputId": "74a4bc38-3c25-4309-a43f-4d5b6c652676",
        "colab": {
          "base_uri": "https://localhost:8080/"
        }
      },
      "execution_count": 36,
      "outputs": [
        {
          "output_type": "stream",
          "name": "stdout",
          "text": [
            "18/18 [==============================] - 0s 3ms/step - loss: 566.9916 - mae: 566.9916 - mse: 1171993.1250\n"
          ]
        },
        {
          "output_type": "execute_result",
          "data": {
            "text/plain": [
              "[566.9916381835938, 566.9916381835938, 1171993.125]"
            ]
          },
          "metadata": {},
          "execution_count": 36
        }
      ]
    },
    {
      "cell_type": "code",
      "source": [
        "naive_results"
      ],
      "metadata": {
        "id": "oCtBinez1ghh",
        "outputId": "b7c881b9-b2e9-43b8-9153-301c79c44b4e",
        "colab": {
          "base_uri": "https://localhost:8080/"
        }
      },
      "execution_count": 37,
      "outputs": [
        {
          "output_type": "execute_result",
          "data": {
            "text/plain": [
              "{'mae': 567.9802183723001,\n",
              " 'mse': 1147547.0780835983,\n",
              " 'rmse': 1071.2362382236695,\n",
              " 'mape': 2.5165248502692306,\n",
              " 'mase': 0.99957}"
            ]
          },
          "metadata": {},
          "execution_count": 37
        }
      ]
    },
    {
      "cell_type": "markdown",
      "source": [
        "## Making forecasts with the model"
      ],
      "metadata": {
        "id": "3dChdbel1s5B"
      }
    },
    {
      "cell_type": "code",
      "source": [
        "def make_preds(model, input_data):\n",
        "  \"\"\"\n",
        "  Uses model to make predictions on input_data\n",
        "  \"\"\"\n",
        "  forecast = model.predict(input_data)\n",
        "  return tf.squeeze(forecast)"
      ],
      "metadata": {
        "id": "Fh-reog514yh"
      },
      "execution_count": 38,
      "outputs": []
    },
    {
      "cell_type": "code",
      "source": [
        "# Make predictions and view results\n",
        "model_1_preds = make_preds(model_1, test_windows)\n",
        "model_1_results = evaluate_preds(tf.squeeze(test_labels), model_1_preds) # tensors of different shapes\n",
        "model_1_results"
      ],
      "metadata": {
        "id": "0z8h27Jl2tJu",
        "outputId": "5ff9bbd7-6317-4fea-852b-35ab4cd820be",
        "colab": {
          "base_uri": "https://localhost:8080/"
        }
      },
      "execution_count": 39,
      "outputs": [
        {
          "output_type": "stream",
          "name": "stdout",
          "text": [
            "18/18 [==============================] - 0s 2ms/step\n"
          ]
        },
        {
          "output_type": "execute_result",
          "data": {
            "text/plain": [
              "{'mae': 566.9916,\n",
              " 'mse': 1171993.0,\n",
              " 'rmse': 1082.5863,\n",
              " 'mape': 2.561862,\n",
              " 'mase': 0.99604714}"
            ]
          },
          "metadata": {},
          "execution_count": 39
        }
      ]
    },
    {
      "cell_type": "code",
      "source": [
        "# Plot preds\n",
        "offset = 450\n",
        "plt.figure(figsize=(10, 7))\n",
        "plot_time_series(timesteps=X_test[-len(test_windows):], values=test_labels[:,0], start=offset, label=\"test_data\")\n",
        "plot_time_series(timesteps=X_test[-len(test_windows):], values=model_1_preds, start=offset, format=\"-\", label=\"Predictions\")"
      ],
      "metadata": {
        "id": "ZrYamWLF3J5E",
        "outputId": "e25750ec-2e10-4189-8ffb-48fe53e79702",
        "colab": {
          "base_uri": "https://localhost:8080/",
          "height": 622
        }
      },
      "execution_count": 40,
      "outputs": [
        {
          "output_type": "display_data",
          "data": {
            "text/plain": [
              "<Figure size 1000x700 with 1 Axes>"
            ],
            "image/png": "[encoded data removed]"
          },
          "metadata": {}
        }
      ]
    },
    {
      "cell_type": "markdown",
      "source": [
        "https://otexts.com/fpp2/autocorrelation.html"
      ],
      "metadata": {
        "id": "K-2aNMA94Gy4"
      }
    },
    {
      "cell_type": "markdown",
      "source": [
        "## Model 2: Dense window = 30, horizon = 1"
      ],
      "metadata": {
        "id": "PjFinXufzCOR"
      }
    },
    {
      "cell_type": "code",
      "source": [
        "WINDOW_SIZE = 30"
      ],
      "metadata": {
        "id": "XCD7BL2pzGvO"
      },
      "execution_count": 41,
      "outputs": []
    },
    {
      "cell_type": "code",
      "source": [
        "# Make window data\n",
        "full_windows, full_labels = make_windows(prices, window_size=WINDOW_SIZE) # otherwise it takes the WINDOW value specified before fcn definition\n",
        "len(full_windows), len(full_labels)"
      ],
      "metadata": {
        "id": "uzz1sTOjzoao",
        "outputId": "16011c95-280d-4541-c71a-3a59c0c51277",
        "colab": {
          "base_uri": "https://localhost:8080/"
        }
      },
      "execution_count": 42,
      "outputs": [
        {
          "output_type": "execute_result",
          "data": {
            "text/plain": [
              "(2757, 2757)"
            ]
          },
          "metadata": {},
          "execution_count": 42
        }
      ]
    },
    {
      "cell_type": "code",
      "source": [
        "# Make train and test splits\n",
        "train_windows, test_windows, train_labels, test_labels = make_train_test_splits(full_windows, full_labels)\n",
        "\n",
        "len(train_windows), len(test_windows)"
      ],
      "metadata": {
        "id": "ZoROtWSqz6pT",
        "outputId": "45711e53-e33f-4dd5-d7f4-7a62ef343bac",
        "colab": {
          "base_uri": "https://localhost:8080/"
        }
      },
      "execution_count": 43,
      "outputs": [
        {
          "output_type": "execute_result",
          "data": {
            "text/plain": [
              "(2205, 552)"
            ]
          },
          "metadata": {},
          "execution_count": 43
        }
      ]
    },
    {
      "cell_type": "code",
      "source": [
        "tf.random.set_seed(42)\n",
        "\n",
        "# Create model\n",
        "model_2 = tf.keras.Sequential([\n",
        "    layers.Dense(128, activation=\"relu\"),\n",
        "    layers.Dense(HORIZON)\n",
        "], name=\"model_2_dense_30_1\")\n",
        "\n",
        "# Compile\n",
        "model_2.compile(optimizer=tf.keras.optimizers.Adam(),\n",
        "                loss=\"mae\")\n",
        "\n",
        "# Fit\n",
        "model_2.fit(train_windows,\n",
        "            train_labels,\n",
        "            epochs=100,\n",
        "            batch_size=128,\n",
        "            verbose=0,\n",
        "            validation_data=(test_windows, test_labels),\n",
        "            callbacks=[create_model_checkpoint(model_name=model_2.name)])"
      ],
      "metadata": {
        "id": "WHhExgRg02bT",
        "outputId": "086eb8ce-37b1-4291-f690-cd06e5830c3c",
        "colab": {
          "base_uri": "https://localhost:8080/"
        }
      },
      "execution_count": 44,
      "outputs": [
        {
          "output_type": "execute_result",
          "data": {
            "text/plain": [
              "<keras.src.callbacks.History at 0x7aa5417152a0>"
            ]
          },
          "metadata": {},
          "execution_count": 44
        }
      ]
    },
    {
      "cell_type": "code",
      "source": [
        "# Evaluate\n",
        "model_2.evaluate(test_windows, test_labels)"
      ],
      "metadata": {
        "id": "0Cz34mes2Ou6",
        "outputId": "e64c47d3-d3b2-458e-afa6-80c24d2c07f2",
        "colab": {
          "base_uri": "https://localhost:8080/"
        }
      },
      "execution_count": 45,
      "outputs": [
        {
          "output_type": "stream",
          "name": "stdout",
          "text": [
            "18/18 [==============================] - 0s 2ms/step - loss: 674.0579\n"
          ]
        },
        {
          "output_type": "execute_result",
          "data": {
            "text/plain": [
              "674.057861328125"
            ]
          },
          "metadata": {},
          "execution_count": 45
        }
      ]
    },
    {
      "cell_type": "code",
      "source": [
        "# Load the best performig one\n",
        "model_2 = tf.keras.models.load_model(\"/content/model_experiments/model_2_dense_30_1\")\n",
        "model_2.evaluate(test_windows, test_labels)"
      ],
      "metadata": {
        "id": "S4UWv1yb2Zu3",
        "outputId": "6f652827-ce6a-4dd3-f3e7-04d4b5c74980",
        "colab": {
          "base_uri": "https://localhost:8080/"
        }
      },
      "execution_count": 46,
      "outputs": [
        {
          "output_type": "stream",
          "name": "stdout",
          "text": [
            "18/18 [==============================] - 0s 2ms/step - loss: 613.3463\n"
          ]
        },
        {
          "output_type": "execute_result",
          "data": {
            "text/plain": [
              "613.3463134765625"
            ]
          },
          "metadata": {},
          "execution_count": 46
        }
      ]
    },
    {
      "cell_type": "code",
      "source": [
        "# Get forecast predictions\n",
        "model_2_preds = make_preds(model_2, test_windows)\n",
        "# Calculate resultd\n",
        "model_2_results = evaluate_preds(tf.squeeze(test_labels), model_2_preds)\n",
        "model_2_results"
      ],
      "metadata": {
        "id": "RbhsH1bl2oFB",
        "outputId": "b2f86032-a6f4-4ba1-bc98-8f7638d4c86b",
        "colab": {
          "base_uri": "https://localhost:8080/"
        }
      },
      "execution_count": 47,
      "outputs": [
        {
          "output_type": "stream",
          "name": "stdout",
          "text": [
            "18/18 [==============================] - 0s 2ms/step\n"
          ]
        },
        {
          "output_type": "execute_result",
          "data": {
            "text/plain": [
              "{'mae': 613.3463,\n",
              " 'mse': 1296627.0,\n",
              " 'rmse': 1138.6953,\n",
              " 'mape': 2.767736,\n",
              " 'mase': 1.0721353}"
            ]
          },
          "metadata": {},
          "execution_count": 47
        }
      ]
    },
    {
      "cell_type": "code",
      "source": [
        "offset = 300\n",
        "plt.figure(figsize=(10, 7))\n",
        "plot_time_series(X_test[-len(test_windows):], test_labels[:,0], start=offset, label=\"Test data\")\n",
        "plot_time_series(X_test[-len(test_windows):], model_2_preds, start=offset, format=\"-\", label=\"Predictions\")"
      ],
      "metadata": {
        "id": "B7GOxJC43Etv",
        "outputId": "720886e6-6db8-40a6-a150-792987ce552a",
        "colab": {
          "base_uri": "https://localhost:8080/",
          "height": 619
        }
      },
      "execution_count": 48,
      "outputs": [
        {
          "output_type": "display_data",
          "data": {
            "text/plain": [
              "<Figure size 1000x700 with 1 Axes>"
            ],
            "image/png": "[encoded data removed]"
          },
          "metadata": {}
        }
      ]
    },
    {
      "cell_type": "markdown",
      "source": [
        "## Model 3: Dense window = 30 horizon = 7"
      ],
      "metadata": {
        "id": "umbrO8XJ3_eP"
      }
    },
    {
      "cell_type": "code",
      "source": [
        "WINDOW_SIZE = 30\n",
        "HORIZON = 7\n",
        "\n",
        "# Make window data\n",
        "full_windows, full_labels = make_windows(prices, window_size=WINDOW_SIZE, horizon=HORIZON)\n",
        "# Make train and test splits\n",
        "train_windows, test_windows, train_labels, test_labels = make_train_test_splits(full_windows, full_labels)\n",
        "len(train_windows), len(test_windows)"
      ],
      "metadata": {
        "id": "YInNZryp5L6I",
        "outputId": "9b67a7f3-75d8-46bf-efd1-6d8470087e79",
        "colab": {
          "base_uri": "https://localhost:8080/"
        }
      },
      "execution_count": 49,
      "outputs": [
        {
          "output_type": "execute_result",
          "data": {
            "text/plain": [
              "(2200, 551)"
            ]
          },
          "metadata": {},
          "execution_count": 49
        }
      ]
    },
    {
      "cell_type": "code",
      "source": [
        "tf.random.set_seed(42)\n",
        "\n",
        "# Create model\n",
        "model_3 = tf.keras.Sequential([\n",
        "    layers.Dense(128, activation=\"relu\"),\n",
        "    layers.Dense(HORIZON)\n",
        "], name=\"model_3_dense_30_7\")\n",
        "\n",
        "# Compile\n",
        "model_3.compile(optimizer=tf.keras.optimizers.Adam(),\n",
        "                loss=\"mae\")\n",
        "\n",
        "# Fit\n",
        "model_3.fit(train_windows,\n",
        "            train_labels,\n",
        "            epochs=100,\n",
        "            batch_size=128,\n",
        "            verbose=0,\n",
        "            validation_data=(test_windows, test_labels),\n",
        "            callbacks=[create_model_checkpoint(model_name=model_3.name)])"
      ],
      "metadata": {
        "id": "UEMl_5oa5cLy",
        "outputId": "9ad740ce-d6b0-43a3-a629-b03f7016c61b",
        "colab": {
          "base_uri": "https://localhost:8080/"
        }
      },
      "execution_count": 50,
      "outputs": [
        {
          "output_type": "execute_result",
          "data": {
            "text/plain": [
              "<keras.src.callbacks.History at 0x7aa5437007c0>"
            ]
          },
          "metadata": {},
          "execution_count": 50
        }
      ]
    },
    {
      "cell_type": "code",
      "source": [
        "# Evaluate\n",
        "model_3.evaluate(test_windows, test_labels)"
      ],
      "metadata": {
        "id": "kUF9iwyC6hcG",
        "outputId": "c1e9b69b-b6c8-4765-df57-c17fdc8b6da6",
        "colab": {
          "base_uri": "https://localhost:8080/"
        }
      },
      "execution_count": 51,
      "outputs": [
        {
          "output_type": "stream",
          "name": "stdout",
          "text": [
            "18/18 [==============================] - 0s 4ms/step - loss: 1383.9088\n"
          ]
        },
        {
          "output_type": "execute_result",
          "data": {
            "text/plain": [
              "1383.9088134765625"
            ]
          },
          "metadata": {},
          "execution_count": 51
        }
      ]
    },
    {
      "cell_type": "code",
      "source": [
        "# Load the best performig one\n",
        "model_3 = tf.keras.models.load_model(\"/content/model_experiments/model_3_dense_30_7\")\n",
        "model_3.evaluate(test_windows, test_labels)"
      ],
      "metadata": {
        "id": "_yYVSvC17nW9",
        "outputId": "f300825c-8965-4a75-f076-fdf7884909c8",
        "colab": {
          "base_uri": "https://localhost:8080/"
        }
      },
      "execution_count": 52,
      "outputs": [
        {
          "output_type": "stream",
          "name": "stdout",
          "text": [
            "18/18 [==============================] - 1s 8ms/step - loss: 1222.3210\n"
          ]
        },
        {
          "output_type": "execute_result",
          "data": {
            "text/plain": [
              "1222.321044921875"
            ]
          },
          "metadata": {},
          "execution_count": 52
        }
      ]
    },
    {
      "cell_type": "code",
      "source": [
        "# Get forecast predictions\n",
        "model_3_preds = make_preds(model_3, test_windows)\n",
        "# Calculate results\n",
        "model_3_results = evaluate_preds(tf.squeeze(test_labels), model_3_preds[:,6])\n",
        "model_3_results"
      ],
      "metadata": {
        "id": "CaUZmlxM7s4V",
        "outputId": "cfb8464b-79f3-4d4d-8d8b-795c59d51cd8",
        "colab": {
          "base_uri": "https://localhost:8080/",
          "height": 421
        }
      },
      "execution_count": 53,
      "outputs": [
        {
          "output_type": "stream",
          "name": "stdout",
          "text": [
            "18/18 [==============================] - 0s 10ms/step\n"
          ]
        },
        {
          "output_type": "error",
          "ename": "InvalidArgumentError",
          "evalue": "ignored",
          "traceback": [
            "\u001b[0;31m---------------------------------------------------------------------------\u001b[0m",
            "\u001b[0;31mInvalidArgumentError\u001b[0m                      Traceback (most recent call last)",
            "\u001b[0;32m<ipython-input-53-1b9dcfe77b19>\u001b[0m in \u001b[0;36m<cell line: 4>\u001b[0;34m()\u001b[0m\n\u001b[1;32m      2\u001b[0m \u001b[0mmodel_3_preds\u001b[0m \u001b[0;34m=\u001b[0m \u001b[0mmake_preds\u001b[0m\u001b[0;34m(\u001b[0m\u001b[0mmodel_3\u001b[0m\u001b[0;34m,\u001b[0m \u001b[0mtest_windows\u001b[0m\u001b[0;34m)\u001b[0m\u001b[0;34m\u001b[0m\u001b[0;34m\u001b[0m\u001b[0m\n\u001b[1;32m      3\u001b[0m \u001b[0;31m# Calculate results\u001b[0m\u001b[0;34m\u001b[0m\u001b[0;34m\u001b[0m\u001b[0m\n\u001b[0;32m----> 4\u001b[0;31m \u001b[0mmodel_3_results\u001b[0m \u001b[0;34m=\u001b[0m \u001b[0mevaluate_preds\u001b[0m\u001b[0;34m(\u001b[0m\u001b[0mtf\u001b[0m\u001b[0;34m.\u001b[0m\u001b[0msqueeze\u001b[0m\u001b[0;34m(\u001b[0m\u001b[0mtest_labels\u001b[0m\u001b[0;34m)\u001b[0m\u001b[0;34m,\u001b[0m \u001b[0mmodel_3_preds\u001b[0m\u001b[0;34m[\u001b[0m\u001b[0;34m:\u001b[0m\u001b[0;34m,\u001b[0m\u001b[0;36m6\u001b[0m\u001b[0;34m]\u001b[0m\u001b[0;34m)\u001b[0m\u001b[0;34m\u001b[0m\u001b[0;34m\u001b[0m\u001b[0m\n\u001b[0m\u001b[1;32m      5\u001b[0m \u001b[0mmodel_3_results\u001b[0m\u001b[0;34m\u001b[0m\u001b[0;34m\u001b[0m\u001b[0m\n",
            "\u001b[0;32m<ipython-input-22-1808275f1977>\u001b[0m in \u001b[0;36mevaluate_preds\u001b[0;34m(y_true, y_pred)\u001b[0m\n\u001b[1;32m      6\u001b[0m \u001b[0;34m\u001b[0m\u001b[0m\n\u001b[1;32m      7\u001b[0m   \u001b[0;31m# Calculate various metrics\u001b[0m\u001b[0;34m\u001b[0m\u001b[0;34m\u001b[0m\u001b[0m\n\u001b[0;32m----> 8\u001b[0;31m   \u001b[0mmae\u001b[0m \u001b[0;34m=\u001b[0m \u001b[0mtf\u001b[0m\u001b[0;34m.\u001b[0m\u001b[0mkeras\u001b[0m\u001b[0;34m.\u001b[0m\u001b[0mmetrics\u001b[0m\u001b[0;34m.\u001b[0m\u001b[0mmean_absolute_error\u001b[0m\u001b[0;34m(\u001b[0m\u001b[0my_true\u001b[0m\u001b[0;34m,\u001b[0m \u001b[0my_pred\u001b[0m\u001b[0;34m)\u001b[0m\u001b[0;34m\u001b[0m\u001b[0;34m\u001b[0m\u001b[0m\n\u001b[0m\u001b[1;32m      9\u001b[0m   \u001b[0mmse\u001b[0m \u001b[0;34m=\u001b[0m \u001b[0mtf\u001b[0m\u001b[0;34m.\u001b[0m\u001b[0mkeras\u001b[0m\u001b[0;34m.\u001b[0m\u001b[0mmetrics\u001b[0m\u001b[0;34m.\u001b[0m\u001b[0mmean_squared_error\u001b[0m\u001b[0;34m(\u001b[0m\u001b[0my_true\u001b[0m\u001b[0;34m,\u001b[0m \u001b[0my_pred\u001b[0m\u001b[0;34m)\u001b[0m\u001b[0;34m\u001b[0m\u001b[0;34m\u001b[0m\u001b[0m\n\u001b[1;32m     10\u001b[0m   \u001b[0mrmse\u001b[0m \u001b[0;34m=\u001b[0m \u001b[0mtf\u001b[0m\u001b[0;34m.\u001b[0m\u001b[0msqrt\u001b[0m\u001b[0;34m(\u001b[0m\u001b[0mmse\u001b[0m\u001b[0;34m)\u001b[0m\u001b[0;34m\u001b[0m\u001b[0;34m\u001b[0m\u001b[0m\n",
            "\u001b[0;32m/usr/local/lib/python3.10/dist-packages/tensorflow/python/util/traceback_utils.py\u001b[0m in \u001b[0;36merror_handler\u001b[0;34m(*args, **kwargs)\u001b[0m\n\u001b[1;32m    151\u001b[0m     \u001b[0;32mexcept\u001b[0m \u001b[0mException\u001b[0m \u001b[0;32mas\u001b[0m \u001b[0me\u001b[0m\u001b[0;34m:\u001b[0m\u001b[0;34m\u001b[0m\u001b[0;34m\u001b[0m\u001b[0m\n\u001b[1;32m    152\u001b[0m       \u001b[0mfiltered_tb\u001b[0m \u001b[0;34m=\u001b[0m \u001b[0m_process_traceback_frames\u001b[0m\u001b[0;34m(\u001b[0m\u001b[0me\u001b[0m\u001b[0;34m.\u001b[0m\u001b[0m__traceback__\u001b[0m\u001b[0;34m)\u001b[0m\u001b[0;34m\u001b[0m\u001b[0;34m\u001b[0m\u001b[0m\n\u001b[0;32m--> 153\u001b[0;31m       \u001b[0;32mraise\u001b[0m \u001b[0me\u001b[0m\u001b[0;34m.\u001b[0m\u001b[0mwith_traceback\u001b[0m\u001b[0;34m(\u001b[0m\u001b[0mfiltered_tb\u001b[0m\u001b[0;34m)\u001b[0m \u001b[0;32mfrom\u001b[0m \u001b[0;32mNone\u001b[0m\u001b[0;34m\u001b[0m\u001b[0;34m\u001b[0m\u001b[0m\n\u001b[0m\u001b[1;32m    154\u001b[0m     \u001b[0;32mfinally\u001b[0m\u001b[0;34m:\u001b[0m\u001b[0;34m\u001b[0m\u001b[0;34m\u001b[0m\u001b[0m\n\u001b[1;32m    155\u001b[0m       \u001b[0;32mdel\u001b[0m \u001b[0mfiltered_tb\u001b[0m\u001b[0;34m\u001b[0m\u001b[0;34m\u001b[0m\u001b[0m\n",
            "\u001b[0;32m/usr/local/lib/python3.10/dist-packages/keras/src/losses.py\u001b[0m in \u001b[0;36mmean_absolute_error\u001b[0;34m(y_true, y_pred)\u001b[0m\n\u001b[1;32m   1846\u001b[0m     \u001b[0my_pred\u001b[0m \u001b[0;34m=\u001b[0m \u001b[0mtf\u001b[0m\u001b[0;34m.\u001b[0m\u001b[0mconvert_to_tensor\u001b[0m\u001b[0;34m(\u001b[0m\u001b[0my_pred\u001b[0m\u001b[0;34m)\u001b[0m\u001b[0;34m\u001b[0m\u001b[0;34m\u001b[0m\u001b[0m\n\u001b[1;32m   1847\u001b[0m     \u001b[0my_true\u001b[0m \u001b[0;34m=\u001b[0m \u001b[0mtf\u001b[0m\u001b[0;34m.\u001b[0m\u001b[0mcast\u001b[0m\u001b[0;34m(\u001b[0m\u001b[0my_true\u001b[0m\u001b[0;34m,\u001b[0m \u001b[0my_pred\u001b[0m\u001b[0;34m.\u001b[0m\u001b[0mdtype\u001b[0m\u001b[0;34m)\u001b[0m\u001b[0;34m\u001b[0m\u001b[0;34m\u001b[0m\u001b[0m\n\u001b[0;32m-> 1848\u001b[0;31m     \u001b[0;32mreturn\u001b[0m \u001b[0mbackend\u001b[0m\u001b[0;34m.\u001b[0m\u001b[0mmean\u001b[0m\u001b[0;34m(\u001b[0m\u001b[0mtf\u001b[0m\u001b[0;34m.\u001b[0m\u001b[0mabs\u001b[0m\u001b[0;34m(\u001b[0m\u001b[0my_pred\u001b[0m \u001b[0;34m-\u001b[0m \u001b[0my_true\u001b[0m\u001b[0;34m)\u001b[0m\u001b[0;34m,\u001b[0m \u001b[0maxis\u001b[0m\u001b[0;34m=\u001b[0m\u001b[0;34m-\u001b[0m\u001b[0;36m1\u001b[0m\u001b[0;34m)\u001b[0m\u001b[0;34m\u001b[0m\u001b[0;34m\u001b[0m\u001b[0m\n\u001b[0m\u001b[1;32m   1849\u001b[0m \u001b[0;34m\u001b[0m\u001b[0m\n\u001b[1;32m   1850\u001b[0m \u001b[0;34m\u001b[0m\u001b[0m\n",
            "\u001b[0;31mInvalidArgumentError\u001b[0m: {{function_node __wrapped__Sub_device_/job:localhost/replica:0/task:0/device:CPU:0}} Incompatible shapes: [551] vs. [551,7] [Op:Sub] name: "
          ]
        }
      ]
    },
    {
      "cell_type": "markdown",
      "source": [
        "## Make the evaluation fcn work for larger horizons"
      ],
      "metadata": {
        "id": "BnSK5KjQ76z7"
      }
    },
    {
      "cell_type": "code",
      "source": [
        "def evaluate_preds(y_true, y_pred):\n",
        "  # Make sure float32 datatype for metric calculations in order for tf not to spew errors\n",
        "  y_true = tf.cast(y_true, dtype=tf.float32)\n",
        "  y_true = tf.cast(y_true, dtype=tf.float32)\n",
        "\n",
        "  # Calculate various metrics\n",
        "  mae = tf.keras.metrics.mean_absolute_error(y_true, y_pred)\n",
        "  mse = tf.keras.metrics.mean_squared_error(y_true, y_pred)\n",
        "  rmse = tf.sqrt(mse)\n",
        "  mape = tf.keras.metrics.mean_absolute_percentage_error(y_true, y_pred)\n",
        "  mase = mean_absolute_scaled_error(y_true, y_pred)\n",
        "\n",
        "  if mae.ndim > 0:\n",
        "    mae = tf.reduce_mean(mae)\n",
        "    mse = tf.reduce_mean(mse)\n",
        "    rmse = tf.reduce_mean(rmse)\n",
        "    mape = tf.reduce_mean(mape)\n",
        "    mase = tf.reduce_mean(mase)\n",
        "\n",
        "  return {\"mae\": mae.numpy(), # so that it doesn't return tf tensors\n",
        "          \"mse\": mse.numpy(),\n",
        "          \"rmse\": rmse.numpy(),\n",
        "          \"mape\": mape.numpy(),\n",
        "          \"mase\": mase.numpy()}"
      ],
      "metadata": {
        "id": "TTy5KsD8_hsF"
      },
      "execution_count": 55,
      "outputs": []
    },
    {
      "cell_type": "code",
      "source": [
        "model_3_results = evaluate_preds(tf.squeeze(test_labels), model_3_preds)\n",
        "model_3_results"
      ],
      "metadata": {
        "id": "R7VMrlHzAkqO",
        "outputId": "4d136360-3395-4087-d35c-c3db53c91584",
        "colab": {
          "base_uri": "https://localhost:8080/"
        }
      },
      "execution_count": 56,
      "outputs": [
        {
          "output_type": "execute_result",
          "data": {
            "text/plain": [
              "{'mae': 1222.321,\n",
              " 'mse': 5343279.5,\n",
              " 'rmse': 1406.0939,\n",
              " 'mape': 5.4511485,\n",
              " 'mase': 2.1750515}"
            ]
          },
          "metadata": {},
          "execution_count": 56
        }
      ]
    },
    {
      "cell_type": "code",
      "source": [
        "# Plot results\n",
        "offset = 300\n",
        "plt.figure(figsize=(10, 7))\n",
        "plot_time_series(X_test[-len(test_windows):], test_labels[:,0], start=offset, label=\"Test data\")\n",
        "plot_time_series(X_test[-len(test_windows):], tf.reduce_mean(model_3_preds, axis=1), start=offset, label=f\"Model 3 preds\", format=\"-\")"
      ],
      "metadata": {
        "id": "pL6PNe7xAzQe",
        "outputId": "c64249ed-b219-4adc-944c-4f18a07948c3",
        "colab": {
          "base_uri": "https://localhost:8080/",
          "height": 619
        }
      },
      "execution_count": 57,
      "outputs": [
        {
          "output_type": "display_data",
          "data": {
            "text/plain": [
              "<Figure size 1000x700 with 1 Axes>"
            ],
            "image/png": "[encoded data removed]"
          },
          "metadata": {}
        }
      ]
    },
    {
      "cell_type": "markdown",
      "source": [
        "## Which of the models is performing best so far\n",
        "\n",
        "https://towardsdatascience.com/how-not-to-use-machine-learning-for-time-series-forecasting-avoiding-the-pitfalls-19f9d7adf424"
      ],
      "metadata": {
        "id": "fkdRsZCTBfur"
      }
    },
    {
      "cell_type": "code",
      "source": [
        "import pandas as pd\n",
        "pd.DataFrame({\"naive\": naive_results[\"mae\"],\n",
        "              \"w7h1\": model_1_results[\"mae\"],\n",
        "              \"w30h1\": model_2_results[\"mae\"],\n",
        "              \"w30h7\": model_3_results[\"mae\"]}, index=[\"mae\"]).plot(figsize=(10, 7), kind=\"bar\")"
      ],
      "metadata": {
        "id": "wxFhzW1xDlsc",
        "outputId": "67ebfdc3-04e3-428a-a15b-b54b401387f9",
        "colab": {
          "base_uri": "https://localhost:8080/",
          "height": 634
        }
      },
      "execution_count": 58,
      "outputs": [
        {
          "output_type": "execute_result",
          "data": {
            "text/plain": [
              "<Axes: >"
            ]
          },
          "metadata": {},
          "execution_count": 58
        },
        {
          "output_type": "display_data",
          "data": {
            "text/plain": [
              "<Figure size 1000x700 with 1 Axes>"
            ],
            "image/png": "[encoded data removed]"
          },
          "metadata": {}
        }
      ]
    },
    {
      "cell_type": "markdown",
      "source": [
        "## Model 4: Conv1D"
      ],
      "metadata": {
        "id": "gouMW3r0ERM1"
      }
    },
    {
      "cell_type": "code",
      "source": [
        "HORIZON = 1\n",
        "WINDOW_SIZE = 7"
      ],
      "metadata": {
        "id": "GAKXY1yoGGmk"
      },
      "execution_count": 59,
      "outputs": []
    },
    {
      "cell_type": "code",
      "source": [
        "# Create a window dataset\n",
        "full_windows, full_labels = make_windows(prices, window_size=WINDOW_SIZE, horizon=HORIZON)\n",
        "# Make train and test splits\n",
        "train_windows, test_windows, train_labels, test_labels = make_train_test_splits(full_windows, full_labels)\n",
        "len(train_windows), len(test_windows), len(train_labels), len(test_labels)"
      ],
      "metadata": {
        "id": "drndMePGGO4v",
        "outputId": "6cdb8425-f93c-45cd-d477-2830a19aade7",
        "colab": {
          "base_uri": "https://localhost:8080/"
        }
      },
      "execution_count": 60,
      "outputs": [
        {
          "output_type": "execute_result",
          "data": {
            "text/plain": [
              "(2224, 556, 2224, 556)"
            ]
          },
          "metadata": {},
          "execution_count": 60
        }
      ]
    },
    {
      "cell_type": "markdown",
      "source": [
        "TO use a Conv1D layer we need an input shape of `(batch_size, timesteps, input_dim)`"
      ],
      "metadata": {
        "id": "PdMMhO_GGnjx"
      }
    },
    {
      "cell_type": "code",
      "source": [
        "train_windows[0].shape"
      ],
      "metadata": {
        "id": "2VS8Cd3JG90y",
        "outputId": "884f9bf2-740d-4f9e-d2b7-a795ab614041",
        "colab": {
          "base_uri": "https://localhost:8080/"
        }
      },
      "execution_count": 61,
      "outputs": [
        {
          "output_type": "execute_result",
          "data": {
            "text/plain": [
              "(7,)"
            ]
          },
          "metadata": {},
          "execution_count": 61
        }
      ]
    },
    {
      "cell_type": "code",
      "source": [
        "# Reahape the data\n",
        "x = tf.constant(train_windows[0])\n",
        "expand_dims_layer = layers.Lambda(lambda x: tf.expand_dims(x, axis=1)) # add an extra layer"
      ],
      "metadata": {
        "id": "_80dAl3hHDIM"
      },
      "execution_count": 62,
      "outputs": []
    },
    {
      "cell_type": "code",
      "source": [
        "# Test the lambda layer\n",
        "print(f\"Original shape: {x.shape}\")\n",
        "print(f\"Expanded shape: {expand_dims_layer(x).shape}\")"
      ],
      "metadata": {
        "id": "8cAH3l1PHkCL",
        "outputId": "d75bde5a-eec6-423d-8022-ccd8a871e38d",
        "colab": {
          "base_uri": "https://localhost:8080/"
        }
      },
      "execution_count": 63,
      "outputs": [
        {
          "output_type": "stream",
          "name": "stdout",
          "text": [
            "Original shape: (7,)\n",
            "Expanded shape: (7, 1)\n"
          ]
        }
      ]
    },
    {
      "cell_type": "code",
      "source": [
        "tf.random.set_seed(42)\n",
        "\n",
        "# Create a model\n",
        "model_4 = tf.keras.Sequential([\n",
        "    layers.Lambda(lambda x: tf.expand_dims(x, axis=1)),\n",
        "    layers.Conv1D(128, kernel_size=WINDOW_SIZE, padding=\"causal\", activation=\"relu\"), # Padding specifically for temporal data\n",
        "    layers.Dense(HORIZON)\n",
        "], name=\"model_4_conv1d\")\n",
        "\n",
        "# Compile\n",
        "model_4.compile(optimizer=tf.keras.optimizers.Adam(),\n",
        "                loss=\"mae\")\n",
        "\n",
        "# Fit\n",
        "model_4.fit(train_windows,\n",
        "            train_labels,\n",
        "            batch_size=128,\n",
        "            epochs=100,\n",
        "            verbose=0,\n",
        "            validation_data=(test_windows, test_labels),\n",
        "            callbacks=[create_model_checkpoint(model_name=model_4.name)])"
      ],
      "metadata": {
        "id": "pYV7w_wMH5w4",
        "outputId": "abe89b72-1d18-4d57-cad5-9b5d8143c1bd",
        "colab": {
          "base_uri": "https://localhost:8080/"
        }
      },
      "execution_count": 64,
      "outputs": [
        {
          "output_type": "execute_result",
          "data": {
            "text/plain": [
              "<keras.src.callbacks.History at 0x7aa541957d00>"
            ]
          },
          "metadata": {},
          "execution_count": 64
        }
      ]
    },
    {
      "cell_type": "code",
      "source": [
        "model_4.summary()"
      ],
      "metadata": {
        "id": "A_8uUx2IKg71",
        "outputId": "8260b425-bdf5-460e-93dc-340a1f28ff92",
        "colab": {
          "base_uri": "https://localhost:8080/"
        }
      },
      "execution_count": 65,
      "outputs": [
        {
          "output_type": "stream",
          "name": "stdout",
          "text": [
            "Model: \"model_4_conv1d\"\n",
            "_________________________________________________________________\n",
            " Layer (type)                Output Shape              Param #   \n",
            "=================================================================\n",
            " lambda_1 (Lambda)           (None, 1, 7)              0         \n",
            "                                                                 \n",
            " conv1d (Conv1D)             (None, 1, 128)            6400      \n",
            "                                                                 \n",
            " dense_6 (Dense)             (None, 1, 1)              129       \n",
            "                                                                 \n",
            "=================================================================\n",
            "Total params: 6529 (25.50 KB)\n",
            "Trainable params: 6529 (25.50 KB)\n",
            "Non-trainable params: 0 (0.00 Byte)\n",
            "_________________________________________________________________\n"
          ]
        }
      ]
    },
    {
      "cell_type": "code",
      "source": [
        "model_4.evaluate(test_windows, test_labels)"
      ],
      "metadata": {
        "id": "60N8Fwc8K7tl",
        "outputId": "c9b885ce-45f1-4bf1-88f4-2b364cd992fd",
        "colab": {
          "base_uri": "https://localhost:8080/"
        }
      },
      "execution_count": 66,
      "outputs": [
        {
          "output_type": "stream",
          "name": "stdout",
          "text": [
            "18/18 [==============================] - 0s 4ms/step - loss: 647.4673\n"
          ]
        },
        {
          "output_type": "execute_result",
          "data": {
            "text/plain": [
              "647.4673461914062"
            ]
          },
          "metadata": {},
          "execution_count": 66
        }
      ]
    },
    {
      "cell_type": "code",
      "source": [
        "model_4 = tf.keras.models.load_model(\"/content/model_experiments/model_4_conv1d\")\n",
        "model_4.evaluate(test_windows, test_labels)"
      ],
      "metadata": {
        "id": "5-7aRi_6K_EN",
        "outputId": "442eba87-9224-4108-ab30-716d773f9d83",
        "colab": {
          "base_uri": "https://localhost:8080/"
        }
      },
      "execution_count": 67,
      "outputs": [
        {
          "output_type": "stream",
          "name": "stdout",
          "text": [
            "18/18 [==============================] - 1s 9ms/step - loss: 572.1281\n"
          ]
        },
        {
          "output_type": "execute_result",
          "data": {
            "text/plain": [
              "572.1281127929688"
            ]
          },
          "metadata": {},
          "execution_count": 67
        }
      ]
    },
    {
      "cell_type": "code",
      "source": [
        "# Make predictions\n",
        "model_4_preds = make_preds(model_4, test_windows)\n",
        "model_4_preds.shape"
      ],
      "metadata": {
        "id": "CmA00LseLLYG",
        "outputId": "69cebb54-70e5-4380-df94-612627be644e",
        "colab": {
          "base_uri": "https://localhost:8080/"
        }
      },
      "execution_count": 68,
      "outputs": [
        {
          "output_type": "stream",
          "name": "stdout",
          "text": [
            "18/18 [==============================] - 0s 8ms/step\n"
          ]
        },
        {
          "output_type": "execute_result",
          "data": {
            "text/plain": [
              "TensorShape([556])"
            ]
          },
          "metadata": {},
          "execution_count": 68
        }
      ]
    },
    {
      "cell_type": "code",
      "source": [
        "# Evaluate\n",
        "model_4_results = evaluate_preds(tf.squeeze(test_labels), model_4_preds)\n",
        "model_4_results"
      ],
      "metadata": {
        "id": "VyRZZZcDLyu3",
        "outputId": "b8f1bed6-f2b9-4e23-8755-0eb0d27192b2",
        "colab": {
          "base_uri": "https://localhost:8080/"
        }
      },
      "execution_count": 69,
      "outputs": [
        {
          "output_type": "execute_result",
          "data": {
            "text/plain": [
              "{'mae': 572.12805,\n",
              " 'mse': 1177384.4,\n",
              " 'rmse': 1085.0735,\n",
              " 'mape': 2.5656977,\n",
              " 'mase': 1.0050706}"
            ]
          },
          "metadata": {},
          "execution_count": 69
        }
      ]
    },
    {
      "cell_type": "markdown",
      "source": [
        "## Model 5: LSTM"
      ],
      "metadata": {
        "id": "iDgQDvPQMAa-"
      }
    },
    {
      "cell_type": "code",
      "source": [
        "tf.random.set_seed(42)\n",
        "\n",
        "# Create a model the functional way\n",
        "inputs = layers.Input(shape=WINDOW_SIZE)\n",
        "x = layers.Lambda(lambda x: tf.expand_dims(x, axis=1))(inputs) # for LSTM layer\n",
        "# x = layers.LSTM(128, return_sequences=True)(x) # return_sequences=True needed if the LSTMs are stacked\n",
        "x = layers.LSTM(128, activation=\"relu\")(x)\n",
        "# x = layers.Dense(32, activation=\"relu\")(x)\n",
        "outputs = layers.Dense(HORIZON)(x)\n",
        "\n",
        "model_5 = tf.keras.Model(inputs, outputs, name=\"model_5_LSTM\")\n",
        "\n",
        "# Compile\n",
        "model_5.compile(optimizer=tf.keras.optimizers.Adam(),\n",
        "                loss=\"mae\")\n",
        "\n",
        "# Fit\n",
        "model_5.fit(train_windows,\n",
        "            train_labels,\n",
        "            batch_size=128,\n",
        "            epochs=100,\n",
        "            verbose=1,\n",
        "            validation_data=(test_windows, test_labels),\n",
        "            callbacks=[create_model_checkpoint(model_name=model_5.name)])"
      ],
      "metadata": {
        "id": "CvVRjycsMZ3x",
        "outputId": "b7240cbe-b130-4d07-e201-71f8396a3d06",
        "colab": {
          "base_uri": "https://localhost:8080/"
        }
      },
      "execution_count": 70,
      "outputs": [
        {
          "output_type": "stream",
          "name": "stdout",
          "text": [
            "Epoch 1/100\n",
            "18/18 [==============================] - 11s 418ms/step - loss: 2280.1482 - val_loss: 9694.4873\n",
            "Epoch 2/100\n",
            "18/18 [==============================] - 5s 289ms/step - loss: 762.1394 - val_loss: 1153.4910\n",
            "Epoch 3/100\n",
            "18/18 [==============================] - 0s 13ms/step - loss: 252.6739 - val_loss: 1331.8823\n",
            "Epoch 4/100\n",
            "18/18 [==============================] - 3s 194ms/step - loss: 199.6686 - val_loss: 1052.1539\n",
            "Epoch 5/100\n",
            "18/18 [==============================] - 8s 469ms/step - loss: 185.9712 - val_loss: 1033.9644\n",
            "Epoch 6/100\n",
            "18/18 [==============================] - 5s 281ms/step - loss: 186.8048 - val_loss: 1023.7814\n",
            "Epoch 7/100\n",
            "18/18 [==============================] - 0s 17ms/step - loss: 182.9012 - val_loss: 1032.7992\n",
            "Epoch 8/100\n",
            "18/18 [==============================] - 0s 19ms/step - loss: 180.1352 - val_loss: 1030.3320\n",
            "Epoch 9/100\n",
            "18/18 [==============================] - 0s 21ms/step - loss: 178.0235 - val_loss: 1024.8998\n",
            "Epoch 10/100\n",
            "18/18 [==============================] - 5s 301ms/step - loss: 176.7047 - val_loss: 999.6854\n",
            "Epoch 11/100\n",
            "18/18 [==============================] - 0s 25ms/step - loss: 173.9442 - val_loss: 1034.1830\n",
            "Epoch 12/100\n",
            "18/18 [==============================] - 0s 18ms/step - loss: 173.6809 - val_loss: 1002.9114\n",
            "Epoch 13/100\n",
            "18/18 [==============================] - 7s 384ms/step - loss: 172.4180 - val_loss: 991.0489\n",
            "Epoch 14/100\n",
            "18/18 [==============================] - 0s 10ms/step - loss: 170.7131 - val_loss: 998.3036\n",
            "Epoch 15/100\n",
            "18/18 [==============================] - 2s 115ms/step - loss: 169.8702 - val_loss: 972.0092\n",
            "Epoch 16/100\n",
            "18/18 [==============================] - 2s 113ms/step - loss: 167.8234 - val_loss: 933.5378\n",
            "Epoch 17/100\n",
            "18/18 [==============================] - 0s 10ms/step - loss: 165.7533 - val_loss: 996.8179\n",
            "Epoch 18/100\n",
            "18/18 [==============================] - 0s 9ms/step - loss: 165.4456 - val_loss: 982.3743\n",
            "Epoch 19/100\n",
            "18/18 [==============================] - 0s 10ms/step - loss: 162.7680 - val_loss: 967.8593\n",
            "Epoch 20/100\n",
            "18/18 [==============================] - 3s 167ms/step - loss: 160.7306 - val_loss: 894.9180\n",
            "Epoch 21/100\n",
            "18/18 [==============================] - 0s 10ms/step - loss: 159.6439 - val_loss: 908.2689\n",
            "Epoch 22/100\n",
            "18/18 [==============================] - 0s 11ms/step - loss: 157.1071 - val_loss: 902.7472\n",
            "Epoch 23/100\n",
            "18/18 [==============================] - 0s 10ms/step - loss: 155.8177 - val_loss: 913.2097\n",
            "Epoch 24/100\n",
            "18/18 [==============================] - 3s 168ms/step - loss: 154.0448 - val_loss: 863.4958\n",
            "Epoch 25/100\n",
            "18/18 [==============================] - 0s 16ms/step - loss: 151.7816 - val_loss: 881.6248\n",
            "Epoch 26/100\n",
            "18/18 [==============================] - 2s 137ms/step - loss: 150.7160 - val_loss: 841.7855\n",
            "Epoch 27/100\n",
            "18/18 [==============================] - 0s 10ms/step - loss: 148.7986 - val_loss: 845.6859\n",
            "Epoch 28/100\n",
            "18/18 [==============================] - 2s 117ms/step - loss: 148.0010 - val_loss: 809.6208\n",
            "Epoch 29/100\n",
            "18/18 [==============================] - 0s 10ms/step - loss: 147.0570 - val_loss: 834.8396\n",
            "Epoch 30/100\n",
            "18/18 [==============================] - 0s 11ms/step - loss: 147.0702 - val_loss: 840.7261\n",
            "Epoch 31/100\n",
            "18/18 [==============================] - 2s 117ms/step - loss: 143.2075 - val_loss: 786.9267\n",
            "Epoch 32/100\n",
            "18/18 [==============================] - 0s 10ms/step - loss: 140.3368 - val_loss: 803.0898\n",
            "Epoch 33/100\n",
            "18/18 [==============================] - 2s 116ms/step - loss: 138.6467 - val_loss: 772.4813\n",
            "Epoch 34/100\n",
            "18/18 [==============================] - 3s 200ms/step - loss: 137.5439 - val_loss: 769.7345\n",
            "Epoch 35/100\n",
            "18/18 [==============================] - 4s 255ms/step - loss: 136.0045 - val_loss: 747.3083\n",
            "Epoch 36/100\n",
            "18/18 [==============================] - 2s 124ms/step - loss: 135.8930 - val_loss: 739.4468\n",
            "Epoch 37/100\n",
            "18/18 [==============================] - 0s 10ms/step - loss: 132.7381 - val_loss: 744.9167\n",
            "Epoch 38/100\n",
            "18/18 [==============================] - 2s 139ms/step - loss: 131.6446 - val_loss: 724.3725\n",
            "Epoch 39/100\n",
            "18/18 [==============================] - 3s 148ms/step - loss: 132.0086 - val_loss: 723.9303\n",
            "Epoch 40/100\n",
            "18/18 [==============================] - 0s 12ms/step - loss: 132.9688 - val_loss: 745.4765\n",
            "Epoch 41/100\n",
            "18/18 [==============================] - 6s 373ms/step - loss: 130.3841 - val_loss: 704.2612\n",
            "Epoch 42/100\n",
            "18/18 [==============================] - 4s 225ms/step - loss: 127.6536 - val_loss: 701.7944\n",
            "Epoch 43/100\n",
            "18/18 [==============================] - 2s 114ms/step - loss: 127.2343 - val_loss: 697.5399\n",
            "Epoch 44/100\n",
            "18/18 [==============================] - 2s 114ms/step - loss: 125.6277 - val_loss: 687.2838\n",
            "Epoch 45/100\n",
            "18/18 [==============================] - 2s 120ms/step - loss: 123.8451 - val_loss: 682.8833\n",
            "Epoch 46/100\n",
            "18/18 [==============================] - 3s 172ms/step - loss: 124.9705 - val_loss: 679.9510\n",
            "Epoch 47/100\n",
            "18/18 [==============================] - 0s 17ms/step - loss: 122.9495 - val_loss: 699.0881\n",
            "Epoch 48/100\n",
            "18/18 [==============================] - 2s 125ms/step - loss: 122.3657 - val_loss: 673.4536\n",
            "Epoch 49/100\n",
            "18/18 [==============================] - 0s 11ms/step - loss: 121.4657 - val_loss: 676.1119\n",
            "Epoch 50/100\n",
            "18/18 [==============================] - 0s 11ms/step - loss: 126.3804 - val_loss: 710.8060\n",
            "Epoch 51/100\n",
            "18/18 [==============================] - 0s 10ms/step - loss: 122.8350 - val_loss: 692.8918\n",
            "Epoch 52/100\n",
            "18/18 [==============================] - 3s 166ms/step - loss: 119.7468 - val_loss: 649.4206\n",
            "Epoch 53/100\n",
            "18/18 [==============================] - 0s 11ms/step - loss: 119.8484 - val_loss: 658.7515\n",
            "Epoch 54/100\n",
            "18/18 [==============================] - 0s 11ms/step - loss: 119.9855 - val_loss: 668.7851\n",
            "Epoch 55/100\n",
            "18/18 [==============================] - 2s 115ms/step - loss: 118.6907 - val_loss: 642.1707\n",
            "Epoch 56/100\n",
            "18/18 [==============================] - 3s 156ms/step - loss: 120.2664 - val_loss: 637.5636\n",
            "Epoch 57/100\n",
            "18/18 [==============================] - 1s 47ms/step - loss: 125.6593 - val_loss: 656.0914\n",
            "Epoch 58/100\n",
            "18/18 [==============================] - 1s 49ms/step - loss: 117.7984 - val_loss: 663.0710\n",
            "Epoch 59/100\n",
            "18/18 [==============================] - 4s 238ms/step - loss: 117.8912 - val_loss: 630.3544\n",
            "Epoch 60/100\n",
            "18/18 [==============================] - 0s 11ms/step - loss: 115.8610 - val_loss: 634.9747\n",
            "Epoch 61/100\n",
            "18/18 [==============================] - 0s 11ms/step - loss: 116.3386 - val_loss: 656.6503\n",
            "Epoch 62/100\n",
            "18/18 [==============================] - 1s 31ms/step - loss: 118.1013 - val_loss: 655.4200\n",
            "Epoch 63/100\n",
            "18/18 [==============================] - 1s 29ms/step - loss: 122.0969 - val_loss: 635.9485\n",
            "Epoch 64/100\n",
            "18/18 [==============================] - 3s 147ms/step - loss: 115.8511 - val_loss: 623.4227\n",
            "Epoch 65/100\n",
            "18/18 [==============================] - 2s 136ms/step - loss: 115.4076 - val_loss: 617.3477\n",
            "Epoch 66/100\n",
            "18/18 [==============================] - 0s 12ms/step - loss: 114.4439 - val_loss: 624.4376\n",
            "Epoch 67/100\n",
            "18/18 [==============================] - 8s 442ms/step - loss: 116.1063 - val_loss: 615.8204\n",
            "Epoch 68/100\n",
            "18/18 [==============================] - 4s 221ms/step - loss: 117.2255 - val_loss: 613.8994\n",
            "Epoch 69/100\n",
            "18/18 [==============================] - 0s 9ms/step - loss: 119.4344 - val_loss: 639.8785\n",
            "Epoch 70/100\n",
            "18/18 [==============================] - 0s 11ms/step - loss: 118.8527 - val_loss: 653.7134\n",
            "Epoch 71/100\n",
            "18/18 [==============================] - 0s 10ms/step - loss: 115.3590 - val_loss: 638.0280\n",
            "Epoch 72/100\n",
            "18/18 [==============================] - 2s 112ms/step - loss: 115.2074 - val_loss: 608.4359\n",
            "Epoch 73/100\n",
            "18/18 [==============================] - 2s 114ms/step - loss: 112.4862 - val_loss: 607.3470\n",
            "Epoch 74/100\n",
            "18/18 [==============================] - 0s 11ms/step - loss: 113.9069 - val_loss: 610.4594\n",
            "Epoch 75/100\n",
            "18/18 [==============================] - 0s 11ms/step - loss: 113.4679 - val_loss: 634.3342\n",
            "Epoch 76/100\n",
            "18/18 [==============================] - 2s 126ms/step - loss: 113.6201 - val_loss: 605.6190\n",
            "Epoch 77/100\n",
            "18/18 [==============================] - 0s 17ms/step - loss: 114.5960 - val_loss: 662.8169\n",
            "Epoch 78/100\n",
            "18/18 [==============================] - 0s 17ms/step - loss: 115.5317 - val_loss: 625.8918\n",
            "Epoch 79/100\n",
            "18/18 [==============================] - 0s 17ms/step - loss: 113.4267 - val_loss: 605.9401\n",
            "Epoch 80/100\n",
            "18/18 [==============================] - 0s 14ms/step - loss: 111.8965 - val_loss: 613.1282\n",
            "Epoch 81/100\n",
            "18/18 [==============================] - 0s 17ms/step - loss: 112.0691 - val_loss: 619.9199\n",
            "Epoch 82/100\n",
            "18/18 [==============================] - 3s 160ms/step - loss: 113.8516 - val_loss: 598.0144\n",
            "Epoch 83/100\n",
            "18/18 [==============================] - 0s 17ms/step - loss: 112.0124 - val_loss: 621.9957\n",
            "Epoch 84/100\n",
            "18/18 [==============================] - 0s 12ms/step - loss: 113.8240 - val_loss: 613.3539\n",
            "Epoch 85/100\n",
            "18/18 [==============================] - 0s 14ms/step - loss: 113.6587 - val_loss: 649.2926\n",
            "Epoch 86/100\n",
            "18/18 [==============================] - 4s 237ms/step - loss: 116.7260 - val_loss: 597.7446\n",
            "Epoch 87/100\n",
            "18/18 [==============================] - 0s 18ms/step - loss: 112.6677 - val_loss: 602.9119\n",
            "Epoch 88/100\n",
            "18/18 [==============================] - 3s 152ms/step - loss: 111.4982 - val_loss: 592.4708\n",
            "Epoch 89/100\n",
            "18/18 [==============================] - 0s 21ms/step - loss: 111.9949 - val_loss: 624.2343\n",
            "Epoch 90/100\n",
            "18/18 [==============================] - 0s 17ms/step - loss: 114.5529 - val_loss: 685.0236\n",
            "Epoch 91/100\n",
            "18/18 [==============================] - 0s 11ms/step - loss: 116.2631 - val_loss: 610.0259\n",
            "Epoch 92/100\n",
            "18/18 [==============================] - 3s 194ms/step - loss: 111.7087 - val_loss: 589.5131\n",
            "Epoch 93/100\n",
            "18/18 [==============================] - 0s 26ms/step - loss: 112.2036 - val_loss: 602.9231\n",
            "Epoch 94/100\n",
            "18/18 [==============================] - 0s 28ms/step - loss: 110.9197 - val_loss: 613.6609\n",
            "Epoch 95/100\n",
            "18/18 [==============================] - 0s 25ms/step - loss: 110.3250 - val_loss: 590.3961\n",
            "Epoch 96/100\n",
            "18/18 [==============================] - 1s 31ms/step - loss: 111.5739 - val_loss: 596.7413\n",
            "Epoch 97/100\n",
            "18/18 [==============================] - 0s 27ms/step - loss: 110.6930 - val_loss: 623.8193\n",
            "Epoch 98/100\n",
            "18/18 [==============================] - 5s 298ms/step - loss: 110.7373 - val_loss: 588.7655\n",
            "Epoch 99/100\n",
            "18/18 [==============================] - 4s 244ms/step - loss: 109.6774 - val_loss: 585.5156\n",
            "Epoch 100/100\n",
            "18/18 [==============================] - 0s 13ms/step - loss: 112.7589 - val_loss: 586.6033\n"
          ]
        },
        {
          "output_type": "execute_result",
          "data": {
            "text/plain": [
              "<keras.src.callbacks.History at 0x7aa54134f7f0>"
            ]
          },
          "metadata": {},
          "execution_count": 70
        }
      ]
    },
    {
      "cell_type": "code",
      "source": [
        "# Load in the best version of model 5 and evaluate\n",
        "model_5 = tf.keras.models.load_model(\"/content/model_experiments/model_5_LSTM\")\n",
        "model_5.evaluate(test_windows, test_labels)"
      ],
      "metadata": {
        "id": "qMlKryGzUiR2",
        "outputId": "f44c9f6f-78a9-4db4-cb3b-083b6630ca0f",
        "colab": {
          "base_uri": "https://localhost:8080/"
        }
      },
      "execution_count": 71,
      "outputs": [
        {
          "output_type": "stream",
          "name": "stdout",
          "text": [
            "18/18 [==============================] - 0s 3ms/step - loss: 585.5156\n"
          ]
        },
        {
          "output_type": "execute_result",
          "data": {
            "text/plain": [
              "585.5155639648438"
            ]
          },
          "metadata": {},
          "execution_count": 71
        }
      ]
    },
    {
      "cell_type": "code",
      "source": [
        "# make preds\n",
        "model_5_preds = make_preds(model_5, test_windows)\n",
        "model_5_preds.shape"
      ],
      "metadata": {
        "id": "FkQRbs8aV-h3",
        "outputId": "f13278c6-2cf9-4345-8ef2-50cfa80cae17",
        "colab": {
          "base_uri": "https://localhost:8080/"
        }
      },
      "execution_count": 72,
      "outputs": [
        {
          "output_type": "stream",
          "name": "stdout",
          "text": [
            "18/18 [==============================] - 0s 3ms/step\n"
          ]
        },
        {
          "output_type": "execute_result",
          "data": {
            "text/plain": [
              "TensorShape([556])"
            ]
          },
          "metadata": {},
          "execution_count": 72
        }
      ]
    },
    {
      "cell_type": "code",
      "source": [
        "# Evaluate\n",
        "model_5_results = evaluate_preds(tf.squeeze(test_labels), model_5_preds)\n",
        "model_5_results"
      ],
      "metadata": {
        "id": "v4RsMV4MWO67",
        "outputId": "a3952628-9070-4480-a665-446f6153a780",
        "colab": {
          "base_uri": "https://localhost:8080/"
        }
      },
      "execution_count": 73,
      "outputs": [
        {
          "output_type": "execute_result",
          "data": {
            "text/plain": [
              "{'mae': 585.5156,\n",
              " 'mse': 1231795.6,\n",
              " 'rmse': 1109.8629,\n",
              " 'mape': 2.6373308,\n",
              " 'mase': 1.0285888}"
            ]
          },
          "metadata": {},
          "execution_count": 73
        }
      ]
    },
    {
      "cell_type": "markdown",
      "source": [
        "## Make a multivariate time series\n",
        "\n",
        "Add BTC halving events\n",
        "\n",
        "https://www.cmcmarkets.com/en-nz/learn-cryptocurrencies/bitcoin-halving"
      ],
      "metadata": {
        "id": "fHJI3jW8WwWl"
      }
    },
    {
      "cell_type": "code",
      "source": [
        "# Let's add these to the dataset\n",
        "block_reward_1 = 50 # 3 January 2009 - out of our dtaset\n",
        "block_reward_2 = 25 # 8 November 2012\n",
        "block_reward_3 = 12.5 # 9 July 2016\n",
        "block_reward_4 = 6.25# 18 May 2020\n",
        "\n",
        "# Block reward dates\n",
        "block_reward_2_datetime = np.datetime64(\"2012-11-28\")\n",
        "block_reward_3_datetime = np.datetime64(\"2016-07-09\")\n",
        "block_reward_4_datetime = np.datetime64(\"2020-05-18\")"
      ],
      "metadata": {
        "id": "Wfd0w-3sXjKM"
      },
      "execution_count": 74,
      "outputs": []
    },
    {
      "cell_type": "code",
      "source": [
        "# Create date ranges of cpecific block_reward values\n",
        "block_reward_2_days = (block_reward_3_datetime - bitcoin_prices.index[0]).days\n",
        "block_reward_3_days = (block_reward_4_datetime - bitcoin_prices.index[0]).days\n",
        "block_reward_2_days, block_reward_3_days"
      ],
      "metadata": {
        "id": "uTkiHXNnaJby",
        "colab": {
          "base_uri": "https://localhost:8080/"
        },
        "outputId": "3560cee4-097e-42ad-e7d8-fb69afe1c419"
      },
      "execution_count": 77,
      "outputs": [
        {
          "output_type": "execute_result",
          "data": {
            "text/plain": [
              "(1012, 2421)"
            ]
          },
          "metadata": {},
          "execution_count": 77
        }
      ]
    },
    {
      "cell_type": "code",
      "source": [
        "# Add in a block reward column\n",
        "bitcoin_prices_block = bitcoin_prices.copy()\n",
        "bitcoin_prices_block[\"block_reward\"] = None\n",
        "\n",
        "# Add in block reward values as a feature to our dataframe\n",
        "bitcoin_prices_block.iloc[:block_reward_2_days,-1] = block_reward_2\n",
        "bitcoin_prices_block.iloc[block_reward_2_days:block_reward_3_days,-1] = block_reward_3\n",
        "bitcoin_prices_block.iloc[block_reward_3_days:,-1] = block_reward_4"
      ],
      "metadata": {
        "id": "eWvPNd83rl32"
      },
      "execution_count": 78,
      "outputs": []
    },
    {
      "cell_type": "code",
      "source": [
        "# Plot the block reward vs price overtime\n",
        "from sklearn.preprocessing import minmax_scale\n",
        "scaled_price_block_df = pd.DataFrame(minmax_scale(bitcoin_prices_block[[\"Price\", \"block_reward\"]]), # cool huh?\n",
        "                                                  columns=bitcoin_prices_block.columns,\n",
        "                                                  index=bitcoin_prices_block.index)\n",
        "scaled_price_block_df.plot(figsize=(10, 7));"
      ],
      "metadata": {
        "colab": {
          "base_uri": "https://localhost:8080/",
          "height": 619
        },
        "id": "vHyIwxP6tiCl",
        "outputId": "c542c701-9c18-412f-da02-70e6a111b478"
      },
      "execution_count": 80,
      "outputs": [
        {
          "output_type": "display_data",
          "data": {
            "text/plain": [
              "<Figure size 1000x700 with 1 Axes>"
            ],
            "image/png": "[encoded data removed]"
          },
          "metadata": {}
        }
      ]
    },
    {
      "cell_type": "markdown",
      "source": [
        "## Making a windowed dataset with pd\n",
        "`pd.Dataframe.shift()`\n",
        "\n",
        "https://pandas.pydata.org/docs/reference/api/pandas.DataFrame.shift.html"
      ],
      "metadata": {
        "id": "f6ZuKXY1ukEA"
      }
    },
    {
      "cell_type": "code",
      "source": [
        "# Setup our dataset hyperparameters\n",
        "HORIZON = 1\n",
        "WINDOW_SIZE = 7"
      ],
      "metadata": {
        "id": "C2C90i_gvL6Q"
      },
      "execution_count": 81,
      "outputs": []
    },
    {
      "cell_type": "code",
      "source": [
        "# Make a copy of BTC historical data\n",
        "bitcoin_prices_windowed = bitcoin_prices.copy()\n",
        "# Use shift method\n",
        "for i in range(WINDOW_SIZE): # shift values for each step in WINDOW_SIZE\n",
        "  bitcoin_prices_windowed[f\"Price+{i+1}\"] = bitcoin_prices_windowed[\"Price\"].shift(periods=i+1)\n",
        "bitcoin_prices_windowed.head(10)"
      ],
      "metadata": {
        "colab": {
          "base_uri": "https://localhost:8080/",
          "height": 395
        },
        "id": "DmpLFayQvjt2",
        "outputId": "6166bdf2-2853-4858-93fe-71b1bdbdab07"
      },
      "execution_count": 85,
      "outputs": [
        {
          "output_type": "execute_result",
          "data": {
            "text/plain": [
              "                Price    Price+1    Price+2    Price+3    Price+4    Price+5  \\\n",
              "Date                                                                           \n",
              "2013-10-01  123.65499        NaN        NaN        NaN        NaN        NaN   \n",
              "2013-10-02  125.45500  123.65499        NaN        NaN        NaN        NaN   \n",
              "2013-10-03  108.58483  125.45500  123.65499        NaN        NaN        NaN   \n",
              "2013-10-04  118.67466  108.58483  125.45500  123.65499        NaN        NaN   \n",
              "2013-10-05  121.33866  118.67466  108.58483  125.45500  123.65499        NaN   \n",
              "2013-10-06  120.65533  121.33866  118.67466  108.58483  125.45500  123.65499   \n",
              "2013-10-07  121.79500  120.65533  121.33866  118.67466  108.58483  125.45500   \n",
              "2013-10-08  123.03300  121.79500  120.65533  121.33866  118.67466  108.58483   \n",
              "2013-10-09  124.04900  123.03300  121.79500  120.65533  121.33866  118.67466   \n",
              "2013-10-10  125.96116  124.04900  123.03300  121.79500  120.65533  121.33866   \n",
              "\n",
              "              Price+6    Price+7  \n",
              "Date                              \n",
              "2013-10-01        NaN        NaN  \n",
              "2013-10-02        NaN        NaN  \n",
              "2013-10-03        NaN        NaN  \n",
              "2013-10-04        NaN        NaN  \n",
              "2013-10-05        NaN        NaN  \n",
              "2013-10-06        NaN        NaN  \n",
              "2013-10-07  123.65499        NaN  \n",
              "2013-10-08  125.45500  123.65499  \n",
              "2013-10-09  108.58483  125.45500  \n",
              "2013-10-10  118.67466  108.58483  "
            ],
            "text/html": [
              "\n",
              "  <div id=\"df-b7c8ca90-285c-4e9f-8858-22d440bae1ff\" class=\"colab-df-container\">\n",
              "    <div>\n",
              "<style scoped>\n",
              "    .dataframe tbody tr th:only-of-type {\n",
              "        vertical-align: middle;\n",
              "    }\n",
              "\n",
              "    .dataframe tbody tr th {\n",
              "        vertical-align: top;\n",
              "    }\n",
              "\n",
              "    .dataframe thead th {\n",
              "        text-align: right;\n",
              "    }\n",
              "</style>\n",
              "<table border=\"1\" class=\"dataframe\">\n",
              "  <thead>\n",
              "    <tr style=\"text-align: right;\">\n",
              "      <th></th>\n",
              "      <th>Price</th>\n",
              "      <th>Price+1</th>\n",
              "      <th>Price+2</th>\n",
              "      <th>Price+3</th>\n",
              "      <th>Price+4</th>\n",
              "      <th>Price+5</th>\n",
              "      <th>Price+6</th>\n",
              "      <th>Price+7</th>\n",
              "    </tr>\n",
              "    <tr>\n",
              "      <th>Date</th>\n",
              "      <th></th>\n",
              "      <th></th>\n",
              "      <th></th>\n",
              "      <th></th>\n",
              "      <th></th>\n",
              "      <th></th>\n",
              "      <th></th>\n",
              "      <th></th>\n",
              "    </tr>\n",
              "  </thead>\n",
              "  <tbody>\n",
              "    <tr>\n",
              "      <th>2013-10-01</th>\n",
              "      <td>123.65499</td>\n",
              "      <td>NaN</td>\n",
              "      <td>NaN</td>\n",
              "      <td>NaN</td>\n",
              "      <td>NaN</td>\n",
              "      <td>NaN</td>\n",
              "      <td>NaN</td>\n",
              "      <td>NaN</td>\n",
              "    </tr>\n",
              "    <tr>\n",
              "      <th>2013-10-02</th>\n",
              "      <td>125.45500</td>\n",
              "      <td>123.65499</td>\n",
              "      <td>NaN</td>\n",
              "      <td>NaN</td>\n",
              "      <td>NaN</td>\n",
              "      <td>NaN</td>\n",
              "      <td>NaN</td>\n",
              "      <td>NaN</td>\n",
              "    </tr>\n",
              "    <tr>\n",
              "      <th>2013-10-03</th>\n",
              "      <td>108.58483</td>\n",
              "      <td>125.45500</td>\n",
              "      <td>123.65499</td>\n",
              "      <td>NaN</td>\n",
              "      <td>NaN</td>\n",
              "      <td>NaN</td>\n",
              "      <td>NaN</td>\n",
              "      <td>NaN</td>\n",
              "    </tr>\n",
              "    <tr>\n",
              "      <th>2013-10-04</th>\n",
              "      <td>118.67466</td>\n",
              "      <td>108.58483</td>\n",
              "      <td>125.45500</td>\n",
              "      <td>123.65499</td>\n",
              "      <td>NaN</td>\n",
              "      <td>NaN</td>\n",
              "      <td>NaN</td>\n",
              "      <td>NaN</td>\n",
              "    </tr>\n",
              "    <tr>\n",
              "      <th>2013-10-05</th>\n",
              "      <td>121.33866</td>\n",
              "      <td>118.67466</td>\n",
              "      <td>108.58483</td>\n",
              "      <td>125.45500</td>\n",
              "      <td>123.65499</td>\n",
              "      <td>NaN</td>\n",
              "      <td>NaN</td>\n",
              "      <td>NaN</td>\n",
              "    </tr>\n",
              "    <tr>\n",
              "      <th>2013-10-06</th>\n",
              "      <td>120.65533</td>\n",
              "      <td>121.33866</td>\n",
              "      <td>118.67466</td>\n",
              "      <td>108.58483</td>\n",
              "      <td>125.45500</td>\n",
              "      <td>123.65499</td>\n",
              "      <td>NaN</td>\n",
              "      <td>NaN</td>\n",
              "    </tr>\n",
              "    <tr>\n",
              "      <th>2013-10-07</th>\n",
              "      <td>121.79500</td>\n",
              "      <td>120.65533</td>\n",
              "      <td>121.33866</td>\n",
              "      <td>118.67466</td>\n",
              "      <td>108.58483</td>\n",
              "      <td>125.45500</td>\n",
              "      <td>123.65499</td>\n",
              "      <td>NaN</td>\n",
              "    </tr>\n",
              "    <tr>\n",
              "      <th>2013-10-08</th>\n",
              "      <td>123.03300</td>\n",
              "      <td>121.79500</td>\n",
              "      <td>120.65533</td>\n",
              "      <td>121.33866</td>\n",
              "      <td>118.67466</td>\n",
              "      <td>108.58483</td>\n",
              "      <td>125.45500</td>\n",
              "      <td>123.65499</td>\n",
              "    </tr>\n",
              "    <tr>\n",
              "      <th>2013-10-09</th>\n",
              "      <td>124.04900</td>\n",
              "      <td>123.03300</td>\n",
              "      <td>121.79500</td>\n",
              "      <td>120.65533</td>\n",
              "      <td>121.33866</td>\n",
              "      <td>118.67466</td>\n",
              "      <td>108.58483</td>\n",
              "      <td>125.45500</td>\n",
              "    </tr>\n",
              "    <tr>\n",
              "      <th>2013-10-10</th>\n",
              "      <td>125.96116</td>\n",
              "      <td>124.04900</td>\n",
              "      <td>123.03300</td>\n",
              "      <td>121.79500</td>\n",
              "      <td>120.65533</td>\n",
              "      <td>121.33866</td>\n",
              "      <td>118.67466</td>\n",
              "      <td>108.58483</td>\n",
              "    </tr>\n",
              "  </tbody>\n",
              "</table>\n",
              "</div>\n",
              "    <div class=\"colab-df-buttons\">\n",
              "\n",
              "  <div class=\"colab-df-container\">\n",
              "    <button class=\"colab-df-convert\" onclick=\"convertToInteractive('df-b7c8ca90-285c-4e9f-8858-22d440bae1ff')\"\n",
              "            title=\"Convert this dataframe to an interactive table.\"\n",
              "            style=\"display:none;\">\n",
              "\n",
              "  <svg xmlns=\"http://www.w3.org/2000/svg\" height=\"24px\" viewBox=\"0 -960 960 960\">\n",
              "    <path d=\"M120-120v-720h720v720H120Zm60-500h600v-160H180v160Zm220 220h160v-160H400v160Zm0 220h160v-160H400v160ZM180-400h160v-160H180v160Zm440 0h160v-160H620v160ZM180-180h160v-160H180v160Zm440 0h160v-160H620v160Z\"/>\n",
              "  </svg>\n",
              "    </button>\n",
              "\n",
              "  <style>\n",
              "    .colab-df-container {\n",
              "      display:flex;\n",
              "      gap: 12px;\n",
              "    }\n",
              "\n",
              "    .colab-df-convert {\n",
              "      background-color: #E8F0FE;\n",
              "      border: none;\n",
              "      border-radius: 50%;\n",
              "      cursor: pointer;\n",
              "      display: none;\n",
              "      fill: #1967D2;\n",
              "      height: 32px;\n",
              "      padding: 0 0 0 0;\n",
              "      width: 32px;\n",
              "    }\n",
              "\n",
              "    .colab-df-convert:hover {\n",
              "      background-color: #E2EBFA;\n",
              "      box-shadow: 0px 1px 2px rgba(60, 64, 67, 0.3), 0px 1px 3px 1px rgba(60, 64, 67, 0.15);\n",
              "      fill: #174EA6;\n",
              "    }\n",
              "\n",
              "    .colab-df-buttons div {\n",
              "      margin-bottom: 4px;\n",
              "    }\n",
              "\n",
              "    [theme=dark] .colab-df-convert {\n",
              "      background-color: #3B4455;\n",
              "      fill: #D2E3FC;\n",
              "    }\n",
              "\n",
              "    [theme=dark] .colab-df-convert:hover {\n",
              "      background-color: #434B5C;\n",
              "      box-shadow: 0px 1px 3px 1px rgba(0, 0, 0, 0.15);\n",
              "      filter: drop-shadow(0px 1px 2px rgba(0, 0, 0, 0.3));\n",
              "      fill: #FFFFFF;\n",
              "    }\n",
              "  </style>\n",
              "\n",
              "    <script>\n",
              "      const buttonEl =\n",
              "        document.querySelector('#df-b7c8ca90-285c-4e9f-8858-22d440bae1ff button.colab-df-convert');\n",
              "      buttonEl.style.display =\n",
              "        google.colab.kernel.accessAllowed ? 'block' : 'none';\n",
              "\n",
              "      async function convertToInteractive(key) {\n",
              "        const element = document.querySelector('#df-b7c8ca90-285c-4e9f-8858-22d440bae1ff');\n",
              "        const dataTable =\n",
              "          await google.colab.kernel.invokeFunction('convertToInteractive',\n",
              "                                                    [key], {});\n",
              "        if (!dataTable) return;\n",
              "\n",
              "        const docLinkHtml = 'Like what you see? Visit the ' +\n",
              "          '<a target=\"_blank\" href=https://colab.research.google.com/notebooks/data_table.ipynb>data table notebook</a>'\n",
              "          + ' to learn more about interactive tables.';\n",
              "        element.innerHTML = '';\n",
              "        dataTable['output_type'] = 'display_data';\n",
              "        await google.colab.output.renderOutput(dataTable, element);\n",
              "        const docLink = document.createElement('div');\n",
              "        docLink.innerHTML = docLinkHtml;\n",
              "        element.appendChild(docLink);\n",
              "      }\n",
              "    </script>\n",
              "  </div>\n",
              "\n",
              "\n",
              "<div id=\"df-039c6772-2da9-4d6c-845a-5b917bb1e8e4\">\n",
              "  <button class=\"colab-df-quickchart\" onclick=\"quickchart('df-039c6772-2da9-4d6c-845a-5b917bb1e8e4')\"\n",
              "            title=\"Suggest charts\"\n",
              "            style=\"display:none;\">\n",
              "\n",
              "<svg xmlns=\"http://www.w3.org/2000/svg\" height=\"24px\"viewBox=\"0 0 24 24\"\n",
              "     width=\"24px\">\n",
              "    <g>\n",
              "        <path d=\"M19 3H5c-1.1 0-2 .9-2 2v14c0 1.1.9 2 2 2h14c1.1 0 2-.9 2-2V5c0-1.1-.9-2-2-2zM9 17H7v-7h2v7zm4 0h-2V7h2v10zm4 0h-2v-4h2v4z\"/>\n",
              "    </g>\n",
              "</svg>\n",
              "  </button>\n",
              "\n",
              "<style>\n",
              "  .colab-df-quickchart {\n",
              "      --bg-color: #E8F0FE;\n",
              "      --fill-color: #1967D2;\n",
              "      --hover-bg-color: #E2EBFA;\n",
              "      --hover-fill-color: #174EA6;\n",
              "      --disabled-fill-color: #AAA;\n",
              "      --disabled-bg-color: #DDD;\n",
              "  }\n",
              "\n",
              "  [theme=dark] .colab-df-quickchart {\n",
              "      --bg-color: #3B4455;\n",
              "      --fill-color: #D2E3FC;\n",
              "      --hover-bg-color: #434B5C;\n",
              "      --hover-fill-color: #FFFFFF;\n",
              "      --disabled-bg-color: #3B4455;\n",
              "      --disabled-fill-color: #666;\n",
              "  }\n",
              "\n",
              "  .colab-df-quickchart {\n",
              "    background-color: var(--bg-color);\n",
              "    border: none;\n",
              "    border-radius: 50%;\n",
              "    cursor: pointer;\n",
              "    display: none;\n",
              "    fill: var(--fill-color);\n",
              "    height: 32px;\n",
              "    padding: 0;\n",
              "    width: 32px;\n",
              "  }\n",
              "\n",
              "  .colab-df-quickchart:hover {\n",
              "    background-color: var(--hover-bg-color);\n",
              "    box-shadow: 0 1px 2px rgba(60, 64, 67, 0.3), 0 1px 3px 1px rgba(60, 64, 67, 0.15);\n",
              "    fill: var(--button-hover-fill-color);\n",
              "  }\n",
              "\n",
              "  .colab-df-quickchart-complete:disabled,\n",
              "  .colab-df-quickchart-complete:disabled:hover {\n",
              "    background-color: var(--disabled-bg-color);\n",
              "    fill: var(--disabled-fill-color);\n",
              "    box-shadow: none;\n",
              "  }\n",
              "\n",
              "  .colab-df-spinner {\n",
              "    border: 2px solid var(--fill-color);\n",
              "    border-color: transparent;\n",
              "    border-bottom-color: var(--fill-color);\n",
              "    animation:\n",
              "      spin 1s steps(1) infinite;\n",
              "  }\n",
              "\n",
              "  @keyframes spin {\n",
              "    0% {\n",
              "      border-color: transparent;\n",
              "      border-bottom-color: var(--fill-color);\n",
              "      border-left-color: var(--fill-color);\n",
              "    }\n",
              "    20% {\n",
              "      border-color: transparent;\n",
              "      border-left-color: var(--fill-color);\n",
              "      border-top-color: var(--fill-color);\n",
              "    }\n",
              "    30% {\n",
              "      border-color: transparent;\n",
              "      border-left-color: var(--fill-color);\n",
              "      border-top-color: var(--fill-color);\n",
              "      border-right-color: var(--fill-color);\n",
              "    }\n",
              "    40% {\n",
              "      border-color: transparent;\n",
              "      border-right-color: var(--fill-color);\n",
              "      border-top-color: var(--fill-color);\n",
              "    }\n",
              "    60% {\n",
              "      border-color: transparent;\n",
              "      border-right-color: var(--fill-color);\n",
              "    }\n",
              "    80% {\n",
              "      border-color: transparent;\n",
              "      border-right-color: var(--fill-color);\n",
              "      border-bottom-color: var(--fill-color);\n",
              "    }\n",
              "    90% {\n",
              "      border-color: transparent;\n",
              "      border-bottom-color: var(--fill-color);\n",
              "    }\n",
              "  }\n",
              "</style>\n",
              "\n",
              "  <script>\n",
              "    async function quickchart(key) {\n",
              "      const quickchartButtonEl =\n",
              "        document.querySelector('#' + key + ' button');\n",
              "      quickchartButtonEl.disabled = true;  // To prevent multiple clicks.\n",
              "      quickchartButtonEl.classList.add('colab-df-spinner');\n",
              "      try {\n",
              "        const charts = await google.colab.kernel.invokeFunction(\n",
              "            'suggestCharts', [key], {});\n",
              "      } catch (error) {\n",
              "        console.error('Error during call to suggestCharts:', error);\n",
              "      }\n",
              "      quickchartButtonEl.classList.remove('colab-df-spinner');\n",
              "      quickchartButtonEl.classList.add('colab-df-quickchart-complete');\n",
              "    }\n",
              "    (() => {\n",
              "      let quickchartButtonEl =\n",
              "        document.querySelector('#df-039c6772-2da9-4d6c-845a-5b917bb1e8e4 button');\n",
              "      quickchartButtonEl.style.display =\n",
              "        google.colab.kernel.accessAllowed ? 'block' : 'none';\n",
              "    })();\n",
              "  </script>\n",
              "</div>\n",
              "    </div>\n",
              "  </div>\n"
            ]
          },
          "metadata": {},
          "execution_count": 85
        }
      ]
    },
    {
      "cell_type": "code",
      "source": [
        "# Create X - windows, y - horizons features\n",
        "X = bitcoin_prices_windowed.dropna().drop(\"Price\", axis=1).astype(np.float32)\n",
        "y = bitcoin_prices_windowed.dropna()[\"Price\"].astype(np.float32)\n",
        "X.head(), y.head()"
      ],
      "metadata": {
        "colab": {
          "base_uri": "https://localhost:8080/"
        },
        "id": "9KxXzUJFvpTt",
        "outputId": "09eb03c5-3b31-4296-f9b8-3b4b5aec9f6a"
      },
      "execution_count": 87,
      "outputs": [
        {
          "output_type": "execute_result",
          "data": {
            "text/plain": [
              "(               Price+1     Price+2     Price+3     Price+4     Price+5  \\\n",
              " Date                                                                     \n",
              " 2013-10-08  121.794998  120.655327  121.338661  118.674660  108.584831   \n",
              " 2013-10-09  123.032997  121.794998  120.655327  121.338661  118.674660   \n",
              " 2013-10-10  124.049004  123.032997  121.794998  120.655327  121.338661   \n",
              " 2013-10-11  125.961159  124.049004  123.032997  121.794998  120.655327   \n",
              " 2013-10-12  125.279663  125.961159  124.049004  123.032997  121.794998   \n",
              " \n",
              "                Price+6     Price+7  \n",
              " Date                                \n",
              " 2013-10-08  125.455002  123.654991  \n",
              " 2013-10-09  108.584831  125.455002  \n",
              " 2013-10-10  118.674660  108.584831  \n",
              " 2013-10-11  121.338661  118.674660  \n",
              " 2013-10-12  120.655327  121.338661  ,\n",
              " Date\n",
              " 2013-10-08    123.032997\n",
              " 2013-10-09    124.049004\n",
              " 2013-10-10    125.961159\n",
              " 2013-10-11    125.279663\n",
              " 2013-10-12    125.927498\n",
              " Name: Price, dtype: float32)"
            ]
          },
          "metadata": {},
          "execution_count": 87
        }
      ]
    },
    {
      "cell_type": "code",
      "source": [
        "# Make train and test sets\n",
        "split_size = int(len(X)*0.8)\n",
        "X_train, X_test, y_train, y_test = X[:split_size], X[split_size:], y[:split_size], y[split_size:]\n",
        "len(X_train), len(y_train), len(X_test), len(y_test)"
      ],
      "metadata": {
        "colab": {
          "base_uri": "https://localhost:8080/"
        },
        "id": "Mo490UWQx3vK",
        "outputId": "17f7fe3b-3f38-4b2c-c7d9-5a7e10d5c018"
      },
      "execution_count": 88,
      "outputs": [
        {
          "output_type": "execute_result",
          "data": {
            "text/plain": [
              "(2224, 2224, 556, 556)"
            ]
          },
          "metadata": {},
          "execution_count": 88
        }
      ]
    },
    {
      "cell_type": "markdown",
      "source": [
        "## Model 6: Dense, multivariate"
      ],
      "metadata": {
        "id": "sQBA7sS1yjI5"
      }
    },
    {
      "cell_type": "code",
      "source": [
        "tf.random.set_seed(42)\n",
        "\n",
        "# Create the model\n",
        "model_6 = tf.keras.Sequential([\n",
        "    layers.Dense(128, activation=\"relu\"),\n",
        "    layers.Dense(HORIZON)\n",
        "], name=\"model_6_dense_multivariate\")\n",
        "\n",
        "# Compile\n",
        "model_6.compile(optimizer=tf.keras.optimizers.Adam(),\n",
        "                loss=\"mae\")\n",
        "\n",
        "# Fit\n",
        "model_5.fit(X_train, y_train,\n",
        "            epochs=100,\n",
        "            batch_size=128,\n",
        "            verbose=0,\n",
        "            validation_data=(X_test, y_test),\n",
        "            callbacks=[create_model_checkpoint(model_name=model_6.name)])"
      ],
      "metadata": {
        "colab": {
          "base_uri": "https://localhost:8080/"
        },
        "id": "8AgAwSiQyt4r",
        "outputId": "41e21149-47c3-4dad-cf43-0d16f49518ce"
      },
      "execution_count": 90,
      "outputs": [
        {
          "output_type": "execute_result",
          "data": {
            "text/plain": [
              "<keras.src.callbacks.History at 0x7aa550927a90>"
            ]
          },
          "metadata": {},
          "execution_count": 90
        }
      ]
    },
    {
      "cell_type": "code",
      "source": [
        "# Evaluate\n",
        "model_6.evaluate(X_test, y_test)"
      ],
      "metadata": {
        "colab": {
          "base_uri": "https://localhost:8080/"
        },
        "id": "5uj7cvhEzurO",
        "outputId": "36d1da86-aec6-4b36-e47e-ec45245f423d"
      },
      "execution_count": 91,
      "outputs": [
        {
          "output_type": "stream",
          "name": "stdout",
          "text": [
            "18/18 [==============================] - 0s 2ms/step - loss: 17474.7539\n"
          ]
        },
        {
          "output_type": "execute_result",
          "data": {
            "text/plain": [
              "17474.75390625"
            ]
          },
          "metadata": {},
          "execution_count": 91
        }
      ]
    },
    {
      "cell_type": "code",
      "source": [
        "# Load in and evaluate the best performing model\n",
        "model_6 = tf.keras.models.load_model(\"/content/model_experiments/model_6_dense_multivariate\")\n",
        "model_6.evaluate(X_test, y_test)"
      ],
      "metadata": {
        "colab": {
          "base_uri": "https://localhost:8080/"
        },
        "id": "_mDqRYSYz-q1",
        "outputId": "a7b76247-5ee5-4b4e-8a04-92a7be5186ee"
      },
      "execution_count": 92,
      "outputs": [
        {
          "output_type": "stream",
          "name": "stdout",
          "text": [
            "18/18 [==============================] - 0s 6ms/step - loss: 583.4946\n"
          ]
        },
        {
          "output_type": "execute_result",
          "data": {
            "text/plain": [
              "583.4945678710938"
            ]
          },
          "metadata": {},
          "execution_count": 92
        }
      ]
    },
    {
      "cell_type": "code",
      "source": [
        "# Make preds\n",
        "model_6_preds = tf.squeeze(model_6.predict(X_test))"
      ],
      "metadata": {
        "colab": {
          "base_uri": "https://localhost:8080/"
        },
        "id": "7YyzHttq0T_t",
        "outputId": "44ba9e7e-39c3-400c-c6f2-2e873f4c9742"
      },
      "execution_count": 93,
      "outputs": [
        {
          "output_type": "stream",
          "name": "stdout",
          "text": [
            "18/18 [==============================] - 0s 6ms/step\n"
          ]
        }
      ]
    },
    {
      "cell_type": "code",
      "source": [
        "# Evaluate predictions\n",
        "model_6_results = evaluate_preds(y_test, model_6_preds)\n",
        "model_6_results"
      ],
      "metadata": {
        "colab": {
          "base_uri": "https://localhost:8080/"
        },
        "id": "u2VPpdWG0fiX",
        "outputId": "67f5e8e8-3118-4dce-f2dc-69bc6bab1c8b"
      },
      "execution_count": 95,
      "outputs": [
        {
          "output_type": "execute_result",
          "data": {
            "text/plain": [
              "{'mae': 583.4946,\n",
              " 'mse': 1214614.5,\n",
              " 'rmse': 1102.0955,\n",
              " 'mape': 2.6314068,\n",
              " 'mase': 1.0250385}"
            ]
          },
          "metadata": {},
          "execution_count": 95
        }
      ]
    },
    {
      "cell_type": "markdown",
      "source": [
        "As an excercise try improving the model\n",
        "https://dev.mrdbourke.com/tensorflow-deep-learning/10_time_series_forecasting_in_tensorflow/#model-6-dense-multivariate-time-series"
      ],
      "metadata": {
        "id": "peu5saSd0riE"
      }
    },
    {
      "cell_type": "markdown",
      "source": [
        "## Model 7: N-BEATS\n",
        "\n",
        "https://arxiv.org/abs/1905.10437"
      ],
      "metadata": {
        "id": "k7oOPvQN1yfP"
      }
    },
    {
      "cell_type": "markdown",
      "source": [
        "### Building and testing the N-BEATS block layer\n",
        "\n",
        "https://www.tensorflow.org/guide/keras/making_new_layers_and_models_via_subclassing"
      ],
      "metadata": {
        "id": "_Xu2igkv15-4"
      }
    },
    {
      "cell_type": "code",
      "source": [
        "class NBeatsBlock(tf.keras.layers.Layer): # inherits from Layer class\n",
        "  def __init__(self, # constructor\n",
        "               input_size: int,\n",
        "               theta_size: int,\n",
        "               horizon: int,\n",
        "               n_neurons: int,\n",
        "               n_layers: int,\n",
        "               **kwargs): # keyword arguments takes care of all arguments for the parent class\n",
        "\n",
        "    super().__init__(**kwargs) # makes an instance of the superclass\n",
        "\n",
        "    self.input_size = input_size # define attributes\n",
        "    self.theta_size = theta_size\n",
        "    self.horizon = horizon\n",
        "    self.n_neurons = n_neurons\n",
        "    self.n_layers = n_layers\n",
        "\n",
        "    # Block contains stack of Dense layers with relu activation\n",
        "    self.hidden = [tf.keras.layers.Dense(n_neurons, activation=\"relu\") for _ in range(n_layers)]\n",
        "\n",
        "    # Output of block is a theta layer with linear activation\n",
        "    self.theta_layer = tf.keras.layers.Dense(theta_size, activation=\"linear\", name=\"theta\")\n",
        "\n",
        "  def call(self, inputs):\n",
        "    x = inputs\n",
        "    for layer in self.hidden:\n",
        "      x = layer(x)\n",
        "    theta = self.theta_layer(x)\n",
        "\n",
        "    # Output the backcast and the forecast from theta\n",
        "    backcast, forecast = theta[:, :self.input_size], theta[:, -self.horizon]\n",
        "\n",
        "    return backcast, forecast"
      ],
      "metadata": {
        "id": "C0G5bmJ13zY9"
      },
      "execution_count": 96,
      "outputs": []
    },
    {
      "cell_type": "markdown",
      "source": [
        "Let's test the N-Beats class"
      ],
      "metadata": {
        "id": "mlONex9z_IX7"
      }
    },
    {
      "cell_type": "code",
      "source": [
        "# Set up dummy NBeatsBlock layer\n",
        "tf.random.set_seed(42) # initializes with random weights\n",
        "dummy_nbeats_block_layer = NBeatsBlock(input_size=WINDOW_SIZE,\n",
        "                                       theta_size=WINDOW_SIZE+HORIZON,\n",
        "                                       horizon=HORIZON,\n",
        "                                       n_neurons=128,\n",
        "                                       n_layers=4)"
      ],
      "metadata": {
        "id": "6AF1fse3ABQq"
      },
      "execution_count": 97,
      "outputs": []
    },
    {
      "cell_type": "code",
      "source": [
        "# Create dummy inputs\n",
        "dummy_inputs = tf.expand_dims(tf.range(WINDOW_SIZE)+1, axis=0) # for appropriaqte input shape for a Dense layer\n",
        "dummy_inputs"
      ],
      "metadata": {
        "id": "xc31IV-kBUXg",
        "outputId": "7fe1eedc-6589-4c4c-d3dd-d904574b086d",
        "colab": {
          "base_uri": "https://localhost:8080/"
        }
      },
      "execution_count": 98,
      "outputs": [
        {
          "output_type": "execute_result",
          "data": {
            "text/plain": [
              "<tf.Tensor: shape=(1, 7), dtype=int32, numpy=array([[1, 2, 3, 4, 5, 6, 7]], dtype=int32)>"
            ]
          },
          "metadata": {},
          "execution_count": 98
        }
      ]
    },
    {
      "cell_type": "code",
      "source": [
        "# Pass the inputs through the layer\n",
        "backcast, forecast = dummy_nbeats_block_layer(dummy_inputs)\n",
        "print(f\"Backcast: {tf.squeeze(backcast.numpy())}\")\n",
        "print(f\"Forecast: {tf.squeeze(forecast.numpy())}\")"
      ],
      "metadata": {
        "id": "nWEFvSf0Bq9Y",
        "outputId": "e84e9a0f-f44a-4276-990c-dc27d0c1ddd2",
        "colab": {
          "base_uri": "https://localhost:8080/"
        }
      },
      "execution_count": 100,
      "outputs": [
        {
          "output_type": "stream",
          "name": "stdout",
          "text": [
            "Backcast: [0.5895909  0.08279766 0.18038066 0.08941906 0.5329423  0.10198046\n",
            " 0.22477505]\n",
            "Forecast: 0.49817872047424316\n"
          ]
        }
      ]
    },
    {
      "cell_type": "markdown",
      "source": [
        "### Create tf data pipelines"
      ],
      "metadata": {
        "id": "G_bb9pfyCT5F"
      }
    },
    {
      "cell_type": "code",
      "source": [],
      "metadata": {
        "id": "qfIFLSMBCsiD"
      },
      "execution_count": null,
      "outputs": []
    }
  ]
}