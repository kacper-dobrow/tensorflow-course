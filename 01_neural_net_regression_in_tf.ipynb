{
  "nbformat": 4,
  "nbformat_minor": 0,
  "metadata": {
    "colab": {
      "provenance": [],
      "authorship_tag": "ABX9TyOyQOY8spZ4jA+W3Xu9z2K9",
      "include_colab_link": true
    },
    "kernelspec": {
      "name": "python3",
      "display_name": "Python 3"
    },
    "language_info": {
      "name": "python"
    }
  },
  "cells": [
    {
      "cell_type": "markdown",
      "metadata": {
        "id": "view-in-github",
        "colab_type": "text"
      },
      "source": [
        "<a href=\"https://colab.research.google.com/github/kacper-dobrow/tensorflow-course/blob/main/01_neural_net_regression_in_tf.ipynb\" target=\"_parent\"><img src=\"https://colab.research.google.com/assets/colab-badge.svg\" alt=\"Open In Colab\"/></a>"
      ]
    },
    {
      "cell_type": "markdown",
      "source": [
        "# Intro to regression with neural nets in TF\n",
        "\n",
        "In short predicting a value with input data"
      ],
      "metadata": {
        "id": "LLk4u_HB-6Ab"
      }
    },
    {
      "cell_type": "code",
      "source": [
        "# Import TF\n",
        "import tensorflow as tf\n",
        "tf.__version__"
      ],
      "metadata": {
        "colab": {
          "base_uri": "https://localhost:8080/",
          "height": 35
        },
        "id": "HOFgQ2A-_XAJ",
        "outputId": "9176b71b-fa0d-4e9d-a343-0209cc84830f"
      },
      "execution_count": 121,
      "outputs": [
        {
          "output_type": "execute_result",
          "data": {
            "text/plain": [
              "'2.13.0'"
            ],
            "application/vnd.google.colaboratory.intrinsic+json": {
              "type": "string"
            }
          },
          "metadata": {},
          "execution_count": 121
        }
      ]
    },
    {
      "cell_type": "markdown",
      "source": [
        "## Creating data to view and fit"
      ],
      "metadata": {
        "id": "BAy3Uf_r_hBJ"
      }
    },
    {
      "cell_type": "code",
      "source": [
        "import numpy as np\n",
        "import matplotlib.pyplot as plt\n",
        "\n",
        "#create features (input)\n",
        "X = np.array([-7.,-4.,-1.,2.,5.,8.,11.,14.])\n",
        "\n",
        "#create labels (output)\n",
        "y = np.array([3.,6.,9.,12.,15.,18.,21.,24.])\n",
        "\n",
        "#visualize data with matplotlib\n",
        "plt.scatter(X,y)"
      ],
      "metadata": {
        "colab": {
          "base_uri": "https://localhost:8080/",
          "height": 452
        },
        "id": "sS5J3bXs_ulQ",
        "outputId": "6fb21aa6-09a3-42f2-8588-3669e14b918b"
      },
      "execution_count": 122,
      "outputs": [
        {
          "output_type": "execute_result",
          "data": {
            "text/plain": [
              "<matplotlib.collections.PathCollection at 0x7861d9464610>"
            ]
          },
          "metadata": {},
          "execution_count": 122
        },
        {
          "output_type": "display_data",
          "data": {
            "text/plain": [
              "<Figure size 640x480 with 1 Axes>"
            ],
            "image/png": "[encoded data removed]"
          },
          "metadata": {}
        }
      ]
    },
    {
      "cell_type": "code",
      "source": [
        "y == X+10"
      ],
      "metadata": {
        "colab": {
          "base_uri": "https://localhost:8080/"
        },
        "id": "mU1DTFTpAV7i",
        "outputId": "dae8207c-75a0-4e92-c945-f534a112803c"
      },
      "execution_count": 123,
      "outputs": [
        {
          "output_type": "execute_result",
          "data": {
            "text/plain": [
              "array([ True,  True,  True,  True,  True,  True,  True,  True])"
            ]
          },
          "metadata": {},
          "execution_count": 123
        }
      ]
    },
    {
      "cell_type": "markdown",
      "source": [
        "## Input and output shapes"
      ],
      "metadata": {
        "id": "EtuXX1R9AmBB"
      }
    },
    {
      "cell_type": "code",
      "source": [
        "# create a demo tensor for our housing price prediction problem\n",
        "house_info = tf.constant(['bedroom','bathroom','garage'])\n",
        "house_price = tf.constant([939700.]) #in for of a list - remember\n",
        "house_info, house_price"
      ],
      "metadata": {
        "colab": {
          "base_uri": "https://localhost:8080/"
        },
        "id": "gIwhapbXBiIg",
        "outputId": "8756a8b0-4fb6-40c5-9158-ac5e17026ff6"
      },
      "execution_count": 124,
      "outputs": [
        {
          "output_type": "execute_result",
          "data": {
            "text/plain": [
              "(<tf.Tensor: shape=(3,), dtype=string, numpy=array([b'bedroom', b'bathroom', b'garage'], dtype=object)>,\n",
              " <tf.Tensor: shape=(1,), dtype=float32, numpy=array([939700.], dtype=float32)>)"
            ]
          },
          "metadata": {},
          "execution_count": 124
        }
      ]
    },
    {
      "cell_type": "code",
      "source": [
        "input_shape = X[0].shape\n",
        "output_shape = y[0].shape\n",
        "input_shape, output_shape"
      ],
      "metadata": {
        "colab": {
          "base_uri": "https://localhost:8080/"
        },
        "id": "bVJuOmpBCAFh",
        "outputId": "7dc8aca4-2c19-4c6d-d65f-4434eca06e8c"
      },
      "execution_count": 125,
      "outputs": [
        {
          "output_type": "execute_result",
          "data": {
            "text/plain": [
              "((), ())"
            ]
          },
          "metadata": {},
          "execution_count": 125
        }
      ]
    },
    {
      "cell_type": "code",
      "source": [
        "# turn our np arrays into tensors\n",
        "X = tf.cast(tf.constant(X),dtype=tf.float32)\n",
        "y = tf.cast(tf.constant(y),dtype = tf.float32)\n",
        "X,y"
      ],
      "metadata": {
        "colab": {
          "base_uri": "https://localhost:8080/"
        },
        "id": "9ooICSFSCh6h",
        "outputId": "48426317-9e99-46ea-f5fe-97a1468db7ec"
      },
      "execution_count": 126,
      "outputs": [
        {
          "output_type": "execute_result",
          "data": {
            "text/plain": [
              "(<tf.Tensor: shape=(8,), dtype=float32, numpy=array([-7., -4., -1.,  2.,  5.,  8., 11., 14.], dtype=float32)>,\n",
              " <tf.Tensor: shape=(8,), dtype=float32, numpy=array([ 3.,  6.,  9., 12., 15., 18., 21., 24.], dtype=float32)>)"
            ]
          },
          "metadata": {},
          "execution_count": 126
        }
      ]
    },
    {
      "cell_type": "code",
      "source": [
        "input_shape = X[0].shape\n",
        "output_shape = y[0].shape\n",
        "input_shape, output_shape"
      ],
      "metadata": {
        "colab": {
          "base_uri": "https://localhost:8080/"
        },
        "id": "_hOejHGgDUwx",
        "outputId": "271c5437-b246-41f7-9ca1-fa3703c4488b"
      },
      "execution_count": 127,
      "outputs": [
        {
          "output_type": "execute_result",
          "data": {
            "text/plain": [
              "(TensorShape([]), TensorShape([]))"
            ]
          },
          "metadata": {},
          "execution_count": 127
        }
      ]
    },
    {
      "cell_type": "markdown",
      "source": [
        "## Steps in modelling in Tensorflow\n",
        "\n",
        "1. Create a model - define input, output and hidden layers\n",
        "2. Compile the model - define the loss fcn that tells you how far away from 'real values' you are, and the optimizer and evaluation metrics\n",
        "3. Fit the model - letting the model find patterns between inputs and outputs (features and labels)\n",
        "\n",
        "Reminder for the steps in modelling with tf\n",
        "1. Get data ready\n",
        "2. Build or pick a pretrained model\n",
        "3. Fit the model to the data and make a prediction\n",
        "4. Evaluate the model\n",
        "5. Improve through experimentation\n",
        "6. Save and reload the trained model\n",
        "\n",
        "> Blok z wcięciem\n",
        "\n"
      ],
      "metadata": {
        "id": "R6_ul0uIDq3H"
      }
    },
    {
      "cell_type": "code",
      "source": [
        "# Set random seed for reproducibility\n",
        "tf.random.set_seed(42)\n",
        "\n",
        "# 1. Create a model using the sequential API\n",
        "model = tf.keras.Sequential([\n",
        "    tf.keras.layers.Dense(1)\n",
        "])\n",
        "\n",
        "# 2. Compile the model\n",
        "model.compile(loss=tf.keras.losses.MAE, #MAE is short for mean absolute error\n",
        "              optimizer = tf.keras.optimizers.SGD(), #SGD is short for stochastic gradient descent\n",
        "              metrics = ['mae']) #means that we use the tf.keras.losses.MAE   'mae' is sort of an alias\n",
        "\n",
        "# 3. Fit the model\n",
        "model.fit(tf.expand_dims(X,axis=-1),y,epochs=5) # fit inputs X to outputs y and you have 5 opportunities to do it right\n",
        "#tf.expand_dims(X,axis=-1) istead of just X, because model.fit needs a higher dimensional input tensor\n"
      ],
      "metadata": {
        "id": "FoogfDLFD6Wf",
        "colab": {
          "base_uri": "https://localhost:8080/"
        },
        "outputId": "9d9f7105-e6ac-4019-adb1-62363d2130d7"
      },
      "execution_count": 128,
      "outputs": [
        {
          "output_type": "stream",
          "name": "stdout",
          "text": [
            "Epoch 1/5\n",
            "1/1 [==============================] - 0s 350ms/step - loss: 16.9925 - mae: 16.9925\n",
            "Epoch 2/5\n",
            "1/1 [==============================] - 0s 11ms/step - loss: 16.7113 - mae: 16.7113\n",
            "Epoch 3/5\n",
            "1/1 [==============================] - 0s 20ms/step - loss: 16.4300 - mae: 16.4300\n",
            "Epoch 4/5\n",
            "1/1 [==============================] - 0s 12ms/step - loss: 16.1488 - mae: 16.1488\n",
            "Epoch 5/5\n",
            "1/1 [==============================] - 0s 14ms/step - loss: 15.8675 - mae: 15.8675\n"
          ]
        },
        {
          "output_type": "execute_result",
          "data": {
            "text/plain": [
              "<keras.src.callbacks.History at 0x7861d7185960>"
            ]
          },
          "metadata": {},
          "execution_count": 128
        }
      ]
    },
    {
      "cell_type": "code",
      "source": [
        "# Try to make a prediction using our model\n",
        "y_pred = model.predict([17.])\n",
        "y_pred"
      ],
      "metadata": {
        "colab": {
          "base_uri": "https://localhost:8080/"
        },
        "id": "EKDP9qvdLbGf",
        "outputId": "daf2a598-a186-4dd9-d1c7-27a3a84389c4"
      },
      "execution_count": 129,
      "outputs": [
        {
          "output_type": "stream",
          "name": "stdout",
          "text": [
            "1/1 [==============================] - 0s 78ms/step\n"
          ]
        },
        {
          "output_type": "execute_result",
          "data": {
            "text/plain": [
              "array([[-9.237693]], dtype=float32)"
            ]
          },
          "metadata": {},
          "execution_count": 129
        }
      ]
    },
    {
      "cell_type": "markdown",
      "source": [
        "## Improving the model\n",
        "\n",
        "We improve the model by altering the steps we took in order to create the model\n",
        "1. Creating the model - add more layers, add more hidden neurons, change the activation fcn\n",
        "2. Compiling the model - change the optimizer, **learning rate**\n",
        "3. Fitting the model - fit it for more epochs or more data"
      ],
      "metadata": {
        "id": "XSMCraP6Pjlu"
      }
    },
    {
      "cell_type": "code",
      "source": [
        "# let's rebuild our model\n",
        "\n",
        "#1. create the model\n",
        "model = tf.keras.Sequential([\n",
        "    tf.keras.layers.Dense(1)\n",
        "])\n",
        "\n",
        "# 2. Compile the model\n",
        "model.compile(loss = tf.keras.losses.mae,\n",
        "              optimizer = tf.keras.optimizers.SGD(),\n",
        "              metrics = 'mae')\n",
        "\n",
        "# 3. Fit the model\n",
        "model.fit(tf.expand_dims(X,axis=-1),y,epochs=100)"
      ],
      "metadata": {
        "colab": {
          "base_uri": "https://localhost:8080/"
        },
        "id": "1RqqEu-eP1hN",
        "outputId": "6c4040ba-d26a-42db-edd1-fd17709c8060"
      },
      "execution_count": 130,
      "outputs": [
        {
          "output_type": "stream",
          "name": "stdout",
          "text": [
            "Epoch 1/100\n",
            "1/1 [==============================] - 0s 328ms/step - loss: 11.3435 - mae: 11.3435\n",
            "Epoch 2/100\n",
            "1/1 [==============================] - 0s 12ms/step - loss: 11.2110 - mae: 11.2110\n",
            "Epoch 3/100\n",
            "1/1 [==============================] - 0s 11ms/step - loss: 11.0785 - mae: 11.0785\n",
            "Epoch 4/100\n",
            "1/1 [==============================] - 0s 9ms/step - loss: 10.9460 - mae: 10.9460\n",
            "Epoch 5/100\n",
            "1/1 [==============================] - 0s 11ms/step - loss: 10.8135 - mae: 10.8135\n",
            "Epoch 6/100\n",
            "1/1 [==============================] - 0s 10ms/step - loss: 10.6810 - mae: 10.6810\n",
            "Epoch 7/100\n",
            "1/1 [==============================] - 0s 11ms/step - loss: 10.5485 - mae: 10.5485\n",
            "Epoch 8/100\n",
            "1/1 [==============================] - 0s 12ms/step - loss: 10.4160 - mae: 10.4160\n",
            "Epoch 9/100\n",
            "1/1 [==============================] - 0s 10ms/step - loss: 10.2835 - mae: 10.2835\n",
            "Epoch 10/100\n",
            "1/1 [==============================] - 0s 14ms/step - loss: 10.1510 - mae: 10.1510\n",
            "Epoch 11/100\n",
            "1/1 [==============================] - 0s 12ms/step - loss: 10.0185 - mae: 10.0185\n",
            "Epoch 12/100\n",
            "1/1 [==============================] - 0s 13ms/step - loss: 9.8860 - mae: 9.8860\n",
            "Epoch 13/100\n",
            "1/1 [==============================] - 0s 14ms/step - loss: 9.7535 - mae: 9.7535\n",
            "Epoch 14/100\n",
            "1/1 [==============================] - 0s 12ms/step - loss: 9.6210 - mae: 9.6210\n",
            "Epoch 15/100\n",
            "1/1 [==============================] - 0s 13ms/step - loss: 9.4885 - mae: 9.4885\n",
            "Epoch 16/100\n",
            "1/1 [==============================] - 0s 12ms/step - loss: 9.3560 - mae: 9.3560\n",
            "Epoch 17/100\n",
            "1/1 [==============================] - 0s 11ms/step - loss: 9.2235 - mae: 9.2235\n",
            "Epoch 18/100\n",
            "1/1 [==============================] - 0s 12ms/step - loss: 9.0910 - mae: 9.0910\n",
            "Epoch 19/100\n",
            "1/1 [==============================] - 0s 13ms/step - loss: 8.9585 - mae: 8.9585\n",
            "Epoch 20/100\n",
            "1/1 [==============================] - 0s 12ms/step - loss: 8.8260 - mae: 8.8260\n",
            "Epoch 21/100\n",
            "1/1 [==============================] - 0s 15ms/step - loss: 8.6935 - mae: 8.6935\n",
            "Epoch 22/100\n",
            "1/1 [==============================] - 0s 17ms/step - loss: 8.5610 - mae: 8.5610\n",
            "Epoch 23/100\n",
            "1/1 [==============================] - 0s 17ms/step - loss: 8.4285 - mae: 8.4285\n",
            "Epoch 24/100\n",
            "1/1 [==============================] - 0s 11ms/step - loss: 8.2960 - mae: 8.2960\n",
            "Epoch 25/100\n",
            "1/1 [==============================] - 0s 12ms/step - loss: 8.1635 - mae: 8.1635\n",
            "Epoch 26/100\n",
            "1/1 [==============================] - 0s 15ms/step - loss: 8.0310 - mae: 8.0310\n",
            "Epoch 27/100\n",
            "1/1 [==============================] - 0s 10ms/step - loss: 7.8985 - mae: 7.8985\n",
            "Epoch 28/100\n",
            "1/1 [==============================] - 0s 11ms/step - loss: 7.7660 - mae: 7.7660\n",
            "Epoch 29/100\n",
            "1/1 [==============================] - 0s 16ms/step - loss: 7.6335 - mae: 7.6335\n",
            "Epoch 30/100\n",
            "1/1 [==============================] - 0s 10ms/step - loss: 7.5010 - mae: 7.5010\n",
            "Epoch 31/100\n",
            "1/1 [==============================] - 0s 10ms/step - loss: 7.3685 - mae: 7.3685\n",
            "Epoch 32/100\n",
            "1/1 [==============================] - 0s 13ms/step - loss: 7.2675 - mae: 7.2675\n",
            "Epoch 33/100\n",
            "1/1 [==============================] - 0s 11ms/step - loss: 7.2619 - mae: 7.2619\n",
            "Epoch 34/100\n",
            "1/1 [==============================] - 0s 12ms/step - loss: 7.2563 - mae: 7.2563\n",
            "Epoch 35/100\n",
            "1/1 [==============================] - 0s 13ms/step - loss: 7.2506 - mae: 7.2506\n",
            "Epoch 36/100\n",
            "1/1 [==============================] - 0s 12ms/step - loss: 7.2450 - mae: 7.2450\n",
            "Epoch 37/100\n",
            "1/1 [==============================] - 0s 12ms/step - loss: 7.2394 - mae: 7.2394\n",
            "Epoch 38/100\n",
            "1/1 [==============================] - 0s 15ms/step - loss: 7.2338 - mae: 7.2338\n",
            "Epoch 39/100\n",
            "1/1 [==============================] - 0s 13ms/step - loss: 7.2281 - mae: 7.2281\n",
            "Epoch 40/100\n",
            "1/1 [==============================] - 0s 18ms/step - loss: 7.2225 - mae: 7.2225\n",
            "Epoch 41/100\n",
            "1/1 [==============================] - 0s 12ms/step - loss: 7.2169 - mae: 7.2169\n",
            "Epoch 42/100\n",
            "1/1 [==============================] - 0s 12ms/step - loss: 7.2112 - mae: 7.2112\n",
            "Epoch 43/100\n",
            "1/1 [==============================] - 0s 13ms/step - loss: 7.2056 - mae: 7.2056\n",
            "Epoch 44/100\n",
            "1/1 [==============================] - 0s 13ms/step - loss: 7.2000 - mae: 7.2000\n",
            "Epoch 45/100\n",
            "1/1 [==============================] - 0s 13ms/step - loss: 7.1944 - mae: 7.1944\n",
            "Epoch 46/100\n",
            "1/1 [==============================] - 0s 13ms/step - loss: 7.1888 - mae: 7.1888\n",
            "Epoch 47/100\n",
            "1/1 [==============================] - 0s 12ms/step - loss: 7.1831 - mae: 7.1831\n",
            "Epoch 48/100\n",
            "1/1 [==============================] - 0s 13ms/step - loss: 7.1775 - mae: 7.1775\n",
            "Epoch 49/100\n",
            "1/1 [==============================] - 0s 12ms/step - loss: 7.1719 - mae: 7.1719\n",
            "Epoch 50/100\n",
            "1/1 [==============================] - 0s 17ms/step - loss: 7.1663 - mae: 7.1663\n",
            "Epoch 51/100\n",
            "1/1 [==============================] - 0s 13ms/step - loss: 7.1606 - mae: 7.1606\n",
            "Epoch 52/100\n",
            "1/1 [==============================] - 0s 13ms/step - loss: 7.1550 - mae: 7.1550\n",
            "Epoch 53/100\n",
            "1/1 [==============================] - 0s 11ms/step - loss: 7.1494 - mae: 7.1494\n",
            "Epoch 54/100\n",
            "1/1 [==============================] - 0s 11ms/step - loss: 7.1438 - mae: 7.1438\n",
            "Epoch 55/100\n",
            "1/1 [==============================] - 0s 14ms/step - loss: 7.1381 - mae: 7.1381\n",
            "Epoch 56/100\n",
            "1/1 [==============================] - 0s 12ms/step - loss: 7.1325 - mae: 7.1325\n",
            "Epoch 57/100\n",
            "1/1 [==============================] - 0s 13ms/step - loss: 7.1269 - mae: 7.1269\n",
            "Epoch 58/100\n",
            "1/1 [==============================] - 0s 11ms/step - loss: 7.1213 - mae: 7.1213\n",
            "Epoch 59/100\n",
            "1/1 [==============================] - 0s 11ms/step - loss: 7.1156 - mae: 7.1156\n",
            "Epoch 60/100\n",
            "1/1 [==============================] - 0s 11ms/step - loss: 7.1100 - mae: 7.1100\n",
            "Epoch 61/100\n",
            "1/1 [==============================] - 0s 11ms/step - loss: 7.1044 - mae: 7.1044\n",
            "Epoch 62/100\n",
            "1/1 [==============================] - 0s 12ms/step - loss: 7.0988 - mae: 7.0988\n",
            "Epoch 63/100\n",
            "1/1 [==============================] - 0s 13ms/step - loss: 7.0931 - mae: 7.0931\n",
            "Epoch 64/100\n",
            "1/1 [==============================] - 0s 11ms/step - loss: 7.0875 - mae: 7.0875\n",
            "Epoch 65/100\n",
            "1/1 [==============================] - 0s 12ms/step - loss: 7.0819 - mae: 7.0819\n",
            "Epoch 66/100\n",
            "1/1 [==============================] - 0s 9ms/step - loss: 7.0763 - mae: 7.0763\n",
            "Epoch 67/100\n",
            "1/1 [==============================] - 0s 9ms/step - loss: 7.0706 - mae: 7.0706\n",
            "Epoch 68/100\n",
            "1/1 [==============================] - 0s 10ms/step - loss: 7.0650 - mae: 7.0650\n",
            "Epoch 69/100\n",
            "1/1 [==============================] - 0s 11ms/step - loss: 7.0594 - mae: 7.0594\n",
            "Epoch 70/100\n",
            "1/1 [==============================] - 0s 10ms/step - loss: 7.0538 - mae: 7.0538\n",
            "Epoch 71/100\n",
            "1/1 [==============================] - 0s 10ms/step - loss: 7.0481 - mae: 7.0481\n",
            "Epoch 72/100\n",
            "1/1 [==============================] - 0s 10ms/step - loss: 7.0425 - mae: 7.0425\n",
            "Epoch 73/100\n",
            "1/1 [==============================] - 0s 10ms/step - loss: 7.0369 - mae: 7.0369\n",
            "Epoch 74/100\n",
            "1/1 [==============================] - 0s 9ms/step - loss: 7.0313 - mae: 7.0313\n",
            "Epoch 75/100\n",
            "1/1 [==============================] - 0s 10ms/step - loss: 7.0256 - mae: 7.0256\n",
            "Epoch 76/100\n",
            "1/1 [==============================] - 0s 10ms/step - loss: 7.0200 - mae: 7.0200\n",
            "Epoch 77/100\n",
            "1/1 [==============================] - 0s 10ms/step - loss: 7.0144 - mae: 7.0144\n",
            "Epoch 78/100\n",
            "1/1 [==============================] - 0s 10ms/step - loss: 7.0088 - mae: 7.0088\n",
            "Epoch 79/100\n",
            "1/1 [==============================] - 0s 10ms/step - loss: 7.0031 - mae: 7.0031\n",
            "Epoch 80/100\n",
            "1/1 [==============================] - 0s 11ms/step - loss: 6.9975 - mae: 6.9975\n",
            "Epoch 81/100\n",
            "1/1 [==============================] - 0s 9ms/step - loss: 6.9919 - mae: 6.9919\n",
            "Epoch 82/100\n",
            "1/1 [==============================] - 0s 13ms/step - loss: 6.9863 - mae: 6.9863\n",
            "Epoch 83/100\n",
            "1/1 [==============================] - 0s 12ms/step - loss: 6.9806 - mae: 6.9806\n",
            "Epoch 84/100\n",
            "1/1 [==============================] - 0s 13ms/step - loss: 6.9750 - mae: 6.9750\n",
            "Epoch 85/100\n",
            "1/1 [==============================] - 0s 10ms/step - loss: 6.9694 - mae: 6.9694\n",
            "Epoch 86/100\n",
            "1/1 [==============================] - 0s 11ms/step - loss: 6.9638 - mae: 6.9638\n",
            "Epoch 87/100\n",
            "1/1 [==============================] - 0s 14ms/step - loss: 6.9581 - mae: 6.9581\n",
            "Epoch 88/100\n",
            "1/1 [==============================] - 0s 10ms/step - loss: 6.9525 - mae: 6.9525\n",
            "Epoch 89/100\n",
            "1/1 [==============================] - 0s 9ms/step - loss: 6.9469 - mae: 6.9469\n",
            "Epoch 90/100\n",
            "1/1 [==============================] - 0s 9ms/step - loss: 6.9413 - mae: 6.9413\n",
            "Epoch 91/100\n",
            "1/1 [==============================] - 0s 9ms/step - loss: 6.9356 - mae: 6.9356\n",
            "Epoch 92/100\n",
            "1/1 [==============================] - 0s 10ms/step - loss: 6.9300 - mae: 6.9300\n",
            "Epoch 93/100\n",
            "1/1 [==============================] - 0s 10ms/step - loss: 6.9244 - mae: 6.9244\n",
            "Epoch 94/100\n",
            "1/1 [==============================] - 0s 10ms/step - loss: 6.9188 - mae: 6.9188\n",
            "Epoch 95/100\n",
            "1/1 [==============================] - 0s 10ms/step - loss: 6.9131 - mae: 6.9131\n",
            "Epoch 96/100\n",
            "1/1 [==============================] - 0s 10ms/step - loss: 6.9075 - mae: 6.9075\n",
            "Epoch 97/100\n",
            "1/1 [==============================] - 0s 10ms/step - loss: 6.9019 - mae: 6.9019\n",
            "Epoch 98/100\n",
            "1/1 [==============================] - 0s 10ms/step - loss: 6.8963 - mae: 6.8963\n",
            "Epoch 99/100\n",
            "1/1 [==============================] - 0s 10ms/step - loss: 6.8906 - mae: 6.8906\n",
            "Epoch 100/100\n",
            "1/1 [==============================] - 0s 10ms/step - loss: 6.8850 - mae: 6.8850\n"
          ]
        },
        {
          "output_type": "execute_result",
          "data": {
            "text/plain": [
              "<keras.src.callbacks.History at 0x7861d6f90eb0>"
            ]
          },
          "metadata": {},
          "execution_count": 130
        }
      ]
    },
    {
      "cell_type": "code",
      "source": [
        "# Remind ourselves of the data\n",
        "X,y"
      ],
      "metadata": {
        "colab": {
          "base_uri": "https://localhost:8080/"
        },
        "id": "o343snpuTY-1",
        "outputId": "2264c4a5-d6b8-47db-8ec9-46e331ab8545"
      },
      "execution_count": 131,
      "outputs": [
        {
          "output_type": "execute_result",
          "data": {
            "text/plain": [
              "(<tf.Tensor: shape=(8,), dtype=float32, numpy=array([-7., -4., -1.,  2.,  5.,  8., 11., 14.], dtype=float32)>,\n",
              " <tf.Tensor: shape=(8,), dtype=float32, numpy=array([ 3.,  6.,  9., 12., 15., 18., 21., 24.], dtype=float32)>)"
            ]
          },
          "metadata": {},
          "execution_count": 131
        }
      ]
    },
    {
      "cell_type": "code",
      "source": [
        "#Model prediction\n",
        "model.predict([17.])"
      ],
      "metadata": {
        "colab": {
          "base_uri": "https://localhost:8080/"
        },
        "id": "dWTdXHiQT1wE",
        "outputId": "5b4add1f-79a9-481c-fabd-a33f4f0e7ac6"
      },
      "execution_count": 132,
      "outputs": [
        {
          "output_type": "stream",
          "name": "stdout",
          "text": [
            "1/1 [==============================] - 0s 69ms/step\n"
          ]
        },
        {
          "output_type": "execute_result",
          "data": {
            "text/plain": [
              "array([[29.746986]], dtype=float32)"
            ]
          },
          "metadata": {},
          "execution_count": 132
        }
      ]
    },
    {
      "cell_type": "code",
      "source": [
        "#once again try to improve the net\n",
        "\n",
        "# 1. create the model\n",
        "#add an extra layer\n",
        "model = tf.keras.Sequential([\n",
        "    tf.keras.layers.Dense(50, activation=None), #only adding one hidden layer\n",
        "    tf.keras.layers.Dense(1)\n",
        "])\n",
        "\n",
        "# 2. Compile the model\n",
        "model.compile(optimizer = tf.keras.optimizers.Adam(lr = 0.01), #learning rate is probably the most important hyperparameter OF THEM ALL\n",
        "              loss = 'mae', #keyword instead of explicit function\n",
        "              metrics = ['mae'])\n",
        "\n",
        "# 3. fit the model to the data\n",
        "model.fit(tf.expand_dims(X,axis = -1),y,epochs = 100)"
      ],
      "metadata": {
        "colab": {
          "base_uri": "https://localhost:8080/"
        },
        "id": "lVSmgwSzT6R8",
        "outputId": "023f6361-7a52-40f4-a48e-c855c7aec080"
      },
      "execution_count": 133,
      "outputs": [
        {
          "output_type": "stream",
          "name": "stderr",
          "text": [
            "WARNING:absl:`lr` is deprecated in Keras optimizer, please use `learning_rate` or use the legacy optimizer, e.g.,tf.keras.optimizers.legacy.Adam.\n"
          ]
        },
        {
          "output_type": "stream",
          "name": "stdout",
          "text": [
            "Epoch 1/100\n",
            "1/1 [==============================] - 1s 619ms/step - loss: 14.2332 - mae: 14.2332\n",
            "Epoch 2/100\n",
            "1/1 [==============================] - 0s 14ms/step - loss: 14.1648 - mae: 14.1648\n",
            "Epoch 3/100\n",
            "1/1 [==============================] - 0s 16ms/step - loss: 14.0964 - mae: 14.0964\n",
            "Epoch 4/100\n",
            "1/1 [==============================] - 0s 20ms/step - loss: 14.0281 - mae: 14.0281\n",
            "Epoch 5/100\n",
            "1/1 [==============================] - 0s 15ms/step - loss: 13.9598 - mae: 13.9598\n",
            "Epoch 6/100\n",
            "1/1 [==============================] - 0s 12ms/step - loss: 13.8915 - mae: 13.8915\n",
            "Epoch 7/100\n",
            "1/1 [==============================] - 0s 12ms/step - loss: 13.8233 - mae: 13.8233\n",
            "Epoch 8/100\n",
            "1/1 [==============================] - 0s 11ms/step - loss: 13.7551 - mae: 13.7551\n",
            "Epoch 9/100\n",
            "1/1 [==============================] - 0s 16ms/step - loss: 13.6869 - mae: 13.6869\n",
            "Epoch 10/100\n",
            "1/1 [==============================] - 0s 14ms/step - loss: 13.6188 - mae: 13.6188\n",
            "Epoch 11/100\n",
            "1/1 [==============================] - 0s 15ms/step - loss: 13.5506 - mae: 13.5506\n",
            "Epoch 12/100\n",
            "1/1 [==============================] - 0s 13ms/step - loss: 13.4825 - mae: 13.4825\n",
            "Epoch 13/100\n",
            "1/1 [==============================] - 0s 13ms/step - loss: 13.4144 - mae: 13.4144\n",
            "Epoch 14/100\n",
            "1/1 [==============================] - 0s 13ms/step - loss: 13.3463 - mae: 13.3463\n",
            "Epoch 15/100\n",
            "1/1 [==============================] - 0s 12ms/step - loss: 13.2782 - mae: 13.2782\n",
            "Epoch 16/100\n",
            "1/1 [==============================] - 0s 13ms/step - loss: 13.2101 - mae: 13.2101\n",
            "Epoch 17/100\n",
            "1/1 [==============================] - 0s 11ms/step - loss: 13.1420 - mae: 13.1420\n",
            "Epoch 18/100\n",
            "1/1 [==============================] - 0s 12ms/step - loss: 13.0739 - mae: 13.0739\n",
            "Epoch 19/100\n",
            "1/1 [==============================] - 0s 11ms/step - loss: 13.0058 - mae: 13.0058\n",
            "Epoch 20/100\n",
            "1/1 [==============================] - 0s 12ms/step - loss: 12.9376 - mae: 12.9376\n",
            "Epoch 21/100\n",
            "1/1 [==============================] - 0s 14ms/step - loss: 12.8695 - mae: 12.8695\n",
            "Epoch 22/100\n",
            "1/1 [==============================] - 0s 11ms/step - loss: 12.8013 - mae: 12.8013\n",
            "Epoch 23/100\n",
            "1/1 [==============================] - 0s 12ms/step - loss: 12.7331 - mae: 12.7331\n",
            "Epoch 24/100\n",
            "1/1 [==============================] - 0s 11ms/step - loss: 12.6649 - mae: 12.6649\n",
            "Epoch 25/100\n",
            "1/1 [==============================] - 0s 11ms/step - loss: 12.5966 - mae: 12.5966\n",
            "Epoch 26/100\n",
            "1/1 [==============================] - 0s 13ms/step - loss: 12.5283 - mae: 12.5283\n",
            "Epoch 27/100\n",
            "1/1 [==============================] - 0s 13ms/step - loss: 12.4599 - mae: 12.4599\n",
            "Epoch 28/100\n",
            "1/1 [==============================] - 0s 11ms/step - loss: 12.3915 - mae: 12.3915\n",
            "Epoch 29/100\n",
            "1/1 [==============================] - 0s 12ms/step - loss: 12.3230 - mae: 12.3230\n",
            "Epoch 30/100\n",
            "1/1 [==============================] - 0s 11ms/step - loss: 12.2545 - mae: 12.2545\n",
            "Epoch 31/100\n",
            "1/1 [==============================] - 0s 11ms/step - loss: 12.1858 - mae: 12.1858\n",
            "Epoch 32/100\n",
            "1/1 [==============================] - 0s 12ms/step - loss: 12.1171 - mae: 12.1171\n",
            "Epoch 33/100\n",
            "1/1 [==============================] - 0s 11ms/step - loss: 12.0483 - mae: 12.0483\n",
            "Epoch 34/100\n",
            "1/1 [==============================] - 0s 11ms/step - loss: 11.9794 - mae: 11.9794\n",
            "Epoch 35/100\n",
            "1/1 [==============================] - 0s 12ms/step - loss: 11.9104 - mae: 11.9104\n",
            "Epoch 36/100\n",
            "1/1 [==============================] - 0s 11ms/step - loss: 11.8412 - mae: 11.8412\n",
            "Epoch 37/100\n",
            "1/1 [==============================] - 0s 13ms/step - loss: 11.7720 - mae: 11.7720\n",
            "Epoch 38/100\n",
            "1/1 [==============================] - 0s 11ms/step - loss: 11.7026 - mae: 11.7026\n",
            "Epoch 39/100\n",
            "1/1 [==============================] - 0s 12ms/step - loss: 11.6331 - mae: 11.6331\n",
            "Epoch 40/100\n",
            "1/1 [==============================] - 0s 15ms/step - loss: 11.5634 - mae: 11.5634\n",
            "Epoch 41/100\n",
            "1/1 [==============================] - 0s 11ms/step - loss: 11.4936 - mae: 11.4936\n",
            "Epoch 42/100\n",
            "1/1 [==============================] - 0s 12ms/step - loss: 11.4236 - mae: 11.4236\n",
            "Epoch 43/100\n",
            "1/1 [==============================] - 0s 11ms/step - loss: 11.3534 - mae: 11.3534\n",
            "Epoch 44/100\n",
            "1/1 [==============================] - 0s 11ms/step - loss: 11.2831 - mae: 11.2831\n",
            "Epoch 45/100\n",
            "1/1 [==============================] - 0s 13ms/step - loss: 11.2126 - mae: 11.2126\n",
            "Epoch 46/100\n",
            "1/1 [==============================] - 0s 10ms/step - loss: 11.1419 - mae: 11.1419\n",
            "Epoch 47/100\n",
            "1/1 [==============================] - 0s 13ms/step - loss: 11.0710 - mae: 11.0710\n",
            "Epoch 48/100\n",
            "1/1 [==============================] - 0s 13ms/step - loss: 10.9999 - mae: 10.9999\n",
            "Epoch 49/100\n",
            "1/1 [==============================] - 0s 9ms/step - loss: 10.9286 - mae: 10.9286\n",
            "Epoch 50/100\n",
            "1/1 [==============================] - 0s 10ms/step - loss: 10.8570 - mae: 10.8570\n",
            "Epoch 51/100\n",
            "1/1 [==============================] - 0s 10ms/step - loss: 10.7852 - mae: 10.7852\n",
            "Epoch 52/100\n",
            "1/1 [==============================] - 0s 10ms/step - loss: 10.7132 - mae: 10.7132\n",
            "Epoch 53/100\n",
            "1/1 [==============================] - 0s 12ms/step - loss: 10.6410 - mae: 10.6410\n",
            "Epoch 54/100\n",
            "1/1 [==============================] - 0s 12ms/step - loss: 10.5684 - mae: 10.5684\n",
            "Epoch 55/100\n",
            "1/1 [==============================] - 0s 11ms/step - loss: 10.4956 - mae: 10.4956\n",
            "Epoch 56/100\n",
            "1/1 [==============================] - 0s 10ms/step - loss: 10.4226 - mae: 10.4226\n",
            "Epoch 57/100\n",
            "1/1 [==============================] - 0s 11ms/step - loss: 10.3493 - mae: 10.3493\n",
            "Epoch 58/100\n",
            "1/1 [==============================] - 0s 10ms/step - loss: 10.2756 - mae: 10.2756\n",
            "Epoch 59/100\n",
            "1/1 [==============================] - 0s 9ms/step - loss: 10.2017 - mae: 10.2017\n",
            "Epoch 60/100\n",
            "1/1 [==============================] - 0s 11ms/step - loss: 10.1275 - mae: 10.1275\n",
            "Epoch 61/100\n",
            "1/1 [==============================] - 0s 13ms/step - loss: 10.0530 - mae: 10.0530\n",
            "Epoch 62/100\n",
            "1/1 [==============================] - 0s 11ms/step - loss: 9.9782 - mae: 9.9782\n",
            "Epoch 63/100\n",
            "1/1 [==============================] - 0s 11ms/step - loss: 9.9030 - mae: 9.9030\n",
            "Epoch 64/100\n",
            "1/1 [==============================] - 0s 10ms/step - loss: 9.8275 - mae: 9.8275\n",
            "Epoch 65/100\n",
            "1/1 [==============================] - 0s 11ms/step - loss: 9.7517 - mae: 9.7517\n",
            "Epoch 66/100\n",
            "1/1 [==============================] - 0s 11ms/step - loss: 9.6755 - mae: 9.6755\n",
            "Epoch 67/100\n",
            "1/1 [==============================] - 0s 11ms/step - loss: 9.5989 - mae: 9.5989\n",
            "Epoch 68/100\n",
            "1/1 [==============================] - 0s 11ms/step - loss: 9.5220 - mae: 9.5220\n",
            "Epoch 69/100\n",
            "1/1 [==============================] - 0s 12ms/step - loss: 9.4447 - mae: 9.4447\n",
            "Epoch 70/100\n",
            "1/1 [==============================] - 0s 11ms/step - loss: 9.3671 - mae: 9.3671\n",
            "Epoch 71/100\n",
            "1/1 [==============================] - 0s 10ms/step - loss: 9.2890 - mae: 9.2890\n",
            "Epoch 72/100\n",
            "1/1 [==============================] - 0s 11ms/step - loss: 9.2106 - mae: 9.2106\n",
            "Epoch 73/100\n",
            "1/1 [==============================] - 0s 10ms/step - loss: 9.1318 - mae: 9.1318\n",
            "Epoch 74/100\n",
            "1/1 [==============================] - 0s 10ms/step - loss: 9.0525 - mae: 9.0525\n",
            "Epoch 75/100\n",
            "1/1 [==============================] - 0s 11ms/step - loss: 8.9729 - mae: 8.9729\n",
            "Epoch 76/100\n",
            "1/1 [==============================] - 0s 11ms/step - loss: 8.8928 - mae: 8.8928\n",
            "Epoch 77/100\n",
            "1/1 [==============================] - 0s 11ms/step - loss: 8.8123 - mae: 8.8123\n",
            "Epoch 78/100\n",
            "1/1 [==============================] - 0s 10ms/step - loss: 8.7313 - mae: 8.7313\n",
            "Epoch 79/100\n",
            "1/1 [==============================] - 0s 10ms/step - loss: 8.6499 - mae: 8.6499\n",
            "Epoch 80/100\n",
            "1/1 [==============================] - 0s 11ms/step - loss: 8.5680 - mae: 8.5680\n",
            "Epoch 81/100\n",
            "1/1 [==============================] - 0s 10ms/step - loss: 8.4857 - mae: 8.4857\n",
            "Epoch 82/100\n",
            "1/1 [==============================] - 0s 10ms/step - loss: 8.4029 - mae: 8.4029\n",
            "Epoch 83/100\n",
            "1/1 [==============================] - 0s 9ms/step - loss: 8.3197 - mae: 8.3197\n",
            "Epoch 84/100\n",
            "1/1 [==============================] - 0s 10ms/step - loss: 8.2359 - mae: 8.2359\n",
            "Epoch 85/100\n",
            "1/1 [==============================] - 0s 11ms/step - loss: 8.1517 - mae: 8.1517\n",
            "Epoch 86/100\n",
            "1/1 [==============================] - 0s 16ms/step - loss: 8.0670 - mae: 8.0670\n",
            "Epoch 87/100\n",
            "1/1 [==============================] - 0s 11ms/step - loss: 7.9818 - mae: 7.9818\n",
            "Epoch 88/100\n",
            "1/1 [==============================] - 0s 11ms/step - loss: 7.8960 - mae: 7.8960\n",
            "Epoch 89/100\n",
            "1/1 [==============================] - 0s 14ms/step - loss: 7.8098 - mae: 7.8098\n",
            "Epoch 90/100\n",
            "1/1 [==============================] - 0s 11ms/step - loss: 7.7230 - mae: 7.7230\n",
            "Epoch 91/100\n",
            "1/1 [==============================] - 0s 11ms/step - loss: 7.6357 - mae: 7.6357\n",
            "Epoch 92/100\n",
            "1/1 [==============================] - 0s 11ms/step - loss: 7.5479 - mae: 7.5479\n",
            "Epoch 93/100\n",
            "1/1 [==============================] - 0s 11ms/step - loss: 7.4595 - mae: 7.4595\n",
            "Epoch 94/100\n",
            "1/1 [==============================] - 0s 10ms/step - loss: 7.3705 - mae: 7.3705\n",
            "Epoch 95/100\n",
            "1/1 [==============================] - 0s 10ms/step - loss: 7.2811 - mae: 7.2811\n",
            "Epoch 96/100\n",
            "1/1 [==============================] - 0s 12ms/step - loss: 7.1910 - mae: 7.1910\n",
            "Epoch 97/100\n",
            "1/1 [==============================] - 0s 9ms/step - loss: 7.1004 - mae: 7.1004\n",
            "Epoch 98/100\n",
            "1/1 [==============================] - 0s 9ms/step - loss: 7.0092 - mae: 7.0092\n",
            "Epoch 99/100\n",
            "1/1 [==============================] - 0s 9ms/step - loss: 6.9175 - mae: 6.9175\n",
            "Epoch 100/100\n",
            "1/1 [==============================] - 0s 9ms/step - loss: 6.8251 - mae: 6.8251\n"
          ]
        },
        {
          "output_type": "execute_result",
          "data": {
            "text/plain": [
              "<keras.src.callbacks.History at 0x7861d6afe4d0>"
            ]
          },
          "metadata": {},
          "execution_count": 133
        }
      ]
    },
    {
      "cell_type": "code",
      "source": [
        "model.predict([17.])"
      ],
      "metadata": {
        "colab": {
          "base_uri": "https://localhost:8080/"
        },
        "id": "y-qhzw6JU03c",
        "outputId": "7ed9aeed-e470-416d-ab1f-7e3602401535"
      },
      "execution_count": 134,
      "outputs": [
        {
          "output_type": "stream",
          "name": "stdout",
          "text": [
            "1/1 [==============================] - 0s 71ms/step\n"
          ]
        },
        {
          "output_type": "execute_result",
          "data": {
            "text/plain": [
              "array([[28.650896]], dtype=float32)"
            ]
          },
          "metadata": {},
          "execution_count": 134
        }
      ]
    },
    {
      "cell_type": "markdown",
      "source": [
        "To sum up - methods to improve the net:\n",
        "* add layers\n",
        "* increase no of hidden neurons\n",
        "* change activation fcns\n",
        "* change optimizers\n",
        "* change the **learning rate**\n",
        "* fit on more data\n",
        "* fit for longer - more epochs"
      ],
      "metadata": {
        "id": "mPZbIV8EWOfM"
      }
    },
    {
      "cell_type": "markdown",
      "source": [
        "## Evaluating a model\n",
        "\n",
        "In practice a typical workflow is:\n",
        "1. Build a model\n",
        "2. fit the model\n",
        "3. Evaluate the model\n",
        "4. Tweak the model\n",
        "5. Repeat steps 2-4 until meets criteria\n",
        "\n",
        "When evaluating **visualize**\n",
        "* data\n",
        "* the model\n",
        "* training parameters\n",
        "* predictions of the model"
      ],
      "metadata": {
        "id": "sMWdyaw3Y-Zb"
      }
    },
    {
      "cell_type": "code",
      "source": [
        "# make a bigger dataset\n",
        "X = tf.range(-100.,100.,4.,dtype = tf.float32)\n",
        "y= X+10.\n",
        "X = tf.expand_dims(X,axis=-1)"
      ],
      "metadata": {
        "id": "Id2FCGj2ZP2b"
      },
      "execution_count": 135,
      "outputs": []
    },
    {
      "cell_type": "code",
      "source": [
        "plt.scatter(X,y) #dots if I wanted to have a line I would pass plt.plot(X,y)"
      ],
      "metadata": {
        "colab": {
          "base_uri": "https://localhost:8080/",
          "height": 447
        },
        "id": "axB3l8FDajq7",
        "outputId": "c7a4ca00-669a-4466-8e45-1970b0eaf797"
      },
      "execution_count": 136,
      "outputs": [
        {
          "output_type": "execute_result",
          "data": {
            "text/plain": [
              "<matplotlib.collections.PathCollection at 0x7861d6cad7e0>"
            ]
          },
          "metadata": {},
          "execution_count": 136
        },
        {
          "output_type": "display_data",
          "data": {
            "text/plain": [
              "<Figure size 640x480 with 1 Axes>"
            ],
            "image/png": "[encoded data removed]"
          },
          "metadata": {}
        }
      ]
    },
    {
      "cell_type": "markdown",
      "source": [
        "### 3 sets - training, validating, test set\n",
        "\n",
        "* training set - typically 70-80% - the model learns from this data\n",
        "* validation set - the model gets tuned on this data, typ 10-15%\n",
        "* test set - the model gets evaluated upon the performance on this data, typ 10-15%\n",
        "\n",
        "for now we'll split it only to two sets - training and test"
      ],
      "metadata": {
        "id": "WJVH6YHUbDMD"
      }
    },
    {
      "cell_type": "code",
      "source": [
        "# check the length of how many samples we have\n",
        "len(X)"
      ],
      "metadata": {
        "colab": {
          "base_uri": "https://localhost:8080/"
        },
        "id": "_iZQlnYVbeRb",
        "outputId": "1ee5c1d2-9550-4a80-a440-3aebe5b32479"
      },
      "execution_count": 137,
      "outputs": [
        {
          "output_type": "execute_result",
          "data": {
            "text/plain": [
              "50"
            ]
          },
          "metadata": {},
          "execution_count": 137
        }
      ]
    },
    {
      "cell_type": "code",
      "source": [
        "# split the data into train and test sets\n",
        "X_train = X[:40] # first 80% of data\n",
        "X_test = X[40:]\n",
        "\n",
        "y_train = y[:40]\n",
        "y_test = y[40:]"
      ],
      "metadata": {
        "id": "LXUyaDR5cyHL"
      },
      "execution_count": 138,
      "outputs": []
    },
    {
      "cell_type": "markdown",
      "source": [
        "### Visualizing the data"
      ],
      "metadata": {
        "id": "kvke24g2dRTT"
      }
    },
    {
      "cell_type": "code",
      "source": [
        "plt.figure(figsize=(10,7))\n",
        "# Plot training data in blue\n",
        "plt.scatter(X_train,y_train,c='b',label = 'Training data')\n",
        "# Plot test data in blue\n",
        "plt.scatter(X_test,y_test,c='g',label = 'Test data')\n",
        "plt.legend()"
      ],
      "metadata": {
        "colab": {
          "base_uri": "https://localhost:8080/",
          "height": 616
        },
        "id": "GvKwe30qkxDR",
        "outputId": "164d4f8b-7efd-4ca1-bc7a-f43d959ed462"
      },
      "execution_count": 139,
      "outputs": [
        {
          "output_type": "execute_result",
          "data": {
            "text/plain": [
              "<matplotlib.legend.Legend at 0x7861d6c3f160>"
            ]
          },
          "metadata": {},
          "execution_count": 139
        },
        {
          "output_type": "display_data",
          "data": {
            "text/plain": [
              "<Figure size 1000x700 with 1 Axes>"
            ],
            "image/png": "[encoded data removed]"
          },
          "metadata": {}
        }
      ]
    },
    {
      "cell_type": "code",
      "source": [
        "#neural net for our data\n",
        "# 1. create\n",
        "model = tf.keras.Sequential([\n",
        "    tf.keras.layers.Dense(1)\n",
        "])\n",
        "\n",
        "# 2. compile\n",
        "model.compile(optimizer=tf.keras.optimizers.SGD(),\n",
        "              loss = 'mae',\n",
        "              metrics='mae')\n",
        "# 3. fit\n",
        "#model.fit(X_train,y_train,epochs=100)"
      ],
      "metadata": {
        "id": "ObqRaIJmleyJ"
      },
      "execution_count": 140,
      "outputs": []
    },
    {
      "cell_type": "markdown",
      "source": [
        "### Visualizing the model"
      ],
      "metadata": {
        "id": "2o_vIA9vnT8B"
      }
    },
    {
      "cell_type": "code",
      "source": [
        "# Let's create a model thet builds automatically by defining the input_shape argument in the first layer\n",
        "tf.random.set_seed(42)\n",
        "\n",
        "# 1. Create\n",
        "model = tf.keras.Sequential([\n",
        "    tf.keras.layers.Dense(10, input_shape = (1,)), #dense means that the layer is fully connected\n",
        "    tf.keras.layers.Dense(1)\n",
        "    ])\n",
        "\n",
        "# 2. compile\n",
        "model.compile(loss = 'mae',\n",
        "              optimizer = tf.keras.optimizers.SGD(),\n",
        "              metrics = 'mae') # alternatively a list of metrics\n",
        "model.summary()"
      ],
      "metadata": {
        "colab": {
          "base_uri": "https://localhost:8080/"
        },
        "id": "SXt4pfe0oHKh",
        "outputId": "02f18c62-f0a2-4571-f802-56ac0c0f97a6"
      },
      "execution_count": 143,
      "outputs": [
        {
          "output_type": "stream",
          "name": "stdout",
          "text": [
            "Model: \"sequential_50\"\n",
            "_________________________________________________________________\n",
            " Layer (type)                Output Shape              Param #   \n",
            "=================================================================\n",
            " dense_64 (Dense)            (None, 10)                20        \n",
            "                                                                 \n",
            " dense_65 (Dense)            (None, 1)                 11        \n",
            "                                                                 \n",
            "=================================================================\n",
            "Total params: 31 (124.00 Byte)\n",
            "Trainable params: 31 (124.00 Byte)\n",
            "Non-trainable params: 0 (0.00 Byte)\n",
            "_________________________________________________________________\n"
          ]
        }
      ]
    },
    {
      "cell_type": "markdown",
      "source": [
        "* total parameters - all parameters present in the model wich the model is going to learn\n",
        "* trainable parameters - the parameters the model can update as it trains (we can exclude some of them from training if we don't want them to change)\n",
        "* non-trainable parameters - these excluded\n",
        "\n",
        "<< MIT's introduction to deep learning video >>"
      ],
      "metadata": {
        "id": "GgasASenoLeY"
      }
    },
    {
      "cell_type": "code",
      "source": [
        "# Fit to data\n",
        "\n",
        "model.fit(X_train,y_train, epochs=100, verbose = 0)"
      ],
      "metadata": {
        "colab": {
          "base_uri": "https://localhost:8080/"
        },
        "id": "IHe0i2evqcKH",
        "outputId": "ba4da0be-c938-4c49-ce49-71156f8491a9"
      },
      "execution_count": 144,
      "outputs": [
        {
          "output_type": "execute_result",
          "data": {
            "text/plain": [
              "<keras.src.callbacks.History at 0x7861d70dded0>"
            ]
          },
          "metadata": {},
          "execution_count": 144
        }
      ]
    },
    {
      "cell_type": "code",
      "source": [
        "from tensorflow.keras.utils import plot_model\n",
        "plot_model(model=model,show_shapes=True)"
      ],
      "metadata": {
        "colab": {
          "base_uri": "https://localhost:8080/",
          "height": 312
        },
        "id": "faSMy69wsGqn",
        "outputId": "a6fe0087-3e4c-4299-eab3-93b3519579fc"
      },
      "execution_count": 145,
      "outputs": [
        {
          "output_type": "execute_result",
          "data": {
            "image/png": "[encoded data removed]",
            "text/plain": [
              "<IPython.core.display.Image object>"
            ]
          },
          "metadata": {},
          "execution_count": 145
        }
      ]
    },
    {
      "cell_type": "markdown",
      "source": [
        "### Visualize our model's predictions\n",
        "\n",
        "To visualize predictions, plot them against the true values"
      ],
      "metadata": {
        "id": "EPoVnuUxs4lo"
      }
    },
    {
      "cell_type": "code",
      "source": [
        "# make predictions\n",
        "y_pred = tf.constant(model.predict(X_test))\n",
        "X_test.shape, y_pred.shape"
      ],
      "metadata": {
        "colab": {
          "base_uri": "https://localhost:8080/"
        },
        "id": "p76fGFBwt5Xf",
        "outputId": "39d32a24-ab97-45dd-84ef-23aea7088f54"
      },
      "execution_count": 151,
      "outputs": [
        {
          "output_type": "stream",
          "name": "stdout",
          "text": [
            "1/1 [==============================] - 0s 35ms/step\n"
          ]
        },
        {
          "output_type": "execute_result",
          "data": {
            "text/plain": [
              "(TensorShape([10, 1]), TensorShape([10, 1]))"
            ]
          },
          "metadata": {},
          "execution_count": 151
        }
      ]
    },
    {
      "cell_type": "code",
      "source": [
        "#create a plotting fcn in case I want to use it in the future\n",
        "def plot_predictions(train_features = X_train,\n",
        "                     train_labels = y_train,\n",
        "                     test_features = X_test,\n",
        "                     test_labels = y_test,\n",
        "                     predictions = y_pred):\n",
        "  '''\n",
        "  plots training and test data against the predictions of the model\n",
        "  '''\n",
        "  plt.figure(figsize = (10,7))\n",
        "  # plot training data in blue\n",
        "  plt.scatter(train_features,train_labels,c='b',label='Training data')\n",
        "  #plot test data in green\n",
        "  plt.scatter(test_features,test_labels,c='g',label = 'Test data')\n",
        "  #plot predictions in red\n",
        "  plt.scatter(test_features,predictions,c='r',label= 'Predictions')\n",
        "  #show the legend\n",
        "  plt.legend()\n"
      ],
      "metadata": {
        "id": "2Htx3qKiuQfH"
      },
      "execution_count": 152,
      "outputs": []
    },
    {
      "cell_type": "code",
      "source": [
        "plot_predictions()"
      ],
      "metadata": {
        "colab": {
          "base_uri": "https://localhost:8080/",
          "height": 599
        },
        "id": "dUR2uz1vwnC3",
        "outputId": "5bdd1997-1a5e-4da7-be10-23c369164fff"
      },
      "execution_count": 153,
      "outputs": [
        {
          "output_type": "display_data",
          "data": {
            "text/plain": [
              "<Figure size 1000x700 with 1 Axes>"
            ],
            "image/png": "[encoded data removed]"
          },
          "metadata": {}
        }
      ]
    },
    {
      "cell_type": "markdown",
      "source": [
        "### Evaluation metrics"
      ],
      "metadata": {
        "id": "ZtTkjTsjwpte"
      }
    },
    {
      "cell_type": "code",
      "source": [],
      "metadata": {
        "id": "GGVmV6BAybbG"
      },
      "execution_count": null,
      "outputs": []
    }
  ]
}