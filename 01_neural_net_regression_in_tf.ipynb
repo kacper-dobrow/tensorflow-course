{
  "nbformat": 4,
  "nbformat_minor": 0,
  "metadata": {
    "colab": {
      "provenance": [],
      "authorship_tag": "ABX9TyPTu8A92ru3TsPOqINcuUx5",
      "include_colab_link": true
    },
    "kernelspec": {
      "name": "python3",
      "display_name": "Python 3"
    },
    "language_info": {
      "name": "python"
    }
  },
  "cells": [
    {
      "cell_type": "markdown",
      "metadata": {
        "id": "view-in-github",
        "colab_type": "text"
      },
      "source": [
        "<a href=\"https://colab.research.google.com/github/kacper-dobrow/tensorflow-course/blob/main/01_neural_net_regression_in_tf.ipynb\" target=\"_parent\"><img src=\"https://colab.research.google.com/assets/colab-badge.svg\" alt=\"Open In Colab\"/></a>"
      ]
    },
    {
      "cell_type": "markdown",
      "source": [
        "# Intro to regression with neural nets in TF\n",
        "\n",
        "In short predicting a value with input data"
      ],
      "metadata": {
        "id": "LLk4u_HB-6Ab"
      }
    },
    {
      "cell_type": "code",
      "source": [
        "# Import TF\n",
        "import tensorflow as tf\n",
        "tf.__version__"
      ],
      "metadata": {
        "colab": {
          "base_uri": "https://localhost:8080/",
          "height": 35
        },
        "id": "HOFgQ2A-_XAJ",
        "outputId": "fcab8835-85bd-433c-ee93-b24eb4afceba"
      },
      "execution_count": 44,
      "outputs": [
        {
          "output_type": "execute_result",
          "data": {
            "text/plain": [
              "'2.13.0'"
            ],
            "application/vnd.google.colaboratory.intrinsic+json": {
              "type": "string"
            }
          },
          "metadata": {},
          "execution_count": 44
        }
      ]
    },
    {
      "cell_type": "markdown",
      "source": [
        "## Creating data to view and fit"
      ],
      "metadata": {
        "id": "BAy3Uf_r_hBJ"
      }
    },
    {
      "cell_type": "code",
      "source": [
        "import numpy as np\n",
        "import matplotlib.pyplot as plt\n",
        "\n",
        "#create features (input)\n",
        "X = np.array([-7.,-4.,-1.,2.,5.,8.,11.,14.])\n",
        "\n",
        "#create labels (output)\n",
        "y = np.array([3.,6.,9.,12.,15.,18.,21.,24.])\n",
        "\n",
        "#visualize data with matplotlib\n",
        "plt.scatter(X,y)"
      ],
      "metadata": {
        "colab": {
          "base_uri": "https://localhost:8080/",
          "height": 453
        },
        "id": "sS5J3bXs_ulQ",
        "outputId": "e8dd5d18-bb83-45ad-f05f-b6817aad5fbb"
      },
      "execution_count": 45,
      "outputs": [
        {
          "output_type": "execute_result",
          "data": {
            "text/plain": [
              "<matplotlib.collections.PathCollection at 0x7c0bd907acb0>"
            ]
          },
          "metadata": {},
          "execution_count": 45
        },
        {
          "output_type": "display_data",
          "data": {
            "text/plain": [
              "<Figure size 640x480 with 1 Axes>"
            ],
            "image/png": "[encoded data removed]"
          },
          "metadata": {}
        }
      ]
    },
    {
      "cell_type": "code",
      "source": [
        "y == X+10"
      ],
      "metadata": {
        "colab": {
          "base_uri": "https://localhost:8080/"
        },
        "id": "mU1DTFTpAV7i",
        "outputId": "928261c7-2165-4106-df29-a236277e651f"
      },
      "execution_count": 46,
      "outputs": [
        {
          "output_type": "execute_result",
          "data": {
            "text/plain": [
              "array([ True,  True,  True,  True,  True,  True,  True,  True])"
            ]
          },
          "metadata": {},
          "execution_count": 46
        }
      ]
    },
    {
      "cell_type": "markdown",
      "source": [
        "## Input and output shapes"
      ],
      "metadata": {
        "id": "EtuXX1R9AmBB"
      }
    },
    {
      "cell_type": "code",
      "source": [
        "# create a demo tensor for our housing price prediction problem\n",
        "house_info = tf.constant(['bedroom','bathroom','garage'])\n",
        "house_price = tf.constant([939700.]) #in for of a list - remember\n",
        "house_info, house_price"
      ],
      "metadata": {
        "colab": {
          "base_uri": "https://localhost:8080/"
        },
        "id": "gIwhapbXBiIg",
        "outputId": "eb65af24-ab0b-4ea5-f608-d2545e3f75c6"
      },
      "execution_count": 47,
      "outputs": [
        {
          "output_type": "execute_result",
          "data": {
            "text/plain": [
              "(<tf.Tensor: shape=(3,), dtype=string, numpy=array([b'bedroom', b'bathroom', b'garage'], dtype=object)>,\n",
              " <tf.Tensor: shape=(1,), dtype=float32, numpy=array([939700.], dtype=float32)>)"
            ]
          },
          "metadata": {},
          "execution_count": 47
        }
      ]
    },
    {
      "cell_type": "code",
      "source": [
        "input_shape = X[0].shape\n",
        "output_shape = y[0].shape\n",
        "input_shape, output_shape"
      ],
      "metadata": {
        "colab": {
          "base_uri": "https://localhost:8080/"
        },
        "id": "bVJuOmpBCAFh",
        "outputId": "85ffd308-1e79-436c-d179-649f35079c9d"
      },
      "execution_count": 48,
      "outputs": [
        {
          "output_type": "execute_result",
          "data": {
            "text/plain": [
              "((), ())"
            ]
          },
          "metadata": {},
          "execution_count": 48
        }
      ]
    },
    {
      "cell_type": "code",
      "source": [
        "# turn our np arrays into tensors\n",
        "X = tf.cast(tf.constant(X),dtype=tf.float32)\n",
        "y = tf.cast(tf.constant(y),dtype = tf.float32)\n",
        "X,y"
      ],
      "metadata": {
        "colab": {
          "base_uri": "https://localhost:8080/"
        },
        "id": "9ooICSFSCh6h",
        "outputId": "b829a797-95f6-4d94-e2d0-670dafb1bd1c"
      },
      "execution_count": 49,
      "outputs": [
        {
          "output_type": "execute_result",
          "data": {
            "text/plain": [
              "(<tf.Tensor: shape=(8,), dtype=float32, numpy=array([-7., -4., -1.,  2.,  5.,  8., 11., 14.], dtype=float32)>,\n",
              " <tf.Tensor: shape=(8,), dtype=float32, numpy=array([ 3.,  6.,  9., 12., 15., 18., 21., 24.], dtype=float32)>)"
            ]
          },
          "metadata": {},
          "execution_count": 49
        }
      ]
    },
    {
      "cell_type": "code",
      "source": [
        "input_shape = X[0].shape\n",
        "output_shape = y[0].shape\n",
        "input_shape, output_shape"
      ],
      "metadata": {
        "colab": {
          "base_uri": "https://localhost:8080/"
        },
        "id": "_hOejHGgDUwx",
        "outputId": "c6c901cf-6641-4170-aa99-70d172836b73"
      },
      "execution_count": 50,
      "outputs": [
        {
          "output_type": "execute_result",
          "data": {
            "text/plain": [
              "(TensorShape([]), TensorShape([]))"
            ]
          },
          "metadata": {},
          "execution_count": 50
        }
      ]
    },
    {
      "cell_type": "markdown",
      "source": [
        "## Steps in modelling in Tensorflow\n",
        "\n",
        "1. Create a model - define input, output and hidden layers\n",
        "2. Compile the model - define the loss fcn that tells you how far away from 'real values' you are, and the optimizer and evaluation metrics\n",
        "3. Fit the model - letting the model find patterns between inputs and outputs (features and labels)\n",
        "\n",
        "Reminder for the steps in modelling with tf\n",
        "1. Get data ready\n",
        "2. Build or pick a pretrained model\n",
        "3. Fit the model to the data and make a prediction\n",
        "4. Evaluate the model\n",
        "5. Improve through experimentation\n",
        "6. Save and reload the trained model\n",
        "\n",
        "> Blok z wcięciem\n",
        "\n"
      ],
      "metadata": {
        "id": "R6_ul0uIDq3H"
      }
    },
    {
      "cell_type": "code",
      "source": [
        "# Set random seed for reproducibility\n",
        "tf.random.set_seed(42)\n",
        "\n",
        "# 1. Create a model using the sequential API\n",
        "model = tf.keras.Sequential([\n",
        "    tf.keras.layers.Dense(1)\n",
        "])\n",
        "\n",
        "# 2. Compile the model\n",
        "model.compile(loss=tf.keras.losses.MAE, #MAE is short for mean absolute error\n",
        "              optimizer = tf.keras.optimizers.SGD(), #SGD is short for stochastic gradient descent\n",
        "              metrics = ['mae']) #means that we use the tf.keras.losses.MAE   'mae' is sort of an alias\n",
        "\n",
        "# 3. Fit the model\n",
        "model.fit(tf.expand_dims(X,axis=-1),y,epochs=5) # fit inputs X to outputs y and you have 5 opportunities to do it right\n",
        "#tf.expand_dims(X,axis=-1) istead of just X, because model.fit needs a higher dimensional input tensor\n"
      ],
      "metadata": {
        "id": "FoogfDLFD6Wf",
        "colab": {
          "base_uri": "https://localhost:8080/"
        },
        "outputId": "dae30ca2-a561-422e-ceca-1df49f3d6de2"
      },
      "execution_count": 51,
      "outputs": [
        {
          "output_type": "stream",
          "name": "stdout",
          "text": [
            "Epoch 1/5\n",
            "1/1 [==============================] - 0s 343ms/step - loss: 10.6239 - mae: 10.6239\n",
            "Epoch 2/5\n",
            "1/1 [==============================] - 0s 15ms/step - loss: 10.4914 - mae: 10.4914\n",
            "Epoch 3/5\n",
            "1/1 [==============================] - 0s 9ms/step - loss: 10.3589 - mae: 10.3589\n",
            "Epoch 4/5\n",
            "1/1 [==============================] - 0s 11ms/step - loss: 10.2264 - mae: 10.2264\n",
            "Epoch 5/5\n",
            "1/1 [==============================] - 0s 9ms/step - loss: 10.0939 - mae: 10.0939\n"
          ]
        },
        {
          "output_type": "execute_result",
          "data": {
            "text/plain": [
              "<keras.src.callbacks.History at 0x7c0bd417eef0>"
            ]
          },
          "metadata": {},
          "execution_count": 51
        }
      ]
    },
    {
      "cell_type": "code",
      "source": [
        "# Try to make a prediction using our model\n",
        "y_pred = model.predict([17.])\n",
        "y_pred"
      ],
      "metadata": {
        "colab": {
          "base_uri": "https://localhost:8080/"
        },
        "id": "EKDP9qvdLbGf",
        "outputId": "14b902a1-d4ce-49e4-ef21-f15ecb328a6a"
      },
      "execution_count": 52,
      "outputs": [
        {
          "output_type": "stream",
          "name": "stderr",
          "text": [
            "WARNING:tensorflow:5 out of the last 5 calls to <function Model.make_predict_function.<locals>.predict_function at 0x7c0bc6a6e050> triggered tf.function retracing. Tracing is expensive and the excessive number of tracings could be due to (1) creating @tf.function repeatedly in a loop, (2) passing tensors with different shapes, (3) passing Python objects instead of tensors. For (1), please define your @tf.function outside of the loop. For (2), @tf.function has reduce_retracing=True option that can avoid unnecessary retracing. For (3), please refer to https://www.tensorflow.org/guide/function#controlling_retracing and https://www.tensorflow.org/api_docs/python/tf/function for  more details.\n"
          ]
        },
        {
          "output_type": "stream",
          "name": "stdout",
          "text": [
            "1/1 [==============================] - 0s 65ms/step\n"
          ]
        },
        {
          "output_type": "execute_result",
          "data": {
            "text/plain": [
              "array([[16.994566]], dtype=float32)"
            ]
          },
          "metadata": {},
          "execution_count": 52
        }
      ]
    },
    {
      "cell_type": "markdown",
      "source": [
        "## Improving the model\n",
        "\n",
        "We improve the model by altering the steps we took in order to create the model\n",
        "1. Creating the model - add more layers, add more hidden neurons, change the activation fcn\n",
        "2. Compiling the model - change the optimizer, **learning rate**\n",
        "3. Fitting the model - fit it for more epochs or more data"
      ],
      "metadata": {
        "id": "XSMCraP6Pjlu"
      }
    },
    {
      "cell_type": "code",
      "source": [
        "# let's rebuild our model\n",
        "\n",
        "#1. create the model\n",
        "model = tf.keras.Sequential([\n",
        "    tf.keras.layers.Dense(1)\n",
        "])\n",
        "\n",
        "# 2. Compile the model\n",
        "model.compile(loss = tf.keras.losses.mae,\n",
        "              optimizer = tf.keras.optimizers.SGD(),\n",
        "              metrics = 'mae')\n",
        "\n",
        "# 3. Fit the model\n",
        "model.fit(tf.expand_dims(X,axis=-1),y,epochs=100)"
      ],
      "metadata": {
        "colab": {
          "base_uri": "https://localhost:8080/"
        },
        "id": "1RqqEu-eP1hN",
        "outputId": "1f4500d4-23c4-447b-a29c-e8de165dc887"
      },
      "execution_count": 53,
      "outputs": [
        {
          "output_type": "stream",
          "name": "stdout",
          "text": [
            "Epoch 1/100\n",
            "1/1 [==============================] - 0s 312ms/step - loss: 12.7459 - mae: 12.7459\n",
            "Epoch 2/100\n",
            "1/1 [==============================] - 0s 12ms/step - loss: 12.6134 - mae: 12.6134\n",
            "Epoch 3/100\n",
            "1/1 [==============================] - 0s 10ms/step - loss: 12.4809 - mae: 12.4809\n",
            "Epoch 4/100\n",
            "1/1 [==============================] - 0s 10ms/step - loss: 12.3484 - mae: 12.3484\n",
            "Epoch 5/100\n",
            "1/1 [==============================] - 0s 10ms/step - loss: 12.2159 - mae: 12.2159\n",
            "Epoch 6/100\n",
            "1/1 [==============================] - 0s 9ms/step - loss: 12.0834 - mae: 12.0834\n",
            "Epoch 7/100\n",
            "1/1 [==============================] - 0s 11ms/step - loss: 11.9509 - mae: 11.9509\n",
            "Epoch 8/100\n",
            "1/1 [==============================] - 0s 10ms/step - loss: 11.8184 - mae: 11.8184\n",
            "Epoch 9/100\n",
            "1/1 [==============================] - 0s 9ms/step - loss: 11.6859 - mae: 11.6859\n",
            "Epoch 10/100\n",
            "1/1 [==============================] - 0s 15ms/step - loss: 11.5534 - mae: 11.5534\n",
            "Epoch 11/100\n",
            "1/1 [==============================] - 0s 8ms/step - loss: 11.4209 - mae: 11.4209\n",
            "Epoch 12/100\n",
            "1/1 [==============================] - 0s 12ms/step - loss: 11.2884 - mae: 11.2884\n",
            "Epoch 13/100\n",
            "1/1 [==============================] - 0s 13ms/step - loss: 11.1559 - mae: 11.1559\n",
            "Epoch 14/100\n",
            "1/1 [==============================] - 0s 12ms/step - loss: 11.0234 - mae: 11.0234\n",
            "Epoch 15/100\n",
            "1/1 [==============================] - 0s 13ms/step - loss: 10.8909 - mae: 10.8909\n",
            "Epoch 16/100\n",
            "1/1 [==============================] - 0s 12ms/step - loss: 10.7584 - mae: 10.7584\n",
            "Epoch 17/100\n",
            "1/1 [==============================] - 0s 12ms/step - loss: 10.6259 - mae: 10.6259\n",
            "Epoch 18/100\n",
            "1/1 [==============================] - 0s 9ms/step - loss: 10.4934 - mae: 10.4934\n",
            "Epoch 19/100\n",
            "1/1 [==============================] - 0s 9ms/step - loss: 10.3609 - mae: 10.3609\n",
            "Epoch 20/100\n",
            "1/1 [==============================] - 0s 9ms/step - loss: 10.2284 - mae: 10.2284\n",
            "Epoch 21/100\n",
            "1/1 [==============================] - 0s 9ms/step - loss: 10.0959 - mae: 10.0959\n",
            "Epoch 22/100\n",
            "1/1 [==============================] - 0s 10ms/step - loss: 9.9634 - mae: 9.9634\n",
            "Epoch 23/100\n",
            "1/1 [==============================] - 0s 10ms/step - loss: 9.8309 - mae: 9.8309\n",
            "Epoch 24/100\n",
            "1/1 [==============================] - 0s 10ms/step - loss: 9.6984 - mae: 9.6984\n",
            "Epoch 25/100\n",
            "1/1 [==============================] - 0s 10ms/step - loss: 9.5659 - mae: 9.5659\n",
            "Epoch 26/100\n",
            "1/1 [==============================] - 0s 11ms/step - loss: 9.4334 - mae: 9.4334\n",
            "Epoch 27/100\n",
            "1/1 [==============================] - 0s 11ms/step - loss: 9.3009 - mae: 9.3009\n",
            "Epoch 28/100\n",
            "1/1 [==============================] - 0s 10ms/step - loss: 9.1684 - mae: 9.1684\n",
            "Epoch 29/100\n",
            "1/1 [==============================] - 0s 10ms/step - loss: 9.0359 - mae: 9.0359\n",
            "Epoch 30/100\n",
            "1/1 [==============================] - 0s 10ms/step - loss: 8.9034 - mae: 8.9034\n",
            "Epoch 31/100\n",
            "1/1 [==============================] - 0s 10ms/step - loss: 8.7709 - mae: 8.7709\n",
            "Epoch 32/100\n",
            "1/1 [==============================] - 0s 10ms/step - loss: 8.6384 - mae: 8.6384\n",
            "Epoch 33/100\n",
            "1/1 [==============================] - 0s 15ms/step - loss: 8.5059 - mae: 8.5059\n",
            "Epoch 34/100\n",
            "1/1 [==============================] - 0s 13ms/step - loss: 8.3734 - mae: 8.3734\n",
            "Epoch 35/100\n",
            "1/1 [==============================] - 0s 11ms/step - loss: 8.2409 - mae: 8.2409\n",
            "Epoch 36/100\n",
            "1/1 [==============================] - 0s 10ms/step - loss: 8.1084 - mae: 8.1084\n",
            "Epoch 37/100\n",
            "1/1 [==============================] - 0s 9ms/step - loss: 7.9759 - mae: 7.9759\n",
            "Epoch 38/100\n",
            "1/1 [==============================] - 0s 15ms/step - loss: 7.8434 - mae: 7.8434\n",
            "Epoch 39/100\n",
            "1/1 [==============================] - 0s 15ms/step - loss: 7.7109 - mae: 7.7109\n",
            "Epoch 40/100\n",
            "1/1 [==============================] - 0s 9ms/step - loss: 7.5784 - mae: 7.5784\n",
            "Epoch 41/100\n",
            "1/1 [==============================] - 0s 9ms/step - loss: 7.4459 - mae: 7.4459\n",
            "Epoch 42/100\n",
            "1/1 [==============================] - 0s 10ms/step - loss: 7.3134 - mae: 7.3134\n",
            "Epoch 43/100\n",
            "1/1 [==============================] - 0s 10ms/step - loss: 7.1850 - mae: 7.1850\n",
            "Epoch 44/100\n",
            "1/1 [==============================] - 0s 12ms/step - loss: 7.1794 - mae: 7.1794\n",
            "Epoch 45/100\n",
            "1/1 [==============================] - 0s 11ms/step - loss: 7.1738 - mae: 7.1738\n",
            "Epoch 46/100\n",
            "1/1 [==============================] - 0s 12ms/step - loss: 7.1681 - mae: 7.1681\n",
            "Epoch 47/100\n",
            "1/1 [==============================] - 0s 10ms/step - loss: 7.1625 - mae: 7.1625\n",
            "Epoch 48/100\n",
            "1/1 [==============================] - 0s 10ms/step - loss: 7.1569 - mae: 7.1569\n",
            "Epoch 49/100\n",
            "1/1 [==============================] - 0s 9ms/step - loss: 7.1513 - mae: 7.1513\n",
            "Epoch 50/100\n",
            "1/1 [==============================] - 0s 9ms/step - loss: 7.1456 - mae: 7.1456\n",
            "Epoch 51/100\n",
            "1/1 [==============================] - 0s 10ms/step - loss: 7.1400 - mae: 7.1400\n",
            "Epoch 52/100\n",
            "1/1 [==============================] - 0s 11ms/step - loss: 7.1344 - mae: 7.1344\n",
            "Epoch 53/100\n",
            "1/1 [==============================] - 0s 10ms/step - loss: 7.1287 - mae: 7.1287\n",
            "Epoch 54/100\n",
            "1/1 [==============================] - 0s 10ms/step - loss: 7.1231 - mae: 7.1231\n",
            "Epoch 55/100\n",
            "1/1 [==============================] - 0s 10ms/step - loss: 7.1175 - mae: 7.1175\n",
            "Epoch 56/100\n",
            "1/1 [==============================] - 0s 10ms/step - loss: 7.1119 - mae: 7.1119\n",
            "Epoch 57/100\n",
            "1/1 [==============================] - 0s 10ms/step - loss: 7.1063 - mae: 7.1063\n",
            "Epoch 58/100\n",
            "1/1 [==============================] - 0s 9ms/step - loss: 7.1006 - mae: 7.1006\n",
            "Epoch 59/100\n",
            "1/1 [==============================] - 0s 10ms/step - loss: 7.0950 - mae: 7.0950\n",
            "Epoch 60/100\n",
            "1/1 [==============================] - 0s 10ms/step - loss: 7.0894 - mae: 7.0894\n",
            "Epoch 61/100\n",
            "1/1 [==============================] - 0s 10ms/step - loss: 7.0838 - mae: 7.0838\n",
            "Epoch 62/100\n",
            "1/1 [==============================] - 0s 10ms/step - loss: 7.0781 - mae: 7.0781\n",
            "Epoch 63/100\n",
            "1/1 [==============================] - 0s 10ms/step - loss: 7.0725 - mae: 7.0725\n",
            "Epoch 64/100\n",
            "1/1 [==============================] - 0s 10ms/step - loss: 7.0669 - mae: 7.0669\n",
            "Epoch 65/100\n",
            "1/1 [==============================] - 0s 11ms/step - loss: 7.0613 - mae: 7.0613\n",
            "Epoch 66/100\n",
            "1/1 [==============================] - 0s 10ms/step - loss: 7.0556 - mae: 7.0556\n",
            "Epoch 67/100\n",
            "1/1 [==============================] - 0s 8ms/step - loss: 7.0500 - mae: 7.0500\n",
            "Epoch 68/100\n",
            "1/1 [==============================] - 0s 9ms/step - loss: 7.0444 - mae: 7.0444\n",
            "Epoch 69/100\n",
            "1/1 [==============================] - 0s 9ms/step - loss: 7.0388 - mae: 7.0388\n",
            "Epoch 70/100\n",
            "1/1 [==============================] - 0s 9ms/step - loss: 7.0331 - mae: 7.0331\n",
            "Epoch 71/100\n",
            "1/1 [==============================] - 0s 10ms/step - loss: 7.0275 - mae: 7.0275\n",
            "Epoch 72/100\n",
            "1/1 [==============================] - 0s 10ms/step - loss: 7.0219 - mae: 7.0219\n",
            "Epoch 73/100\n",
            "1/1 [==============================] - 0s 10ms/step - loss: 7.0163 - mae: 7.0163\n",
            "Epoch 74/100\n",
            "1/1 [==============================] - 0s 11ms/step - loss: 7.0106 - mae: 7.0106\n",
            "Epoch 75/100\n",
            "1/1 [==============================] - 0s 11ms/step - loss: 7.0050 - mae: 7.0050\n",
            "Epoch 76/100\n",
            "1/1 [==============================] - 0s 12ms/step - loss: 6.9994 - mae: 6.9994\n",
            "Epoch 77/100\n",
            "1/1 [==============================] - 0s 17ms/step - loss: 6.9938 - mae: 6.9938\n",
            "Epoch 78/100\n",
            "1/1 [==============================] - 0s 10ms/step - loss: 6.9881 - mae: 6.9881\n",
            "Epoch 79/100\n",
            "1/1 [==============================] - 0s 10ms/step - loss: 6.9825 - mae: 6.9825\n",
            "Epoch 80/100\n",
            "1/1 [==============================] - 0s 10ms/step - loss: 6.9769 - mae: 6.9769\n",
            "Epoch 81/100\n",
            "1/1 [==============================] - 0s 10ms/step - loss: 6.9713 - mae: 6.9713\n",
            "Epoch 82/100\n",
            "1/1 [==============================] - 0s 10ms/step - loss: 6.9656 - mae: 6.9656\n",
            "Epoch 83/100\n",
            "1/1 [==============================] - 0s 11ms/step - loss: 6.9600 - mae: 6.9600\n",
            "Epoch 84/100\n",
            "1/1 [==============================] - 0s 11ms/step - loss: 6.9544 - mae: 6.9544\n",
            "Epoch 85/100\n",
            "1/1 [==============================] - 0s 10ms/step - loss: 6.9488 - mae: 6.9488\n",
            "Epoch 86/100\n",
            "1/1 [==============================] - 0s 14ms/step - loss: 6.9431 - mae: 6.9431\n",
            "Epoch 87/100\n",
            "1/1 [==============================] - 0s 10ms/step - loss: 6.9375 - mae: 6.9375\n",
            "Epoch 88/100\n",
            "1/1 [==============================] - 0s 10ms/step - loss: 6.9319 - mae: 6.9319\n",
            "Epoch 89/100\n",
            "1/1 [==============================] - 0s 11ms/step - loss: 6.9263 - mae: 6.9263\n",
            "Epoch 90/100\n",
            "1/1 [==============================] - 0s 10ms/step - loss: 6.9206 - mae: 6.9206\n",
            "Epoch 91/100\n",
            "1/1 [==============================] - 0s 10ms/step - loss: 6.9150 - mae: 6.9150\n",
            "Epoch 92/100\n",
            "1/1 [==============================] - 0s 11ms/step - loss: 6.9094 - mae: 6.9094\n",
            "Epoch 93/100\n",
            "1/1 [==============================] - 0s 9ms/step - loss: 6.9038 - mae: 6.9038\n",
            "Epoch 94/100\n",
            "1/1 [==============================] - 0s 9ms/step - loss: 6.8981 - mae: 6.8981\n",
            "Epoch 95/100\n",
            "1/1 [==============================] - 0s 9ms/step - loss: 6.8925 - mae: 6.8925\n",
            "Epoch 96/100\n",
            "1/1 [==============================] - 0s 10ms/step - loss: 6.8869 - mae: 6.8869\n",
            "Epoch 97/100\n",
            "1/1 [==============================] - 0s 9ms/step - loss: 6.8813 - mae: 6.8813\n",
            "Epoch 98/100\n",
            "1/1 [==============================] - 0s 9ms/step - loss: 6.8756 - mae: 6.8756\n",
            "Epoch 99/100\n",
            "1/1 [==============================] - 0s 9ms/step - loss: 6.8700 - mae: 6.8700\n",
            "Epoch 100/100\n",
            "1/1 [==============================] - 0s 9ms/step - loss: 6.8644 - mae: 6.8644\n"
          ]
        },
        {
          "output_type": "execute_result",
          "data": {
            "text/plain": [
              "<keras.src.callbacks.History at 0x7c0bd42a7160>"
            ]
          },
          "metadata": {},
          "execution_count": 53
        }
      ]
    },
    {
      "cell_type": "code",
      "source": [
        "# Remind ourselves of the data\n",
        "X,y"
      ],
      "metadata": {
        "colab": {
          "base_uri": "https://localhost:8080/"
        },
        "id": "o343snpuTY-1",
        "outputId": "a0652121-6052-41cd-f346-f8dbf5c3d079"
      },
      "execution_count": 54,
      "outputs": [
        {
          "output_type": "execute_result",
          "data": {
            "text/plain": [
              "(<tf.Tensor: shape=(8,), dtype=float32, numpy=array([-7., -4., -1.,  2.,  5.,  8., 11., 14.], dtype=float32)>,\n",
              " <tf.Tensor: shape=(8,), dtype=float32, numpy=array([ 3.,  6.,  9., 12., 15., 18., 21., 24.], dtype=float32)>)"
            ]
          },
          "metadata": {},
          "execution_count": 54
        }
      ]
    },
    {
      "cell_type": "code",
      "source": [
        "#Model prediction\n",
        "model.predict([17.])"
      ],
      "metadata": {
        "colab": {
          "base_uri": "https://localhost:8080/"
        },
        "id": "dWTdXHiQT1wE",
        "outputId": "b7857a26-cca8-489e-a0e3-7e4b148ab424"
      },
      "execution_count": 55,
      "outputs": [
        {
          "output_type": "stream",
          "name": "stderr",
          "text": [
            "WARNING:tensorflow:6 out of the last 6 calls to <function Model.make_predict_function.<locals>.predict_function at 0x7c0bc6a6df30> triggered tf.function retracing. Tracing is expensive and the excessive number of tracings could be due to (1) creating @tf.function repeatedly in a loop, (2) passing tensors with different shapes, (3) passing Python objects instead of tensors. For (1), please define your @tf.function outside of the loop. For (2), @tf.function has reduce_retracing=True option that can avoid unnecessary retracing. For (3), please refer to https://www.tensorflow.org/guide/function#controlling_retracing and https://www.tensorflow.org/api_docs/python/tf/function for  more details.\n"
          ]
        },
        {
          "output_type": "stream",
          "name": "stdout",
          "text": [
            "1/1 [==============================] - 0s 89ms/step\n"
          ]
        },
        {
          "output_type": "execute_result",
          "data": {
            "text/plain": [
              "array([[29.507925]], dtype=float32)"
            ]
          },
          "metadata": {},
          "execution_count": 55
        }
      ]
    },
    {
      "cell_type": "code",
      "source": [
        "#once again try to improve the net\n",
        "\n",
        "# 1. create the model\n",
        "#add an extra layer\n",
        "model = tf.keras.Sequential([\n",
        "    tf.keras.layers.Dense(50, activation=None), #only adding one hidden layer\n",
        "    tf.keras.layers.Dense(1)\n",
        "])\n",
        "\n",
        "# 2. Compile the model\n",
        "model.compile(optimizer = tf.keras.optimizers.Adam(lr = 0.01), #learning rate is probably the most important hyperparameter OF THEM ALL\n",
        "              loss = 'mae', #keyword instead of explicit function\n",
        "              metrics = ['mae'])\n",
        "\n",
        "# 3. fit the model to the data\n",
        "model.fit(tf.expand_dims(X,axis = -1),y,epochs = 100)"
      ],
      "metadata": {
        "colab": {
          "base_uri": "https://localhost:8080/"
        },
        "id": "lVSmgwSzT6R8",
        "outputId": "8d20abb8-25c3-4718-b02a-2ef468905b02"
      },
      "execution_count": 56,
      "outputs": [
        {
          "output_type": "stream",
          "name": "stderr",
          "text": [
            "WARNING:absl:`lr` is deprecated in Keras optimizer, please use `learning_rate` or use the legacy optimizer, e.g.,tf.keras.optimizers.legacy.Adam.\n"
          ]
        },
        {
          "output_type": "stream",
          "name": "stdout",
          "text": [
            "Epoch 1/100\n",
            "1/1 [==============================] - 1s 589ms/step - loss: 13.9756 - mae: 13.9756\n",
            "Epoch 2/100\n",
            "1/1 [==============================] - 0s 13ms/step - loss: 13.9136 - mae: 13.9136\n",
            "Epoch 3/100\n",
            "1/1 [==============================] - 0s 11ms/step - loss: 13.8515 - mae: 13.8515\n",
            "Epoch 4/100\n",
            "1/1 [==============================] - 0s 10ms/step - loss: 13.7894 - mae: 13.7894\n",
            "Epoch 5/100\n",
            "1/1 [==============================] - 0s 17ms/step - loss: 13.7274 - mae: 13.7274\n",
            "Epoch 6/100\n",
            "1/1 [==============================] - 0s 12ms/step - loss: 13.6653 - mae: 13.6653\n",
            "Epoch 7/100\n",
            "1/1 [==============================] - 0s 11ms/step - loss: 13.6031 - mae: 13.6031\n",
            "Epoch 8/100\n",
            "1/1 [==============================] - 0s 10ms/step - loss: 13.5410 - mae: 13.5410\n",
            "Epoch 9/100\n",
            "1/1 [==============================] - 0s 12ms/step - loss: 13.4788 - mae: 13.4788\n",
            "Epoch 10/100\n",
            "1/1 [==============================] - 0s 10ms/step - loss: 13.4166 - mae: 13.4166\n",
            "Epoch 11/100\n",
            "1/1 [==============================] - 0s 10ms/step - loss: 13.3544 - mae: 13.3544\n",
            "Epoch 12/100\n",
            "1/1 [==============================] - 0s 10ms/step - loss: 13.2921 - mae: 13.2921\n",
            "Epoch 13/100\n",
            "1/1 [==============================] - 0s 10ms/step - loss: 13.2298 - mae: 13.2298\n",
            "Epoch 14/100\n",
            "1/1 [==============================] - 0s 9ms/step - loss: 13.1675 - mae: 13.1675\n",
            "Epoch 15/100\n",
            "1/1 [==============================] - 0s 10ms/step - loss: 13.1051 - mae: 13.1051\n",
            "Epoch 16/100\n",
            "1/1 [==============================] - 0s 11ms/step - loss: 13.0427 - mae: 13.0427\n",
            "Epoch 17/100\n",
            "1/1 [==============================] - 0s 12ms/step - loss: 12.9802 - mae: 12.9802\n",
            "Epoch 18/100\n",
            "1/1 [==============================] - 0s 11ms/step - loss: 12.9176 - mae: 12.9176\n",
            "Epoch 19/100\n",
            "1/1 [==============================] - 0s 11ms/step - loss: 12.8550 - mae: 12.8550\n",
            "Epoch 20/100\n",
            "1/1 [==============================] - 0s 11ms/step - loss: 12.7923 - mae: 12.7923\n",
            "Epoch 21/100\n",
            "1/1 [==============================] - 0s 11ms/step - loss: 12.7296 - mae: 12.7296\n",
            "Epoch 22/100\n",
            "1/1 [==============================] - 0s 11ms/step - loss: 12.6667 - mae: 12.6667\n",
            "Epoch 23/100\n",
            "1/1 [==============================] - 0s 10ms/step - loss: 12.6038 - mae: 12.6038\n",
            "Epoch 24/100\n",
            "1/1 [==============================] - 0s 10ms/step - loss: 12.5407 - mae: 12.5407\n",
            "Epoch 25/100\n",
            "1/1 [==============================] - 0s 10ms/step - loss: 12.4775 - mae: 12.4775\n",
            "Epoch 26/100\n",
            "1/1 [==============================] - 0s 13ms/step - loss: 12.4143 - mae: 12.4143\n",
            "Epoch 27/100\n",
            "1/1 [==============================] - 0s 12ms/step - loss: 12.3509 - mae: 12.3509\n",
            "Epoch 28/100\n",
            "1/1 [==============================] - 0s 11ms/step - loss: 12.2873 - mae: 12.2873\n",
            "Epoch 29/100\n",
            "1/1 [==============================] - 0s 11ms/step - loss: 12.2237 - mae: 12.2237\n",
            "Epoch 30/100\n",
            "1/1 [==============================] - 0s 11ms/step - loss: 12.1598 - mae: 12.1598\n",
            "Epoch 31/100\n",
            "1/1 [==============================] - 0s 11ms/step - loss: 12.0959 - mae: 12.0959\n",
            "Epoch 32/100\n",
            "1/1 [==============================] - 0s 10ms/step - loss: 12.0317 - mae: 12.0317\n",
            "Epoch 33/100\n",
            "1/1 [==============================] - 0s 10ms/step - loss: 11.9674 - mae: 11.9674\n",
            "Epoch 34/100\n",
            "1/1 [==============================] - 0s 10ms/step - loss: 11.9030 - mae: 11.9030\n",
            "Epoch 35/100\n",
            "1/1 [==============================] - 0s 11ms/step - loss: 11.8383 - mae: 11.8383\n",
            "Epoch 36/100\n",
            "1/1 [==============================] - 0s 11ms/step - loss: 11.7735 - mae: 11.7735\n",
            "Epoch 37/100\n",
            "1/1 [==============================] - 0s 11ms/step - loss: 11.7084 - mae: 11.7084\n",
            "Epoch 38/100\n",
            "1/1 [==============================] - 0s 10ms/step - loss: 11.6432 - mae: 11.6432\n",
            "Epoch 39/100\n",
            "1/1 [==============================] - 0s 10ms/step - loss: 11.5777 - mae: 11.5777\n",
            "Epoch 40/100\n",
            "1/1 [==============================] - 0s 11ms/step - loss: 11.5120 - mae: 11.5120\n",
            "Epoch 41/100\n",
            "1/1 [==============================] - 0s 13ms/step - loss: 11.4460 - mae: 11.4460\n",
            "Epoch 42/100\n",
            "1/1 [==============================] - 0s 13ms/step - loss: 11.3799 - mae: 11.3799\n",
            "Epoch 43/100\n",
            "1/1 [==============================] - 0s 11ms/step - loss: 11.3134 - mae: 11.3134\n",
            "Epoch 44/100\n",
            "1/1 [==============================] - 0s 11ms/step - loss: 11.2468 - mae: 11.2468\n",
            "Epoch 45/100\n",
            "1/1 [==============================] - 0s 13ms/step - loss: 11.1798 - mae: 11.1798\n",
            "Epoch 46/100\n",
            "1/1 [==============================] - 0s 11ms/step - loss: 11.1126 - mae: 11.1126\n",
            "Epoch 47/100\n",
            "1/1 [==============================] - 0s 10ms/step - loss: 11.0451 - mae: 11.0451\n",
            "Epoch 48/100\n",
            "1/1 [==============================] - 0s 10ms/step - loss: 10.9773 - mae: 10.9773\n",
            "Epoch 49/100\n",
            "1/1 [==============================] - 0s 10ms/step - loss: 10.9093 - mae: 10.9093\n",
            "Epoch 50/100\n",
            "1/1 [==============================] - 0s 10ms/step - loss: 10.8409 - mae: 10.8409\n",
            "Epoch 51/100\n",
            "1/1 [==============================] - 0s 10ms/step - loss: 10.7722 - mae: 10.7722\n",
            "Epoch 52/100\n",
            "1/1 [==============================] - 0s 11ms/step - loss: 10.7032 - mae: 10.7032\n",
            "Epoch 53/100\n",
            "1/1 [==============================] - 0s 11ms/step - loss: 10.6338 - mae: 10.6338\n",
            "Epoch 54/100\n",
            "1/1 [==============================] - 0s 10ms/step - loss: 10.5642 - mae: 10.5642\n",
            "Epoch 55/100\n",
            "1/1 [==============================] - 0s 10ms/step - loss: 10.4941 - mae: 10.4941\n",
            "Epoch 56/100\n",
            "1/1 [==============================] - 0s 10ms/step - loss: 10.4238 - mae: 10.4238\n",
            "Epoch 57/100\n",
            "1/1 [==============================] - 0s 17ms/step - loss: 10.3531 - mae: 10.3531\n",
            "Epoch 58/100\n",
            "1/1 [==============================] - 0s 16ms/step - loss: 10.2820 - mae: 10.2820\n",
            "Epoch 59/100\n",
            "1/1 [==============================] - 0s 12ms/step - loss: 10.2105 - mae: 10.2105\n",
            "Epoch 60/100\n",
            "1/1 [==============================] - 0s 15ms/step - loss: 10.1387 - mae: 10.1387\n",
            "Epoch 61/100\n",
            "1/1 [==============================] - 0s 13ms/step - loss: 10.0665 - mae: 10.0665\n",
            "Epoch 62/100\n",
            "1/1 [==============================] - 0s 13ms/step - loss: 9.9938 - mae: 9.9938\n",
            "Epoch 63/100\n",
            "1/1 [==============================] - 0s 13ms/step - loss: 9.9208 - mae: 9.9208\n",
            "Epoch 64/100\n",
            "1/1 [==============================] - 0s 14ms/step - loss: 9.8474 - mae: 9.8474\n",
            "Epoch 65/100\n",
            "1/1 [==============================] - 0s 13ms/step - loss: 9.7735 - mae: 9.7735\n",
            "Epoch 66/100\n",
            "1/1 [==============================] - 0s 14ms/step - loss: 9.6993 - mae: 9.6993\n",
            "Epoch 67/100\n",
            "1/1 [==============================] - 0s 11ms/step - loss: 9.6246 - mae: 9.6246\n",
            "Epoch 68/100\n",
            "1/1 [==============================] - 0s 10ms/step - loss: 9.5494 - mae: 9.5494\n",
            "Epoch 69/100\n",
            "1/1 [==============================] - 0s 10ms/step - loss: 9.4739 - mae: 9.4739\n",
            "Epoch 70/100\n",
            "1/1 [==============================] - 0s 10ms/step - loss: 9.3978 - mae: 9.3978\n",
            "Epoch 71/100\n",
            "1/1 [==============================] - 0s 11ms/step - loss: 9.3214 - mae: 9.3214\n",
            "Epoch 72/100\n",
            "1/1 [==============================] - 0s 13ms/step - loss: 9.2444 - mae: 9.2444\n",
            "Epoch 73/100\n",
            "1/1 [==============================] - 0s 11ms/step - loss: 9.1670 - mae: 9.1670\n",
            "Epoch 74/100\n",
            "1/1 [==============================] - 0s 12ms/step - loss: 9.0891 - mae: 9.0891\n",
            "Epoch 75/100\n",
            "1/1 [==============================] - 0s 10ms/step - loss: 9.0107 - mae: 9.0107\n",
            "Epoch 76/100\n",
            "1/1 [==============================] - 0s 10ms/step - loss: 8.9319 - mae: 8.9319\n",
            "Epoch 77/100\n",
            "1/1 [==============================] - 0s 10ms/step - loss: 8.8525 - mae: 8.8525\n",
            "Epoch 78/100\n",
            "1/1 [==============================] - 0s 9ms/step - loss: 8.7726 - mae: 8.7726\n",
            "Epoch 79/100\n",
            "1/1 [==============================] - 0s 10ms/step - loss: 8.6923 - mae: 8.6923\n",
            "Epoch 80/100\n",
            "1/1 [==============================] - 0s 10ms/step - loss: 8.6114 - mae: 8.6114\n",
            "Epoch 81/100\n",
            "1/1 [==============================] - 0s 11ms/step - loss: 8.5300 - mae: 8.5300\n",
            "Epoch 82/100\n",
            "1/1 [==============================] - 0s 11ms/step - loss: 8.4480 - mae: 8.4480\n",
            "Epoch 83/100\n",
            "1/1 [==============================] - 0s 12ms/step - loss: 8.3656 - mae: 8.3656\n",
            "Epoch 84/100\n",
            "1/1 [==============================] - 0s 10ms/step - loss: 8.2826 - mae: 8.2826\n",
            "Epoch 85/100\n",
            "1/1 [==============================] - 0s 10ms/step - loss: 8.1990 - mae: 8.1990\n",
            "Epoch 86/100\n",
            "1/1 [==============================] - 0s 10ms/step - loss: 8.1149 - mae: 8.1149\n",
            "Epoch 87/100\n",
            "1/1 [==============================] - 0s 11ms/step - loss: 8.0303 - mae: 8.0303\n",
            "Epoch 88/100\n",
            "1/1 [==============================] - 0s 10ms/step - loss: 7.9450 - mae: 7.9450\n",
            "Epoch 89/100\n",
            "1/1 [==============================] - 0s 10ms/step - loss: 7.8593 - mae: 7.8593\n",
            "Epoch 90/100\n",
            "1/1 [==============================] - 0s 10ms/step - loss: 7.7729 - mae: 7.7729\n",
            "Epoch 91/100\n",
            "1/1 [==============================] - 0s 10ms/step - loss: 7.6860 - mae: 7.6860\n",
            "Epoch 92/100\n",
            "1/1 [==============================] - 0s 9ms/step - loss: 7.5984 - mae: 7.5984\n",
            "Epoch 93/100\n",
            "1/1 [==============================] - 0s 10ms/step - loss: 7.5103 - mae: 7.5103\n",
            "Epoch 94/100\n",
            "1/1 [==============================] - 0s 13ms/step - loss: 7.4216 - mae: 7.4216\n",
            "Epoch 95/100\n",
            "1/1 [==============================] - 0s 14ms/step - loss: 7.3323 - mae: 7.3323\n",
            "Epoch 96/100\n",
            "1/1 [==============================] - 0s 10ms/step - loss: 7.2424 - mae: 7.2424\n",
            "Epoch 97/100\n",
            "1/1 [==============================] - 0s 11ms/step - loss: 7.1519 - mae: 7.1519\n",
            "Epoch 98/100\n",
            "1/1 [==============================] - 0s 10ms/step - loss: 7.0608 - mae: 7.0608\n",
            "Epoch 99/100\n",
            "1/1 [==============================] - 0s 10ms/step - loss: 6.9690 - mae: 6.9690\n",
            "Epoch 100/100\n",
            "1/1 [==============================] - 0s 9ms/step - loss: 6.8766 - mae: 6.8766\n"
          ]
        },
        {
          "output_type": "execute_result",
          "data": {
            "text/plain": [
              "<keras.src.callbacks.History at 0x7c0bd4a28940>"
            ]
          },
          "metadata": {},
          "execution_count": 56
        }
      ]
    },
    {
      "cell_type": "code",
      "source": [
        "model.predict([17.])"
      ],
      "metadata": {
        "colab": {
          "base_uri": "https://localhost:8080/"
        },
        "id": "y-qhzw6JU03c",
        "outputId": "254c7121-71a2-42aa-8ad6-03c22b8e11ed"
      },
      "execution_count": 57,
      "outputs": [
        {
          "output_type": "stream",
          "name": "stdout",
          "text": [
            "1/1 [==============================] - 0s 118ms/step\n"
          ]
        },
        {
          "output_type": "execute_result",
          "data": {
            "text/plain": [
              "array([[28.333696]], dtype=float32)"
            ]
          },
          "metadata": {},
          "execution_count": 57
        }
      ]
    },
    {
      "cell_type": "markdown",
      "source": [
        "To sum up - methods to improve the net:\n",
        "* add layers\n",
        "* increase no of hidden neurons\n",
        "* change activation fcns\n",
        "* change optimizers\n",
        "* change the **learning rate**\n",
        "* fit on more data\n",
        "* fit for longer - more epochs"
      ],
      "metadata": {
        "id": "mPZbIV8EWOfM"
      }
    },
    {
      "cell_type": "markdown",
      "source": [
        "## Evaluating a model\n",
        "\n",
        "In practice a typical workflow is:\n",
        "1. Build a model\n",
        "2. fit the model\n",
        "3. Evaluate the model\n",
        "4. Tweak the model\n",
        "5. Repeat steps 2-4 until meets criteria\n",
        "\n",
        "When evaluating **visualize**\n",
        "* data\n",
        "* the model\n",
        "* training parameters\n",
        "* predictions of the model"
      ],
      "metadata": {
        "id": "sMWdyaw3Y-Zb"
      }
    },
    {
      "cell_type": "code",
      "source": [
        "# make a bigger dataset\n",
        "X = tf.range(-100.,100.,4.,dtype = tf.float32)\n",
        "y= X+10.\n",
        "X = tf.expand_dims(X,axis=-1)"
      ],
      "metadata": {
        "id": "Id2FCGj2ZP2b"
      },
      "execution_count": 58,
      "outputs": []
    },
    {
      "cell_type": "code",
      "source": [
        "plt.scatter(X,y) #dots if I wanted to have a line I would pass plt.plot(X,y)"
      ],
      "metadata": {
        "colab": {
          "base_uri": "https://localhost:8080/",
          "height": 448
        },
        "id": "axB3l8FDajq7",
        "outputId": "6b7fed31-c03f-41a4-bb6c-0cc4e0dd97aa"
      },
      "execution_count": 59,
      "outputs": [
        {
          "output_type": "execute_result",
          "data": {
            "text/plain": [
              "<matplotlib.collections.PathCollection at 0x7c0bd5439960>"
            ]
          },
          "metadata": {},
          "execution_count": 59
        },
        {
          "output_type": "display_data",
          "data": {
            "text/plain": [
              "<Figure size 640x480 with 1 Axes>"
            ],
            "image/png": "[encoded data removed]"
          },
          "metadata": {}
        }
      ]
    },
    {
      "cell_type": "markdown",
      "source": [
        "### 3 sets - training, validating, test set\n",
        "\n",
        "* training set - typically 70-80% - the model learns from this data\n",
        "* validation set - the model gets tuned on this data, typ 10-15%\n",
        "* test set - the model gets evaluated upon the performance on this data, typ 10-15%\n",
        "\n",
        "for now we'll split it only to two sets - training and test"
      ],
      "metadata": {
        "id": "WJVH6YHUbDMD"
      }
    },
    {
      "cell_type": "code",
      "source": [
        "# check the length of how many samples we have\n",
        "len(X)"
      ],
      "metadata": {
        "colab": {
          "base_uri": "https://localhost:8080/"
        },
        "id": "_iZQlnYVbeRb",
        "outputId": "5377ba33-181a-4e24-a7a2-f126f0856dbb"
      },
      "execution_count": 60,
      "outputs": [
        {
          "output_type": "execute_result",
          "data": {
            "text/plain": [
              "50"
            ]
          },
          "metadata": {},
          "execution_count": 60
        }
      ]
    },
    {
      "cell_type": "code",
      "source": [
        "# split the data into train and test sets\n",
        "X_train = X[:40] # first 80% of data\n",
        "X_test = X[40:]\n",
        "\n",
        "y_train = y[:40]\n",
        "y_test = y[40:]"
      ],
      "metadata": {
        "id": "LXUyaDR5cyHL"
      },
      "execution_count": 61,
      "outputs": []
    },
    {
      "cell_type": "markdown",
      "source": [
        "### Visualizing the data"
      ],
      "metadata": {
        "id": "kvke24g2dRTT"
      }
    },
    {
      "cell_type": "code",
      "source": [
        "plt.figure(figsize=(10,7))\n",
        "# Plot training data in blue\n",
        "plt.scatter(X_train,y_train,c='b',label = 'Training data')\n",
        "# Plot test data in blue\n",
        "plt.scatter(X_test,y_test,c='g',label = 'Test data')\n",
        "plt.legend()"
      ],
      "metadata": {
        "colab": {
          "base_uri": "https://localhost:8080/",
          "height": 617
        },
        "id": "GvKwe30qkxDR",
        "outputId": "86fa9045-bf19-4546-dc2f-3815648bb236"
      },
      "execution_count": 62,
      "outputs": [
        {
          "output_type": "execute_result",
          "data": {
            "text/plain": [
              "<matplotlib.legend.Legend at 0x7c0bc722b5b0>"
            ]
          },
          "metadata": {},
          "execution_count": 62
        },
        {
          "output_type": "display_data",
          "data": {
            "text/plain": [
              "<Figure size 1000x700 with 1 Axes>"
            ],
            "image/png": "[encoded data removed]"
          },
          "metadata": {}
        }
      ]
    },
    {
      "cell_type": "code",
      "source": [
        "#neural net for our data\n",
        "# 1. create\n",
        "model = tf.keras.Sequential([\n",
        "    tf.keras.layers.Dense(1)\n",
        "])\n",
        "\n",
        "# 2. compile\n",
        "model.compile(optimizer=tf.keras.optimizers.SGD(),\n",
        "              loss = 'mae',\n",
        "              metrics='mae')\n",
        "# 3. fit\n",
        "#model.fit(X_train,y_train,epochs=100)"
      ],
      "metadata": {
        "id": "ObqRaIJmleyJ"
      },
      "execution_count": 63,
      "outputs": []
    },
    {
      "cell_type": "markdown",
      "source": [
        "### Visualizing the model"
      ],
      "metadata": {
        "id": "2o_vIA9vnT8B"
      }
    },
    {
      "cell_type": "code",
      "source": [
        "# Let's create a model thet builds automatically by defining the input_shape argument in the first layer\n",
        "tf.random.set_seed(42)\n",
        "\n",
        "# 1. Create\n",
        "model = tf.keras.Sequential([\n",
        "    tf.keras.layers.Dense(10, input_shape = (1,)), #dense means that the layer is fully connected\n",
        "    tf.keras.layers.Dense(1)\n",
        "    ])\n",
        "\n",
        "# 2. compile\n",
        "model.compile(loss = 'mae',\n",
        "              optimizer = tf.keras.optimizers.SGD(),\n",
        "              metrics = 'mae') # alternatively a list of metrics\n",
        "model.summary()"
      ],
      "metadata": {
        "colab": {
          "base_uri": "https://localhost:8080/"
        },
        "id": "SXt4pfe0oHKh",
        "outputId": "8cb07b78-38f3-4b88-e181-70a42fd0cfac"
      },
      "execution_count": 64,
      "outputs": [
        {
          "output_type": "stream",
          "name": "stdout",
          "text": [
            "Model: \"sequential_9\"\n",
            "_________________________________________________________________\n",
            " Layer (type)                Output Shape              Param #   \n",
            "=================================================================\n",
            " dense_12 (Dense)            (None, 10)                20        \n",
            "                                                                 \n",
            " dense_13 (Dense)            (None, 1)                 11        \n",
            "                                                                 \n",
            "=================================================================\n",
            "Total params: 31 (124.00 Byte)\n",
            "Trainable params: 31 (124.00 Byte)\n",
            "Non-trainable params: 0 (0.00 Byte)\n",
            "_________________________________________________________________\n"
          ]
        }
      ]
    },
    {
      "cell_type": "markdown",
      "source": [
        "* total parameters - all parameters present in the model wich the model is going to learn\n",
        "* trainable parameters - the parameters the model can update as it trains (we can exclude some of them from training if we don't want them to change)\n",
        "* non-trainable parameters - these excluded\n",
        "\n",
        "<< MIT's introduction to deep learning video >>"
      ],
      "metadata": {
        "id": "GgasASenoLeY"
      }
    },
    {
      "cell_type": "code",
      "source": [
        "# Fit to data\n",
        "\n",
        "model.fit(X_train,y_train, epochs=100, verbose = 0)"
      ],
      "metadata": {
        "colab": {
          "base_uri": "https://localhost:8080/"
        },
        "id": "IHe0i2evqcKH",
        "outputId": "de9052f3-1720-4699-8238-8cb63672ab77"
      },
      "execution_count": 65,
      "outputs": [
        {
          "output_type": "execute_result",
          "data": {
            "text/plain": [
              "<keras.src.callbacks.History at 0x7c0bd905c730>"
            ]
          },
          "metadata": {},
          "execution_count": 65
        }
      ]
    },
    {
      "cell_type": "code",
      "source": [
        "from tensorflow.keras.utils import plot_model\n",
        "plot_model(model=model,show_shapes=True)"
      ],
      "metadata": {
        "colab": {
          "base_uri": "https://localhost:8080/",
          "height": 312
        },
        "id": "faSMy69wsGqn",
        "outputId": "78f7d167-bb9c-468e-98aa-8c460045e638"
      },
      "execution_count": 66,
      "outputs": [
        {
          "output_type": "execute_result",
          "data": {
            "image/png": "[encoded data removed]",
            "text/plain": [
              "<IPython.core.display.Image object>"
            ]
          },
          "metadata": {},
          "execution_count": 66
        }
      ]
    },
    {
      "cell_type": "markdown",
      "source": [
        "### Visualize our model's predictions\n",
        "\n",
        "To visualize predictions, plot them against the true values"
      ],
      "metadata": {
        "id": "EPoVnuUxs4lo"
      }
    },
    {
      "cell_type": "code",
      "source": [
        "# make predictions\n",
        "y_pred = tf.constant(model.predict(X_test))\n",
        "X_test.shape, y_pred.shape"
      ],
      "metadata": {
        "colab": {
          "base_uri": "https://localhost:8080/"
        },
        "id": "p76fGFBwt5Xf",
        "outputId": "4dedecf4-060a-4c01-fd3d-1de61e785a1e"
      },
      "execution_count": 67,
      "outputs": [
        {
          "output_type": "stream",
          "name": "stdout",
          "text": [
            "1/1 [==============================] - 0s 53ms/step\n"
          ]
        },
        {
          "output_type": "execute_result",
          "data": {
            "text/plain": [
              "(TensorShape([10, 1]), TensorShape([10, 1]))"
            ]
          },
          "metadata": {},
          "execution_count": 67
        }
      ]
    },
    {
      "cell_type": "code",
      "source": [
        "#create a plotting fcn in case I want to use it in the future\n",
        "def plot_predictions(train_features = X_train,\n",
        "                     train_labels = y_train,\n",
        "                     test_features = X_test,\n",
        "                     test_labels = y_test,\n",
        "                     predictions = y_pred):\n",
        "  '''\n",
        "  plots training and test data against the predictions of the model\n",
        "  '''\n",
        "  plt.figure(figsize = (10,7))\n",
        "  # plot training data in blue\n",
        "  plt.scatter(train_features,train_labels,c='b',label='Training data')\n",
        "  #plot test data in green\n",
        "  plt.scatter(test_features,test_labels,c='g',label = 'Test data')\n",
        "  #plot predictions in red\n",
        "  plt.scatter(test_features,predictions,c='r',label= 'Predictions')\n",
        "  #show the legend\n",
        "  plt.legend()\n"
      ],
      "metadata": {
        "id": "2Htx3qKiuQfH"
      },
      "execution_count": 68,
      "outputs": []
    },
    {
      "cell_type": "code",
      "source": [
        "plot_predictions()"
      ],
      "metadata": {
        "colab": {
          "base_uri": "https://localhost:8080/",
          "height": 599
        },
        "id": "dUR2uz1vwnC3",
        "outputId": "97f75486-b651-4d5d-c018-85b7d294f523"
      },
      "execution_count": 69,
      "outputs": [
        {
          "output_type": "display_data",
          "data": {
            "text/plain": [
              "<Figure size 1000x700 with 1 Axes>"
            ],
            "image/png": "[encoded data removed]"
          },
          "metadata": {}
        }
      ]
    },
    {
      "cell_type": "markdown",
      "source": [
        "### Evaluation metrics"
      ],
      "metadata": {
        "id": "ZtTkjTsjwpte"
      }
    },
    {
      "cell_type": "markdown",
      "source": [
        "### Download a model from Google Colab\n",
        "\n",
        "1. Files - right click on the file and download\n",
        "2. Use code (below)"
      ],
      "metadata": {
        "id": "GGVmV6BAybbG"
      }
    },
    {
      "cell_type": "code",
      "source": [
        "# download\n",
        "from google.colab import files\n",
        "#files.download('/content/sample_data/README.md')"
      ],
      "metadata": {
        "colab": {
          "base_uri": "https://localhost:8080/",
          "height": 17
        },
        "id": "sl4S0o_j_w1l",
        "outputId": "f4d95382-e7f6-4b7b-8ac3-ad71ed60117b"
      },
      "execution_count": 70,
      "outputs": [
        {
          "output_type": "display_data",
          "data": {
            "text/plain": [
              "<IPython.core.display.Javascript object>"
            ],
            "application/javascript": [
              "\n",
              "    async function download(id, filename, size) {\n",
              "      if (!google.colab.kernel.accessAllowed) {\n",
              "        return;\n",
              "      }\n",
              "      const div = document.createElement('div');\n",
              "      const label = document.createElement('label');\n",
              "      label.textContent = `Downloading \"${filename}\": `;\n",
              "      div.appendChild(label);\n",
              "      const progress = document.createElement('progress');\n",
              "      progress.max = size;\n",
              "      div.appendChild(progress);\n",
              "      document.body.appendChild(div);\n",
              "\n",
              "      const buffers = [];\n",
              "      let downloaded = 0;\n",
              "\n",
              "      const channel = await google.colab.kernel.comms.open(id);\n",
              "      // Send a message to notify the kernel that we're ready.\n",
              "      channel.send({})\n",
              "\n",
              "      for await (const message of channel.messages) {\n",
              "        // Send a message to notify the kernel that we're ready.\n",
              "        channel.send({})\n",
              "        if (message.buffers) {\n",
              "          for (const buffer of message.buffers) {\n",
              "            buffers.push(buffer);\n",
              "            downloaded += buffer.byteLength;\n",
              "            progress.value = downloaded;\n",
              "          }\n",
              "        }\n",
              "      }\n",
              "      const blob = new Blob(buffers, {type: 'application/binary'});\n",
              "      const a = document.createElement('a');\n",
              "      a.href = window.URL.createObjectURL(blob);\n",
              "      a.download = filename;\n",
              "      div.appendChild(a);\n",
              "      a.click();\n",
              "      div.remove();\n",
              "    }\n",
              "  "
            ]
          },
          "metadata": {}
        },
        {
          "output_type": "display_data",
          "data": {
            "text/plain": [
              "<IPython.core.display.Javascript object>"
            ],
            "application/javascript": [
              "download(\"download_1e1823e6-cf92-4fdb-bb17-b4b99a664ee9\", \"README.md\", 930)"
            ]
          },
          "metadata": {}
        }
      ]
    },
    {
      "cell_type": "code",
      "source": [
        "# save a file from google colab to google drive\n",
        "!cp /content/sample_data/README.md /content/drive/MyDrive"
      ],
      "metadata": {
        "colab": {
          "base_uri": "https://localhost:8080/"
        },
        "id": "Z-6IdcjnAX6q",
        "outputId": "2cdf4aad-8180-49d2-9cf7-408bf13b8325"
      },
      "execution_count": 71,
      "outputs": [
        {
          "output_type": "stream",
          "name": "stdout",
          "text": [
            "cp: cannot create regular file '/content/drive/MyDrive': No such file or directory\n"
          ]
        }
      ]
    },
    {
      "cell_type": "markdown",
      "source": [
        "### A larger example\n",
        "\n",
        "On medical cost datasets from Kaggle"
      ],
      "metadata": {
        "id": "3iwEAUcuAqZ6"
      }
    },
    {
      "cell_type": "code",
      "source": [
        "X_train, y_train"
      ],
      "metadata": {
        "colab": {
          "base_uri": "https://localhost:8080/"
        },
        "id": "jj8yEK-HA2HI",
        "outputId": "68f1f1e9-2874-4c87-aea3-9bbcf2cea11e"
      },
      "execution_count": 72,
      "outputs": [
        {
          "output_type": "execute_result",
          "data": {
            "text/plain": [
              "(<tf.Tensor: shape=(40, 1), dtype=float32, numpy=\n",
              " array([[-100.],\n",
              "        [ -96.],\n",
              "        [ -92.],\n",
              "        [ -88.],\n",
              "        [ -84.],\n",
              "        [ -80.],\n",
              "        [ -76.],\n",
              "        [ -72.],\n",
              "        [ -68.],\n",
              "        [ -64.],\n",
              "        [ -60.],\n",
              "        [ -56.],\n",
              "        [ -52.],\n",
              "        [ -48.],\n",
              "        [ -44.],\n",
              "        [ -40.],\n",
              "        [ -36.],\n",
              "        [ -32.],\n",
              "        [ -28.],\n",
              "        [ -24.],\n",
              "        [ -20.],\n",
              "        [ -16.],\n",
              "        [ -12.],\n",
              "        [  -8.],\n",
              "        [  -4.],\n",
              "        [   0.],\n",
              "        [   4.],\n",
              "        [   8.],\n",
              "        [  12.],\n",
              "        [  16.],\n",
              "        [  20.],\n",
              "        [  24.],\n",
              "        [  28.],\n",
              "        [  32.],\n",
              "        [  36.],\n",
              "        [  40.],\n",
              "        [  44.],\n",
              "        [  48.],\n",
              "        [  52.],\n",
              "        [  56.]], dtype=float32)>,\n",
              " <tf.Tensor: shape=(40,), dtype=float32, numpy=\n",
              " array([-90., -86., -82., -78., -74., -70., -66., -62., -58., -54., -50.,\n",
              "        -46., -42., -38., -34., -30., -26., -22., -18., -14., -10.,  -6.,\n",
              "         -2.,   2.,   6.,  10.,  14.,  18.,  22.,  26.,  30.,  34.,  38.,\n",
              "         42.,  46.,  50.,  54.,  58.,  62.,  66.], dtype=float32)>)"
            ]
          },
          "metadata": {},
          "execution_count": 72
        }
      ]
    },
    {
      "cell_type": "code",
      "source": [
        "# import required libraries\n",
        "import tensorflow as tf\n",
        "import pandas as pd\n",
        "import matplotlib.pyplot as plt"
      ],
      "metadata": {
        "id": "w2D1cKc5A8yC"
      },
      "execution_count": 73,
      "outputs": []
    },
    {
      "cell_type": "code",
      "source": [
        "# read in the insurance dataset\n",
        "insurance = pd.read_csv('https://raw.githubusercontent.com/stedy/Machine-Learning-with-R-datasets/master/insurance.csv')\n",
        "insurance"
      ],
      "metadata": {
        "colab": {
          "base_uri": "https://localhost:8080/",
          "height": 424
        },
        "id": "F-XfNnW_B4hA",
        "outputId": "ad2dca2e-dd85-4472-bca6-efa223bde876"
      },
      "execution_count": 74,
      "outputs": [
        {
          "output_type": "execute_result",
          "data": {
            "text/plain": [
              "      age     sex     bmi  children smoker     region      charges\n",
              "0      19  female  27.900         0    yes  southwest  16884.92400\n",
              "1      18    male  33.770         1     no  southeast   1725.55230\n",
              "2      28    male  33.000         3     no  southeast   4449.46200\n",
              "3      33    male  22.705         0     no  northwest  21984.47061\n",
              "4      32    male  28.880         0     no  northwest   3866.85520\n",
              "...   ...     ...     ...       ...    ...        ...          ...\n",
              "1333   50    male  30.970         3     no  northwest  10600.54830\n",
              "1334   18  female  31.920         0     no  northeast   2205.98080\n",
              "1335   18  female  36.850         0     no  southeast   1629.83350\n",
              "1336   21  female  25.800         0     no  southwest   2007.94500\n",
              "1337   61  female  29.070         0    yes  northwest  29141.36030\n",
              "\n",
              "[1338 rows x 7 columns]"
            ],
            "text/html": [
              "\n",
              "  <div id=\"df-57289c37-c0b5-419a-8841-142a32c3df92\" class=\"colab-df-container\">\n",
              "    <div>\n",
              "<style scoped>\n",
              "    .dataframe tbody tr th:only-of-type {\n",
              "        vertical-align: middle;\n",
              "    }\n",
              "\n",
              "    .dataframe tbody tr th {\n",
              "        vertical-align: top;\n",
              "    }\n",
              "\n",
              "    .dataframe thead th {\n",
              "        text-align: right;\n",
              "    }\n",
              "</style>\n",
              "<table border=\"1\" class=\"dataframe\">\n",
              "  <thead>\n",
              "    <tr style=\"text-align: right;\">\n",
              "      <th></th>\n",
              "      <th>age</th>\n",
              "      <th>sex</th>\n",
              "      <th>bmi</th>\n",
              "      <th>children</th>\n",
              "      <th>smoker</th>\n",
              "      <th>region</th>\n",
              "      <th>charges</th>\n",
              "    </tr>\n",
              "  </thead>\n",
              "  <tbody>\n",
              "    <tr>\n",
              "      <th>0</th>\n",
              "      <td>19</td>\n",
              "      <td>female</td>\n",
              "      <td>27.900</td>\n",
              "      <td>0</td>\n",
              "      <td>yes</td>\n",
              "      <td>southwest</td>\n",
              "      <td>16884.92400</td>\n",
              "    </tr>\n",
              "    <tr>\n",
              "      <th>1</th>\n",
              "      <td>18</td>\n",
              "      <td>male</td>\n",
              "      <td>33.770</td>\n",
              "      <td>1</td>\n",
              "      <td>no</td>\n",
              "      <td>southeast</td>\n",
              "      <td>1725.55230</td>\n",
              "    </tr>\n",
              "    <tr>\n",
              "      <th>2</th>\n",
              "      <td>28</td>\n",
              "      <td>male</td>\n",
              "      <td>33.000</td>\n",
              "      <td>3</td>\n",
              "      <td>no</td>\n",
              "      <td>southeast</td>\n",
              "      <td>4449.46200</td>\n",
              "    </tr>\n",
              "    <tr>\n",
              "      <th>3</th>\n",
              "      <td>33</td>\n",
              "      <td>male</td>\n",
              "      <td>22.705</td>\n",
              "      <td>0</td>\n",
              "      <td>no</td>\n",
              "      <td>northwest</td>\n",
              "      <td>21984.47061</td>\n",
              "    </tr>\n",
              "    <tr>\n",
              "      <th>4</th>\n",
              "      <td>32</td>\n",
              "      <td>male</td>\n",
              "      <td>28.880</td>\n",
              "      <td>0</td>\n",
              "      <td>no</td>\n",
              "      <td>northwest</td>\n",
              "      <td>3866.85520</td>\n",
              "    </tr>\n",
              "    <tr>\n",
              "      <th>...</th>\n",
              "      <td>...</td>\n",
              "      <td>...</td>\n",
              "      <td>...</td>\n",
              "      <td>...</td>\n",
              "      <td>...</td>\n",
              "      <td>...</td>\n",
              "      <td>...</td>\n",
              "    </tr>\n",
              "    <tr>\n",
              "      <th>1333</th>\n",
              "      <td>50</td>\n",
              "      <td>male</td>\n",
              "      <td>30.970</td>\n",
              "      <td>3</td>\n",
              "      <td>no</td>\n",
              "      <td>northwest</td>\n",
              "      <td>10600.54830</td>\n",
              "    </tr>\n",
              "    <tr>\n",
              "      <th>1334</th>\n",
              "      <td>18</td>\n",
              "      <td>female</td>\n",
              "      <td>31.920</td>\n",
              "      <td>0</td>\n",
              "      <td>no</td>\n",
              "      <td>northeast</td>\n",
              "      <td>2205.98080</td>\n",
              "    </tr>\n",
              "    <tr>\n",
              "      <th>1335</th>\n",
              "      <td>18</td>\n",
              "      <td>female</td>\n",
              "      <td>36.850</td>\n",
              "      <td>0</td>\n",
              "      <td>no</td>\n",
              "      <td>southeast</td>\n",
              "      <td>1629.83350</td>\n",
              "    </tr>\n",
              "    <tr>\n",
              "      <th>1336</th>\n",
              "      <td>21</td>\n",
              "      <td>female</td>\n",
              "      <td>25.800</td>\n",
              "      <td>0</td>\n",
              "      <td>no</td>\n",
              "      <td>southwest</td>\n",
              "      <td>2007.94500</td>\n",
              "    </tr>\n",
              "    <tr>\n",
              "      <th>1337</th>\n",
              "      <td>61</td>\n",
              "      <td>female</td>\n",
              "      <td>29.070</td>\n",
              "      <td>0</td>\n",
              "      <td>yes</td>\n",
              "      <td>northwest</td>\n",
              "      <td>29141.36030</td>\n",
              "    </tr>\n",
              "  </tbody>\n",
              "</table>\n",
              "<p>1338 rows × 7 columns</p>\n",
              "</div>\n",
              "    <div class=\"colab-df-buttons\">\n",
              "\n",
              "  <div class=\"colab-df-container\">\n",
              "    <button class=\"colab-df-convert\" onclick=\"convertToInteractive('df-57289c37-c0b5-419a-8841-142a32c3df92')\"\n",
              "            title=\"Convert this dataframe to an interactive table.\"\n",
              "            style=\"display:none;\">\n",
              "\n",
              "  <svg xmlns=\"http://www.w3.org/2000/svg\" height=\"24px\" viewBox=\"0 -960 960 960\">\n",
              "    <path d=\"M120-120v-720h720v720H120Zm60-500h600v-160H180v160Zm220 220h160v-160H400v160Zm0 220h160v-160H400v160ZM180-400h160v-160H180v160Zm440 0h160v-160H620v160ZM180-180h160v-160H180v160Zm440 0h160v-160H620v160Z\"/>\n",
              "  </svg>\n",
              "    </button>\n",
              "\n",
              "  <style>\n",
              "    .colab-df-container {\n",
              "      display:flex;\n",
              "      gap: 12px;\n",
              "    }\n",
              "\n",
              "    .colab-df-convert {\n",
              "      background-color: #E8F0FE;\n",
              "      border: none;\n",
              "      border-radius: 50%;\n",
              "      cursor: pointer;\n",
              "      display: none;\n",
              "      fill: #1967D2;\n",
              "      height: 32px;\n",
              "      padding: 0 0 0 0;\n",
              "      width: 32px;\n",
              "    }\n",
              "\n",
              "    .colab-df-convert:hover {\n",
              "      background-color: #E2EBFA;\n",
              "      box-shadow: 0px 1px 2px rgba(60, 64, 67, 0.3), 0px 1px 3px 1px rgba(60, 64, 67, 0.15);\n",
              "      fill: #174EA6;\n",
              "    }\n",
              "\n",
              "    .colab-df-buttons div {\n",
              "      margin-bottom: 4px;\n",
              "    }\n",
              "\n",
              "    [theme=dark] .colab-df-convert {\n",
              "      background-color: #3B4455;\n",
              "      fill: #D2E3FC;\n",
              "    }\n",
              "\n",
              "    [theme=dark] .colab-df-convert:hover {\n",
              "      background-color: #434B5C;\n",
              "      box-shadow: 0px 1px 3px 1px rgba(0, 0, 0, 0.15);\n",
              "      filter: drop-shadow(0px 1px 2px rgba(0, 0, 0, 0.3));\n",
              "      fill: #FFFFFF;\n",
              "    }\n",
              "  </style>\n",
              "\n",
              "    <script>\n",
              "      const buttonEl =\n",
              "        document.querySelector('#df-57289c37-c0b5-419a-8841-142a32c3df92 button.colab-df-convert');\n",
              "      buttonEl.style.display =\n",
              "        google.colab.kernel.accessAllowed ? 'block' : 'none';\n",
              "\n",
              "      async function convertToInteractive(key) {\n",
              "        const element = document.querySelector('#df-57289c37-c0b5-419a-8841-142a32c3df92');\n",
              "        const dataTable =\n",
              "          await google.colab.kernel.invokeFunction('convertToInteractive',\n",
              "                                                    [key], {});\n",
              "        if (!dataTable) return;\n",
              "\n",
              "        const docLinkHtml = 'Like what you see? Visit the ' +\n",
              "          '<a target=\"_blank\" href=https://colab.research.google.com/notebooks/data_table.ipynb>data table notebook</a>'\n",
              "          + ' to learn more about interactive tables.';\n",
              "        element.innerHTML = '';\n",
              "        dataTable['output_type'] = 'display_data';\n",
              "        await google.colab.output.renderOutput(dataTable, element);\n",
              "        const docLink = document.createElement('div');\n",
              "        docLink.innerHTML = docLinkHtml;\n",
              "        element.appendChild(docLink);\n",
              "      }\n",
              "    </script>\n",
              "  </div>\n",
              "\n",
              "\n",
              "<div id=\"df-e2cb7a73-781e-42c2-b754-a589f9dbd9c7\">\n",
              "  <button class=\"colab-df-quickchart\" onclick=\"quickchart('df-e2cb7a73-781e-42c2-b754-a589f9dbd9c7')\"\n",
              "            title=\"Suggest charts.\"\n",
              "            style=\"display:none;\">\n",
              "\n",
              "<svg xmlns=\"http://www.w3.org/2000/svg\" height=\"24px\"viewBox=\"0 0 24 24\"\n",
              "     width=\"24px\">\n",
              "    <g>\n",
              "        <path d=\"M19 3H5c-1.1 0-2 .9-2 2v14c0 1.1.9 2 2 2h14c1.1 0 2-.9 2-2V5c0-1.1-.9-2-2-2zM9 17H7v-7h2v7zm4 0h-2V7h2v10zm4 0h-2v-4h2v4z\"/>\n",
              "    </g>\n",
              "</svg>\n",
              "  </button>\n",
              "\n",
              "<style>\n",
              "  .colab-df-quickchart {\n",
              "      --bg-color: #E8F0FE;\n",
              "      --fill-color: #1967D2;\n",
              "      --hover-bg-color: #E2EBFA;\n",
              "      --hover-fill-color: #174EA6;\n",
              "      --disabled-fill-color: #AAA;\n",
              "      --disabled-bg-color: #DDD;\n",
              "  }\n",
              "\n",
              "  [theme=dark] .colab-df-quickchart {\n",
              "      --bg-color: #3B4455;\n",
              "      --fill-color: #D2E3FC;\n",
              "      --hover-bg-color: #434B5C;\n",
              "      --hover-fill-color: #FFFFFF;\n",
              "      --disabled-bg-color: #3B4455;\n",
              "      --disabled-fill-color: #666;\n",
              "  }\n",
              "\n",
              "  .colab-df-quickchart {\n",
              "    background-color: var(--bg-color);\n",
              "    border: none;\n",
              "    border-radius: 50%;\n",
              "    cursor: pointer;\n",
              "    display: none;\n",
              "    fill: var(--fill-color);\n",
              "    height: 32px;\n",
              "    padding: 0;\n",
              "    width: 32px;\n",
              "  }\n",
              "\n",
              "  .colab-df-quickchart:hover {\n",
              "    background-color: var(--hover-bg-color);\n",
              "    box-shadow: 0 1px 2px rgba(60, 64, 67, 0.3), 0 1px 3px 1px rgba(60, 64, 67, 0.15);\n",
              "    fill: var(--button-hover-fill-color);\n",
              "  }\n",
              "\n",
              "  .colab-df-quickchart-complete:disabled,\n",
              "  .colab-df-quickchart-complete:disabled:hover {\n",
              "    background-color: var(--disabled-bg-color);\n",
              "    fill: var(--disabled-fill-color);\n",
              "    box-shadow: none;\n",
              "  }\n",
              "\n",
              "  .colab-df-spinner {\n",
              "    border: 2px solid var(--fill-color);\n",
              "    border-color: transparent;\n",
              "    border-bottom-color: var(--fill-color);\n",
              "    animation:\n",
              "      spin 1s steps(1) infinite;\n",
              "  }\n",
              "\n",
              "  @keyframes spin {\n",
              "    0% {\n",
              "      border-color: transparent;\n",
              "      border-bottom-color: var(--fill-color);\n",
              "      border-left-color: var(--fill-color);\n",
              "    }\n",
              "    20% {\n",
              "      border-color: transparent;\n",
              "      border-left-color: var(--fill-color);\n",
              "      border-top-color: var(--fill-color);\n",
              "    }\n",
              "    30% {\n",
              "      border-color: transparent;\n",
              "      border-left-color: var(--fill-color);\n",
              "      border-top-color: var(--fill-color);\n",
              "      border-right-color: var(--fill-color);\n",
              "    }\n",
              "    40% {\n",
              "      border-color: transparent;\n",
              "      border-right-color: var(--fill-color);\n",
              "      border-top-color: var(--fill-color);\n",
              "    }\n",
              "    60% {\n",
              "      border-color: transparent;\n",
              "      border-right-color: var(--fill-color);\n",
              "    }\n",
              "    80% {\n",
              "      border-color: transparent;\n",
              "      border-right-color: var(--fill-color);\n",
              "      border-bottom-color: var(--fill-color);\n",
              "    }\n",
              "    90% {\n",
              "      border-color: transparent;\n",
              "      border-bottom-color: var(--fill-color);\n",
              "    }\n",
              "  }\n",
              "</style>\n",
              "\n",
              "  <script>\n",
              "    async function quickchart(key) {\n",
              "      const quickchartButtonEl =\n",
              "        document.querySelector('#' + key + ' button');\n",
              "      quickchartButtonEl.disabled = true;  // To prevent multiple clicks.\n",
              "      quickchartButtonEl.classList.add('colab-df-spinner');\n",
              "      try {\n",
              "        const charts = await google.colab.kernel.invokeFunction(\n",
              "            'suggestCharts', [key], {});\n",
              "      } catch (error) {\n",
              "        console.error('Error during call to suggestCharts:', error);\n",
              "      }\n",
              "      quickchartButtonEl.classList.remove('colab-df-spinner');\n",
              "      quickchartButtonEl.classList.add('colab-df-quickchart-complete');\n",
              "    }\n",
              "    (() => {\n",
              "      let quickchartButtonEl =\n",
              "        document.querySelector('#df-e2cb7a73-781e-42c2-b754-a589f9dbd9c7 button');\n",
              "      quickchartButtonEl.style.display =\n",
              "        google.colab.kernel.accessAllowed ? 'block' : 'none';\n",
              "    })();\n",
              "  </script>\n",
              "</div>\n",
              "    </div>\n",
              "  </div>\n"
            ]
          },
          "metadata": {},
          "execution_count": 74
        }
      ]
    },
    {
      "cell_type": "code",
      "source": [
        "insurance_one_hot = pd.get_dummies(insurance).astype('float64')\n",
        "insurance_one_hot"
      ],
      "metadata": {
        "colab": {
          "base_uri": "https://localhost:8080/",
          "height": 424
        },
        "id": "ZrBPiHAgCQyF",
        "outputId": "555150cf-3277-42b0-a521-628a1a214ea3"
      },
      "execution_count": 75,
      "outputs": [
        {
          "output_type": "execute_result",
          "data": {
            "text/plain": [
              "       age     bmi  children      charges  sex_female  sex_male  smoker_no  \\\n",
              "0     19.0  27.900       0.0  16884.92400         1.0       0.0        0.0   \n",
              "1     18.0  33.770       1.0   1725.55230         0.0       1.0        1.0   \n",
              "2     28.0  33.000       3.0   4449.46200         0.0       1.0        1.0   \n",
              "3     33.0  22.705       0.0  21984.47061         0.0       1.0        1.0   \n",
              "4     32.0  28.880       0.0   3866.85520         0.0       1.0        1.0   \n",
              "...    ...     ...       ...          ...         ...       ...        ...   \n",
              "1333  50.0  30.970       3.0  10600.54830         0.0       1.0        1.0   \n",
              "1334  18.0  31.920       0.0   2205.98080         1.0       0.0        1.0   \n",
              "1335  18.0  36.850       0.0   1629.83350         1.0       0.0        1.0   \n",
              "1336  21.0  25.800       0.0   2007.94500         1.0       0.0        1.0   \n",
              "1337  61.0  29.070       0.0  29141.36030         1.0       0.0        0.0   \n",
              "\n",
              "      smoker_yes  region_northeast  region_northwest  region_southeast  \\\n",
              "0            1.0               0.0               0.0               0.0   \n",
              "1            0.0               0.0               0.0               1.0   \n",
              "2            0.0               0.0               0.0               1.0   \n",
              "3            0.0               0.0               1.0               0.0   \n",
              "4            0.0               0.0               1.0               0.0   \n",
              "...          ...               ...               ...               ...   \n",
              "1333         0.0               0.0               1.0               0.0   \n",
              "1334         0.0               1.0               0.0               0.0   \n",
              "1335         0.0               0.0               0.0               1.0   \n",
              "1336         0.0               0.0               0.0               0.0   \n",
              "1337         1.0               0.0               1.0               0.0   \n",
              "\n",
              "      region_southwest  \n",
              "0                  1.0  \n",
              "1                  0.0  \n",
              "2                  0.0  \n",
              "3                  0.0  \n",
              "4                  0.0  \n",
              "...                ...  \n",
              "1333               0.0  \n",
              "1334               0.0  \n",
              "1335               0.0  \n",
              "1336               1.0  \n",
              "1337               0.0  \n",
              "\n",
              "[1338 rows x 12 columns]"
            ],
            "text/html": [
              "\n",
              "  <div id=\"df-d5be4fb8-a8dc-4c68-98b2-6b710670714a\" class=\"colab-df-container\">\n",
              "    <div>\n",
              "<style scoped>\n",
              "    .dataframe tbody tr th:only-of-type {\n",
              "        vertical-align: middle;\n",
              "    }\n",
              "\n",
              "    .dataframe tbody tr th {\n",
              "        vertical-align: top;\n",
              "    }\n",
              "\n",
              "    .dataframe thead th {\n",
              "        text-align: right;\n",
              "    }\n",
              "</style>\n",
              "<table border=\"1\" class=\"dataframe\">\n",
              "  <thead>\n",
              "    <tr style=\"text-align: right;\">\n",
              "      <th></th>\n",
              "      <th>age</th>\n",
              "      <th>bmi</th>\n",
              "      <th>children</th>\n",
              "      <th>charges</th>\n",
              "      <th>sex_female</th>\n",
              "      <th>sex_male</th>\n",
              "      <th>smoker_no</th>\n",
              "      <th>smoker_yes</th>\n",
              "      <th>region_northeast</th>\n",
              "      <th>region_northwest</th>\n",
              "      <th>region_southeast</th>\n",
              "      <th>region_southwest</th>\n",
              "    </tr>\n",
              "  </thead>\n",
              "  <tbody>\n",
              "    <tr>\n",
              "      <th>0</th>\n",
              "      <td>19.0</td>\n",
              "      <td>27.900</td>\n",
              "      <td>0.0</td>\n",
              "      <td>16884.92400</td>\n",
              "      <td>1.0</td>\n",
              "      <td>0.0</td>\n",
              "      <td>0.0</td>\n",
              "      <td>1.0</td>\n",
              "      <td>0.0</td>\n",
              "      <td>0.0</td>\n",
              "      <td>0.0</td>\n",
              "      <td>1.0</td>\n",
              "    </tr>\n",
              "    <tr>\n",
              "      <th>1</th>\n",
              "      <td>18.0</td>\n",
              "      <td>33.770</td>\n",
              "      <td>1.0</td>\n",
              "      <td>1725.55230</td>\n",
              "      <td>0.0</td>\n",
              "      <td>1.0</td>\n",
              "      <td>1.0</td>\n",
              "      <td>0.0</td>\n",
              "      <td>0.0</td>\n",
              "      <td>0.0</td>\n",
              "      <td>1.0</td>\n",
              "      <td>0.0</td>\n",
              "    </tr>\n",
              "    <tr>\n",
              "      <th>2</th>\n",
              "      <td>28.0</td>\n",
              "      <td>33.000</td>\n",
              "      <td>3.0</td>\n",
              "      <td>4449.46200</td>\n",
              "      <td>0.0</td>\n",
              "      <td>1.0</td>\n",
              "      <td>1.0</td>\n",
              "      <td>0.0</td>\n",
              "      <td>0.0</td>\n",
              "      <td>0.0</td>\n",
              "      <td>1.0</td>\n",
              "      <td>0.0</td>\n",
              "    </tr>\n",
              "    <tr>\n",
              "      <th>3</th>\n",
              "      <td>33.0</td>\n",
              "      <td>22.705</td>\n",
              "      <td>0.0</td>\n",
              "      <td>21984.47061</td>\n",
              "      <td>0.0</td>\n",
              "      <td>1.0</td>\n",
              "      <td>1.0</td>\n",
              "      <td>0.0</td>\n",
              "      <td>0.0</td>\n",
              "      <td>1.0</td>\n",
              "      <td>0.0</td>\n",
              "      <td>0.0</td>\n",
              "    </tr>\n",
              "    <tr>\n",
              "      <th>4</th>\n",
              "      <td>32.0</td>\n",
              "      <td>28.880</td>\n",
              "      <td>0.0</td>\n",
              "      <td>3866.85520</td>\n",
              "      <td>0.0</td>\n",
              "      <td>1.0</td>\n",
              "      <td>1.0</td>\n",
              "      <td>0.0</td>\n",
              "      <td>0.0</td>\n",
              "      <td>1.0</td>\n",
              "      <td>0.0</td>\n",
              "      <td>0.0</td>\n",
              "    </tr>\n",
              "    <tr>\n",
              "      <th>...</th>\n",
              "      <td>...</td>\n",
              "      <td>...</td>\n",
              "      <td>...</td>\n",
              "      <td>...</td>\n",
              "      <td>...</td>\n",
              "      <td>...</td>\n",
              "      <td>...</td>\n",
              "      <td>...</td>\n",
              "      <td>...</td>\n",
              "      <td>...</td>\n",
              "      <td>...</td>\n",
              "      <td>...</td>\n",
              "    </tr>\n",
              "    <tr>\n",
              "      <th>1333</th>\n",
              "      <td>50.0</td>\n",
              "      <td>30.970</td>\n",
              "      <td>3.0</td>\n",
              "      <td>10600.54830</td>\n",
              "      <td>0.0</td>\n",
              "      <td>1.0</td>\n",
              "      <td>1.0</td>\n",
              "      <td>0.0</td>\n",
              "      <td>0.0</td>\n",
              "      <td>1.0</td>\n",
              "      <td>0.0</td>\n",
              "      <td>0.0</td>\n",
              "    </tr>\n",
              "    <tr>\n",
              "      <th>1334</th>\n",
              "      <td>18.0</td>\n",
              "      <td>31.920</td>\n",
              "      <td>0.0</td>\n",
              "      <td>2205.98080</td>\n",
              "      <td>1.0</td>\n",
              "      <td>0.0</td>\n",
              "      <td>1.0</td>\n",
              "      <td>0.0</td>\n",
              "      <td>1.0</td>\n",
              "      <td>0.0</td>\n",
              "      <td>0.0</td>\n",
              "      <td>0.0</td>\n",
              "    </tr>\n",
              "    <tr>\n",
              "      <th>1335</th>\n",
              "      <td>18.0</td>\n",
              "      <td>36.850</td>\n",
              "      <td>0.0</td>\n",
              "      <td>1629.83350</td>\n",
              "      <td>1.0</td>\n",
              "      <td>0.0</td>\n",
              "      <td>1.0</td>\n",
              "      <td>0.0</td>\n",
              "      <td>0.0</td>\n",
              "      <td>0.0</td>\n",
              "      <td>1.0</td>\n",
              "      <td>0.0</td>\n",
              "    </tr>\n",
              "    <tr>\n",
              "      <th>1336</th>\n",
              "      <td>21.0</td>\n",
              "      <td>25.800</td>\n",
              "      <td>0.0</td>\n",
              "      <td>2007.94500</td>\n",
              "      <td>1.0</td>\n",
              "      <td>0.0</td>\n",
              "      <td>1.0</td>\n",
              "      <td>0.0</td>\n",
              "      <td>0.0</td>\n",
              "      <td>0.0</td>\n",
              "      <td>0.0</td>\n",
              "      <td>1.0</td>\n",
              "    </tr>\n",
              "    <tr>\n",
              "      <th>1337</th>\n",
              "      <td>61.0</td>\n",
              "      <td>29.070</td>\n",
              "      <td>0.0</td>\n",
              "      <td>29141.36030</td>\n",
              "      <td>1.0</td>\n",
              "      <td>0.0</td>\n",
              "      <td>0.0</td>\n",
              "      <td>1.0</td>\n",
              "      <td>0.0</td>\n",
              "      <td>1.0</td>\n",
              "      <td>0.0</td>\n",
              "      <td>0.0</td>\n",
              "    </tr>\n",
              "  </tbody>\n",
              "</table>\n",
              "<p>1338 rows × 12 columns</p>\n",
              "</div>\n",
              "    <div class=\"colab-df-buttons\">\n",
              "\n",
              "  <div class=\"colab-df-container\">\n",
              "    <button class=\"colab-df-convert\" onclick=\"convertToInteractive('df-d5be4fb8-a8dc-4c68-98b2-6b710670714a')\"\n",
              "            title=\"Convert this dataframe to an interactive table.\"\n",
              "            style=\"display:none;\">\n",
              "\n",
              "  <svg xmlns=\"http://www.w3.org/2000/svg\" height=\"24px\" viewBox=\"0 -960 960 960\">\n",
              "    <path d=\"M120-120v-720h720v720H120Zm60-500h600v-160H180v160Zm220 220h160v-160H400v160Zm0 220h160v-160H400v160ZM180-400h160v-160H180v160Zm440 0h160v-160H620v160ZM180-180h160v-160H180v160Zm440 0h160v-160H620v160Z\"/>\n",
              "  </svg>\n",
              "    </button>\n",
              "\n",
              "  <style>\n",
              "    .colab-df-container {\n",
              "      display:flex;\n",
              "      gap: 12px;\n",
              "    }\n",
              "\n",
              "    .colab-df-convert {\n",
              "      background-color: #E8F0FE;\n",
              "      border: none;\n",
              "      border-radius: 50%;\n",
              "      cursor: pointer;\n",
              "      display: none;\n",
              "      fill: #1967D2;\n",
              "      height: 32px;\n",
              "      padding: 0 0 0 0;\n",
              "      width: 32px;\n",
              "    }\n",
              "\n",
              "    .colab-df-convert:hover {\n",
              "      background-color: #E2EBFA;\n",
              "      box-shadow: 0px 1px 2px rgba(60, 64, 67, 0.3), 0px 1px 3px 1px rgba(60, 64, 67, 0.15);\n",
              "      fill: #174EA6;\n",
              "    }\n",
              "\n",
              "    .colab-df-buttons div {\n",
              "      margin-bottom: 4px;\n",
              "    }\n",
              "\n",
              "    [theme=dark] .colab-df-convert {\n",
              "      background-color: #3B4455;\n",
              "      fill: #D2E3FC;\n",
              "    }\n",
              "\n",
              "    [theme=dark] .colab-df-convert:hover {\n",
              "      background-color: #434B5C;\n",
              "      box-shadow: 0px 1px 3px 1px rgba(0, 0, 0, 0.15);\n",
              "      filter: drop-shadow(0px 1px 2px rgba(0, 0, 0, 0.3));\n",
              "      fill: #FFFFFF;\n",
              "    }\n",
              "  </style>\n",
              "\n",
              "    <script>\n",
              "      const buttonEl =\n",
              "        document.querySelector('#df-d5be4fb8-a8dc-4c68-98b2-6b710670714a button.colab-df-convert');\n",
              "      buttonEl.style.display =\n",
              "        google.colab.kernel.accessAllowed ? 'block' : 'none';\n",
              "\n",
              "      async function convertToInteractive(key) {\n",
              "        const element = document.querySelector('#df-d5be4fb8-a8dc-4c68-98b2-6b710670714a');\n",
              "        const dataTable =\n",
              "          await google.colab.kernel.invokeFunction('convertToInteractive',\n",
              "                                                    [key], {});\n",
              "        if (!dataTable) return;\n",
              "\n",
              "        const docLinkHtml = 'Like what you see? Visit the ' +\n",
              "          '<a target=\"_blank\" href=https://colab.research.google.com/notebooks/data_table.ipynb>data table notebook</a>'\n",
              "          + ' to learn more about interactive tables.';\n",
              "        element.innerHTML = '';\n",
              "        dataTable['output_type'] = 'display_data';\n",
              "        await google.colab.output.renderOutput(dataTable, element);\n",
              "        const docLink = document.createElement('div');\n",
              "        docLink.innerHTML = docLinkHtml;\n",
              "        element.appendChild(docLink);\n",
              "      }\n",
              "    </script>\n",
              "  </div>\n",
              "\n",
              "\n",
              "<div id=\"df-ad63fb32-8748-4425-a3d2-3b67a36dc43b\">\n",
              "  <button class=\"colab-df-quickchart\" onclick=\"quickchart('df-ad63fb32-8748-4425-a3d2-3b67a36dc43b')\"\n",
              "            title=\"Suggest charts.\"\n",
              "            style=\"display:none;\">\n",
              "\n",
              "<svg xmlns=\"http://www.w3.org/2000/svg\" height=\"24px\"viewBox=\"0 0 24 24\"\n",
              "     width=\"24px\">\n",
              "    <g>\n",
              "        <path d=\"M19 3H5c-1.1 0-2 .9-2 2v14c0 1.1.9 2 2 2h14c1.1 0 2-.9 2-2V5c0-1.1-.9-2-2-2zM9 17H7v-7h2v7zm4 0h-2V7h2v10zm4 0h-2v-4h2v4z\"/>\n",
              "    </g>\n",
              "</svg>\n",
              "  </button>\n",
              "\n",
              "<style>\n",
              "  .colab-df-quickchart {\n",
              "      --bg-color: #E8F0FE;\n",
              "      --fill-color: #1967D2;\n",
              "      --hover-bg-color: #E2EBFA;\n",
              "      --hover-fill-color: #174EA6;\n",
              "      --disabled-fill-color: #AAA;\n",
              "      --disabled-bg-color: #DDD;\n",
              "  }\n",
              "\n",
              "  [theme=dark] .colab-df-quickchart {\n",
              "      --bg-color: #3B4455;\n",
              "      --fill-color: #D2E3FC;\n",
              "      --hover-bg-color: #434B5C;\n",
              "      --hover-fill-color: #FFFFFF;\n",
              "      --disabled-bg-color: #3B4455;\n",
              "      --disabled-fill-color: #666;\n",
              "  }\n",
              "\n",
              "  .colab-df-quickchart {\n",
              "    background-color: var(--bg-color);\n",
              "    border: none;\n",
              "    border-radius: 50%;\n",
              "    cursor: pointer;\n",
              "    display: none;\n",
              "    fill: var(--fill-color);\n",
              "    height: 32px;\n",
              "    padding: 0;\n",
              "    width: 32px;\n",
              "  }\n",
              "\n",
              "  .colab-df-quickchart:hover {\n",
              "    background-color: var(--hover-bg-color);\n",
              "    box-shadow: 0 1px 2px rgba(60, 64, 67, 0.3), 0 1px 3px 1px rgba(60, 64, 67, 0.15);\n",
              "    fill: var(--button-hover-fill-color);\n",
              "  }\n",
              "\n",
              "  .colab-df-quickchart-complete:disabled,\n",
              "  .colab-df-quickchart-complete:disabled:hover {\n",
              "    background-color: var(--disabled-bg-color);\n",
              "    fill: var(--disabled-fill-color);\n",
              "    box-shadow: none;\n",
              "  }\n",
              "\n",
              "  .colab-df-spinner {\n",
              "    border: 2px solid var(--fill-color);\n",
              "    border-color: transparent;\n",
              "    border-bottom-color: var(--fill-color);\n",
              "    animation:\n",
              "      spin 1s steps(1) infinite;\n",
              "  }\n",
              "\n",
              "  @keyframes spin {\n",
              "    0% {\n",
              "      border-color: transparent;\n",
              "      border-bottom-color: var(--fill-color);\n",
              "      border-left-color: var(--fill-color);\n",
              "    }\n",
              "    20% {\n",
              "      border-color: transparent;\n",
              "      border-left-color: var(--fill-color);\n",
              "      border-top-color: var(--fill-color);\n",
              "    }\n",
              "    30% {\n",
              "      border-color: transparent;\n",
              "      border-left-color: var(--fill-color);\n",
              "      border-top-color: var(--fill-color);\n",
              "      border-right-color: var(--fill-color);\n",
              "    }\n",
              "    40% {\n",
              "      border-color: transparent;\n",
              "      border-right-color: var(--fill-color);\n",
              "      border-top-color: var(--fill-color);\n",
              "    }\n",
              "    60% {\n",
              "      border-color: transparent;\n",
              "      border-right-color: var(--fill-color);\n",
              "    }\n",
              "    80% {\n",
              "      border-color: transparent;\n",
              "      border-right-color: var(--fill-color);\n",
              "      border-bottom-color: var(--fill-color);\n",
              "    }\n",
              "    90% {\n",
              "      border-color: transparent;\n",
              "      border-bottom-color: var(--fill-color);\n",
              "    }\n",
              "  }\n",
              "</style>\n",
              "\n",
              "  <script>\n",
              "    async function quickchart(key) {\n",
              "      const quickchartButtonEl =\n",
              "        document.querySelector('#' + key + ' button');\n",
              "      quickchartButtonEl.disabled = true;  // To prevent multiple clicks.\n",
              "      quickchartButtonEl.classList.add('colab-df-spinner');\n",
              "      try {\n",
              "        const charts = await google.colab.kernel.invokeFunction(\n",
              "            'suggestCharts', [key], {});\n",
              "      } catch (error) {\n",
              "        console.error('Error during call to suggestCharts:', error);\n",
              "      }\n",
              "      quickchartButtonEl.classList.remove('colab-df-spinner');\n",
              "      quickchartButtonEl.classList.add('colab-df-quickchart-complete');\n",
              "    }\n",
              "    (() => {\n",
              "      let quickchartButtonEl =\n",
              "        document.querySelector('#df-ad63fb32-8748-4425-a3d2-3b67a36dc43b button');\n",
              "      quickchartButtonEl.style.display =\n",
              "        google.colab.kernel.accessAllowed ? 'block' : 'none';\n",
              "    })();\n",
              "  </script>\n",
              "</div>\n",
              "    </div>\n",
              "  </div>\n"
            ]
          },
          "metadata": {},
          "execution_count": 75
        }
      ]
    },
    {
      "cell_type": "code",
      "source": [
        "#create features and labels (inputs and outputs)\n",
        "X = insurance_one_hot.drop(columns = 'charges')\n",
        "y = insurance_one_hot['charges']\n",
        "X.head(), y.head()"
      ],
      "metadata": {
        "colab": {
          "base_uri": "https://localhost:8080/"
        },
        "id": "zxdYKe-pD6DU",
        "outputId": "67f6687d-8cdd-4aef-91e4-d84d41f8e443"
      },
      "execution_count": 78,
      "outputs": [
        {
          "output_type": "execute_result",
          "data": {
            "text/plain": [
              "(    age     bmi  children  sex_female  sex_male  smoker_no  smoker_yes  \\\n",
              " 0  19.0  27.900       0.0         1.0       0.0        0.0         1.0   \n",
              " 1  18.0  33.770       1.0         0.0       1.0        1.0         0.0   \n",
              " 2  28.0  33.000       3.0         0.0       1.0        1.0         0.0   \n",
              " 3  33.0  22.705       0.0         0.0       1.0        1.0         0.0   \n",
              " 4  32.0  28.880       0.0         0.0       1.0        1.0         0.0   \n",
              " \n",
              "    region_northeast  region_northwest  region_southeast  region_southwest  \n",
              " 0               0.0               0.0               0.0               1.0  \n",
              " 1               0.0               0.0               1.0               0.0  \n",
              " 2               0.0               0.0               1.0               0.0  \n",
              " 3               0.0               1.0               0.0               0.0  \n",
              " 4               0.0               1.0               0.0               0.0  ,\n",
              " 0    16884.92400\n",
              " 1     1725.55230\n",
              " 2     4449.46200\n",
              " 3    21984.47061\n",
              " 4     3866.85520\n",
              " Name: charges, dtype: float64)"
            ]
          },
          "metadata": {},
          "execution_count": 78
        }
      ]
    },
    {
      "cell_type": "code",
      "source": [
        "# Create training and test sets\n",
        "\n",
        "# first import the appropriate tools\n",
        "from sklearn.model_selection import train_test_split"
      ],
      "metadata": {
        "id": "dDB_SAybFHT4"
      },
      "execution_count": 79,
      "outputs": []
    },
    {
      "cell_type": "code",
      "source": [
        "X_train, X_test, y_train, y_test = train_test_split(X, y, test_size=.2,random_state=42)"
      ],
      "metadata": {
        "id": "64pYNBhgGN1e"
      },
      "execution_count": 80,
      "outputs": []
    },
    {
      "cell_type": "code",
      "source": [
        "# set seed for reproducibility\n",
        "\n",
        "tf.random.set_seed(42)\n",
        "\n",
        "# build a neural net\n",
        "\n",
        "nn = tf.keras.Sequential([\n",
        "    tf.keras.layers.Dense(11),\n",
        "    tf.keras.layers.Dense(1),\n",
        "])\n",
        "\n",
        "# compile the neural net\n",
        "\n",
        "nn.compile(loss='mse',metrics = 'mae', optimizer = tf.keras.optimizers.SGD(clipnorm=100))\n",
        "\n",
        "# fit the net\n",
        "\n",
        "nn.fit(X_train,y_train,epochs = 100)"
      ],
      "metadata": {
        "colab": {
          "base_uri": "https://localhost:8080/"
        },
        "id": "RkI1bvPuG1Ee",
        "outputId": "f67261ed-ae30-4e6c-9462-a873a75c0e80"
      },
      "execution_count": 88,
      "outputs": [
        {
          "output_type": "stream",
          "name": "stdout",
          "text": [
            "Epoch 1/100\n",
            "34/34 [==============================] - 1s 2ms/step - loss: 180988288.0000 - mae: 9507.6934\n",
            "Epoch 2/100\n",
            "34/34 [==============================] - 0s 2ms/step - loss: 132275720.0000 - mae: 8999.6064\n",
            "Epoch 3/100\n",
            "34/34 [==============================] - 0s 2ms/step - loss: 129157112.0000 - mae: 8937.4746\n",
            "Epoch 4/100\n",
            "34/34 [==============================] - 0s 2ms/step - loss: 131597112.0000 - mae: 9173.5879\n",
            "Epoch 5/100\n",
            "34/34 [==============================] - 0s 2ms/step - loss: 130228256.0000 - mae: 9048.1553\n",
            "Epoch 6/100\n",
            "34/34 [==============================] - 0s 2ms/step - loss: 129979496.0000 - mae: 9117.9756\n",
            "Epoch 7/100\n",
            "34/34 [==============================] - 0s 2ms/step - loss: 128880752.0000 - mae: 8825.4277\n",
            "Epoch 8/100\n",
            "34/34 [==============================] - 0s 2ms/step - loss: 127757736.0000 - mae: 9029.3584\n",
            "Epoch 9/100\n",
            "34/34 [==============================] - 0s 2ms/step - loss: 128782560.0000 - mae: 9001.3750\n",
            "Epoch 10/100\n",
            "34/34 [==============================] - 0s 2ms/step - loss: 125442408.0000 - mae: 8810.8545\n",
            "Epoch 11/100\n",
            "34/34 [==============================] - 0s 2ms/step - loss: 124834704.0000 - mae: 8970.2217\n",
            "Epoch 12/100\n",
            "34/34 [==============================] - 0s 2ms/step - loss: 123475520.0000 - mae: 8835.8213\n",
            "Epoch 13/100\n",
            "34/34 [==============================] - 0s 2ms/step - loss: 120980824.0000 - mae: 8707.4355\n",
            "Epoch 14/100\n",
            "34/34 [==============================] - 0s 2ms/step - loss: 119660088.0000 - mae: 8718.0869\n",
            "Epoch 15/100\n",
            "34/34 [==============================] - 0s 2ms/step - loss: 113432448.0000 - mae: 8325.7695\n",
            "Epoch 16/100\n",
            "34/34 [==============================] - 0s 2ms/step - loss: 111031808.0000 - mae: 8411.4023\n",
            "Epoch 17/100\n",
            "34/34 [==============================] - 0s 2ms/step - loss: 108359072.0000 - mae: 8124.3896\n",
            "Epoch 18/100\n",
            "34/34 [==============================] - 0s 2ms/step - loss: 104729056.0000 - mae: 8009.9624\n",
            "Epoch 19/100\n",
            "34/34 [==============================] - 0s 2ms/step - loss: 100731640.0000 - mae: 7727.3501\n",
            "Epoch 20/100\n",
            "34/34 [==============================] - 0s 2ms/step - loss: 97953408.0000 - mae: 7484.0015\n",
            "Epoch 21/100\n",
            "34/34 [==============================] - 0s 2ms/step - loss: 91863440.0000 - mae: 7387.9873\n",
            "Epoch 22/100\n",
            "34/34 [==============================] - 0s 2ms/step - loss: 85459952.0000 - mae: 6890.7690\n",
            "Epoch 23/100\n",
            "34/34 [==============================] - 0s 2ms/step - loss: 84406328.0000 - mae: 6629.6396\n",
            "Epoch 24/100\n",
            "34/34 [==============================] - 0s 2ms/step - loss: 79738736.0000 - mae: 6511.8970\n",
            "Epoch 25/100\n",
            "34/34 [==============================] - 0s 2ms/step - loss: 76208408.0000 - mae: 6506.0464\n",
            "Epoch 26/100\n",
            "34/34 [==============================] - 0s 2ms/step - loss: 72803232.0000 - mae: 6138.7563\n",
            "Epoch 27/100\n",
            "34/34 [==============================] - 0s 2ms/step - loss: 81739600.0000 - mae: 6550.4731\n",
            "Epoch 28/100\n",
            "34/34 [==============================] - 0s 2ms/step - loss: 69851360.0000 - mae: 6225.0708\n",
            "Epoch 29/100\n",
            "34/34 [==============================] - 0s 2ms/step - loss: 71388168.0000 - mae: 6252.5576\n",
            "Epoch 30/100\n",
            "34/34 [==============================] - 0s 2ms/step - loss: 72089064.0000 - mae: 6416.9946\n",
            "Epoch 31/100\n",
            "34/34 [==============================] - 0s 2ms/step - loss: 73550824.0000 - mae: 6407.4951\n",
            "Epoch 32/100\n",
            "34/34 [==============================] - 0s 2ms/step - loss: 73646056.0000 - mae: 6478.9229\n",
            "Epoch 33/100\n",
            "34/34 [==============================] - 0s 2ms/step - loss: 68101144.0000 - mae: 6134.5322\n",
            "Epoch 34/100\n",
            "34/34 [==============================] - 0s 2ms/step - loss: 66400976.0000 - mae: 6137.3145\n",
            "Epoch 35/100\n",
            "34/34 [==============================] - 0s 2ms/step - loss: 67483648.0000 - mae: 6323.2617\n",
            "Epoch 36/100\n",
            "34/34 [==============================] - 0s 2ms/step - loss: 66057064.0000 - mae: 6103.7954\n",
            "Epoch 37/100\n",
            "34/34 [==============================] - 0s 2ms/step - loss: 70713880.0000 - mae: 6403.5039\n",
            "Epoch 38/100\n",
            "34/34 [==============================] - 0s 2ms/step - loss: 67439696.0000 - mae: 6253.6211\n",
            "Epoch 39/100\n",
            "34/34 [==============================] - 0s 2ms/step - loss: 63092044.0000 - mae: 5962.0562\n",
            "Epoch 40/100\n",
            "34/34 [==============================] - 0s 2ms/step - loss: 68031048.0000 - mae: 6229.5059\n",
            "Epoch 41/100\n",
            "34/34 [==============================] - 0s 2ms/step - loss: 68285624.0000 - mae: 6180.6025\n",
            "Epoch 42/100\n",
            "34/34 [==============================] - 0s 2ms/step - loss: 67429160.0000 - mae: 6078.1016\n",
            "Epoch 43/100\n",
            "34/34 [==============================] - 0s 2ms/step - loss: 64908180.0000 - mae: 6241.7114\n",
            "Epoch 44/100\n",
            "34/34 [==============================] - 0s 2ms/step - loss: 67935040.0000 - mae: 6253.1235\n",
            "Epoch 45/100\n",
            "34/34 [==============================] - 0s 2ms/step - loss: 68103056.0000 - mae: 6166.4951\n",
            "Epoch 46/100\n",
            "34/34 [==============================] - 0s 2ms/step - loss: 64110168.0000 - mae: 5954.8496\n",
            "Epoch 47/100\n",
            "34/34 [==============================] - 0s 2ms/step - loss: 65288832.0000 - mae: 6140.1943\n",
            "Epoch 48/100\n",
            "34/34 [==============================] - 0s 2ms/step - loss: 63575468.0000 - mae: 5982.9292\n",
            "Epoch 49/100\n",
            "34/34 [==============================] - 0s 2ms/step - loss: 62248648.0000 - mae: 5974.8599\n",
            "Epoch 50/100\n",
            "34/34 [==============================] - 0s 2ms/step - loss: 63714664.0000 - mae: 5996.9976\n",
            "Epoch 51/100\n",
            "34/34 [==============================] - 0s 2ms/step - loss: 65256532.0000 - mae: 6152.0542\n",
            "Epoch 52/100\n",
            "34/34 [==============================] - 0s 2ms/step - loss: 64017404.0000 - mae: 6068.1514\n",
            "Epoch 53/100\n",
            "34/34 [==============================] - 0s 2ms/step - loss: 66305412.0000 - mae: 6095.7280\n",
            "Epoch 54/100\n",
            "34/34 [==============================] - 0s 2ms/step - loss: 62966224.0000 - mae: 6094.9917\n",
            "Epoch 55/100\n",
            "34/34 [==============================] - 0s 2ms/step - loss: 63711940.0000 - mae: 6140.2148\n",
            "Epoch 56/100\n",
            "34/34 [==============================] - 0s 2ms/step - loss: 65454012.0000 - mae: 6157.6011\n",
            "Epoch 57/100\n",
            "34/34 [==============================] - 0s 2ms/step - loss: 60849368.0000 - mae: 5875.0913\n",
            "Epoch 58/100\n",
            "34/34 [==============================] - 0s 2ms/step - loss: 62201084.0000 - mae: 5933.8770\n",
            "Epoch 59/100\n",
            "34/34 [==============================] - 0s 2ms/step - loss: 69281960.0000 - mae: 6367.6860\n",
            "Epoch 60/100\n",
            "34/34 [==============================] - 0s 2ms/step - loss: 60675268.0000 - mae: 5913.8389\n",
            "Epoch 61/100\n",
            "34/34 [==============================] - 0s 2ms/step - loss: 61911800.0000 - mae: 6020.2891\n",
            "Epoch 62/100\n",
            "34/34 [==============================] - 0s 2ms/step - loss: 62596604.0000 - mae: 6068.7202\n",
            "Epoch 63/100\n",
            "34/34 [==============================] - 0s 2ms/step - loss: 61411196.0000 - mae: 6019.1240\n",
            "Epoch 64/100\n",
            "34/34 [==============================] - 0s 2ms/step - loss: 63271052.0000 - mae: 6178.9888\n",
            "Epoch 65/100\n",
            "34/34 [==============================] - 0s 2ms/step - loss: 61835768.0000 - mae: 6011.4292\n",
            "Epoch 66/100\n",
            "34/34 [==============================] - 0s 2ms/step - loss: 62389856.0000 - mae: 6079.4424\n",
            "Epoch 67/100\n",
            "34/34 [==============================] - 0s 2ms/step - loss: 62653176.0000 - mae: 6016.7046\n",
            "Epoch 68/100\n",
            "34/34 [==============================] - 0s 2ms/step - loss: 61000012.0000 - mae: 5943.4507\n",
            "Epoch 69/100\n",
            "34/34 [==============================] - 0s 2ms/step - loss: 62186000.0000 - mae: 6023.9707\n",
            "Epoch 70/100\n",
            "34/34 [==============================] - 0s 2ms/step - loss: 66701884.0000 - mae: 6214.5620\n",
            "Epoch 71/100\n",
            "34/34 [==============================] - 0s 2ms/step - loss: 62270456.0000 - mae: 6036.5225\n",
            "Epoch 72/100\n",
            "34/34 [==============================] - 0s 2ms/step - loss: 61397084.0000 - mae: 5954.7832\n",
            "Epoch 73/100\n",
            "34/34 [==============================] - 0s 2ms/step - loss: 62395232.0000 - mae: 6043.9609\n",
            "Epoch 74/100\n",
            "34/34 [==============================] - 0s 2ms/step - loss: 62250628.0000 - mae: 5983.9111\n",
            "Epoch 75/100\n",
            "34/34 [==============================] - 0s 2ms/step - loss: 61369772.0000 - mae: 5940.2681\n",
            "Epoch 76/100\n",
            "34/34 [==============================] - 0s 2ms/step - loss: 60624288.0000 - mae: 5962.1030\n",
            "Epoch 77/100\n",
            "34/34 [==============================] - 0s 2ms/step - loss: 60454260.0000 - mae: 5904.5718\n",
            "Epoch 78/100\n",
            "34/34 [==============================] - 0s 2ms/step - loss: 58541092.0000 - mae: 5809.7710\n",
            "Epoch 79/100\n",
            "34/34 [==============================] - 0s 2ms/step - loss: 62786292.0000 - mae: 6076.8535\n",
            "Epoch 80/100\n",
            "34/34 [==============================] - 0s 2ms/step - loss: 60574204.0000 - mae: 5929.8857\n",
            "Epoch 81/100\n",
            "34/34 [==============================] - 0s 2ms/step - loss: 60533208.0000 - mae: 5953.7344\n",
            "Epoch 82/100\n",
            "34/34 [==============================] - 0s 2ms/step - loss: 67143216.0000 - mae: 6409.1406\n",
            "Epoch 83/100\n",
            "34/34 [==============================] - 0s 2ms/step - loss: 61165588.0000 - mae: 6030.8354\n",
            "Epoch 84/100\n",
            "34/34 [==============================] - 0s 2ms/step - loss: 62996576.0000 - mae: 6100.3608\n",
            "Epoch 85/100\n",
            "34/34 [==============================] - 0s 3ms/step - loss: 57363912.0000 - mae: 5883.8115\n",
            "Epoch 86/100\n",
            "34/34 [==============================] - 0s 4ms/step - loss: 58890780.0000 - mae: 5883.4707\n",
            "Epoch 87/100\n",
            "34/34 [==============================] - 0s 3ms/step - loss: 58178232.0000 - mae: 5891.7778\n",
            "Epoch 88/100\n",
            "34/34 [==============================] - 0s 3ms/step - loss: 61292608.0000 - mae: 6122.9849\n",
            "Epoch 89/100\n",
            "34/34 [==============================] - 0s 3ms/step - loss: 58274260.0000 - mae: 5871.0386\n",
            "Epoch 90/100\n",
            "34/34 [==============================] - 0s 3ms/step - loss: 60493332.0000 - mae: 6037.1670\n",
            "Epoch 91/100\n",
            "34/34 [==============================] - 0s 3ms/step - loss: 60856464.0000 - mae: 6035.4341\n",
            "Epoch 92/100\n",
            "34/34 [==============================] - 0s 3ms/step - loss: 60400036.0000 - mae: 6045.2295\n",
            "Epoch 93/100\n",
            "34/34 [==============================] - 0s 3ms/step - loss: 58837376.0000 - mae: 5918.2744\n",
            "Epoch 94/100\n",
            "34/34 [==============================] - 0s 3ms/step - loss: 59040736.0000 - mae: 5910.0063\n",
            "Epoch 95/100\n",
            "34/34 [==============================] - 0s 2ms/step - loss: 61669940.0000 - mae: 6058.2617\n",
            "Epoch 96/100\n",
            "34/34 [==============================] - 0s 2ms/step - loss: 59852856.0000 - mae: 6015.5840\n",
            "Epoch 97/100\n",
            "34/34 [==============================] - 0s 3ms/step - loss: 60253392.0000 - mae: 6003.8315\n",
            "Epoch 98/100\n",
            "34/34 [==============================] - 0s 3ms/step - loss: 61032908.0000 - mae: 6065.7803\n",
            "Epoch 99/100\n",
            "34/34 [==============================] - 0s 3ms/step - loss: 58485324.0000 - mae: 5892.7412\n",
            "Epoch 100/100\n",
            "34/34 [==============================] - 0s 4ms/step - loss: 61844696.0000 - mae: 6214.4604\n"
          ]
        },
        {
          "output_type": "execute_result",
          "data": {
            "text/plain": [
              "<keras.src.callbacks.History at 0x7c0bbf84da50>"
            ]
          },
          "metadata": {},
          "execution_count": 88
        }
      ]
    },
    {
      "cell_type": "code",
      "source": [
        "# check the results on test data\n",
        "\n",
        "nn.evaluate(X_test,y_test)"
      ],
      "metadata": {
        "colab": {
          "base_uri": "https://localhost:8080/"
        },
        "id": "trDem4aNH1dL",
        "outputId": "71cf1026-56df-4f87-dd48-753115e85e86"
      },
      "execution_count": 89,
      "outputs": [
        {
          "output_type": "stream",
          "name": "stdout",
          "text": [
            "9/9 [==============================] - 0s 3ms/step - loss: 53980844.0000 - mae: 5055.4546\n"
          ]
        },
        {
          "output_type": "execute_result",
          "data": {
            "text/plain": [
              "[53980844.0, 5055.45458984375]"
            ]
          },
          "metadata": {},
          "execution_count": 89
        }
      ]
    },
    {
      "cell_type": "markdown",
      "source": [
        "Let's try to improve the model\n",
        "\n",
        "experiments:\n",
        "* add an extra layer\n",
        "* train for longer"
      ],
      "metadata": {
        "id": "aeTDsNLfJEiv"
      }
    },
    {
      "cell_type": "code",
      "source": [
        "# seed\n",
        "tf.random.set_seed(42)\n",
        "# create the net\n",
        "nn_2 = tf.keras.Sequential([\n",
        "    tf.keras.layers.Dense(11),\n",
        "    tf.keras.layers.Dense(121),\n",
        "    tf.keras.layers.Dense(1)\n",
        "])\n",
        "\n",
        "# compile the net\n",
        "nn_2.compile(loss = 'mse', metrics = 'mae', optimizer = tf.keras.optimizers.Adam(clipnorm=100))\n",
        "\n",
        "# fit the net\n",
        "history = nn_2.fit(X_train,y_train,epochs = 200,verbose = 0)"
      ],
      "metadata": {
        "colab": {
          "base_uri": "https://localhost:8080/"
        },
        "id": "AOyN34WnKAj9",
        "outputId": "7157e6e1-75cc-4328-cb3e-415a39c29fec"
      },
      "execution_count": 102,
      "outputs": [
        {
          "output_type": "stream",
          "name": "stdout",
          "text": [
            "Epoch 1/200\n",
            "34/34 [==============================] - 2s 2ms/step - loss: 321407104.0000 - mae: 13310.1035\n",
            "Epoch 2/200\n",
            "34/34 [==============================] - 0s 2ms/step - loss: 318163200.0000 - mae: 13197.4678\n",
            "Epoch 3/200\n",
            "34/34 [==============================] - 0s 2ms/step - loss: 312490784.0000 - mae: 12996.7773\n",
            "Epoch 4/200\n",
            "34/34 [==============================] - 0s 3ms/step - loss: 303502688.0000 - mae: 12669.9268\n",
            "Epoch 5/200\n",
            "34/34 [==============================] - 0s 4ms/step - loss: 290776576.0000 - mae: 12188.0752\n",
            "Epoch 6/200\n",
            "34/34 [==============================] - 0s 4ms/step - loss: 273662496.0000 - mae: 11517.4688\n",
            "Epoch 7/200\n",
            "34/34 [==============================] - 0s 4ms/step - loss: 252742800.0000 - mae: 10664.0742\n",
            "Epoch 8/200\n",
            "34/34 [==============================] - 0s 3ms/step - loss: 228693504.0000 - mae: 9679.1895\n",
            "Epoch 9/200\n",
            "34/34 [==============================] - 0s 3ms/step - loss: 202195104.0000 - mae: 8622.4121\n",
            "Epoch 10/200\n",
            "34/34 [==============================] - 0s 3ms/step - loss: 176561664.0000 - mae: 7726.4204\n",
            "Epoch 11/200\n",
            "34/34 [==============================] - 0s 4ms/step - loss: 153053536.0000 - mae: 7421.4839\n",
            "Epoch 12/200\n",
            "34/34 [==============================] - 0s 4ms/step - loss: 136077408.0000 - mae: 8001.4644\n",
            "Epoch 13/200\n",
            "34/34 [==============================] - 0s 4ms/step - loss: 130168816.0000 - mae: 8688.5781\n",
            "Epoch 14/200\n",
            "34/34 [==============================] - 0s 4ms/step - loss: 128922144.0000 - mae: 8895.4385\n",
            "Epoch 15/200\n",
            "34/34 [==============================] - 0s 4ms/step - loss: 128747984.0000 - mae: 8975.4453\n",
            "Epoch 16/200\n",
            "34/34 [==============================] - 0s 4ms/step - loss: 128269192.0000 - mae: 8963.5225\n",
            "Epoch 17/200\n",
            "34/34 [==============================] - 0s 4ms/step - loss: 128398824.0000 - mae: 8800.6074\n",
            "Epoch 18/200\n",
            "34/34 [==============================] - 0s 4ms/step - loss: 127939576.0000 - mae: 8830.2920\n",
            "Epoch 19/200\n",
            "34/34 [==============================] - 0s 4ms/step - loss: 127612296.0000 - mae: 8965.7373\n",
            "Epoch 20/200\n",
            "34/34 [==============================] - 0s 4ms/step - loss: 127505896.0000 - mae: 8945.1426\n",
            "Epoch 21/200\n",
            "34/34 [==============================] - 0s 4ms/step - loss: 127554480.0000 - mae: 8874.3896\n",
            "Epoch 22/200\n",
            "34/34 [==============================] - 0s 4ms/step - loss: 127160056.0000 - mae: 8815.5039\n",
            "Epoch 23/200\n",
            "34/34 [==============================] - 0s 4ms/step - loss: 126850768.0000 - mae: 8974.2461\n",
            "Epoch 24/200\n",
            "34/34 [==============================] - 0s 3ms/step - loss: 126619928.0000 - mae: 8936.8301\n",
            "Epoch 25/200\n",
            "34/34 [==============================] - 0s 4ms/step - loss: 126379504.0000 - mae: 9034.3271\n",
            "Epoch 26/200\n",
            "34/34 [==============================] - 0s 2ms/step - loss: 126279472.0000 - mae: 8833.9482\n",
            "Epoch 27/200\n",
            "34/34 [==============================] - 0s 2ms/step - loss: 126066784.0000 - mae: 9022.3486\n",
            "Epoch 28/200\n",
            "34/34 [==============================] - 0s 3ms/step - loss: 125864992.0000 - mae: 9039.1602\n",
            "Epoch 29/200\n",
            "34/34 [==============================] - 0s 3ms/step - loss: 125734304.0000 - mae: 8952.3652\n",
            "Epoch 30/200\n",
            "34/34 [==============================] - 0s 2ms/step - loss: 125461792.0000 - mae: 8932.8506\n",
            "Epoch 31/200\n",
            "34/34 [==============================] - 0s 3ms/step - loss: 125277824.0000 - mae: 8851.7432\n",
            "Epoch 32/200\n",
            "34/34 [==============================] - 0s 3ms/step - loss: 125214456.0000 - mae: 8820.1650\n",
            "Epoch 33/200\n",
            "34/34 [==============================] - 0s 2ms/step - loss: 124944880.0000 - mae: 8867.1475\n",
            "Epoch 34/200\n",
            "34/34 [==============================] - 0s 3ms/step - loss: 125158176.0000 - mae: 8671.7129\n",
            "Epoch 35/200\n",
            "34/34 [==============================] - 0s 3ms/step - loss: 124998416.0000 - mae: 8657.9951\n",
            "Epoch 36/200\n",
            "34/34 [==============================] - 0s 2ms/step - loss: 124483032.0000 - mae: 8830.0703\n",
            "Epoch 37/200\n",
            "34/34 [==============================] - 0s 2ms/step - loss: 124269344.0000 - mae: 8896.6709\n",
            "Epoch 38/200\n",
            "34/34 [==============================] - 0s 2ms/step - loss: 124058288.0000 - mae: 8844.3301\n",
            "Epoch 39/200\n",
            "34/34 [==============================] - 0s 3ms/step - loss: 123864616.0000 - mae: 8912.6016\n",
            "Epoch 40/200\n",
            "34/34 [==============================] - 0s 3ms/step - loss: 123665112.0000 - mae: 8817.6572\n",
            "Epoch 41/200\n",
            "34/34 [==============================] - 0s 3ms/step - loss: 123532760.0000 - mae: 8849.9482\n",
            "Epoch 42/200\n",
            "34/34 [==============================] - 0s 2ms/step - loss: 123281352.0000 - mae: 8927.2998\n",
            "Epoch 43/200\n",
            "34/34 [==============================] - 0s 3ms/step - loss: 123000912.0000 - mae: 8876.4648\n",
            "Epoch 44/200\n",
            "34/34 [==============================] - 0s 3ms/step - loss: 123067048.0000 - mae: 8681.3301\n",
            "Epoch 45/200\n",
            "34/34 [==============================] - 0s 2ms/step - loss: 122880568.0000 - mae: 8700.3340\n",
            "Epoch 46/200\n",
            "34/34 [==============================] - 0s 2ms/step - loss: 122697920.0000 - mae: 8734.4658\n",
            "Epoch 47/200\n",
            "34/34 [==============================] - 0s 2ms/step - loss: 122540736.0000 - mae: 8715.1191\n",
            "Epoch 48/200\n",
            "34/34 [==============================] - 0s 3ms/step - loss: 122260032.0000 - mae: 8752.8037\n",
            "Epoch 49/200\n",
            "34/34 [==============================] - 0s 3ms/step - loss: 122014432.0000 - mae: 8708.8457\n",
            "Epoch 50/200\n",
            "34/34 [==============================] - 0s 2ms/step - loss: 121751048.0000 - mae: 8808.9453\n",
            "Epoch 51/200\n",
            "34/34 [==============================] - 0s 3ms/step - loss: 121590424.0000 - mae: 8877.8311\n",
            "Epoch 52/200\n",
            "34/34 [==============================] - 0s 3ms/step - loss: 121331448.0000 - mae: 8819.1416\n",
            "Epoch 53/200\n",
            "34/34 [==============================] - 0s 3ms/step - loss: 121313984.0000 - mae: 8707.4111\n",
            "Epoch 54/200\n",
            "34/34 [==============================] - 0s 2ms/step - loss: 120903400.0000 - mae: 8735.9697\n",
            "Epoch 55/200\n",
            "34/34 [==============================] - 0s 2ms/step - loss: 120698104.0000 - mae: 8704.7090\n",
            "Epoch 56/200\n",
            "34/34 [==============================] - 0s 2ms/step - loss: 120433096.0000 - mae: 8842.8916\n",
            "Epoch 57/200\n",
            "34/34 [==============================] - 0s 3ms/step - loss: 120190624.0000 - mae: 8813.4521\n",
            "Epoch 58/200\n",
            "34/34 [==============================] - 0s 2ms/step - loss: 119887400.0000 - mae: 8878.6250\n",
            "Epoch 59/200\n",
            "34/34 [==============================] - 0s 2ms/step - loss: 119663312.0000 - mae: 8788.5254\n",
            "Epoch 60/200\n",
            "34/34 [==============================] - 0s 3ms/step - loss: 119342104.0000 - mae: 8691.4189\n",
            "Epoch 61/200\n",
            "34/34 [==============================] - 0s 3ms/step - loss: 119076552.0000 - mae: 8727.6123\n",
            "Epoch 62/200\n",
            "34/34 [==============================] - 0s 3ms/step - loss: 118779536.0000 - mae: 8668.5566\n",
            "Epoch 63/200\n",
            "34/34 [==============================] - 0s 3ms/step - loss: 118409360.0000 - mae: 8740.9189\n",
            "Epoch 64/200\n",
            "34/34 [==============================] - 0s 4ms/step - loss: 118172968.0000 - mae: 8673.6465\n",
            "Epoch 65/200\n",
            "34/34 [==============================] - 0s 2ms/step - loss: 117779088.0000 - mae: 8608.2500\n",
            "Epoch 66/200\n",
            "34/34 [==============================] - 0s 2ms/step - loss: 117407672.0000 - mae: 8591.8477\n",
            "Epoch 67/200\n",
            "34/34 [==============================] - 0s 2ms/step - loss: 117149472.0000 - mae: 8751.5967\n",
            "Epoch 68/200\n",
            "34/34 [==============================] - 0s 3ms/step - loss: 116775600.0000 - mae: 8744.9756\n",
            "Epoch 69/200\n",
            "34/34 [==============================] - 0s 3ms/step - loss: 116583264.0000 - mae: 8770.7598\n",
            "Epoch 70/200\n",
            "34/34 [==============================] - 0s 2ms/step - loss: 116363096.0000 - mae: 8611.9834\n",
            "Epoch 71/200\n",
            "34/34 [==============================] - 0s 2ms/step - loss: 115870160.0000 - mae: 8681.9160\n",
            "Epoch 72/200\n",
            "34/34 [==============================] - 0s 3ms/step - loss: 115586696.0000 - mae: 8720.1904\n",
            "Epoch 73/200\n",
            "34/34 [==============================] - 0s 2ms/step - loss: 115157480.0000 - mae: 8654.3945\n",
            "Epoch 74/200\n",
            "34/34 [==============================] - 0s 3ms/step - loss: 114971912.0000 - mae: 8513.0322\n",
            "Epoch 75/200\n",
            "34/34 [==============================] - 0s 2ms/step - loss: 114687200.0000 - mae: 8484.8037\n",
            "Epoch 76/200\n",
            "34/34 [==============================] - 0s 2ms/step - loss: 114778816.0000 - mae: 8403.4902\n",
            "Epoch 77/200\n",
            "34/34 [==============================] - 0s 3ms/step - loss: 113982728.0000 - mae: 8584.9268\n",
            "Epoch 78/200\n",
            "34/34 [==============================] - 0s 2ms/step - loss: 113636472.0000 - mae: 8443.3896\n",
            "Epoch 79/200\n",
            "34/34 [==============================] - 0s 2ms/step - loss: 113131680.0000 - mae: 8407.5840\n",
            "Epoch 80/200\n",
            "34/34 [==============================] - 0s 2ms/step - loss: 112816216.0000 - mae: 8475.0928\n",
            "Epoch 81/200\n",
            "34/34 [==============================] - 0s 2ms/step - loss: 112636720.0000 - mae: 8377.1738\n",
            "Epoch 82/200\n",
            "34/34 [==============================] - 0s 3ms/step - loss: 112248048.0000 - mae: 8367.8398\n",
            "Epoch 83/200\n",
            "34/34 [==============================] - 0s 2ms/step - loss: 112113824.0000 - mae: 8200.4951\n",
            "Epoch 84/200\n",
            "34/34 [==============================] - 0s 2ms/step - loss: 111396136.0000 - mae: 8222.7773\n",
            "Epoch 85/200\n",
            "34/34 [==============================] - 0s 2ms/step - loss: 110655408.0000 - mae: 8409.5430\n",
            "Epoch 86/200\n",
            "34/34 [==============================] - 0s 3ms/step - loss: 110393832.0000 - mae: 8468.0986\n",
            "Epoch 87/200\n",
            "34/34 [==============================] - 0s 2ms/step - loss: 110226392.0000 - mae: 8297.9473\n",
            "Epoch 88/200\n",
            "34/34 [==============================] - 0s 3ms/step - loss: 109431552.0000 - mae: 8312.4678\n",
            "Epoch 89/200\n",
            "34/34 [==============================] - 0s 3ms/step - loss: 108881232.0000 - mae: 8314.3096\n",
            "Epoch 90/200\n",
            "34/34 [==============================] - 0s 2ms/step - loss: 108347936.0000 - mae: 8350.9648\n",
            "Epoch 91/200\n",
            "34/34 [==============================] - 0s 3ms/step - loss: 107471224.0000 - mae: 8294.0439\n",
            "Epoch 92/200\n",
            "34/34 [==============================] - 0s 3ms/step - loss: 106883576.0000 - mae: 8177.3711\n",
            "Epoch 93/200\n",
            "34/34 [==============================] - 0s 2ms/step - loss: 106201312.0000 - mae: 8139.2129\n",
            "Epoch 94/200\n",
            "34/34 [==============================] - 0s 2ms/step - loss: 105379320.0000 - mae: 8139.4180\n",
            "Epoch 95/200\n",
            "34/34 [==============================] - 0s 2ms/step - loss: 104804336.0000 - mae: 8265.8105\n",
            "Epoch 96/200\n",
            "34/34 [==============================] - 0s 2ms/step - loss: 103947240.0000 - mae: 8148.8477\n",
            "Epoch 97/200\n",
            "34/34 [==============================] - 0s 3ms/step - loss: 103597832.0000 - mae: 7952.7515\n",
            "Epoch 98/200\n",
            "34/34 [==============================] - 0s 2ms/step - loss: 102784040.0000 - mae: 7969.7886\n",
            "Epoch 99/200\n",
            "34/34 [==============================] - 0s 2ms/step - loss: 101840232.0000 - mae: 8044.0708\n",
            "Epoch 100/200\n",
            "34/34 [==============================] - 0s 3ms/step - loss: 101195960.0000 - mae: 7962.7773\n",
            "Epoch 101/200\n",
            "34/34 [==============================] - 0s 2ms/step - loss: 100355744.0000 - mae: 7956.8447\n",
            "Epoch 102/200\n",
            "34/34 [==============================] - 0s 2ms/step - loss: 99809184.0000 - mae: 7915.0347\n",
            "Epoch 103/200\n",
            "34/34 [==============================] - 0s 2ms/step - loss: 98911720.0000 - mae: 7853.5381\n",
            "Epoch 104/200\n",
            "34/34 [==============================] - 0s 2ms/step - loss: 98040016.0000 - mae: 7936.8467\n",
            "Epoch 105/200\n",
            "34/34 [==============================] - 0s 2ms/step - loss: 97273192.0000 - mae: 7687.7817\n",
            "Epoch 106/200\n",
            "34/34 [==============================] - 0s 3ms/step - loss: 95970752.0000 - mae: 7699.8540\n",
            "Epoch 107/200\n",
            "34/34 [==============================] - 0s 2ms/step - loss: 94985632.0000 - mae: 7662.6016\n",
            "Epoch 108/200\n",
            "34/34 [==============================] - 0s 2ms/step - loss: 94098904.0000 - mae: 7565.9009\n",
            "Epoch 109/200\n",
            "34/34 [==============================] - 0s 2ms/step - loss: 93060688.0000 - mae: 7470.4595\n",
            "Epoch 110/200\n",
            "34/34 [==============================] - 0s 2ms/step - loss: 92183416.0000 - mae: 7416.5640\n",
            "Epoch 111/200\n",
            "34/34 [==============================] - 0s 3ms/step - loss: 91060184.0000 - mae: 7438.3794\n",
            "Epoch 112/200\n",
            "34/34 [==============================] - 0s 2ms/step - loss: 90216304.0000 - mae: 7329.9937\n",
            "Epoch 113/200\n",
            "34/34 [==============================] - 0s 2ms/step - loss: 89061496.0000 - mae: 7359.4478\n",
            "Epoch 114/200\n",
            "34/34 [==============================] - 0s 2ms/step - loss: 87769848.0000 - mae: 7245.9941\n",
            "Epoch 115/200\n",
            "34/34 [==============================] - 0s 2ms/step - loss: 86767344.0000 - mae: 7079.7822\n",
            "Epoch 116/200\n",
            "34/34 [==============================] - 0s 3ms/step - loss: 85607440.0000 - mae: 7158.5068\n",
            "Epoch 117/200\n",
            "34/34 [==============================] - 0s 2ms/step - loss: 84537240.0000 - mae: 6931.2881\n",
            "Epoch 118/200\n",
            "34/34 [==============================] - 0s 2ms/step - loss: 82964240.0000 - mae: 7042.1792\n",
            "Epoch 119/200\n",
            "34/34 [==============================] - 0s 2ms/step - loss: 81863080.0000 - mae: 6813.3433\n",
            "Epoch 120/200\n",
            "34/34 [==============================] - 0s 3ms/step - loss: 80373400.0000 - mae: 6825.9233\n",
            "Epoch 121/200\n",
            "34/34 [==============================] - 0s 2ms/step - loss: 78561424.0000 - mae: 6774.1113\n",
            "Epoch 122/200\n",
            "34/34 [==============================] - 0s 2ms/step - loss: 77151184.0000 - mae: 6678.5020\n",
            "Epoch 123/200\n",
            "34/34 [==============================] - 0s 2ms/step - loss: 76066888.0000 - mae: 6643.3228\n",
            "Epoch 124/200\n",
            "34/34 [==============================] - 0s 3ms/step - loss: 74467192.0000 - mae: 6433.8252\n",
            "Epoch 125/200\n",
            "34/34 [==============================] - 0s 2ms/step - loss: 72934344.0000 - mae: 6471.3779\n",
            "Epoch 126/200\n",
            "34/34 [==============================] - 0s 2ms/step - loss: 71172064.0000 - mae: 6306.7505\n",
            "Epoch 127/200\n",
            "34/34 [==============================] - 0s 2ms/step - loss: 69700104.0000 - mae: 6047.1411\n",
            "Epoch 128/200\n",
            "34/34 [==============================] - 0s 3ms/step - loss: 68218344.0000 - mae: 5995.6035\n",
            "Epoch 129/200\n",
            "34/34 [==============================] - 0s 2ms/step - loss: 66712548.0000 - mae: 6154.1958\n",
            "Epoch 130/200\n",
            "34/34 [==============================] - 0s 2ms/step - loss: 65358156.0000 - mae: 6080.4912\n",
            "Epoch 131/200\n",
            "34/34 [==============================] - 0s 3ms/step - loss: 63993720.0000 - mae: 5873.2583\n",
            "Epoch 132/200\n",
            "34/34 [==============================] - 0s 2ms/step - loss: 62709012.0000 - mae: 5874.7266\n",
            "Epoch 133/200\n",
            "34/34 [==============================] - 0s 3ms/step - loss: 61451932.0000 - mae: 5858.8677\n",
            "Epoch 134/200\n",
            "34/34 [==============================] - 0s 4ms/step - loss: 60139248.0000 - mae: 5622.3179\n",
            "Epoch 135/200\n",
            "34/34 [==============================] - 0s 4ms/step - loss: 58872944.0000 - mae: 5593.7139\n",
            "Epoch 136/200\n",
            "34/34 [==============================] - 0s 4ms/step - loss: 57374744.0000 - mae: 5408.0146\n",
            "Epoch 137/200\n",
            "34/34 [==============================] - 0s 4ms/step - loss: 55929812.0000 - mae: 5397.2549\n",
            "Epoch 138/200\n",
            "34/34 [==============================] - 0s 4ms/step - loss: 54532388.0000 - mae: 5596.5400\n",
            "Epoch 139/200\n",
            "34/34 [==============================] - 0s 4ms/step - loss: 53317620.0000 - mae: 5278.4746\n",
            "Epoch 140/200\n",
            "34/34 [==============================] - 0s 4ms/step - loss: 52385292.0000 - mae: 5301.6699\n",
            "Epoch 141/200\n",
            "34/34 [==============================] - 0s 4ms/step - loss: 51376768.0000 - mae: 5282.7739\n",
            "Epoch 142/200\n",
            "34/34 [==============================] - 0s 4ms/step - loss: 50010100.0000 - mae: 5154.6338\n",
            "Epoch 143/200\n",
            "34/34 [==============================] - 0s 4ms/step - loss: 48922272.0000 - mae: 4993.2739\n",
            "Epoch 144/200\n",
            "34/34 [==============================] - 0s 4ms/step - loss: 48083328.0000 - mae: 5200.7378\n",
            "Epoch 145/200\n",
            "34/34 [==============================] - 0s 4ms/step - loss: 47169892.0000 - mae: 5127.7148\n",
            "Epoch 146/200\n",
            "34/34 [==============================] - 0s 3ms/step - loss: 46465272.0000 - mae: 5103.6162\n",
            "Epoch 147/200\n",
            "34/34 [==============================] - 0s 4ms/step - loss: 45378376.0000 - mae: 5001.6074\n",
            "Epoch 148/200\n",
            "34/34 [==============================] - 0s 4ms/step - loss: 44735672.0000 - mae: 4789.7378\n",
            "Epoch 149/200\n",
            "34/34 [==============================] - 0s 4ms/step - loss: 43965620.0000 - mae: 4938.2588\n",
            "Epoch 150/200\n",
            "34/34 [==============================] - 0s 4ms/step - loss: 43148360.0000 - mae: 4770.7026\n",
            "Epoch 151/200\n",
            "34/34 [==============================] - 0s 4ms/step - loss: 42422580.0000 - mae: 4703.4219\n",
            "Epoch 152/200\n",
            "34/34 [==============================] - 0s 4ms/step - loss: 41943024.0000 - mae: 4738.2998\n",
            "Epoch 153/200\n",
            "34/34 [==============================] - 0s 3ms/step - loss: 41283208.0000 - mae: 4582.6514\n",
            "Epoch 154/200\n",
            "34/34 [==============================] - 0s 4ms/step - loss: 40652900.0000 - mae: 4627.3105\n",
            "Epoch 155/200\n",
            "34/34 [==============================] - 0s 3ms/step - loss: 40492316.0000 - mae: 4502.3916\n",
            "Epoch 156/200\n",
            "34/34 [==============================] - 0s 3ms/step - loss: 40310264.0000 - mae: 4607.6763\n",
            "Epoch 157/200\n",
            "34/34 [==============================] - 0s 2ms/step - loss: 39835336.0000 - mae: 4549.9468\n",
            "Epoch 158/200\n",
            "34/34 [==============================] - 0s 2ms/step - loss: 39572088.0000 - mae: 4478.3911\n",
            "Epoch 159/200\n",
            "34/34 [==============================] - 0s 3ms/step - loss: 39325572.0000 - mae: 4434.8428\n",
            "Epoch 160/200\n",
            "34/34 [==============================] - 0s 2ms/step - loss: 39156152.0000 - mae: 4429.2598\n",
            "Epoch 161/200\n",
            "34/34 [==============================] - 0s 2ms/step - loss: 38940032.0000 - mae: 4403.1182\n",
            "Epoch 162/200\n",
            "34/34 [==============================] - 0s 2ms/step - loss: 38937484.0000 - mae: 4429.0845\n",
            "Epoch 163/200\n",
            "34/34 [==============================] - 0s 3ms/step - loss: 39023580.0000 - mae: 4352.8345\n",
            "Epoch 164/200\n",
            "34/34 [==============================] - 0s 3ms/step - loss: 38888076.0000 - mae: 4536.1670\n",
            "Epoch 165/200\n",
            "34/34 [==============================] - 0s 2ms/step - loss: 38796320.0000 - mae: 4447.0908\n",
            "Epoch 166/200\n",
            "34/34 [==============================] - 0s 2ms/step - loss: 38300840.0000 - mae: 4378.1479\n",
            "Epoch 167/200\n",
            "34/34 [==============================] - 0s 2ms/step - loss: 38523492.0000 - mae: 4298.1719\n",
            "Epoch 168/200\n",
            "34/34 [==============================] - 0s 2ms/step - loss: 38245448.0000 - mae: 4282.4775\n",
            "Epoch 169/200\n",
            "34/34 [==============================] - 0s 3ms/step - loss: 38197560.0000 - mae: 4316.5737\n",
            "Epoch 170/200\n",
            "34/34 [==============================] - 0s 2ms/step - loss: 38401004.0000 - mae: 4468.1377\n",
            "Epoch 171/200\n",
            "34/34 [==============================] - 0s 3ms/step - loss: 38380628.0000 - mae: 4215.0757\n",
            "Epoch 172/200\n",
            "34/34 [==============================] - 0s 2ms/step - loss: 38097420.0000 - mae: 4464.3022\n",
            "Epoch 173/200\n",
            "34/34 [==============================] - 0s 2ms/step - loss: 38052956.0000 - mae: 4320.9307\n",
            "Epoch 174/200\n",
            "34/34 [==============================] - 0s 2ms/step - loss: 38179828.0000 - mae: 4261.8369\n",
            "Epoch 175/200\n",
            "34/34 [==============================] - 0s 2ms/step - loss: 38008584.0000 - mae: 4266.0088\n",
            "Epoch 176/200\n",
            "34/34 [==============================] - 0s 3ms/step - loss: 37918848.0000 - mae: 4337.5884\n",
            "Epoch 177/200\n",
            "34/34 [==============================] - 0s 2ms/step - loss: 37872112.0000 - mae: 4263.4375\n",
            "Epoch 178/200\n",
            "34/34 [==============================] - 0s 2ms/step - loss: 37836968.0000 - mae: 4250.6411\n",
            "Epoch 179/200\n",
            "34/34 [==============================] - 0s 2ms/step - loss: 38073072.0000 - mae: 4168.5469\n",
            "Epoch 180/200\n",
            "34/34 [==============================] - 0s 2ms/step - loss: 38027928.0000 - mae: 4380.5703\n",
            "Epoch 181/200\n",
            "34/34 [==============================] - 0s 2ms/step - loss: 37699360.0000 - mae: 4182.3252\n",
            "Epoch 182/200\n",
            "34/34 [==============================] - 0s 2ms/step - loss: 37651580.0000 - mae: 4256.1470\n",
            "Epoch 183/200\n",
            "34/34 [==============================] - 0s 2ms/step - loss: 37576032.0000 - mae: 4149.5962\n",
            "Epoch 184/200\n",
            "34/34 [==============================] - 0s 2ms/step - loss: 38237808.0000 - mae: 4389.7144\n",
            "Epoch 185/200\n",
            "34/34 [==============================] - 0s 2ms/step - loss: 37531420.0000 - mae: 4257.7905\n",
            "Epoch 186/200\n",
            "34/34 [==============================] - 0s 3ms/step - loss: 37647560.0000 - mae: 4167.4551\n",
            "Epoch 187/200\n",
            "34/34 [==============================] - 0s 3ms/step - loss: 37667172.0000 - mae: 4302.6143\n",
            "Epoch 188/200\n",
            "34/34 [==============================] - 0s 2ms/step - loss: 37746612.0000 - mae: 4226.9292\n",
            "Epoch 189/200\n",
            "34/34 [==============================] - 0s 2ms/step - loss: 37694964.0000 - mae: 4153.4229\n",
            "Epoch 190/200\n",
            "34/34 [==============================] - 0s 3ms/step - loss: 37722068.0000 - mae: 4247.3457\n",
            "Epoch 191/200\n",
            "34/34 [==============================] - 0s 2ms/step - loss: 37903508.0000 - mae: 4240.0015\n",
            "Epoch 192/200\n",
            "34/34 [==============================] - 0s 3ms/step - loss: 37476892.0000 - mae: 4215.6230\n",
            "Epoch 193/200\n",
            "34/34 [==============================] - 0s 2ms/step - loss: 37521500.0000 - mae: 4236.6465\n",
            "Epoch 194/200\n",
            "34/34 [==============================] - 0s 2ms/step - loss: 37545300.0000 - mae: 4287.1108\n",
            "Epoch 195/200\n",
            "34/34 [==============================] - 0s 2ms/step - loss: 37474252.0000 - mae: 4210.0981\n",
            "Epoch 196/200\n",
            "34/34 [==============================] - 0s 2ms/step - loss: 37709456.0000 - mae: 4278.5107\n",
            "Epoch 197/200\n",
            "34/34 [==============================] - 0s 2ms/step - loss: 37520640.0000 - mae: 4214.5039\n",
            "Epoch 198/200\n",
            "34/34 [==============================] - 0s 3ms/step - loss: 37604660.0000 - mae: 4141.0493\n",
            "Epoch 199/200\n",
            "34/34 [==============================] - 0s 2ms/step - loss: 37550080.0000 - mae: 4265.3691\n",
            "Epoch 200/200\n",
            "34/34 [==============================] - 0s 2ms/step - loss: 37508252.0000 - mae: 4156.9146\n"
          ]
        }
      ]
    },
    {
      "cell_type": "code",
      "source": [
        "# evaluate the larger model\n",
        "nn_2.evaluate(X_test,y_test)"
      ],
      "metadata": {
        "colab": {
          "base_uri": "https://localhost:8080/"
        },
        "id": "ddGEQjhcMtxY",
        "outputId": "a4af9fa4-527e-48eb-e4a9-b6dff91cd454"
      },
      "execution_count": 103,
      "outputs": [
        {
          "output_type": "stream",
          "name": "stdout",
          "text": [
            "9/9 [==============================] - 0s 2ms/step - loss: 34334364.0000 - mae: 4325.9355\n"
          ]
        },
        {
          "output_type": "execute_result",
          "data": {
            "text/plain": [
              "[34334364.0, 4325.935546875]"
            ]
          },
          "metadata": {},
          "execution_count": 103
        }
      ]
    },
    {
      "cell_type": "code",
      "source": [
        "# plot history of learning\n",
        "pd.DataFrame(history.history).plot()\n",
        "plt.ylabel('loss')\n",
        "plt.xlabel('epochs')"
      ],
      "metadata": {
        "colab": {
          "base_uri": "https://localhost:8080/",
          "height": 483
        },
        "id": "-7yhzUNjM9-w",
        "outputId": "ab51ba5e-6da6-46e4-e7ab-6e24d7a34618"
      },
      "execution_count": 104,
      "outputs": [
        {
          "output_type": "execute_result",
          "data": {
            "text/plain": [
              "Text(0.5, 0, 'epochs')"
            ]
          },
          "metadata": {},
          "execution_count": 104
        },
        {
          "output_type": "display_data",
          "data": {
            "text/plain": [
              "<Figure size 640x480 with 1 Axes>"
            ],
            "image/png": "[encoded data removed]"
          },
          "metadata": {}
        }
      ]
    },
    {
      "cell_type": "markdown",
      "source": [
        "Introducing an early stopping callback in order to stop fitting after reaching certain performance."
      ],
      "metadata": {
        "id": "KBRrDH2VPxRg"
      }
    },
    {
      "cell_type": "markdown",
      "source": [
        "### Preprocessing Data: normalization and standarization\n",
        "\n",
        "Normalization also referred to as feature scaling - getting all the features into a common scale e.g. between 0 and 1\n",
        "https://towardsdatascience.com/scale-standardize-or-normalize-with-scikit-learn-6ccc7d176a02"
      ],
      "metadata": {
        "id": "oaQlcQGyQPax"
      }
    },
    {
      "cell_type": "code",
      "source": [
        "# start fresh\n",
        "import pandas as pd\n",
        "import tensorflow as tf\n",
        "import matplotlib.pyplot as plt\n",
        "\n",
        "# read the insurance df\n",
        "df = pd.read_csv('https://raw.githubusercontent.com/stedy/Machine-Learning-with-R-datasets/master/insurance.csv')\n",
        "df"
      ],
      "metadata": {
        "colab": {
          "base_uri": "https://localhost:8080/",
          "height": 424
        },
        "id": "9rMDo9NzQqDg",
        "outputId": "36d88c41-6156-4515-b832-3cb7a41664a8"
      },
      "execution_count": 107,
      "outputs": [
        {
          "output_type": "execute_result",
          "data": {
            "text/plain": [
              "      age     sex     bmi  children smoker     region      charges\n",
              "0      19  female  27.900         0    yes  southwest  16884.92400\n",
              "1      18    male  33.770         1     no  southeast   1725.55230\n",
              "2      28    male  33.000         3     no  southeast   4449.46200\n",
              "3      33    male  22.705         0     no  northwest  21984.47061\n",
              "4      32    male  28.880         0     no  northwest   3866.85520\n",
              "...   ...     ...     ...       ...    ...        ...          ...\n",
              "1333   50    male  30.970         3     no  northwest  10600.54830\n",
              "1334   18  female  31.920         0     no  northeast   2205.98080\n",
              "1335   18  female  36.850         0     no  southeast   1629.83350\n",
              "1336   21  female  25.800         0     no  southwest   2007.94500\n",
              "1337   61  female  29.070         0    yes  northwest  29141.36030\n",
              "\n",
              "[1338 rows x 7 columns]"
            ],
            "text/html": [
              "\n",
              "  <div id=\"df-fd99152c-a2e6-4260-822e-3d4c4509a4ff\" class=\"colab-df-container\">\n",
              "    <div>\n",
              "<style scoped>\n",
              "    .dataframe tbody tr th:only-of-type {\n",
              "        vertical-align: middle;\n",
              "    }\n",
              "\n",
              "    .dataframe tbody tr th {\n",
              "        vertical-align: top;\n",
              "    }\n",
              "\n",
              "    .dataframe thead th {\n",
              "        text-align: right;\n",
              "    }\n",
              "</style>\n",
              "<table border=\"1\" class=\"dataframe\">\n",
              "  <thead>\n",
              "    <tr style=\"text-align: right;\">\n",
              "      <th></th>\n",
              "      <th>age</th>\n",
              "      <th>sex</th>\n",
              "      <th>bmi</th>\n",
              "      <th>children</th>\n",
              "      <th>smoker</th>\n",
              "      <th>region</th>\n",
              "      <th>charges</th>\n",
              "    </tr>\n",
              "  </thead>\n",
              "  <tbody>\n",
              "    <tr>\n",
              "      <th>0</th>\n",
              "      <td>19</td>\n",
              "      <td>female</td>\n",
              "      <td>27.900</td>\n",
              "      <td>0</td>\n",
              "      <td>yes</td>\n",
              "      <td>southwest</td>\n",
              "      <td>16884.92400</td>\n",
              "    </tr>\n",
              "    <tr>\n",
              "      <th>1</th>\n",
              "      <td>18</td>\n",
              "      <td>male</td>\n",
              "      <td>33.770</td>\n",
              "      <td>1</td>\n",
              "      <td>no</td>\n",
              "      <td>southeast</td>\n",
              "      <td>1725.55230</td>\n",
              "    </tr>\n",
              "    <tr>\n",
              "      <th>2</th>\n",
              "      <td>28</td>\n",
              "      <td>male</td>\n",
              "      <td>33.000</td>\n",
              "      <td>3</td>\n",
              "      <td>no</td>\n",
              "      <td>southeast</td>\n",
              "      <td>4449.46200</td>\n",
              "    </tr>\n",
              "    <tr>\n",
              "      <th>3</th>\n",
              "      <td>33</td>\n",
              "      <td>male</td>\n",
              "      <td>22.705</td>\n",
              "      <td>0</td>\n",
              "      <td>no</td>\n",
              "      <td>northwest</td>\n",
              "      <td>21984.47061</td>\n",
              "    </tr>\n",
              "    <tr>\n",
              "      <th>4</th>\n",
              "      <td>32</td>\n",
              "      <td>male</td>\n",
              "      <td>28.880</td>\n",
              "      <td>0</td>\n",
              "      <td>no</td>\n",
              "      <td>northwest</td>\n",
              "      <td>3866.85520</td>\n",
              "    </tr>\n",
              "    <tr>\n",
              "      <th>...</th>\n",
              "      <td>...</td>\n",
              "      <td>...</td>\n",
              "      <td>...</td>\n",
              "      <td>...</td>\n",
              "      <td>...</td>\n",
              "      <td>...</td>\n",
              "      <td>...</td>\n",
              "    </tr>\n",
              "    <tr>\n",
              "      <th>1333</th>\n",
              "      <td>50</td>\n",
              "      <td>male</td>\n",
              "      <td>30.970</td>\n",
              "      <td>3</td>\n",
              "      <td>no</td>\n",
              "      <td>northwest</td>\n",
              "      <td>10600.54830</td>\n",
              "    </tr>\n",
              "    <tr>\n",
              "      <th>1334</th>\n",
              "      <td>18</td>\n",
              "      <td>female</td>\n",
              "      <td>31.920</td>\n",
              "      <td>0</td>\n",
              "      <td>no</td>\n",
              "      <td>northeast</td>\n",
              "      <td>2205.98080</td>\n",
              "    </tr>\n",
              "    <tr>\n",
              "      <th>1335</th>\n",
              "      <td>18</td>\n",
              "      <td>female</td>\n",
              "      <td>36.850</td>\n",
              "      <td>0</td>\n",
              "      <td>no</td>\n",
              "      <td>southeast</td>\n",
              "      <td>1629.83350</td>\n",
              "    </tr>\n",
              "    <tr>\n",
              "      <th>1336</th>\n",
              "      <td>21</td>\n",
              "      <td>female</td>\n",
              "      <td>25.800</td>\n",
              "      <td>0</td>\n",
              "      <td>no</td>\n",
              "      <td>southwest</td>\n",
              "      <td>2007.94500</td>\n",
              "    </tr>\n",
              "    <tr>\n",
              "      <th>1337</th>\n",
              "      <td>61</td>\n",
              "      <td>female</td>\n",
              "      <td>29.070</td>\n",
              "      <td>0</td>\n",
              "      <td>yes</td>\n",
              "      <td>northwest</td>\n",
              "      <td>29141.36030</td>\n",
              "    </tr>\n",
              "  </tbody>\n",
              "</table>\n",
              "<p>1338 rows × 7 columns</p>\n",
              "</div>\n",
              "    <div class=\"colab-df-buttons\">\n",
              "\n",
              "  <div class=\"colab-df-container\">\n",
              "    <button class=\"colab-df-convert\" onclick=\"convertToInteractive('df-fd99152c-a2e6-4260-822e-3d4c4509a4ff')\"\n",
              "            title=\"Convert this dataframe to an interactive table.\"\n",
              "            style=\"display:none;\">\n",
              "\n",
              "  <svg xmlns=\"http://www.w3.org/2000/svg\" height=\"24px\" viewBox=\"0 -960 960 960\">\n",
              "    <path d=\"M120-120v-720h720v720H120Zm60-500h600v-160H180v160Zm220 220h160v-160H400v160Zm0 220h160v-160H400v160ZM180-400h160v-160H180v160Zm440 0h160v-160H620v160ZM180-180h160v-160H180v160Zm440 0h160v-160H620v160Z\"/>\n",
              "  </svg>\n",
              "    </button>\n",
              "\n",
              "  <style>\n",
              "    .colab-df-container {\n",
              "      display:flex;\n",
              "      gap: 12px;\n",
              "    }\n",
              "\n",
              "    .colab-df-convert {\n",
              "      background-color: #E8F0FE;\n",
              "      border: none;\n",
              "      border-radius: 50%;\n",
              "      cursor: pointer;\n",
              "      display: none;\n",
              "      fill: #1967D2;\n",
              "      height: 32px;\n",
              "      padding: 0 0 0 0;\n",
              "      width: 32px;\n",
              "    }\n",
              "\n",
              "    .colab-df-convert:hover {\n",
              "      background-color: #E2EBFA;\n",
              "      box-shadow: 0px 1px 2px rgba(60, 64, 67, 0.3), 0px 1px 3px 1px rgba(60, 64, 67, 0.15);\n",
              "      fill: #174EA6;\n",
              "    }\n",
              "\n",
              "    .colab-df-buttons div {\n",
              "      margin-bottom: 4px;\n",
              "    }\n",
              "\n",
              "    [theme=dark] .colab-df-convert {\n",
              "      background-color: #3B4455;\n",
              "      fill: #D2E3FC;\n",
              "    }\n",
              "\n",
              "    [theme=dark] .colab-df-convert:hover {\n",
              "      background-color: #434B5C;\n",
              "      box-shadow: 0px 1px 3px 1px rgba(0, 0, 0, 0.15);\n",
              "      filter: drop-shadow(0px 1px 2px rgba(0, 0, 0, 0.3));\n",
              "      fill: #FFFFFF;\n",
              "    }\n",
              "  </style>\n",
              "\n",
              "    <script>\n",
              "      const buttonEl =\n",
              "        document.querySelector('#df-fd99152c-a2e6-4260-822e-3d4c4509a4ff button.colab-df-convert');\n",
              "      buttonEl.style.display =\n",
              "        google.colab.kernel.accessAllowed ? 'block' : 'none';\n",
              "\n",
              "      async function convertToInteractive(key) {\n",
              "        const element = document.querySelector('#df-fd99152c-a2e6-4260-822e-3d4c4509a4ff');\n",
              "        const dataTable =\n",
              "          await google.colab.kernel.invokeFunction('convertToInteractive',\n",
              "                                                    [key], {});\n",
              "        if (!dataTable) return;\n",
              "\n",
              "        const docLinkHtml = 'Like what you see? Visit the ' +\n",
              "          '<a target=\"_blank\" href=https://colab.research.google.com/notebooks/data_table.ipynb>data table notebook</a>'\n",
              "          + ' to learn more about interactive tables.';\n",
              "        element.innerHTML = '';\n",
              "        dataTable['output_type'] = 'display_data';\n",
              "        await google.colab.output.renderOutput(dataTable, element);\n",
              "        const docLink = document.createElement('div');\n",
              "        docLink.innerHTML = docLinkHtml;\n",
              "        element.appendChild(docLink);\n",
              "      }\n",
              "    </script>\n",
              "  </div>\n",
              "\n",
              "\n",
              "<div id=\"df-0ad78e2b-821f-4ebf-8c1a-866061814d05\">\n",
              "  <button class=\"colab-df-quickchart\" onclick=\"quickchart('df-0ad78e2b-821f-4ebf-8c1a-866061814d05')\"\n",
              "            title=\"Suggest charts.\"\n",
              "            style=\"display:none;\">\n",
              "\n",
              "<svg xmlns=\"http://www.w3.org/2000/svg\" height=\"24px\"viewBox=\"0 0 24 24\"\n",
              "     width=\"24px\">\n",
              "    <g>\n",
              "        <path d=\"M19 3H5c-1.1 0-2 .9-2 2v14c0 1.1.9 2 2 2h14c1.1 0 2-.9 2-2V5c0-1.1-.9-2-2-2zM9 17H7v-7h2v7zm4 0h-2V7h2v10zm4 0h-2v-4h2v4z\"/>\n",
              "    </g>\n",
              "</svg>\n",
              "  </button>\n",
              "\n",
              "<style>\n",
              "  .colab-df-quickchart {\n",
              "      --bg-color: #E8F0FE;\n",
              "      --fill-color: #1967D2;\n",
              "      --hover-bg-color: #E2EBFA;\n",
              "      --hover-fill-color: #174EA6;\n",
              "      --disabled-fill-color: #AAA;\n",
              "      --disabled-bg-color: #DDD;\n",
              "  }\n",
              "\n",
              "  [theme=dark] .colab-df-quickchart {\n",
              "      --bg-color: #3B4455;\n",
              "      --fill-color: #D2E3FC;\n",
              "      --hover-bg-color: #434B5C;\n",
              "      --hover-fill-color: #FFFFFF;\n",
              "      --disabled-bg-color: #3B4455;\n",
              "      --disabled-fill-color: #666;\n",
              "  }\n",
              "\n",
              "  .colab-df-quickchart {\n",
              "    background-color: var(--bg-color);\n",
              "    border: none;\n",
              "    border-radius: 50%;\n",
              "    cursor: pointer;\n",
              "    display: none;\n",
              "    fill: var(--fill-color);\n",
              "    height: 32px;\n",
              "    padding: 0;\n",
              "    width: 32px;\n",
              "  }\n",
              "\n",
              "  .colab-df-quickchart:hover {\n",
              "    background-color: var(--hover-bg-color);\n",
              "    box-shadow: 0 1px 2px rgba(60, 64, 67, 0.3), 0 1px 3px 1px rgba(60, 64, 67, 0.15);\n",
              "    fill: var(--button-hover-fill-color);\n",
              "  }\n",
              "\n",
              "  .colab-df-quickchart-complete:disabled,\n",
              "  .colab-df-quickchart-complete:disabled:hover {\n",
              "    background-color: var(--disabled-bg-color);\n",
              "    fill: var(--disabled-fill-color);\n",
              "    box-shadow: none;\n",
              "  }\n",
              "\n",
              "  .colab-df-spinner {\n",
              "    border: 2px solid var(--fill-color);\n",
              "    border-color: transparent;\n",
              "    border-bottom-color: var(--fill-color);\n",
              "    animation:\n",
              "      spin 1s steps(1) infinite;\n",
              "  }\n",
              "\n",
              "  @keyframes spin {\n",
              "    0% {\n",
              "      border-color: transparent;\n",
              "      border-bottom-color: var(--fill-color);\n",
              "      border-left-color: var(--fill-color);\n",
              "    }\n",
              "    20% {\n",
              "      border-color: transparent;\n",
              "      border-left-color: var(--fill-color);\n",
              "      border-top-color: var(--fill-color);\n",
              "    }\n",
              "    30% {\n",
              "      border-color: transparent;\n",
              "      border-left-color: var(--fill-color);\n",
              "      border-top-color: var(--fill-color);\n",
              "      border-right-color: var(--fill-color);\n",
              "    }\n",
              "    40% {\n",
              "      border-color: transparent;\n",
              "      border-right-color: var(--fill-color);\n",
              "      border-top-color: var(--fill-color);\n",
              "    }\n",
              "    60% {\n",
              "      border-color: transparent;\n",
              "      border-right-color: var(--fill-color);\n",
              "    }\n",
              "    80% {\n",
              "      border-color: transparent;\n",
              "      border-right-color: var(--fill-color);\n",
              "      border-bottom-color: var(--fill-color);\n",
              "    }\n",
              "    90% {\n",
              "      border-color: transparent;\n",
              "      border-bottom-color: var(--fill-color);\n",
              "    }\n",
              "  }\n",
              "</style>\n",
              "\n",
              "  <script>\n",
              "    async function quickchart(key) {\n",
              "      const quickchartButtonEl =\n",
              "        document.querySelector('#' + key + ' button');\n",
              "      quickchartButtonEl.disabled = true;  // To prevent multiple clicks.\n",
              "      quickchartButtonEl.classList.add('colab-df-spinner');\n",
              "      try {\n",
              "        const charts = await google.colab.kernel.invokeFunction(\n",
              "            'suggestCharts', [key], {});\n",
              "      } catch (error) {\n",
              "        console.error('Error during call to suggestCharts:', error);\n",
              "      }\n",
              "      quickchartButtonEl.classList.remove('colab-df-spinner');\n",
              "      quickchartButtonEl.classList.add('colab-df-quickchart-complete');\n",
              "    }\n",
              "    (() => {\n",
              "      let quickchartButtonEl =\n",
              "        document.querySelector('#df-0ad78e2b-821f-4ebf-8c1a-866061814d05 button');\n",
              "      quickchartButtonEl.style.display =\n",
              "        google.colab.kernel.accessAllowed ? 'block' : 'none';\n",
              "    })();\n",
              "  </script>\n",
              "</div>\n",
              "    </div>\n",
              "  </div>\n"
            ]
          },
          "metadata": {},
          "execution_count": 107
        }
      ]
    },
    {
      "cell_type": "code",
      "source": [
        "# to prepare our data, we borrow few classes\n",
        "from sklearn.compose import make_column_transformer\n",
        "from sklearn.preprocessing import MinMaxScaler, OneHotEncoder\n",
        "from sklearn.model_selection import train_test_split\n",
        "\n",
        "# create column transformer\n",
        "ct = make_column_transformer(\n",
        "    (MinMaxScaler(),['age','bmi','children']),\n",
        "    (OneHotEncoder(handle_unknown='ignore'),['sex','smoker','region'])\n",
        ")\n",
        "\n",
        "# create scaled X and y\n",
        "X = df.drop(columns = 'charges')\n",
        "y = df['charges']\n",
        "\n",
        "# build train and tes sets\n",
        "X_train, X_test, y_train, y_test = train_test_split(X,y,test_size=.2,random_state=42)\n",
        "\n",
        "# fit the column transformer to our training data\n",
        "ct.fit(X_train)\n",
        "\n",
        "#transform training and test data with normalization\n",
        "X_train_normal = ct.transform(X_train)\n",
        "X_test_normal = ct.transform(X_test)"
      ],
      "metadata": {
        "id": "w0cT63rnUtq3"
      },
      "execution_count": 111,
      "outputs": []
    },
    {
      "cell_type": "code",
      "source": [],
      "metadata": {
        "id": "G4ICZRg_ngLK"
      },
      "execution_count": null,
      "outputs": []
    }
  ]
}