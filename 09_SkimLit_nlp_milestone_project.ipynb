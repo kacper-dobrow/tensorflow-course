{
  "nbformat": 4,
  "nbformat_minor": 0,
  "metadata": {
    "colab": {
      "provenance": [],
      "gpuType": "T4",
      "authorship_tag": "ABX9TyNEXEBj+D05BWckXwcF7WX1",
      "include_colab_link": true
    },
    "kernelspec": {
      "name": "python3",
      "display_name": "Python 3"
    },
    "language_info": {
      "name": "python"
    },
    "accelerator": "GPU"
  },
  "cells": [
    {
      "cell_type": "markdown",
      "metadata": {
        "id": "view-in-github",
        "colab_type": "text"
      },
      "source": [
        "<a href=\"https://colab.research.google.com/github/kacper-dobrow/tensorflow-course/blob/main/09_SkimLit_nlp_milestone_project.ipynb\" target=\"_parent\"><img src=\"https://colab.research.google.com/assets/colab-badge.svg\" alt=\"Open In Colab\"/></a>"
      ]
    },
    {
      "cell_type": "markdown",
      "source": [
        "# Milestone Project 2: SkimLit\n",
        "\n",
        "The purpose of this notebook is to build an NLP model to make reading medical abstracts easier.\n",
        "\n",
        "The paper we're replicating (we're using data from) is here https://arxiv.org/abs/1710.06071\n",
        "\n",
        "and here: https://arxiv.org/abs/1612.05251"
      ],
      "metadata": {
        "id": "6VwjIScN_Jzb"
      }
    },
    {
      "cell_type": "markdown",
      "source": [
        "## Confirm access to GPU"
      ],
      "metadata": {
        "id": "kqC_-Y2qxAgm"
      }
    },
    {
      "cell_type": "code",
      "source": [
        "!nvidia-smi"
      ],
      "metadata": {
        "colab": {
          "base_uri": "https://localhost:8080/"
        },
        "id": "wa22G9bJyFlY",
        "outputId": "fa44cf82-613c-4feb-d44a-678d771d0632"
      },
      "execution_count": 140,
      "outputs": [
        {
          "output_type": "stream",
          "name": "stdout",
          "text": [
            "Sun Nov 12 18:19:38 2023       \n",
            "+-----------------------------------------------------------------------------+\n",
            "| NVIDIA-SMI 525.105.17   Driver Version: 525.105.17   CUDA Version: 12.0     |\n",
            "|-------------------------------+----------------------+----------------------+\n",
            "| GPU  Name        Persistence-M| Bus-Id        Disp.A | Volatile Uncorr. ECC |\n",
            "| Fan  Temp  Perf  Pwr:Usage/Cap|         Memory-Usage | GPU-Util  Compute M. |\n",
            "|                               |                      |               MIG M. |\n",
            "|===============================+======================+======================|\n",
            "|   0  Tesla T4            Off  | 00000000:00:04.0 Off |                    0 |\n",
            "| N/A   73C    P0    29W /  70W |   3325MiB / 15360MiB |      0%      Default |\n",
            "|                               |                      |                  N/A |\n",
            "+-------------------------------+----------------------+----------------------+\n",
            "                                                                               \n",
            "+-----------------------------------------------------------------------------+\n",
            "| Processes:                                                                  |\n",
            "|  GPU   GI   CI        PID   Type   Process name                  GPU Memory |\n",
            "|        ID   ID                                                   Usage      |\n",
            "|=============================================================================|\n",
            "+-----------------------------------------------------------------------------+\n"
          ]
        }
      ]
    },
    {
      "cell_type": "markdown",
      "source": [
        "## Get data\n",
        "\n",
        "The data is available at the author's GitHub!!!: https://github.com/Franck-Dernoncourt/pubmed-rct"
      ],
      "metadata": {
        "id": "bzNNUnOiyJMQ"
      }
    },
    {
      "cell_type": "code",
      "source": [
        "!git clone https://github.com/Franck-Dernoncourt/pubmed-rct\n",
        "!ls pubmed-rct"
      ],
      "metadata": {
        "colab": {
          "base_uri": "https://localhost:8080/"
        },
        "id": "aHv_kfifyY2B",
        "outputId": "d72689cb-1d09-49eb-c3cb-8cb1418cad68"
      },
      "execution_count": 141,
      "outputs": [
        {
          "output_type": "stream",
          "name": "stdout",
          "text": [
            "fatal: destination path 'pubmed-rct' already exists and is not an empty directory.\n",
            "PubMed_200k_RCT\t\t\t\t       PubMed_20k_RCT_numbers_replaced_with_at_sign\n",
            "PubMed_200k_RCT_numbers_replaced_with_at_sign  README.md\n",
            "PubMed_20k_RCT\n"
          ]
        }
      ]
    },
    {
      "cell_type": "code",
      "source": [
        "# Check what files are in the PubMed_20K dataset\n",
        "!ls /content/pubmed-rct/PubMed_20k_RCT_numbers_replaced_with_at_sign\n",
        "# dev is often just another word for validation dataset"
      ],
      "metadata": {
        "colab": {
          "base_uri": "https://localhost:8080/"
        },
        "id": "XqK0fRqBy0Hr",
        "outputId": "3b796e20-c125-4d24-ef47-9f08b5664010"
      },
      "execution_count": 142,
      "outputs": [
        {
          "output_type": "stream",
          "name": "stdout",
          "text": [
            "dev.txt  test.txt  train.txt\n"
          ]
        }
      ]
    },
    {
      "cell_type": "code",
      "source": [
        "# Start our experiments using the 20k dataset with numbers replaced with the @ sign\n",
        "data_dir = \"/content/pubmed-rct/PubMed_20k_RCT_numbers_replaced_with_at_sign/\""
      ],
      "metadata": {
        "id": "cqZ8VlO2zRyo"
      },
      "execution_count": 143,
      "outputs": []
    },
    {
      "cell_type": "code",
      "source": [
        "# Check all of the filenames in the target directory\n",
        "import os\n",
        "filenames = [data_dir + filename for filename in os.listdir(data_dir)]\n",
        "filenames"
      ],
      "metadata": {
        "colab": {
          "base_uri": "https://localhost:8080/"
        },
        "id": "Sy-O6AM40VMM",
        "outputId": "0df3e453-8006-43b0-f7e9-c6e99ff05f44"
      },
      "execution_count": 144,
      "outputs": [
        {
          "output_type": "execute_result",
          "data": {
            "text/plain": [
              "['/content/pubmed-rct/PubMed_20k_RCT_numbers_replaced_with_at_sign/train.txt',\n",
              " '/content/pubmed-rct/PubMed_20k_RCT_numbers_replaced_with_at_sign/test.txt',\n",
              " '/content/pubmed-rct/PubMed_20k_RCT_numbers_replaced_with_at_sign/dev.txt']"
            ]
          },
          "metadata": {},
          "execution_count": 144
        }
      ]
    },
    {
      "cell_type": "markdown",
      "source": [
        "## Preprocess data\n",
        "https://realpython.com/read-write-files-python/"
      ],
      "metadata": {
        "id": "T_4Cv3yV0rK6"
      }
    },
    {
      "cell_type": "code",
      "source": [
        "# Create fcn to read lines of the document\n",
        "def get_lines(filename):\n",
        "  \"\"\"\n",
        "  Reads a txt file (filename) and returns a list of the lines\n",
        "  \"\"\"\n",
        "  with open(filename, \"r\") as f:\n",
        "    return f.readlines()"
      ],
      "metadata": {
        "id": "ULFJyHsY1MN5"
      },
      "execution_count": 145,
      "outputs": []
    },
    {
      "cell_type": "code",
      "source": [
        "# Let's read in the training lines\n",
        "train_lines = get_lines(filenames[0])\n",
        "train_lines[:10]"
      ],
      "metadata": {
        "colab": {
          "base_uri": "https://localhost:8080/"
        },
        "id": "VLxm8gWw2Bxp",
        "outputId": "ff42374d-a0bc-4c3c-9de7-56bd622f2a1c"
      },
      "execution_count": 146,
      "outputs": [
        {
          "output_type": "execute_result",
          "data": {
            "text/plain": [
              "['###24293578\\n',\n",
              " 'OBJECTIVE\\tTo investigate the efficacy of @ weeks of daily low-dose oral prednisolone in improving pain , mobility , and systemic low-grade inflammation in the short term and whether the effect would be sustained at @ weeks in older adults with moderate to severe knee osteoarthritis ( OA ) .\\n',\n",
              " 'METHODS\\tA total of @ patients with primary knee OA were randomized @:@ ; @ received @ mg/day of prednisolone and @ received placebo for @ weeks .\\n',\n",
              " 'METHODS\\tOutcome measures included pain reduction and improvement in function scores and systemic inflammation markers .\\n',\n",
              " 'METHODS\\tPain was assessed using the visual analog pain scale ( @-@ mm ) .\\n',\n",
              " 'METHODS\\tSecondary outcome measures included the Western Ontario and McMaster Universities Osteoarthritis Index scores , patient global assessment ( PGA ) of the severity of knee OA , and @-min walk distance ( @MWD ) .\\n',\n",
              " 'METHODS\\tSerum levels of interleukin @ ( IL-@ ) , IL-@ , tumor necrosis factor ( TNF ) - , and high-sensitivity C-reactive protein ( hsCRP ) were measured .\\n',\n",
              " 'RESULTS\\tThere was a clinically relevant reduction in the intervention group compared to the placebo group for knee pain , physical function , PGA , and @MWD at @ weeks .\\n',\n",
              " 'RESULTS\\tThe mean difference between treatment arms ( @ % CI ) was @ ( @-@ @ ) , p < @ ; @ ( @-@ @ ) , p < @ ; @ ( @-@ @ ) , p < @ ; and @ ( @-@ @ ) , p < @ , respectively .\\n',\n",
              " 'RESULTS\\tFurther , there was a clinically relevant reduction in the serum levels of IL-@ , IL-@ , TNF - , and hsCRP at @ weeks in the intervention group when compared to the placebo group .\\n']"
            ]
          },
          "metadata": {},
          "execution_count": 146
        }
      ]
    },
    {
      "cell_type": "code",
      "source": [
        "len(train_lines)"
      ],
      "metadata": {
        "colab": {
          "base_uri": "https://localhost:8080/"
        },
        "id": "PdI5mQXd2W0S",
        "outputId": "04a1674f-ba0c-47ea-d38a-78c5571237e0"
      },
      "execution_count": 147,
      "outputs": [
        {
          "output_type": "execute_result",
          "data": {
            "text/plain": [
              "210040"
            ]
          },
          "metadata": {},
          "execution_count": 147
        }
      ]
    },
    {
      "cell_type": "markdown",
      "source": [
        "How do we want our data to look, to be best represented\n",
        "\n",
        "List of dictionaries:\n",
        "\n",
        "```\n",
        "[{'line_number': 0,\n",
        "   'target': 'BACKGROUND',\n",
        "   'text': 'To investigate the efficacy of @ weeks of daily low-dose oral prednisolone in improving pain , mobility , and systemic low-grade inflammation in the short term and whether the effect would be sustained at @ weeks in older adults with moderate to severe knee osteoarthritis ( OA ) .'\n",
        "   'total_lines': 11},\n",
        "   another line dictionary]\n",
        "```"
      ],
      "metadata": {
        "id": "ffo7jy262oGp"
      }
    },
    {
      "cell_type": "code",
      "source": [
        "test_lines = get_lines(filenames[1])\n",
        "val_lines = get_lines(filenames[2])"
      ],
      "metadata": {
        "id": "yjbZq7Vv2u-l"
      },
      "execution_count": 148,
      "outputs": []
    },
    {
      "cell_type": "code",
      "source": [
        "# write a function to turn our lines into dictionaries\n",
        "def preprocess_text_with_line_numbers(filename):\n",
        "  \"\"\"\n",
        "  Returns a list of dictionaries of abstract text data.\n",
        "  \"\"\"\n",
        "  input_lines = get_lines(filename)\n",
        "  abstract_lines = \"\" # create an empty abstract\n",
        "  abstract_samples = [] # create an empty list of abstracts\n",
        "\n",
        "  # loop through each line in the target file\n",
        "  for line in input_lines:\n",
        "    if line.startswith(\"###\"): # check to see if the line is an abstract ID\n",
        "      abstract_id = line\n",
        "      abstract_lines = \"\" # reset the abstract string if the line is an ID line\n",
        "    elif line.isspace(): # check to see if the line is a new line\n",
        "      abstract_line_split = abstract_lines.splitlines() # split abstract into separate lines\n",
        "\n",
        "      # Iterate through each line in a single abstract and count them at the same time\n",
        "      for abstract_line_number, abstract_line in enumerate(abstract_line_split):\n",
        "        line_data = {} # create an empty dictionary for each line\n",
        "        target_text_split = abstract_line.split(\"\\t\") # line is split into label and content\n",
        "        line_data[\"target\"] = target_text_split[0] # get target label\n",
        "        line_data[\"text\"] = target_text_split[1].lower()  # get target text and lower it\n",
        "        line_data[\"line_number\"] = abstract_line_number # at what number does the line appear in the abstract\n",
        "        line_data[\"total_lines\"] = len(abstract_line_split)-1 # how many lines there are in the total abstract\n",
        "        abstract_samples.append(line_data)\n",
        "\n",
        "    else: # the line contains the label sentence\n",
        "      abstract_lines += line\n",
        "\n",
        "  return abstract_samples"
      ],
      "metadata": {
        "id": "MrSz0d2K4cai"
      },
      "execution_count": 149,
      "outputs": []
    },
    {
      "cell_type": "code",
      "source": [
        "# Get the data from file and preprocess it\n",
        "%%time\n",
        "train_samples = preprocess_text_with_line_numbers(filenames[0])\n",
        "val_samples = preprocess_text_with_line_numbers(filenames[2])\n",
        "test_samples = preprocess_text_with_line_numbers(filenames[1])\n",
        "train_samples[:10]"
      ],
      "metadata": {
        "colab": {
          "base_uri": "https://localhost:8080/"
        },
        "id": "H58leFo8_fVd",
        "outputId": "d47e2571-bff0-4b4f-c019-905cdc6a2af8"
      },
      "execution_count": 150,
      "outputs": [
        {
          "output_type": "stream",
          "name": "stdout",
          "text": [
            "CPU times: user 400 ms, sys: 90.3 ms, total: 490 ms\n",
            "Wall time: 491 ms\n"
          ]
        },
        {
          "output_type": "execute_result",
          "data": {
            "text/plain": [
              "[{'target': 'OBJECTIVE',\n",
              "  'text': 'to investigate the efficacy of @ weeks of daily low-dose oral prednisolone in improving pain , mobility , and systemic low-grade inflammation in the short term and whether the effect would be sustained at @ weeks in older adults with moderate to severe knee osteoarthritis ( oa ) .',\n",
              "  'line_number': 0,\n",
              "  'total_lines': 11},\n",
              " {'target': 'METHODS',\n",
              "  'text': 'a total of @ patients with primary knee oa were randomized @:@ ; @ received @ mg/day of prednisolone and @ received placebo for @ weeks .',\n",
              "  'line_number': 1,\n",
              "  'total_lines': 11},\n",
              " {'target': 'METHODS',\n",
              "  'text': 'outcome measures included pain reduction and improvement in function scores and systemic inflammation markers .',\n",
              "  'line_number': 2,\n",
              "  'total_lines': 11},\n",
              " {'target': 'METHODS',\n",
              "  'text': 'pain was assessed using the visual analog pain scale ( @-@ mm ) .',\n",
              "  'line_number': 3,\n",
              "  'total_lines': 11},\n",
              " {'target': 'METHODS',\n",
              "  'text': 'secondary outcome measures included the western ontario and mcmaster universities osteoarthritis index scores , patient global assessment ( pga ) of the severity of knee oa , and @-min walk distance ( @mwd ) .',\n",
              "  'line_number': 4,\n",
              "  'total_lines': 11},\n",
              " {'target': 'METHODS',\n",
              "  'text': 'serum levels of interleukin @ ( il-@ ) , il-@ , tumor necrosis factor ( tnf ) - , and high-sensitivity c-reactive protein ( hscrp ) were measured .',\n",
              "  'line_number': 5,\n",
              "  'total_lines': 11},\n",
              " {'target': 'RESULTS',\n",
              "  'text': 'there was a clinically relevant reduction in the intervention group compared to the placebo group for knee pain , physical function , pga , and @mwd at @ weeks .',\n",
              "  'line_number': 6,\n",
              "  'total_lines': 11},\n",
              " {'target': 'RESULTS',\n",
              "  'text': 'the mean difference between treatment arms ( @ % ci ) was @ ( @-@ @ ) , p < @ ; @ ( @-@ @ ) , p < @ ; @ ( @-@ @ ) , p < @ ; and @ ( @-@ @ ) , p < @ , respectively .',\n",
              "  'line_number': 7,\n",
              "  'total_lines': 11},\n",
              " {'target': 'RESULTS',\n",
              "  'text': 'further , there was a clinically relevant reduction in the serum levels of il-@ , il-@ , tnf - , and hscrp at @ weeks in the intervention group when compared to the placebo group .',\n",
              "  'line_number': 8,\n",
              "  'total_lines': 11},\n",
              " {'target': 'RESULTS',\n",
              "  'text': 'these differences remained significant at @ weeks .',\n",
              "  'line_number': 9,\n",
              "  'total_lines': 11}]"
            ]
          },
          "metadata": {},
          "execution_count": 150
        }
      ]
    },
    {
      "cell_type": "code",
      "source": [
        "import pandas as pd\n",
        "train_df = pd.DataFrame(train_samples)\n",
        "val_df = pd.DataFrame(val_samples)\n",
        "test_df = pd.DataFrame(test_samples)\n",
        "\n",
        "train_df[:15]"
      ],
      "metadata": {
        "colab": {
          "base_uri": "https://localhost:8080/",
          "height": 520
        },
        "id": "pff_W5bd_tEG",
        "outputId": "4e7074cb-2ec9-4660-8dc8-3819d7d26887"
      },
      "execution_count": 151,
      "outputs": [
        {
          "output_type": "execute_result",
          "data": {
            "text/plain": [
              "         target                                               text  \\\n",
              "0     OBJECTIVE  to investigate the efficacy of @ weeks of dail...   \n",
              "1       METHODS  a total of @ patients with primary knee oa wer...   \n",
              "2       METHODS  outcome measures included pain reduction and i...   \n",
              "3       METHODS  pain was assessed using the visual analog pain...   \n",
              "4       METHODS  secondary outcome measures included the wester...   \n",
              "5       METHODS  serum levels of interleukin @ ( il-@ ) , il-@ ...   \n",
              "6       RESULTS  there was a clinically relevant reduction in t...   \n",
              "7       RESULTS  the mean difference between treatment arms ( @...   \n",
              "8       RESULTS  further , there was a clinically relevant redu...   \n",
              "9       RESULTS  these differences remained significant at @ we...   \n",
              "10      RESULTS  the outcome measures in rheumatology clinical ...   \n",
              "11  CONCLUSIONS  low-dose oral prednisolone had both a short-te...   \n",
              "12   BACKGROUND  emotional eating is associated with overeating...   \n",
              "13   BACKGROUND  yet , empirical evidence for individual ( trai...   \n",
              "14    OBJECTIVE  the aim of this study was to test if attention...   \n",
              "\n",
              "    line_number  total_lines  \n",
              "0             0           11  \n",
              "1             1           11  \n",
              "2             2           11  \n",
              "3             3           11  \n",
              "4             4           11  \n",
              "5             5           11  \n",
              "6             6           11  \n",
              "7             7           11  \n",
              "8             8           11  \n",
              "9             9           11  \n",
              "10           10           11  \n",
              "11           11           11  \n",
              "12            0           10  \n",
              "13            1           10  \n",
              "14            2           10  "
            ],
            "text/html": [
              "\n",
              "  <div id=\"df-081f477c-0a90-457a-bbbb-1a2ea18679af\" class=\"colab-df-container\">\n",
              "    <div>\n",
              "<style scoped>\n",
              "    .dataframe tbody tr th:only-of-type {\n",
              "        vertical-align: middle;\n",
              "    }\n",
              "\n",
              "    .dataframe tbody tr th {\n",
              "        vertical-align: top;\n",
              "    }\n",
              "\n",
              "    .dataframe thead th {\n",
              "        text-align: right;\n",
              "    }\n",
              "</style>\n",
              "<table border=\"1\" class=\"dataframe\">\n",
              "  <thead>\n",
              "    <tr style=\"text-align: right;\">\n",
              "      <th></th>\n",
              "      <th>target</th>\n",
              "      <th>text</th>\n",
              "      <th>line_number</th>\n",
              "      <th>total_lines</th>\n",
              "    </tr>\n",
              "  </thead>\n",
              "  <tbody>\n",
              "    <tr>\n",
              "      <th>0</th>\n",
              "      <td>OBJECTIVE</td>\n",
              "      <td>to investigate the efficacy of @ weeks of dail...</td>\n",
              "      <td>0</td>\n",
              "      <td>11</td>\n",
              "    </tr>\n",
              "    <tr>\n",
              "      <th>1</th>\n",
              "      <td>METHODS</td>\n",
              "      <td>a total of @ patients with primary knee oa wer...</td>\n",
              "      <td>1</td>\n",
              "      <td>11</td>\n",
              "    </tr>\n",
              "    <tr>\n",
              "      <th>2</th>\n",
              "      <td>METHODS</td>\n",
              "      <td>outcome measures included pain reduction and i...</td>\n",
              "      <td>2</td>\n",
              "      <td>11</td>\n",
              "    </tr>\n",
              "    <tr>\n",
              "      <th>3</th>\n",
              "      <td>METHODS</td>\n",
              "      <td>pain was assessed using the visual analog pain...</td>\n",
              "      <td>3</td>\n",
              "      <td>11</td>\n",
              "    </tr>\n",
              "    <tr>\n",
              "      <th>4</th>\n",
              "      <td>METHODS</td>\n",
              "      <td>secondary outcome measures included the wester...</td>\n",
              "      <td>4</td>\n",
              "      <td>11</td>\n",
              "    </tr>\n",
              "    <tr>\n",
              "      <th>5</th>\n",
              "      <td>METHODS</td>\n",
              "      <td>serum levels of interleukin @ ( il-@ ) , il-@ ...</td>\n",
              "      <td>5</td>\n",
              "      <td>11</td>\n",
              "    </tr>\n",
              "    <tr>\n",
              "      <th>6</th>\n",
              "      <td>RESULTS</td>\n",
              "      <td>there was a clinically relevant reduction in t...</td>\n",
              "      <td>6</td>\n",
              "      <td>11</td>\n",
              "    </tr>\n",
              "    <tr>\n",
              "      <th>7</th>\n",
              "      <td>RESULTS</td>\n",
              "      <td>the mean difference between treatment arms ( @...</td>\n",
              "      <td>7</td>\n",
              "      <td>11</td>\n",
              "    </tr>\n",
              "    <tr>\n",
              "      <th>8</th>\n",
              "      <td>RESULTS</td>\n",
              "      <td>further , there was a clinically relevant redu...</td>\n",
              "      <td>8</td>\n",
              "      <td>11</td>\n",
              "    </tr>\n",
              "    <tr>\n",
              "      <th>9</th>\n",
              "      <td>RESULTS</td>\n",
              "      <td>these differences remained significant at @ we...</td>\n",
              "      <td>9</td>\n",
              "      <td>11</td>\n",
              "    </tr>\n",
              "    <tr>\n",
              "      <th>10</th>\n",
              "      <td>RESULTS</td>\n",
              "      <td>the outcome measures in rheumatology clinical ...</td>\n",
              "      <td>10</td>\n",
              "      <td>11</td>\n",
              "    </tr>\n",
              "    <tr>\n",
              "      <th>11</th>\n",
              "      <td>CONCLUSIONS</td>\n",
              "      <td>low-dose oral prednisolone had both a short-te...</td>\n",
              "      <td>11</td>\n",
              "      <td>11</td>\n",
              "    </tr>\n",
              "    <tr>\n",
              "      <th>12</th>\n",
              "      <td>BACKGROUND</td>\n",
              "      <td>emotional eating is associated with overeating...</td>\n",
              "      <td>0</td>\n",
              "      <td>10</td>\n",
              "    </tr>\n",
              "    <tr>\n",
              "      <th>13</th>\n",
              "      <td>BACKGROUND</td>\n",
              "      <td>yet , empirical evidence for individual ( trai...</td>\n",
              "      <td>1</td>\n",
              "      <td>10</td>\n",
              "    </tr>\n",
              "    <tr>\n",
              "      <th>14</th>\n",
              "      <td>OBJECTIVE</td>\n",
              "      <td>the aim of this study was to test if attention...</td>\n",
              "      <td>2</td>\n",
              "      <td>10</td>\n",
              "    </tr>\n",
              "  </tbody>\n",
              "</table>\n",
              "</div>\n",
              "    <div class=\"colab-df-buttons\">\n",
              "\n",
              "  <div class=\"colab-df-container\">\n",
              "    <button class=\"colab-df-convert\" onclick=\"convertToInteractive('df-081f477c-0a90-457a-bbbb-1a2ea18679af')\"\n",
              "            title=\"Convert this dataframe to an interactive table.\"\n",
              "            style=\"display:none;\">\n",
              "\n",
              "  <svg xmlns=\"http://www.w3.org/2000/svg\" height=\"24px\" viewBox=\"0 -960 960 960\">\n",
              "    <path d=\"M120-120v-720h720v720H120Zm60-500h600v-160H180v160Zm220 220h160v-160H400v160Zm0 220h160v-160H400v160ZM180-400h160v-160H180v160Zm440 0h160v-160H620v160ZM180-180h160v-160H180v160Zm440 0h160v-160H620v160Z\"/>\n",
              "  </svg>\n",
              "    </button>\n",
              "\n",
              "  <style>\n",
              "    .colab-df-container {\n",
              "      display:flex;\n",
              "      gap: 12px;\n",
              "    }\n",
              "\n",
              "    .colab-df-convert {\n",
              "      background-color: #E8F0FE;\n",
              "      border: none;\n",
              "      border-radius: 50%;\n",
              "      cursor: pointer;\n",
              "      display: none;\n",
              "      fill: #1967D2;\n",
              "      height: 32px;\n",
              "      padding: 0 0 0 0;\n",
              "      width: 32px;\n",
              "    }\n",
              "\n",
              "    .colab-df-convert:hover {\n",
              "      background-color: #E2EBFA;\n",
              "      box-shadow: 0px 1px 2px rgba(60, 64, 67, 0.3), 0px 1px 3px 1px rgba(60, 64, 67, 0.15);\n",
              "      fill: #174EA6;\n",
              "    }\n",
              "\n",
              "    .colab-df-buttons div {\n",
              "      margin-bottom: 4px;\n",
              "    }\n",
              "\n",
              "    [theme=dark] .colab-df-convert {\n",
              "      background-color: #3B4455;\n",
              "      fill: #D2E3FC;\n",
              "    }\n",
              "\n",
              "    [theme=dark] .colab-df-convert:hover {\n",
              "      background-color: #434B5C;\n",
              "      box-shadow: 0px 1px 3px 1px rgba(0, 0, 0, 0.15);\n",
              "      filter: drop-shadow(0px 1px 2px rgba(0, 0, 0, 0.3));\n",
              "      fill: #FFFFFF;\n",
              "    }\n",
              "  </style>\n",
              "\n",
              "    <script>\n",
              "      const buttonEl =\n",
              "        document.querySelector('#df-081f477c-0a90-457a-bbbb-1a2ea18679af button.colab-df-convert');\n",
              "      buttonEl.style.display =\n",
              "        google.colab.kernel.accessAllowed ? 'block' : 'none';\n",
              "\n",
              "      async function convertToInteractive(key) {\n",
              "        const element = document.querySelector('#df-081f477c-0a90-457a-bbbb-1a2ea18679af');\n",
              "        const dataTable =\n",
              "          await google.colab.kernel.invokeFunction('convertToInteractive',\n",
              "                                                    [key], {});\n",
              "        if (!dataTable) return;\n",
              "\n",
              "        const docLinkHtml = 'Like what you see? Visit the ' +\n",
              "          '<a target=\"_blank\" href=https://colab.research.google.com/notebooks/data_table.ipynb>data table notebook</a>'\n",
              "          + ' to learn more about interactive tables.';\n",
              "        element.innerHTML = '';\n",
              "        dataTable['output_type'] = 'display_data';\n",
              "        await google.colab.output.renderOutput(dataTable, element);\n",
              "        const docLink = document.createElement('div');\n",
              "        docLink.innerHTML = docLinkHtml;\n",
              "        element.appendChild(docLink);\n",
              "      }\n",
              "    </script>\n",
              "  </div>\n",
              "\n",
              "\n",
              "<div id=\"df-4ba15ebc-f124-4ad9-9195-d9fd166cb980\">\n",
              "  <button class=\"colab-df-quickchart\" onclick=\"quickchart('df-4ba15ebc-f124-4ad9-9195-d9fd166cb980')\"\n",
              "            title=\"Suggest charts\"\n",
              "            style=\"display:none;\">\n",
              "\n",
              "<svg xmlns=\"http://www.w3.org/2000/svg\" height=\"24px\"viewBox=\"0 0 24 24\"\n",
              "     width=\"24px\">\n",
              "    <g>\n",
              "        <path d=\"M19 3H5c-1.1 0-2 .9-2 2v14c0 1.1.9 2 2 2h14c1.1 0 2-.9 2-2V5c0-1.1-.9-2-2-2zM9 17H7v-7h2v7zm4 0h-2V7h2v10zm4 0h-2v-4h2v4z\"/>\n",
              "    </g>\n",
              "</svg>\n",
              "  </button>\n",
              "\n",
              "<style>\n",
              "  .colab-df-quickchart {\n",
              "      --bg-color: #E8F0FE;\n",
              "      --fill-color: #1967D2;\n",
              "      --hover-bg-color: #E2EBFA;\n",
              "      --hover-fill-color: #174EA6;\n",
              "      --disabled-fill-color: #AAA;\n",
              "      --disabled-bg-color: #DDD;\n",
              "  }\n",
              "\n",
              "  [theme=dark] .colab-df-quickchart {\n",
              "      --bg-color: #3B4455;\n",
              "      --fill-color: #D2E3FC;\n",
              "      --hover-bg-color: #434B5C;\n",
              "      --hover-fill-color: #FFFFFF;\n",
              "      --disabled-bg-color: #3B4455;\n",
              "      --disabled-fill-color: #666;\n",
              "  }\n",
              "\n",
              "  .colab-df-quickchart {\n",
              "    background-color: var(--bg-color);\n",
              "    border: none;\n",
              "    border-radius: 50%;\n",
              "    cursor: pointer;\n",
              "    display: none;\n",
              "    fill: var(--fill-color);\n",
              "    height: 32px;\n",
              "    padding: 0;\n",
              "    width: 32px;\n",
              "  }\n",
              "\n",
              "  .colab-df-quickchart:hover {\n",
              "    background-color: var(--hover-bg-color);\n",
              "    box-shadow: 0 1px 2px rgba(60, 64, 67, 0.3), 0 1px 3px 1px rgba(60, 64, 67, 0.15);\n",
              "    fill: var(--button-hover-fill-color);\n",
              "  }\n",
              "\n",
              "  .colab-df-quickchart-complete:disabled,\n",
              "  .colab-df-quickchart-complete:disabled:hover {\n",
              "    background-color: var(--disabled-bg-color);\n",
              "    fill: var(--disabled-fill-color);\n",
              "    box-shadow: none;\n",
              "  }\n",
              "\n",
              "  .colab-df-spinner {\n",
              "    border: 2px solid var(--fill-color);\n",
              "    border-color: transparent;\n",
              "    border-bottom-color: var(--fill-color);\n",
              "    animation:\n",
              "      spin 1s steps(1) infinite;\n",
              "  }\n",
              "\n",
              "  @keyframes spin {\n",
              "    0% {\n",
              "      border-color: transparent;\n",
              "      border-bottom-color: var(--fill-color);\n",
              "      border-left-color: var(--fill-color);\n",
              "    }\n",
              "    20% {\n",
              "      border-color: transparent;\n",
              "      border-left-color: var(--fill-color);\n",
              "      border-top-color: var(--fill-color);\n",
              "    }\n",
              "    30% {\n",
              "      border-color: transparent;\n",
              "      border-left-color: var(--fill-color);\n",
              "      border-top-color: var(--fill-color);\n",
              "      border-right-color: var(--fill-color);\n",
              "    }\n",
              "    40% {\n",
              "      border-color: transparent;\n",
              "      border-right-color: var(--fill-color);\n",
              "      border-top-color: var(--fill-color);\n",
              "    }\n",
              "    60% {\n",
              "      border-color: transparent;\n",
              "      border-right-color: var(--fill-color);\n",
              "    }\n",
              "    80% {\n",
              "      border-color: transparent;\n",
              "      border-right-color: var(--fill-color);\n",
              "      border-bottom-color: var(--fill-color);\n",
              "    }\n",
              "    90% {\n",
              "      border-color: transparent;\n",
              "      border-bottom-color: var(--fill-color);\n",
              "    }\n",
              "  }\n",
              "</style>\n",
              "\n",
              "  <script>\n",
              "    async function quickchart(key) {\n",
              "      const quickchartButtonEl =\n",
              "        document.querySelector('#' + key + ' button');\n",
              "      quickchartButtonEl.disabled = true;  // To prevent multiple clicks.\n",
              "      quickchartButtonEl.classList.add('colab-df-spinner');\n",
              "      try {\n",
              "        const charts = await google.colab.kernel.invokeFunction(\n",
              "            'suggestCharts', [key], {});\n",
              "      } catch (error) {\n",
              "        console.error('Error during call to suggestCharts:', error);\n",
              "      }\n",
              "      quickchartButtonEl.classList.remove('colab-df-spinner');\n",
              "      quickchartButtonEl.classList.add('colab-df-quickchart-complete');\n",
              "    }\n",
              "    (() => {\n",
              "      let quickchartButtonEl =\n",
              "        document.querySelector('#df-4ba15ebc-f124-4ad9-9195-d9fd166cb980 button');\n",
              "      quickchartButtonEl.style.display =\n",
              "        google.colab.kernel.accessAllowed ? 'block' : 'none';\n",
              "    })();\n",
              "  </script>\n",
              "</div>\n",
              "    </div>\n",
              "  </div>\n"
            ]
          },
          "metadata": {},
          "execution_count": 151
        }
      ]
    },
    {
      "cell_type": "code",
      "source": [
        "# Distribution of labels\n",
        "train_df.target.value_counts()"
      ],
      "metadata": {
        "colab": {
          "base_uri": "https://localhost:8080/"
        },
        "id": "kEndY3DvA5Kp",
        "outputId": "beb78456-146d-4874-fde9-5d4e0be68ab0"
      },
      "execution_count": 152,
      "outputs": [
        {
          "output_type": "execute_result",
          "data": {
            "text/plain": [
              "METHODS        59353\n",
              "RESULTS        57953\n",
              "CONCLUSIONS    27168\n",
              "BACKGROUND     21727\n",
              "OBJECTIVE      13839\n",
              "Name: target, dtype: int64"
            ]
          },
          "metadata": {},
          "execution_count": 152
        }
      ]
    },
    {
      "cell_type": "code",
      "source": [
        "# Let's check the length of different lines\n",
        "train_df.total_lines.plot.hist()"
      ],
      "metadata": {
        "colab": {
          "base_uri": "https://localhost:8080/",
          "height": 449
        },
        "id": "idbqPjUABPBq",
        "outputId": "0048a6ee-38cb-4c74-f854-f1c858782764"
      },
      "execution_count": 153,
      "outputs": [
        {
          "output_type": "execute_result",
          "data": {
            "text/plain": [
              "<Axes: ylabel='Frequency'>"
            ]
          },
          "metadata": {},
          "execution_count": 153
        },
        {
          "output_type": "display_data",
          "data": {
            "text/plain": [
              "<Figure size 640x480 with 1 Axes>"
            ],
            "image/png": "[encoded data removed]"
          },
          "metadata": {}
        }
      ]
    },
    {
      "cell_type": "markdown",
      "source": [
        "### Get lists of sentences\n"
      ],
      "metadata": {
        "id": "CmwHeyLlY8NX"
      }
    },
    {
      "cell_type": "code",
      "source": [
        "# Convert abstract text lines into lists\n",
        "train_sentences = train_df[\"text\"].tolist()\n",
        "val_sentences = val_df[\"text\"].tolist()\n",
        "test_sentences = test_df[\"text\"].tolist()\n",
        "len(train_sentences), len(val_sentences), len(test_sentences)"
      ],
      "metadata": {
        "colab": {
          "base_uri": "https://localhost:8080/"
        },
        "id": "XwjezZyoZL1f",
        "outputId": "54bc87b1-6ea5-4b1c-86f9-e07b2256d4b0"
      },
      "execution_count": 154,
      "outputs": [
        {
          "output_type": "execute_result",
          "data": {
            "text/plain": [
              "(180040, 30212, 30135)"
            ]
          },
          "metadata": {},
          "execution_count": 154
        }
      ]
    },
    {
      "cell_type": "markdown",
      "source": [
        "## Make numeric labels (ML models require numerical labels)"
      ],
      "metadata": {
        "id": "AslSQDC_Zpp4"
      }
    },
    {
      "cell_type": "code",
      "source": [
        "# One hot encode the labels\n",
        "from sklearn.preprocessing import OneHotEncoder\n",
        "one_hot_encoder = OneHotEncoder(sparse=False)\n",
        "train_labels_one_hot = one_hot_encoder.fit_transform(train_df[\"target\"].to_numpy().reshape(-1, 1))\n",
        "val_labels_one_hot = one_hot_encoder.transform(val_df[\"target\"].to_numpy().reshape(-1, 1))\n",
        "test_labels_one_hot = one_hot_encoder.transform(test_df[\"target\"].to_numpy().reshape(-1, 1))\n",
        "\n",
        "train_labels_one_hot"
      ],
      "metadata": {
        "colab": {
          "base_uri": "https://localhost:8080/"
        },
        "id": "MEjQVbcRa7fA",
        "outputId": "62e8a3e4-6123-4dc4-c755-4c4669b4c533"
      },
      "execution_count": 155,
      "outputs": [
        {
          "output_type": "stream",
          "name": "stderr",
          "text": [
            "/usr/local/lib/python3.10/dist-packages/sklearn/preprocessing/_encoders.py:868: FutureWarning: `sparse` was renamed to `sparse_output` in version 1.2 and will be removed in 1.4. `sparse_output` is ignored unless you leave `sparse` to its default value.\n",
            "  warnings.warn(\n"
          ]
        },
        {
          "output_type": "execute_result",
          "data": {
            "text/plain": [
              "array([[0., 0., 0., 1., 0.],\n",
              "       [0., 0., 1., 0., 0.],\n",
              "       [0., 0., 1., 0., 0.],\n",
              "       ...,\n",
              "       [0., 0., 0., 0., 1.],\n",
              "       [0., 1., 0., 0., 0.],\n",
              "       [0., 1., 0., 0., 0.]])"
            ]
          },
          "metadata": {},
          "execution_count": 155
        }
      ]
    },
    {
      "cell_type": "markdown",
      "source": [
        "### Label encode labels"
      ],
      "metadata": {
        "id": "2vHD5MiNbPio"
      }
    },
    {
      "cell_type": "code",
      "source": [
        "# Extract labels (\"target\" columns) and encode them into integers\n",
        "from sklearn.preprocessing import LabelEncoder\n",
        "label_encoder = LabelEncoder()\n",
        "train_labels_encoded = label_encoder.fit_transform(train_df[\"target\"].to_numpy()) # fits the encoder and encodes at once\n",
        "val_labels_encoded = label_encoder.transform(val_df[\"target\"].to_numpy())\n",
        "test_labels_encoded = label_encoder.transform(test_df[\"target\"].to_numpy())\n",
        "\n",
        "# check what training labels look like\n",
        "train_labels_encoded"
      ],
      "metadata": {
        "colab": {
          "base_uri": "https://localhost:8080/"
        },
        "id": "v4pyzIHxbU0m",
        "outputId": "562b47a1-bed7-4bdf-b3e4-004d6af935f8"
      },
      "execution_count": 156,
      "outputs": [
        {
          "output_type": "execute_result",
          "data": {
            "text/plain": [
              "array([3, 2, 2, ..., 4, 1, 1])"
            ]
          },
          "metadata": {},
          "execution_count": 156
        }
      ]
    },
    {
      "cell_type": "code",
      "source": [
        "# Get classnames and number of classes\n",
        "num_classes = len(label_encoder.classes_)\n",
        "class_names = label_encoder.classes_\n",
        "num_classes, class_names"
      ],
      "metadata": {
        "colab": {
          "base_uri": "https://localhost:8080/"
        },
        "id": "LNASzdUEdwZh",
        "outputId": "1d9e930d-7b88-4656-c434-a5b0b62eeee8"
      },
      "execution_count": 157,
      "outputs": [
        {
          "output_type": "execute_result",
          "data": {
            "text/plain": [
              "(5,\n",
              " array(['BACKGROUND', 'CONCLUSIONS', 'METHODS', 'OBJECTIVE', 'RESULTS'],\n",
              "       dtype=object))"
            ]
          },
          "metadata": {},
          "execution_count": 157
        }
      ]
    },
    {
      "cell_type": "markdown",
      "source": [
        "## Model 0: Baseline - TF-IDF Multinomial Naive Bayes\n",
        "\n",
        "https://monkeylearn.com/blog/what-is-tf-idf/\n",
        "\n",
        "https://chrisalbon.com/Home"
      ],
      "metadata": {
        "id": "0lTy8XxEeGPy"
      }
    },
    {
      "cell_type": "code",
      "source": [
        "from sklearn.feature_extraction.text import TfidfVectorizer\n",
        "from sklearn.naive_bayes import MultinomialNB\n",
        "from sklearn.pipeline import Pipeline\n",
        "\n",
        "# Create a pipeline\n",
        "model_0 = Pipeline([\n",
        "    (\"tf-idf\", TfidfVectorizer()),\n",
        "    (\"clf\", MultinomialNB())\n",
        "])\n",
        "\n",
        "# Fit the pipoeline to the training data\n",
        "model_0.fit(X=train_sentences,\n",
        "            y=train_labels_encoded)"
      ],
      "metadata": {
        "colab": {
          "base_uri": "https://localhost:8080/",
          "height": 127
        },
        "id": "V0bSKKK4ett3",
        "outputId": "cbcde835-0639-4a1b-bcd7-518414939ab4"
      },
      "execution_count": 158,
      "outputs": [
        {
          "output_type": "execute_result",
          "data": {
            "text/plain": [
              "Pipeline(steps=[('tf-idf', TfidfVectorizer()), ('clf', MultinomialNB())])"
            ],
            "text/html": [
              "<style>#sk-container-id-3 {color: black;background-color: white;}#sk-container-id-3 pre{padding: 0;}#sk-container-id-3 div.sk-toggleable {background-color: white;}#sk-container-id-3 label.sk-toggleable__label {cursor: pointer;display: block;width: 100%;margin-bottom: 0;padding: 0.3em;box-sizing: border-box;text-align: center;}#sk-container-id-3 label.sk-toggleable__label-arrow:before {content: \"▸\";float: left;margin-right: 0.25em;color: #696969;}#sk-container-id-3 label.sk-toggleable__label-arrow:hover:before {color: black;}#sk-container-id-3 div.sk-estimator:hover label.sk-toggleable__label-arrow:before {color: black;}#sk-container-id-3 div.sk-toggleable__content {max-height: 0;max-width: 0;overflow: hidden;text-align: left;background-color: #f0f8ff;}#sk-container-id-3 div.sk-toggleable__content pre {margin: 0.2em;color: black;border-radius: 0.25em;background-color: #f0f8ff;}#sk-container-id-3 input.sk-toggleable__control:checked~div.sk-toggleable__content {max-height: 200px;max-width: 100%;overflow: auto;}#sk-container-id-3 input.sk-toggleable__control:checked~label.sk-toggleable__label-arrow:before {content: \"▾\";}#sk-container-id-3 div.sk-estimator input.sk-toggleable__control:checked~label.sk-toggleable__label {background-color: #d4ebff;}#sk-container-id-3 div.sk-label input.sk-toggleable__control:checked~label.sk-toggleable__label {background-color: #d4ebff;}#sk-container-id-3 input.sk-hidden--visually {border: 0;clip: rect(1px 1px 1px 1px);clip: rect(1px, 1px, 1px, 1px);height: 1px;margin: -1px;overflow: hidden;padding: 0;position: absolute;width: 1px;}#sk-container-id-3 div.sk-estimator {font-family: monospace;background-color: #f0f8ff;border: 1px dotted black;border-radius: 0.25em;box-sizing: border-box;margin-bottom: 0.5em;}#sk-container-id-3 div.sk-estimator:hover {background-color: #d4ebff;}#sk-container-id-3 div.sk-parallel-item::after {content: \"\";width: 100%;border-bottom: 1px solid gray;flex-grow: 1;}#sk-container-id-3 div.sk-label:hover label.sk-toggleable__label {background-color: #d4ebff;}#sk-container-id-3 div.sk-serial::before {content: \"\";position: absolute;border-left: 1px solid gray;box-sizing: border-box;top: 0;bottom: 0;left: 50%;z-index: 0;}#sk-container-id-3 div.sk-serial {display: flex;flex-direction: column;align-items: center;background-color: white;padding-right: 0.2em;padding-left: 0.2em;position: relative;}#sk-container-id-3 div.sk-item {position: relative;z-index: 1;}#sk-container-id-3 div.sk-parallel {display: flex;align-items: stretch;justify-content: center;background-color: white;position: relative;}#sk-container-id-3 div.sk-item::before, #sk-container-id-3 div.sk-parallel-item::before {content: \"\";position: absolute;border-left: 1px solid gray;box-sizing: border-box;top: 0;bottom: 0;left: 50%;z-index: -1;}#sk-container-id-3 div.sk-parallel-item {display: flex;flex-direction: column;z-index: 1;position: relative;background-color: white;}#sk-container-id-3 div.sk-parallel-item:first-child::after {align-self: flex-end;width: 50%;}#sk-container-id-3 div.sk-parallel-item:last-child::after {align-self: flex-start;width: 50%;}#sk-container-id-3 div.sk-parallel-item:only-child::after {width: 0;}#sk-container-id-3 div.sk-dashed-wrapped {border: 1px dashed gray;margin: 0 0.4em 0.5em 0.4em;box-sizing: border-box;padding-bottom: 0.4em;background-color: white;}#sk-container-id-3 div.sk-label label {font-family: monospace;font-weight: bold;display: inline-block;line-height: 1.2em;}#sk-container-id-3 div.sk-label-container {text-align: center;}#sk-container-id-3 div.sk-container {/* jupyter's `normalize.less` sets `[hidden] { display: none; }` but bootstrap.min.css set `[hidden] { display: none !important; }` so we also need the `!important` here to be able to override the default hidden behavior on the sphinx rendered scikit-learn.org. See: https://github.com/scikit-learn/scikit-learn/issues/21755 */display: inline-block !important;position: relative;}#sk-container-id-3 div.sk-text-repr-fallback {display: none;}</style><div id=\"sk-container-id-3\" class=\"sk-top-container\"><div class=\"sk-text-repr-fallback\"><pre>Pipeline(steps=[(&#x27;tf-idf&#x27;, TfidfVectorizer()), (&#x27;clf&#x27;, MultinomialNB())])</pre><b>In a Jupyter environment, please rerun this cell to show the HTML representation or trust the notebook. <br />On GitHub, the HTML representation is unable to render, please try loading this page with nbviewer.org.</b></div><div class=\"sk-container\" hidden><div class=\"sk-item sk-dashed-wrapped\"><div class=\"sk-label-container\"><div class=\"sk-label sk-toggleable\"><input class=\"sk-toggleable__control sk-hidden--visually\" id=\"sk-estimator-id-7\" type=\"checkbox\" ><label for=\"sk-estimator-id-7\" class=\"sk-toggleable__label sk-toggleable__label-arrow\">Pipeline</label><div class=\"sk-toggleable__content\"><pre>Pipeline(steps=[(&#x27;tf-idf&#x27;, TfidfVectorizer()), (&#x27;clf&#x27;, MultinomialNB())])</pre></div></div></div><div class=\"sk-serial\"><div class=\"sk-item\"><div class=\"sk-estimator sk-toggleable\"><input class=\"sk-toggleable__control sk-hidden--visually\" id=\"sk-estimator-id-8\" type=\"checkbox\" ><label for=\"sk-estimator-id-8\" class=\"sk-toggleable__label sk-toggleable__label-arrow\">TfidfVectorizer</label><div class=\"sk-toggleable__content\"><pre>TfidfVectorizer()</pre></div></div></div><div class=\"sk-item\"><div class=\"sk-estimator sk-toggleable\"><input class=\"sk-toggleable__control sk-hidden--visually\" id=\"sk-estimator-id-9\" type=\"checkbox\" ><label for=\"sk-estimator-id-9\" class=\"sk-toggleable__label sk-toggleable__label-arrow\">MultinomialNB</label><div class=\"sk-toggleable__content\"><pre>MultinomialNB()</pre></div></div></div></div></div></div></div>"
            ]
          },
          "metadata": {},
          "execution_count": 158
        }
      ]
    },
    {
      "cell_type": "code",
      "source": [
        "# Evaluate baseline model on the validation dataset\n",
        "model_0.score(X=val_sentences, # equivalent to keras .evaluate()\n",
        "              y=val_labels_encoded)"
      ],
      "metadata": {
        "colab": {
          "base_uri": "https://localhost:8080/"
        },
        "id": "rNSQCg4hgACh",
        "outputId": "fb309cf6-823a-45fe-9767-b7e4d35dc17d"
      },
      "execution_count": 159,
      "outputs": [
        {
          "output_type": "execute_result",
          "data": {
            "text/plain": [
              "0.7218323844829869"
            ]
          },
          "metadata": {},
          "execution_count": 159
        }
      ]
    },
    {
      "cell_type": "code",
      "source": [
        "# Make predictions\n",
        "baseline_preds = model_0.predict(val_sentences)\n",
        "baseline_preds"
      ],
      "metadata": {
        "colab": {
          "base_uri": "https://localhost:8080/"
        },
        "id": "EE7sj9rngXg9",
        "outputId": "709f8ebb-5093-4d68-a90c-2f898393690e"
      },
      "execution_count": 160,
      "outputs": [
        {
          "output_type": "execute_result",
          "data": {
            "text/plain": [
              "array([4, 1, 3, ..., 4, 4, 1])"
            ]
          },
          "metadata": {},
          "execution_count": 160
        }
      ]
    },
    {
      "cell_type": "markdown",
      "source": [
        "### Download helper functions script"
      ],
      "metadata": {
        "id": "JasJ-VgzgjiZ"
      }
    },
    {
      "cell_type": "code",
      "source": [
        "!wget https://raw.githubusercontent.com/mrdbourke/tensorflow-deep-learning/main/extras/helper_functions.py\n",
        "from helper_functions import calculate_results"
      ],
      "metadata": {
        "colab": {
          "base_uri": "https://localhost:8080/"
        },
        "id": "rnZvTSPtgorE",
        "outputId": "e4b3f391-f7d5-45e3-b530-4cf7f879f7c0"
      },
      "execution_count": 161,
      "outputs": [
        {
          "output_type": "stream",
          "name": "stdout",
          "text": [
            "--2023-11-12 18:19:45--  https://raw.githubusercontent.com/mrdbourke/tensorflow-deep-learning/main/extras/helper_functions.py\n",
            "Resolving raw.githubusercontent.com (raw.githubusercontent.com)... 185.199.110.133, 185.199.108.133, 185.199.109.133, ...\n",
            "Connecting to raw.githubusercontent.com (raw.githubusercontent.com)|185.199.110.133|:443... connected.\n",
            "HTTP request sent, awaiting response... 200 OK\n",
            "Length: 10246 (10K) [text/plain]\n",
            "Saving to: ‘helper_functions.py.2’\n",
            "\n",
            "helper_functions.py 100%[===================>]  10.01K  --.-KB/s    in 0s      \n",
            "\n",
            "2023-11-12 18:19:45 (99.3 MB/s) - ‘helper_functions.py.2’ saved [10246/10246]\n",
            "\n"
          ]
        }
      ]
    },
    {
      "cell_type": "code",
      "source": [
        "# Calculate baseline results\n",
        "baseline_results = calculate_results(y_true=val_labels_encoded,\n",
        "                                     y_pred=baseline_preds)\n",
        "baseline_results"
      ],
      "metadata": {
        "colab": {
          "base_uri": "https://localhost:8080/"
        },
        "id": "HOCaHak9hCIm",
        "outputId": "298f272b-5b0d-45a0-c868-4ba7ba40d804"
      },
      "execution_count": 162,
      "outputs": [
        {
          "output_type": "execute_result",
          "data": {
            "text/plain": [
              "{'accuracy': 72.1832384482987,\n",
              " 'precision': 0.7186466952323352,\n",
              " 'recall': 0.7218323844829869,\n",
              " 'f1': 0.6989250353450294}"
            ]
          },
          "metadata": {},
          "execution_count": 162
        }
      ]
    },
    {
      "cell_type": "markdown",
      "source": [
        "## Preparing the text - turn it into numeric format - tokenization and embedding"
      ],
      "metadata": {
        "id": "TSYbn8W7hQZW"
      }
    },
    {
      "cell_type": "code",
      "source": [
        "import numpy as np\n",
        "import tensorflow as tf\n",
        "from tensorflow.keras import layers"
      ],
      "metadata": {
        "id": "KmrwIId_2mz7"
      },
      "execution_count": 163,
      "outputs": []
    },
    {
      "cell_type": "code",
      "source": [
        "# How long is each sentence on average?\n",
        "sent_lens = [len(sentence.split()) for sentence in train_sentences]\n",
        "avg_sent_len = np.mean(sent_lens)\n",
        "avg_sent_len"
      ],
      "metadata": {
        "colab": {
          "base_uri": "https://localhost:8080/"
        },
        "id": "1KJFgmqM2u8c",
        "outputId": "2521f1d2-3b69-449f-ee75-803b01b80b70"
      },
      "execution_count": 164,
      "outputs": [
        {
          "output_type": "execute_result",
          "data": {
            "text/plain": [
              "26.338269273494777"
            ]
          },
          "metadata": {},
          "execution_count": 164
        }
      ]
    },
    {
      "cell_type": "code",
      "source": [
        "# What's the distribution like?\n",
        "import matplotlib.pyplot as plt\n",
        "plt.hist(sent_lens, bins=50);"
      ],
      "metadata": {
        "colab": {
          "base_uri": "https://localhost:8080/",
          "height": 430
        },
        "id": "NQYwu_zK2zP9",
        "outputId": "a58818ea-7b1f-4a45-f2e2-973fe65b0eb9"
      },
      "execution_count": 165,
      "outputs": [
        {
          "output_type": "display_data",
          "data": {
            "text/plain": [
              "<Figure size 640x480 with 1 Axes>"
            ],
            "image/png": "[encoded data removed]"
          },
          "metadata": {}
        }
      ]
    },
    {
      "cell_type": "markdown",
      "source": [
        "Let's find out in what length 95% of the data can be contained\n",
        "\n",
        "https://numpy.org/doc/stable/reference/generated/numpy.percentile.html"
      ],
      "metadata": {
        "id": "h8kUZXVq3gUk"
      }
    },
    {
      "cell_type": "code",
      "source": [
        "# How long of a sentence length covers 95% of examples\n",
        "output_seq_len = int(np.percentile(sent_lens, 95))\n",
        "output_seq_len\n",
        "# We'll be padding and truncating sentences to that length"
      ],
      "metadata": {
        "colab": {
          "base_uri": "https://localhost:8080/"
        },
        "id": "HxbPXui434uv",
        "outputId": "62d70224-2274-4d98-c199-03846076ac0f"
      },
      "execution_count": 166,
      "outputs": [
        {
          "output_type": "execute_result",
          "data": {
            "text/plain": [
              "55"
            ]
          },
          "metadata": {},
          "execution_count": 166
        }
      ]
    },
    {
      "cell_type": "code",
      "source": [
        "# Maximum sequence length in the training data (just out of curiosity)\n",
        "max(sent_lens)"
      ],
      "metadata": {
        "colab": {
          "base_uri": "https://localhost:8080/"
        },
        "id": "FAcRcbbv4Ppo",
        "outputId": "541d73df-9a5f-4fdd-8b18-b63931c30a39"
      },
      "execution_count": 167,
      "outputs": [
        {
          "output_type": "execute_result",
          "data": {
            "text/plain": [
              "296"
            ]
          },
          "metadata": {},
          "execution_count": 167
        }
      ]
    },
    {
      "cell_type": "markdown",
      "source": [
        "### Creating a text vectorizer layer\n",
        "\n",
        "That layer will map our words to numbers\n",
        "\n",
        "https://www.tensorflow.org/api_docs/python/tf/keras/layers/TextVectorization"
      ],
      "metadata": {
        "id": "G24aStTG4rny"
      }
    },
    {
      "cell_type": "code",
      "source": [
        "# How many words are in our vocabulary? (taken from Table 2)\n",
        "max_tokens = 68000"
      ],
      "metadata": {
        "id": "8zFuJIYu5RGh"
      },
      "execution_count": 168,
      "outputs": []
    },
    {
      "cell_type": "code",
      "source": [
        "# Create text tokenizer\n",
        "from tensorflow.keras.layers.experimental.preprocessing import TextVectorization\n",
        "\n",
        "text_vectorizer = TextVectorization(max_tokens=max_tokens, # number of words in vocabulary\n",
        "                                    output_sequence_length=output_seq_len) # number of words in a sentence"
      ],
      "metadata": {
        "id": "2PFrnKsF5_qR"
      },
      "execution_count": 169,
      "outputs": []
    },
    {
      "cell_type": "code",
      "source": [
        "# Adapt text tokenizer to the training data\n",
        "text_vectorizer.adapt(train_sentences)"
      ],
      "metadata": {
        "id": "RzRDipHp61o7"
      },
      "execution_count": 170,
      "outputs": []
    },
    {
      "cell_type": "code",
      "source": [
        "# Test out text tokenizer on random sentences\n",
        "import random\n",
        "target_sentence = random.choice(train_sentences)\n",
        "print(f\"Text:\\n{target_sentence}\\n\\nLength:{len(target_sentence.split())}\\n\\nTokenized version: {text_vectorizer(target_sentence)}\")"
      ],
      "metadata": {
        "colab": {
          "base_uri": "https://localhost:8080/"
        },
        "id": "LpAphjLG7TIL",
        "outputId": "ade79059-46e9-48c5-f806-521dadbaa000"
      },
      "execution_count": 171,
      "outputs": [
        {
          "output_type": "stream",
          "name": "stdout",
          "text": [
            "Text:\n",
            "patients ' satisfaction with the procedure was assessed and intergroup comparisons were made .\n",
            "\n",
            "Length:14\n",
            "\n",
            "Tokenized version: [  12  428    7    2  407   10  113    3 3307 1319    9 1050    0    0\n",
            "    0    0    0    0    0    0    0    0    0    0    0    0    0    0\n",
            "    0    0    0    0    0    0    0    0    0    0    0    0    0    0\n",
            "    0    0    0    0    0    0    0    0    0    0    0    0    0]\n"
          ]
        }
      ]
    },
    {
      "cell_type": "code",
      "source": [
        "# How many words in our training vocabulary\n",
        "rct_20k_text_vocab = text_vectorizer.get_vocabulary()\n",
        "print(f\"Number of words in vocab: {len(rct_20k_text_vocab)}\\nMost common words in the vocab: {rct_20k_text_vocab[2:7]}\")"
      ],
      "metadata": {
        "colab": {
          "base_uri": "https://localhost:8080/"
        },
        "id": "MIx5OBiG72qO",
        "outputId": "fada2762-ffff-4aee-f674-731d6dc04d15"
      },
      "execution_count": 172,
      "outputs": [
        {
          "output_type": "stream",
          "name": "stdout",
          "text": [
            "Number of words in vocab: 64841\n",
            "Most common words in the vocab: ['the', 'and', 'of', 'in', 'to']\n"
          ]
        }
      ]
    },
    {
      "cell_type": "code",
      "source": [
        "# Get the config of the text tokenizer\n",
        "text_vectorizer.get_config()"
      ],
      "metadata": {
        "colab": {
          "base_uri": "https://localhost:8080/"
        },
        "id": "PznW72nU83as",
        "outputId": "7b674a15-d410-4d75-a22b-7dd85c250e24"
      },
      "execution_count": 173,
      "outputs": [
        {
          "output_type": "execute_result",
          "data": {
            "text/plain": [
              "{'name': 'text_vectorization_2',\n",
              " 'trainable': True,\n",
              " 'dtype': 'string',\n",
              " 'batch_input_shape': (None,),\n",
              " 'max_tokens': 68000,\n",
              " 'standardize': 'lower_and_strip_punctuation',\n",
              " 'split': 'whitespace',\n",
              " 'ngrams': None,\n",
              " 'output_mode': 'int',\n",
              " 'output_sequence_length': 55,\n",
              " 'pad_to_max_tokens': False,\n",
              " 'sparse': False,\n",
              " 'ragged': False,\n",
              " 'vocabulary': None,\n",
              " 'idf_weights': None,\n",
              " 'encoding': 'utf-8',\n",
              " 'vocabulary_size': 64841}"
            ]
          },
          "metadata": {},
          "execution_count": 173
        }
      ]
    },
    {
      "cell_type": "markdown",
      "source": [
        "### Create an embedding"
      ],
      "metadata": {
        "id": "0hkrK23p9QTV"
      }
    },
    {
      "cell_type": "code",
      "source": [
        "token_embed = layers.Embedding(input_dim=len(rct_20k_text_vocab),\n",
        "                               output_dim=128, # more captures more info, less learns faster\n",
        "                               mask_zero=True, # use masking to handle variable sequence lengths - doesnt compute zero values unnecessarily\n",
        "                               name=\"token_embedding\")"
      ],
      "metadata": {
        "id": "fD5LmCxc9cvB"
      },
      "execution_count": 174,
      "outputs": []
    },
    {
      "cell_type": "code",
      "source": [
        "# Show an example of embedding\n",
        "print(f\"Sentence before tokenization: {target_sentence}\\n\")\n",
        "print(f\"Sentence after tokenization: {text_vectorizer(target_sentence)}\\n\")\n",
        "print(f\"Sentence after embedding: {token_embed(text_vectorizer(target_sentence))}\")\n",
        "vectorized_sentence = text_vectorizer(target_sentence)\n",
        "embedded_sentence = token_embed(vectorized_sentence)\n",
        "print(f\"Embedded sentence shape: {embedded_sentence.shape}\")"
      ],
      "metadata": {
        "colab": {
          "base_uri": "https://localhost:8080/"
        },
        "id": "OM684Yoy-oUG",
        "outputId": "67c5d059-f6e0-494e-edc4-bae17821d7ea"
      },
      "execution_count": 175,
      "outputs": [
        {
          "output_type": "stream",
          "name": "stdout",
          "text": [
            "Sentence before tokenization: patients ' satisfaction with the procedure was assessed and intergroup comparisons were made .\n",
            "\n",
            "Sentence after tokenization: [  12  428    7    2  407   10  113    3 3307 1319    9 1050    0    0\n",
            "    0    0    0    0    0    0    0    0    0    0    0    0    0    0\n",
            "    0    0    0    0    0    0    0    0    0    0    0    0    0    0\n",
            "    0    0    0    0    0    0    0    0    0    0    0    0    0]\n",
            "\n",
            "Sentence after embedding: [[-0.01135384 -0.0237766  -0.03644433 ... -0.04762783  0.04348559\n",
            "  -0.04596353]\n",
            " [ 0.03044014 -0.02309087 -0.02563968 ...  0.02358821  0.01704887\n",
            "   0.04721363]\n",
            " [-0.01061193  0.02189291 -0.01539345 ... -0.01515282 -0.03815502\n",
            "  -0.04734011]\n",
            " ...\n",
            " [ 0.02894441 -0.01584518  0.03202957 ... -0.0442319  -0.03668531\n",
            "   0.04333726]\n",
            " [ 0.02894441 -0.01584518  0.03202957 ... -0.0442319  -0.03668531\n",
            "   0.04333726]\n",
            " [ 0.02894441 -0.01584518  0.03202957 ... -0.0442319  -0.03668531\n",
            "   0.04333726]]\n",
            "Embedded sentence shape: (55, 128)\n"
          ]
        }
      ]
    },
    {
      "cell_type": "markdown",
      "source": [
        "## Turning data into prefetch datasets to increase speed of loading\n",
        "\n",
        "https://www.tensorflow.org/guide/data_performance?hl=pl\n",
        "\n",
        "https://www.tensorflow.org/api_docs/python/tf/data"
      ],
      "metadata": {
        "id": "62NtAIs4_Cx1"
      }
    },
    {
      "cell_type": "code",
      "source": [
        "# Turn our data into tensorflow datasets\n",
        "train_dataset = tf.data.Dataset.from_tensor_slices((train_sentences, train_labels_one_hot))\n",
        "valid_dataset = tf.data.Dataset.from_tensor_slices((val_sentences, val_labels_one_hot))\n",
        "test_dataset = tf.data.Dataset.from_tensor_slices((test_sentences, test_labels_one_hot))\n",
        "\n",
        "train_dataset"
      ],
      "metadata": {
        "colab": {
          "base_uri": "https://localhost:8080/"
        },
        "id": "Zkfv_flpAM8d",
        "outputId": "2e121081-faca-47c0-917f-f0fc2b29f7b2"
      },
      "execution_count": 176,
      "outputs": [
        {
          "output_type": "execute_result",
          "data": {
            "text/plain": [
              "<_TensorSliceDataset element_spec=(TensorSpec(shape=(), dtype=tf.string, name=None), TensorSpec(shape=(5,), dtype=tf.float64, name=None))>"
            ]
          },
          "metadata": {},
          "execution_count": 176
        }
      ]
    },
    {
      "cell_type": "code",
      "source": [
        "# Take the tensor slice datasets and turn them into prefetch datasets and into batches\n",
        "train_dataset = train_dataset.batch(32).prefetch(tf.data.AUTOTUNE)\n",
        "valid_dataset = valid_dataset.batch(32).prefetch(tf.data.AUTOTUNE)\n",
        "test_dataset = test_dataset.batch(32).prefetch(tf.data.AUTOTUNE)\n",
        "\n",
        "train_dataset"
      ],
      "metadata": {
        "colab": {
          "base_uri": "https://localhost:8080/"
        },
        "id": "pHVuSxnVBTO_",
        "outputId": "c0b02137-2082-4e39-c6d1-96eb418a7075"
      },
      "execution_count": 177,
      "outputs": [
        {
          "output_type": "execute_result",
          "data": {
            "text/plain": [
              "<_PrefetchDataset element_spec=(TensorSpec(shape=(None,), dtype=tf.string, name=None), TensorSpec(shape=(None, 5), dtype=tf.float64, name=None))>"
            ]
          },
          "metadata": {},
          "execution_count": 177
        }
      ]
    },
    {
      "cell_type": "markdown",
      "source": [
        "## Model 1: Conv1D"
      ],
      "metadata": {
        "id": "u9OE9dt2Eh_r"
      }
    },
    {
      "cell_type": "code",
      "source": [
        "# Build the model the functional way\n",
        "inputs = layers.Input(shape=(1,), dtype=tf.string)\n",
        "text_tokens = text_vectorizer(inputs)\n",
        "token_embeddings = token_embed(text_tokens)\n",
        "x = layers.Conv1D(64, kernel_size=5, padding=\"same\", activation=\"relu\")(token_embeddings)\n",
        "x = layers.GlobalAveragePooling1D()(x)\n",
        "outputs = layers.Dense(num_classes, activation=\"softmax\")(x)\n",
        "model_1 = tf.keras.Model(inputs, outputs)\n",
        "\n",
        "# Compile\n",
        "model_1.compile(optimizer=\"Adam\",\n",
        "                loss=\"categorical_crossentropy\",\n",
        "                metrics=\"accuracy\")\n",
        "\n",
        "model_1.summary()"
      ],
      "metadata": {
        "colab": {
          "base_uri": "https://localhost:8080/"
        },
        "id": "X4USkR09CIs0",
        "outputId": "bec24c85-b94a-4094-c93a-2d6c7e7c0152"
      },
      "execution_count": 178,
      "outputs": [
        {
          "output_type": "stream",
          "name": "stdout",
          "text": [
            "Model: \"model_2\"\n",
            "_________________________________________________________________\n",
            " Layer (type)                Output Shape              Param #   \n",
            "=================================================================\n",
            " input_7 (InputLayer)        [(None, 1)]               0         \n",
            "                                                                 \n",
            " text_vectorization_2 (Text  (None, 55)                0         \n",
            " Vectorization)                                                  \n",
            "                                                                 \n",
            " token_embedding (Embedding  (None, 55, 128)           8299648   \n",
            " )                                                               \n",
            "                                                                 \n",
            " conv1d_4 (Conv1D)           (None, 55, 64)            41024     \n",
            "                                                                 \n",
            " global_average_pooling1d_2  (None, 64)                0         \n",
            "  (GlobalAveragePooling1D)                                       \n",
            "                                                                 \n",
            " dense_8 (Dense)             (None, 5)                 325       \n",
            "                                                                 \n",
            "=================================================================\n",
            "Total params: 8340997 (31.82 MB)\n",
            "Trainable params: 8340997 (31.82 MB)\n",
            "Non-trainable params: 0 (0.00 Byte)\n",
            "_________________________________________________________________\n"
          ]
        }
      ]
    },
    {
      "cell_type": "code",
      "source": [
        "# Fit the model\n",
        "history_model_1 = model_1.fit(train_dataset,\n",
        "                              epochs=5,\n",
        "                              steps_per_epoch=int(0.1*len(train_dataset)), # no need for this as the model trains fast anyway\n",
        "                              validation_data=valid_dataset,\n",
        "                              validation_steps=int(0.1*len(valid_dataset)))"
      ],
      "metadata": {
        "colab": {
          "base_uri": "https://localhost:8080/"
        },
        "id": "NHEHnKRsEL23",
        "outputId": "336c4ffc-60bb-42ce-e967-ee54b6ff2d9b"
      },
      "execution_count": 179,
      "outputs": [
        {
          "output_type": "stream",
          "name": "stdout",
          "text": [
            "Epoch 1/5\n",
            "562/562 [==============================] - 22s 36ms/step - loss: 0.9148 - accuracy: 0.6367 - val_loss: 0.6876 - val_accuracy: 0.7394\n",
            "Epoch 2/5\n",
            "562/562 [==============================] - 6s 11ms/step - loss: 0.6620 - accuracy: 0.7550 - val_loss: 0.6347 - val_accuracy: 0.7673\n",
            "Epoch 3/5\n",
            "562/562 [==============================] - 5s 8ms/step - loss: 0.6233 - accuracy: 0.7715 - val_loss: 0.6013 - val_accuracy: 0.7846\n",
            "Epoch 4/5\n",
            "562/562 [==============================] - 4s 7ms/step - loss: 0.5938 - accuracy: 0.7855 - val_loss: 0.5813 - val_accuracy: 0.7852\n",
            "Epoch 5/5\n",
            "562/562 [==============================] - 5s 9ms/step - loss: 0.5927 - accuracy: 0.7903 - val_loss: 0.5622 - val_accuracy: 0.7965\n"
          ]
        }
      ]
    },
    {
      "cell_type": "code",
      "source": [
        "# Evaluate on the whole validation dataset\n",
        "model_1.evaluate(valid_dataset)"
      ],
      "metadata": {
        "colab": {
          "base_uri": "https://localhost:8080/"
        },
        "id": "9qLPboDqFeSi",
        "outputId": "cfbe7cd5-8c1d-4609-f244-5fb552e1ec8f"
      },
      "execution_count": 180,
      "outputs": [
        {
          "output_type": "stream",
          "name": "stdout",
          "text": [
            "945/945 [==============================] - 3s 3ms/step - loss: 0.5628 - accuracy: 0.8003\n"
          ]
        },
        {
          "output_type": "execute_result",
          "data": {
            "text/plain": [
              "[0.562819242477417, 0.8002780079841614]"
            ]
          },
          "metadata": {},
          "execution_count": 180
        }
      ]
    },
    {
      "cell_type": "code",
      "source": [
        "# Make predictions\n",
        "model_1_pred_probs = model_1.predict(valid_dataset)\n",
        "model_1_pred_probs"
      ],
      "metadata": {
        "colab": {
          "base_uri": "https://localhost:8080/"
        },
        "id": "1AlqjGaUGStr",
        "outputId": "7b2ddbd1-91ac-4216-90b5-fbb0802b8401"
      },
      "execution_count": 181,
      "outputs": [
        {
          "output_type": "stream",
          "name": "stdout",
          "text": [
            "945/945 [==============================] - 2s 2ms/step\n"
          ]
        },
        {
          "output_type": "execute_result",
          "data": {
            "text/plain": [
              "array([[5.35530388e-01, 1.81825683e-01, 4.85524125e-02, 1.82363272e-01,\n",
              "        5.17282113e-02],\n",
              "       [5.08189738e-01, 2.86891282e-01, 2.67441068e-02, 1.48158818e-01,\n",
              "        3.00160404e-02],\n",
              "       [1.62851021e-01, 3.87886423e-03, 9.31267103e-04, 8.32313001e-01,\n",
              "        2.58371165e-05],\n",
              "       ...,\n",
              "       [2.92979184e-05, 7.04522361e-04, 3.97864450e-03, 2.38637385e-05,\n",
              "        9.95263696e-01],\n",
              "       [1.21372268e-01, 2.69496441e-01, 1.63842052e-01, 9.70466435e-02,\n",
              "        3.48242581e-01],\n",
              "       [1.57422826e-01, 7.54306078e-01, 4.32478599e-02, 1.46247875e-02,\n",
              "        3.03984489e-02]], dtype=float32)"
            ]
          },
          "metadata": {},
          "execution_count": 181
        }
      ]
    },
    {
      "cell_type": "code",
      "source": [
        "# Convert to classes\n",
        "model_1_preds = tf.argmax(tf.squeeze(model_1_pred_probs), axis=1)\n",
        "model_1_preds"
      ],
      "metadata": {
        "colab": {
          "base_uri": "https://localhost:8080/"
        },
        "id": "biEoUXSyGfzy",
        "outputId": "401a28c9-b9df-4c57-b45c-6aa871055c09"
      },
      "execution_count": 182,
      "outputs": [
        {
          "output_type": "execute_result",
          "data": {
            "text/plain": [
              "<tf.Tensor: shape=(30212,), dtype=int64, numpy=array([0, 0, 3, ..., 4, 4, 1])>"
            ]
          },
          "metadata": {},
          "execution_count": 182
        }
      ]
    },
    {
      "cell_type": "code",
      "source": [
        "# Calculate model 1 results\n",
        "model_1_results = calculate_results(val_labels_encoded,\n",
        "                                    model_1_preds)\n",
        "model_1_results"
      ],
      "metadata": {
        "colab": {
          "base_uri": "https://localhost:8080/"
        },
        "id": "k1w-VuGKG3yE",
        "outputId": "1f708daa-c0fb-4a1c-fba2-31933f06c68a"
      },
      "execution_count": 183,
      "outputs": [
        {
          "output_type": "execute_result",
          "data": {
            "text/plain": [
              "{'accuracy': 80.02780352177943,\n",
              " 'precision': 0.8000396498154608,\n",
              " 'recall': 0.8002780352177943,\n",
              " 'f1': 0.7971943475539457}"
            ]
          },
          "metadata": {},
          "execution_count": 183
        }
      ]
    },
    {
      "cell_type": "markdown",
      "source": [
        "## MOdel 2: Feature extraction with pretrained token embeddings\n",
        "\n",
        "Now let's use pretrained word embeddings from Tensorflow Hub:\n",
        "\n",
        "https://tfhub.dev/google/universal-sentence-encoder/4\n",
        "\n",
        "The paper originally used GloVe embeddings. We're going to use the USE"
      ],
      "metadata": {
        "id": "z7B9yQXYHQht"
      }
    },
    {
      "cell_type": "code",
      "source": [
        "# Download pretrained TensorFlow Hub USE\n",
        "import tensorflow_hub as hub\n",
        "tf_hub_embedding_layer = hub.KerasLayer(\"https://tfhub.dev/google/universal-sentence-encoder/4\",\n",
        "                                        trainable=False,\n",
        "                                        name=\"universal_sentence_encoder\")"
      ],
      "metadata": {
        "id": "08WnpywKHw1A"
      },
      "execution_count": 184,
      "outputs": []
    },
    {
      "cell_type": "code",
      "source": [
        "# Test out pretrained embedding\n",
        "random_train_sentence = random.choice(train_sentences)\n",
        "print(f\"Original sentence:\\n{random_train_sentence}\")\n",
        "use_embedded_sentence = tf_hub_embedding_layer([random_train_sentence])\n",
        "print(f\"Embedded sentence:\\n{use_embedded_sentence}\")\n",
        "print(f\"Length of the sentence embedding:\\n{len(tf.squeeze(use_embedded_sentence))}\")"
      ],
      "metadata": {
        "colab": {
          "base_uri": "https://localhost:8080/"
        },
        "id": "HoDcq0-qNfkn",
        "outputId": "f7311d22-7f35-4bb6-cd7d-05943c8cb3ec"
      },
      "execution_count": 185,
      "outputs": [
        {
          "output_type": "stream",
          "name": "stdout",
          "text": [
            "Original sentence:\n",
            "group @ : fdba / - tcp/rhpdgf-bb/collagen plug .\n",
            "Embedded sentence:\n",
            "[[-0.00321331 -0.04671872  0.02945173  0.05502261  0.0646318   0.02876206\n",
            "   0.06640407 -0.03196035  0.01259189 -0.01911522 -0.00831315  0.01798984\n",
            "   0.01870422 -0.04931152  0.0187068   0.03236588  0.07646661 -0.01352786\n",
            "  -0.06569215  0.01542263 -0.0532567   0.08084443 -0.07282383  0.00132863\n",
            "  -0.07604132  0.00370529 -0.05880914  0.02350855  0.01476239  0.00841644\n",
            "   0.06151736 -0.00665671 -0.00152186  0.06961598  0.0048372  -0.05770533\n",
            "   0.0183783  -0.00236357  0.0077741  -0.07321586 -0.00421699 -0.00642286\n",
            "   0.05907958 -0.07385432 -0.0623354  -0.00728865  0.02885193 -0.03791016\n",
            "  -0.01362435  0.06937391 -0.01018035  0.05439454 -0.00499659  0.00014833\n",
            "  -0.00416182  0.02283319  0.04462935  0.02176012  0.07958236 -0.02355228\n",
            "  -0.00560729  0.03921609 -0.09785013  0.02225896 -0.00206818  0.00498937\n",
            "   0.08841389 -0.0274155   0.01934157 -0.05543284  0.01768642  0.01237726\n",
            "   0.00084982  0.02302328 -0.03071863 -0.0293152  -0.00257887 -0.03142589\n",
            "  -0.01550053 -0.00305953 -0.07688903  0.01803319 -0.06455154 -0.08849931\n",
            "   0.01599116  0.00244382 -0.06565086 -0.0046176   0.05934512  0.08938909\n",
            "  -0.07684294 -0.02312486  0.04345427 -0.04430086 -0.0081417   0.046105\n",
            "  -0.00402503  0.01181423 -0.01987535 -0.05215486  0.00108312 -0.0255348\n",
            "  -0.06120492  0.04789457 -0.03573148  0.01579011  0.04793    -0.05064438\n",
            "   0.06198526 -0.02466594 -0.00444666 -0.00935818  0.05105814  0.00781858\n",
            "  -0.03489313 -0.03577322 -0.04665361  0.07457841 -0.02545491  0.0690115\n",
            "  -0.04957722 -0.04720949 -0.08002833  0.04809762  0.04188853  0.02244898\n",
            "   0.00863905 -0.00131487  0.03115285 -0.02696424  0.01562272 -0.05019212\n",
            "   0.02195309 -0.02808063  0.04940973  0.04760249  0.02956711 -0.00545628\n",
            "   0.05326614 -0.05350472 -0.01529807  0.00808492  0.08840628 -0.00673314\n",
            "  -0.00932142 -0.02381162  0.06339689  0.02708363  0.02223766 -0.03900825\n",
            "   0.01847345  0.00638262  0.03234548 -0.09233655  0.09141936 -0.07229788\n",
            "  -0.02336793 -0.06790366 -0.02625724 -0.04208787 -0.02847684 -0.0597934\n",
            "   0.01299014  0.08442118 -0.03369471 -0.05634307  0.03431925 -0.04300927\n",
            "   0.01192151  0.04794759  0.0504436  -0.00671193  0.03846487  0.00349541\n",
            "   0.01023876  0.0475511  -0.06653451  0.00779834 -0.04265501 -0.04819908\n",
            "   0.02418541  0.08932633  0.07048801 -0.06131829 -0.07138535  0.06013233\n",
            "   0.04823348 -0.00213199 -0.05075626 -0.0439964  -0.06360249 -0.03856605\n",
            "   0.09097055  0.03883518 -0.03920772  0.0493972   0.00040086 -0.01356686\n",
            "   0.04862275  0.04650403  0.00235775  0.02426933  0.07303097  0.04407449\n",
            "  -0.05779252  0.0497488  -0.05151632  0.00310622 -0.06745686  0.0515449\n",
            "  -0.04079672  0.04711848  0.05928236 -0.01130271 -0.02267978  0.06402984\n",
            "  -0.02370496  0.02922302  0.08056427 -0.05488208  0.07184786  0.0618879\n",
            "   0.09691716 -0.00451664  0.04296903 -0.06758812 -0.04348438 -0.07265097\n",
            "   0.06675674  0.0646607  -0.01908463  0.06683534  0.04524621  0.0725598\n",
            "  -0.02162598  0.01733665 -0.0668743  -0.04540751  0.07717869  0.0095917\n",
            "   0.03800218  0.03923051  0.03048378  0.00102426  0.05411795  0.06298994\n",
            "   0.0291723   0.00211443  0.05057685  0.00523758 -0.0248693  -0.00616662\n",
            "   0.01499425 -0.02877254 -0.01122748  0.03741531  0.02800311 -0.07354944\n",
            "  -0.04374699 -0.05211391  0.00254976 -0.04908702  0.04980536  0.03889121\n",
            "  -0.07822251 -0.01945004 -0.05011394  0.02533206  0.06652459 -0.00785334\n",
            "   0.07110304 -0.03327051  0.04735452 -0.03072181  0.00113583 -0.02963067\n",
            "   0.03844177  0.00634289 -0.07745467  0.06685338 -0.04846982 -0.07480797\n",
            "   0.03266177  0.00274886  0.03850753  0.01811338  0.01117388  0.0198937\n",
            "   0.03930893  0.01131232  0.05544254 -0.00949585 -0.06600323 -0.03975331\n",
            "   0.02235093  0.02495347  0.07669384  0.07029975  0.0095934   0.02625632\n",
            "   0.00408167 -0.05883033  0.02506206 -0.08636815 -0.04414196 -0.06365579\n",
            "   0.07838144  0.02296349 -0.02577332  0.06500222  0.02589647  0.06922029\n",
            "   0.02350899 -0.00252521  0.04857388 -0.02912795 -0.03087723  0.02363846\n",
            "   0.07466199  0.00069457  0.04861759 -0.02850664  0.05615687  0.01111637\n",
            "  -0.06412035  0.03826116  0.00757428  0.05925835  0.05424521 -0.01709157\n",
            "   0.06360765 -0.01511401 -0.00828126  0.09323415 -0.02691573  0.06268327\n",
            "   0.01890995 -0.05375294  0.02036794  0.02428876 -0.01554729  0.02296153\n",
            "   0.06718496 -0.0628375   0.00317127 -0.05459074 -0.07074852  0.06944978\n",
            "  -0.0149747   0.03591355  0.03239002 -0.02151785  0.01316212 -0.07141651\n",
            "   0.02073366 -0.02516097 -0.08250356  0.04143775 -0.00069648 -0.03531743\n",
            "  -0.05131228 -0.03863131 -0.0326982  -0.00271582 -0.0109687   0.04637899\n",
            "   0.01418917  0.023466   -0.04920382 -0.0043282  -0.03992911  0.03283395\n",
            "  -0.02865097 -0.03249484  0.09436183  0.01409644  0.07595584 -0.03909628\n",
            "   0.01445358  0.01450434  0.04560595 -0.05569777  0.04438622  0.08113596\n",
            "   0.05526038 -0.00034287 -0.0304297  -0.02008279 -0.01957206 -0.02944121\n",
            "   0.02424767 -0.08483031  0.04270838 -0.05109992  0.03219196  0.0745431\n",
            "  -0.03011127 -0.00689291 -0.04942212 -0.07282838  0.01338626 -0.04374938\n",
            "   0.0270181   0.02385259  0.00955322 -0.02711107 -0.02673915  0.02559496\n",
            "  -0.01627151 -0.08962612 -0.04718386 -0.02197575  0.02341355 -0.03756364\n",
            "   0.0327701   0.02313302  0.03492064 -0.00558113 -0.01362812 -0.07361003\n",
            "  -0.04469861  0.00191544  0.02703163  0.01492741  0.00964231  0.00187165\n",
            "  -0.03960071 -0.00972859  0.02464399 -0.04347949 -0.02204486 -0.02162737\n",
            "   0.05074377 -0.01969884 -0.0802926  -0.09183007 -0.01352897  0.0801814\n",
            "  -0.00610652 -0.09521349 -0.07592748 -0.06028402  0.00165611 -0.00917348\n",
            "  -0.05742192 -0.00124171 -0.0582987  -0.05149005 -0.03497317  0.00031271\n",
            "   0.08271205 -0.03841728 -0.05125495  0.0696508  -0.04583404 -0.03300831\n",
            "   0.02084532  0.02510514 -0.00386286  0.02663006 -0.01033021  0.04443859\n",
            "   0.0134365   0.01669644  0.02884872  0.0062357   0.03685488 -0.01651598\n",
            "  -0.03654168 -0.00827798  0.03610681 -0.00036786  0.02933919  0.0705359\n",
            "   0.00662979 -0.02592172 -0.05549659 -0.0114327  -0.07384817  0.04388844\n",
            "   0.01131782 -0.01045991  0.07020476  0.0187674   0.01457923 -0.0235283\n",
            "  -0.00897757 -0.03928631  0.05729375  0.01122955 -0.02772495  0.05120038\n",
            "  -0.08722084 -0.00529839 -0.01757024  0.04373904  0.00993079 -0.02119708\n",
            "   0.04210895 -0.03403823 -0.03529537 -0.03409651  0.0255609  -0.07994852\n",
            "   0.02154084 -0.02813746 -0.04921315  0.02230313 -0.03182837 -0.03990169\n",
            "   0.03268234 -0.02368475]]\n",
            "Length of the sentence embedding:\n",
            "512\n"
          ]
        }
      ]
    },
    {
      "cell_type": "markdown",
      "source": [
        "### Building and fitting model 2"
      ],
      "metadata": {
        "id": "UVQDNHqmOV1d"
      }
    },
    {
      "cell_type": "code",
      "source": [
        "# Define feature extraction model using the input layer\n",
        "inputs = layers.Input(shape=[], dtype=tf.string)\n",
        "pretrained_embedding = tf_hub_embedding_layer(inputs)\n",
        "x = layers.Dense(128, activation=\"relu\")(pretrained_embedding) # could be more\n",
        "outputs = layers.Dense(num_classes, activation=\"softmax\")(x)\n",
        "\n",
        "model_2 = tf.keras.Model(inputs, outputs, name=\"model_2_USE_feature_extraction\")\n",
        "\n",
        "# Compile the model\n",
        "model_2.compile(optimizer=tf.keras.optimizers.Adam(),\n",
        "                loss=\"categorical_crossentropy\",\n",
        "                metrics=[\"accuracy\"])"
      ],
      "metadata": {
        "id": "PUmX9R55O7mv"
      },
      "execution_count": 186,
      "outputs": []
    },
    {
      "cell_type": "code",
      "source": [
        "model_2.summary()"
      ],
      "metadata": {
        "colab": {
          "base_uri": "https://localhost:8080/"
        },
        "id": "eDinyjZoySGD",
        "outputId": "a4b0eb57-80c5-4913-e93a-c09439da2a5a"
      },
      "execution_count": 187,
      "outputs": [
        {
          "output_type": "stream",
          "name": "stdout",
          "text": [
            "Model: \"model_2_USE_feature_extraction\"\n",
            "_________________________________________________________________\n",
            " Layer (type)                Output Shape              Param #   \n",
            "=================================================================\n",
            " input_8 (InputLayer)        [(None,)]                 0         \n",
            "                                                                 \n",
            " universal_sentence_encoder  (None, 512)               256797824 \n",
            "  (KerasLayer)                                                   \n",
            "                                                                 \n",
            " dense_9 (Dense)             (None, 128)               65664     \n",
            "                                                                 \n",
            " dense_10 (Dense)            (None, 5)                 645       \n",
            "                                                                 \n",
            "=================================================================\n",
            "Total params: 256864133 (979.86 MB)\n",
            "Trainable params: 66309 (259.02 KB)\n",
            "Non-trainable params: 256797824 (979.61 MB)\n",
            "_________________________________________________________________\n"
          ]
        }
      ]
    },
    {
      "cell_type": "code",
      "source": [
        "# Fit model 2\n",
        "history_model_2 = model_2.fit(train_dataset,\n",
        "                              epochs=5,\n",
        "                              steps_per_epoch=int(0.1*len(train_dataset)), # no need for this as the model trains fast anyway\n",
        "                              validation_data=valid_dataset,\n",
        "                              validation_steps=int(0.1*len(valid_dataset)))"
      ],
      "metadata": {
        "colab": {
          "base_uri": "https://localhost:8080/"
        },
        "id": "rrHOtYYayUd-",
        "outputId": "7accebb7-0347-43c2-b37d-fae84b53ca71"
      },
      "execution_count": 188,
      "outputs": [
        {
          "output_type": "stream",
          "name": "stdout",
          "text": [
            "Epoch 1/5\n",
            "562/562 [==============================] - 10s 13ms/step - loss: 0.9154 - accuracy: 0.6505 - val_loss: 0.7971 - val_accuracy: 0.6875\n",
            "Epoch 2/5\n",
            "562/562 [==============================] - 9s 17ms/step - loss: 0.7700 - accuracy: 0.7012 - val_loss: 0.7575 - val_accuracy: 0.7021\n",
            "Epoch 3/5\n",
            "562/562 [==============================] - 9s 15ms/step - loss: 0.7544 - accuracy: 0.7112 - val_loss: 0.7417 - val_accuracy: 0.7138\n",
            "Epoch 4/5\n",
            "562/562 [==============================] - 7s 13ms/step - loss: 0.7208 - accuracy: 0.7219 - val_loss: 0.7135 - val_accuracy: 0.7284\n",
            "Epoch 5/5\n",
            "562/562 [==============================] - 10s 18ms/step - loss: 0.7291 - accuracy: 0.7198 - val_loss: 0.6935 - val_accuracy: 0.7327\n"
          ]
        }
      ]
    },
    {
      "cell_type": "code",
      "source": [
        "# Evaluate on the whole validation dataset\n",
        "model_2.evaluate(valid_dataset)"
      ],
      "metadata": {
        "colab": {
          "base_uri": "https://localhost:8080/"
        },
        "id": "VtXC7l9VzWx2",
        "outputId": "03c7351a-2cce-49fb-a709-9f25a3b9815e"
      },
      "execution_count": 189,
      "outputs": [
        {
          "output_type": "stream",
          "name": "stdout",
          "text": [
            "945/945 [==============================] - 10s 11ms/step - loss: 0.7012 - accuracy: 0.7327\n"
          ]
        },
        {
          "output_type": "execute_result",
          "data": {
            "text/plain": [
              "[0.7011848092079163, 0.7326890230178833]"
            ]
          },
          "metadata": {},
          "execution_count": 189
        }
      ]
    },
    {
      "cell_type": "code",
      "source": [
        "# Make predictions\n",
        "model_2_pred_probs = model_2.predict(val_sentences)\n",
        "model_2_pred_probs"
      ],
      "metadata": {
        "colab": {
          "base_uri": "https://localhost:8080/"
        },
        "id": "QfVaW2kVzsgo",
        "outputId": "827d94b9-c21b-4c19-c1c8-7a80292581d6"
      },
      "execution_count": 190,
      "outputs": [
        {
          "output_type": "stream",
          "name": "stdout",
          "text": [
            "945/945 [==============================] - 11s 11ms/step\n"
          ]
        },
        {
          "output_type": "execute_result",
          "data": {
            "text/plain": [
              "array([[6.5687078e-01, 1.9984104e-01, 2.5679127e-03, 1.3156119e-01,\n",
              "        9.1590043e-03],\n",
              "       [4.6044338e-01, 4.2827556e-01, 5.9258565e-03, 1.0292270e-01,\n",
              "        2.4324269e-03],\n",
              "       [3.5152844e-01, 7.2952919e-02, 4.5971707e-02, 4.8565364e-01,\n",
              "        4.3893334e-02],\n",
              "       ...,\n",
              "       [2.0067014e-03, 2.3839532e-03, 1.2162876e-01, 7.3955418e-04,\n",
              "        8.7324101e-01],\n",
              "       [2.6970110e-03, 2.4436895e-02, 4.7641468e-01, 1.0239101e-03,\n",
              "        4.9542749e-01],\n",
              "       [1.4720778e-01, 4.3478855e-01, 3.7801105e-01, 2.3133457e-03,\n",
              "        3.7679218e-02]], dtype=float32)"
            ]
          },
          "metadata": {},
          "execution_count": 190
        }
      ]
    },
    {
      "cell_type": "code",
      "source": [
        "# Convert to labels\n",
        "model_2_preds = tf.argmax(model_2_pred_probs, axis=1)\n",
        "model_2_preds"
      ],
      "metadata": {
        "colab": {
          "base_uri": "https://localhost:8080/"
        },
        "id": "KBcHKeFez_WN",
        "outputId": "0e32c962-d76f-4fb1-fcb9-761e9dba71c8"
      },
      "execution_count": 191,
      "outputs": [
        {
          "output_type": "execute_result",
          "data": {
            "text/plain": [
              "<tf.Tensor: shape=(30212,), dtype=int64, numpy=array([0, 0, 3, ..., 4, 4, 1])>"
            ]
          },
          "metadata": {},
          "execution_count": 191
        }
      ]
    },
    {
      "cell_type": "code",
      "source": [
        "# Calculate results\n",
        "model_2_results = calculate_results(val_labels_encoded, model_2_preds)\n",
        "model_2_results"
      ],
      "metadata": {
        "colab": {
          "base_uri": "https://localhost:8080/"
        },
        "id": "B34xf_Fn0bNi",
        "outputId": "2284748e-0479-4d08-f062-5411bb492e78"
      },
      "execution_count": 192,
      "outputs": [
        {
          "output_type": "execute_result",
          "data": {
            "text/plain": [
              "{'accuracy': 73.26889977492387,\n",
              " 'precision': 0.7287995799953695,\n",
              " 'recall': 0.7326889977492387,\n",
              " 'f1': 0.7266896187659425}"
            ]
          },
          "metadata": {},
          "execution_count": 192
        }
      ]
    },
    {
      "cell_type": "markdown",
      "source": [
        "## Model 3: Conv1D with character level embedding"
      ],
      "metadata": {
        "id": "PHalbM470zF3"
      }
    },
    {
      "cell_type": "markdown",
      "source": [
        "### Create a character-level tokenizer"
      ],
      "metadata": {
        "id": "J_yjsvJl1Mmf"
      }
    },
    {
      "cell_type": "code",
      "source": [
        "# Make function to split sentence into characters\n",
        "def split_chars(text):\n",
        "  return \" \".join(list(text))\n",
        "\n",
        "# Text splitting non-character-level sequence into characters\n",
        "split_chars(random_train_sentence)"
      ],
      "metadata": {
        "colab": {
          "base_uri": "https://localhost:8080/",
          "height": 35
        },
        "id": "nUIJBOuU2tPR",
        "outputId": "608c0804-2ef4-41eb-c872-f2dfef997300"
      },
      "execution_count": 193,
      "outputs": [
        {
          "output_type": "execute_result",
          "data": {
            "text/plain": [
              "'g r o u p   @   :   f d b a   /   -   t c p / r h p d g f - b b / c o l l a g e n   p l u g   .'"
            ],
            "application/vnd.google.colaboratory.intrinsic+json": {
              "type": "string"
            }
          },
          "metadata": {},
          "execution_count": 193
        }
      ]
    },
    {
      "cell_type": "code",
      "source": [
        "# Split sequence-level data splits into character-level data splits\n",
        "train_chars = [split_chars(sentence) for sentence in train_sentences]\n",
        "val_chars = [split_chars(sentence) for sentence in val_sentences]\n",
        "test_chars = [split_chars(sentence) for sentence in test_sentences]"
      ],
      "metadata": {
        "id": "ItPrRHsL3Mqb"
      },
      "execution_count": 194,
      "outputs": []
    },
    {
      "cell_type": "code",
      "source": [
        "# What is the average character length\n",
        "char_lens = [len(sentence) for sentence in train_sentences]\n",
        "mean_char_len = np.mean(char_lens)\n",
        "mean_char_len"
      ],
      "metadata": {
        "colab": {
          "base_uri": "https://localhost:8080/"
        },
        "id": "4Sa9bpyx3foO",
        "outputId": "1384f298-fbf6-4539-efcf-9a0e6a9e90b5"
      },
      "execution_count": 195,
      "outputs": [
        {
          "output_type": "execute_result",
          "data": {
            "text/plain": [
              "149.3662574983337"
            ]
          },
          "metadata": {},
          "execution_count": 195
        }
      ]
    },
    {
      "cell_type": "code",
      "source": [
        "# Check the distribution\n",
        "import matplotlib.pyplot as plt\n",
        "plt.hist(char_lens, bins=20);"
      ],
      "metadata": {
        "colab": {
          "base_uri": "https://localhost:8080/",
          "height": 430
        },
        "id": "gNmbPZAl4JXh",
        "outputId": "d1308531-fd6b-4270-eec4-6dbf32901bf3"
      },
      "execution_count": 196,
      "outputs": [
        {
          "output_type": "display_data",
          "data": {
            "text/plain": [
              "<Figure size 640x480 with 1 Axes>"
            ],
            "image/png": "[encoded data removed]"
          },
          "metadata": {}
        }
      ]
    },
    {
      "cell_type": "code",
      "source": [
        "# Find what character length covers 95% of sequences\n",
        "output_seq_char_len = int(np.percentile(char_lens, 95))\n",
        "output_seq_char_len"
      ],
      "metadata": {
        "colab": {
          "base_uri": "https://localhost:8080/"
        },
        "id": "80MCoQf24bRU",
        "outputId": "810a06c2-31ce-4756-c98f-afc14195a85e"
      },
      "execution_count": 197,
      "outputs": [
        {
          "output_type": "execute_result",
          "data": {
            "text/plain": [
              "290"
            ]
          },
          "metadata": {},
          "execution_count": 197
        }
      ]
    },
    {
      "cell_type": "code",
      "source": [
        "# Get all keyboard characters\n",
        "import string\n",
        "alphabet = string.ascii_lowercase + string.digits + string.punctuation\n",
        "alphabet"
      ],
      "metadata": {
        "colab": {
          "base_uri": "https://localhost:8080/",
          "height": 35
        },
        "id": "d6NerNBm41pc",
        "outputId": "3a89570c-be2a-454d-d460-59a8e7c8a7c7"
      },
      "execution_count": 198,
      "outputs": [
        {
          "output_type": "execute_result",
          "data": {
            "text/plain": [
              "'abcdefghijklmnopqrstuvwxyz0123456789!\"#$%&\\'()*+,-./:;<=>?@[\\\\]^_`{|}~'"
            ],
            "application/vnd.google.colaboratory.intrinsic+json": {
              "type": "string"
            }
          },
          "metadata": {},
          "execution_count": 198
        }
      ]
    },
    {
      "cell_type": "code",
      "source": [
        "# Create char-level tokenizer instance\n",
        "NUM_CHAR_TOKENS = len(alphabet) + 2 # for space and UNK\n",
        "char_vectorizer = TextVectorization(max_tokens=NUM_CHAR_TOKENS,\n",
        "                                       output_sequence_length=output_seq_char_len,\n",
        "                                       name=\"char_vectorizer\")"
      ],
      "metadata": {
        "id": "bksUI6zk5XXn"
      },
      "execution_count": 199,
      "outputs": []
    },
    {
      "cell_type": "code",
      "source": [
        "# Adapt to training characters\n",
        "char_vectorizer.adapt(train_chars)"
      ],
      "metadata": {
        "id": "i8JDaUeC6JWg"
      },
      "execution_count": 200,
      "outputs": []
    },
    {
      "cell_type": "code",
      "source": [
        "# Check vocab stats\n",
        "char_vocab = char_vectorizer.get_vocabulary()\n",
        "print(f\"Number of different characters in character vocab: {len(char_vocab)}\")\n",
        "print(f\"5 Most frequent chars: {char_vocab[:5]}\")\n",
        "print(f\"5 least frequent chars: {char_vocab[-5:]}\")"
      ],
      "metadata": {
        "colab": {
          "base_uri": "https://localhost:8080/"
        },
        "id": "MmX-ZFwg6RFN",
        "outputId": "5d0c7e5f-b81d-4893-e514-1b7398aeefcb"
      },
      "execution_count": 201,
      "outputs": [
        {
          "output_type": "stream",
          "name": "stdout",
          "text": [
            "Number of different characters in character vocab: 28\n",
            "5 Most frequent chars: ['', '[UNK]', 'e', 't', 'i']\n",
            "5 least frequent chars: ['k', 'x', 'z', 'q', 'j']\n"
          ]
        }
      ]
    },
    {
      "cell_type": "code",
      "source": [
        "# Test the character vectorizer\n",
        "random_train_chars = random.choice(train_chars)\n",
        "print(f\"Charified text:\\n {random_train_chars}\")\n",
        "print(f\"Length of sentence: {len(random_train_chars.split())}\")\n",
        "vectorized_chars = char_vectorizer([random_train_chars])\n",
        "print(f\"Tokenized text:\\n{vectorized_chars}\")\n",
        "print(f\"Length of tokenized text: {len(vectorized_chars[0])}\")"
      ],
      "metadata": {
        "colab": {
          "base_uri": "https://localhost:8080/"
        },
        "id": "p4kCnhTL6u_y",
        "outputId": "428e7c04-34c4-44c0-9bd3-b8f690febe28"
      },
      "execution_count": 202,
      "outputs": [
        {
          "output_type": "stream",
          "name": "stdout",
          "text": [
            "Charified text:\n",
            " f o r t y - e i g h t   p a t i e n t s   a f t e r   s u r g i c a l   o p e r a t i o n   o f   g a s t r i c   t u m o r   i n   h o s p i t a l   w e r e   r a n d o m l y   d i v i d e d   i n t o   t h e   c o n t r o l   g r o u p   a n d   i n t e r v e n t i o n   g r o u p   .\n",
            "Length of sentence: 124\n",
            "Tokenized text:\n",
            "[[17  7  8  3 19  2  4 18 13  3 14  5  3  4  2  6  3  9  5 17  3  2  8  9\n",
            "  16  8 18  4 11  5 12  7 14  2  8  5  3  4  7  6  7 17 18  5  9  3  8  4\n",
            "  11  3 16 15  7  8  4  6 13  7  9 14  4  3  5 12 20  2  8  2  8  5  6 10\n",
            "   7 15 12 19 10  4 21  4 10  2 10  4  6  3  7  3 13  2 11  7  6  3  8  7\n",
            "  12 18  8  7 16 14  5  6 10  4  6  3  2  8 21  2  6  3  4  7  6 18  8  7\n",
            "  16 14  0  0  0  0  0  0  0  0  0  0  0  0  0  0  0  0  0  0  0  0  0  0\n",
            "   0  0  0  0  0  0  0  0  0  0  0  0  0  0  0  0  0  0  0  0  0  0  0  0\n",
            "   0  0  0  0  0  0  0  0  0  0  0  0  0  0  0  0  0  0  0  0  0  0  0  0\n",
            "   0  0  0  0  0  0  0  0  0  0  0  0  0  0  0  0  0  0  0  0  0  0  0  0\n",
            "   0  0  0  0  0  0  0  0  0  0  0  0  0  0  0  0  0  0  0  0  0  0  0  0\n",
            "   0  0  0  0  0  0  0  0  0  0  0  0  0  0  0  0  0  0  0  0  0  0  0  0\n",
            "   0  0  0  0  0  0  0  0  0  0  0  0  0  0  0  0  0  0  0  0  0  0  0  0\n",
            "   0  0]]\n",
            "Length of tokenized text: 290\n"
          ]
        }
      ]
    },
    {
      "cell_type": "markdown",
      "source": [
        "### Create a character-level embedding"
      ],
      "metadata": {
        "id": "ql6CPnrt7-pH"
      }
    },
    {
      "cell_type": "code",
      "source": [
        "# Create char embedding\n",
        "char_embed = layers.Embedding(input_dim=len(char_vocab),\n",
        "                              output_dim=25, # the size of char embedding from table 1 in the paper\n",
        "                              mask_zero=True,\n",
        "                              name=\"char_embed\")"
      ],
      "metadata": {
        "id": "MNRRlDdk87zk"
      },
      "execution_count": 203,
      "outputs": []
    },
    {
      "cell_type": "code",
      "source": [
        "# Test out character embedding layer\n",
        "print(f\"Charified text:\\n{random_train_chars}\\n\")\n",
        "char_embed_example = char_embed(char_vectorizer([random_train_chars]))\n",
        "print(f\"Embedded text:\\n{char_embed_example}\\n\")\n",
        "print(f\"Char embedding shape: {char_embed_example.shape}\")"
      ],
      "metadata": {
        "colab": {
          "base_uri": "https://localhost:8080/"
        },
        "id": "BoVf0wiH9nH7",
        "outputId": "0b5c6899-6079-4318-ca91-49a343d76724"
      },
      "execution_count": 204,
      "outputs": [
        {
          "output_type": "stream",
          "name": "stdout",
          "text": [
            "Charified text:\n",
            "f o r t y - e i g h t   p a t i e n t s   a f t e r   s u r g i c a l   o p e r a t i o n   o f   g a s t r i c   t u m o r   i n   h o s p i t a l   w e r e   r a n d o m l y   d i v i d e d   i n t o   t h e   c o n t r o l   g r o u p   a n d   i n t e r v e n t i o n   g r o u p   .\n",
            "\n",
            "Embedded text:\n",
            "[[[-0.04968771  0.01640901  0.01907486 ...  0.03495282  0.00914017\n",
            "    0.0461879 ]\n",
            "  [ 0.01725695  0.01105155  0.01142843 ... -0.03390238 -0.04357433\n",
            "   -0.03172228]\n",
            "  [ 0.02969849 -0.04863552  0.01335374 ...  0.01064556  0.04038465\n",
            "   -0.00138516]\n",
            "  ...\n",
            "  [ 0.00590947 -0.02681882 -0.0191496  ...  0.00935812  0.0172517\n",
            "   -0.0362487 ]\n",
            "  [ 0.00590947 -0.02681882 -0.0191496  ...  0.00935812  0.0172517\n",
            "   -0.0362487 ]\n",
            "  [ 0.00590947 -0.02681882 -0.0191496  ...  0.00935812  0.0172517\n",
            "   -0.0362487 ]]]\n",
            "\n",
            "Char embedding shape: (1, 290, 25)\n"
          ]
        }
      ]
    },
    {
      "cell_type": "markdown",
      "source": [
        "## Model 3: Conv1D with character embedding\n"
      ],
      "metadata": {
        "id": "uitaRiFS-BOX"
      }
    },
    {
      "cell_type": "code",
      "source": [
        "# Make the model\n",
        "inputs = layers.Input(shape=(1,), dtype=tf.string)\n",
        "char_vectors = char_vectorizer(inputs)\n",
        "char_embeddings = char_embed(char_vectors)\n",
        "x = layers.Conv1D(64, kernel_size=10, padding=\"same\", activation=\"relu\")(char_embeddings)\n",
        "x = layers.GlobalMaxPooling1D()(x)\n",
        "outputs = layers.Dense(num_classes, activation=\"softmax\")(x)\n",
        "model_3 = tf.keras.Model(inputs, outputs, name=\"model_3_conv1d_char\")\n",
        "\n",
        "# Compile\n",
        "model_3.compile(optimizer=tf.keras.optimizers.Adam(),\n",
        "                loss=\"categorical_crossentropy\",\n",
        "                metrics=[\"accuracy\"])"
      ],
      "metadata": {
        "id": "ecvZlPki_FF1"
      },
      "execution_count": 205,
      "outputs": []
    },
    {
      "cell_type": "code",
      "source": [
        "model_3.summary()"
      ],
      "metadata": {
        "colab": {
          "base_uri": "https://localhost:8080/"
        },
        "id": "oz5bdlZaAZhz",
        "outputId": "e9fdedca-0ba3-45a5-c782-1841cf7ddbf5"
      },
      "execution_count": 206,
      "outputs": [
        {
          "output_type": "stream",
          "name": "stdout",
          "text": [
            "Model: \"model_3_conv1d_char\"\n",
            "_________________________________________________________________\n",
            " Layer (type)                Output Shape              Param #   \n",
            "=================================================================\n",
            " input_9 (InputLayer)        [(None, 1)]               0         \n",
            "                                                                 \n",
            " char_vectorizer (TextVecto  (None, 290)               0         \n",
            " rization)                                                       \n",
            "                                                                 \n",
            " char_embed (Embedding)      (None, 290, 25)           700       \n",
            "                                                                 \n",
            " conv1d_5 (Conv1D)           (None, 290, 64)           16064     \n",
            "                                                                 \n",
            " global_max_pooling1d_2 (Gl  (None, 64)                0         \n",
            " obalMaxPooling1D)                                               \n",
            "                                                                 \n",
            " dense_11 (Dense)            (None, 5)                 325       \n",
            "                                                                 \n",
            "=================================================================\n",
            "Total params: 17089 (66.75 KB)\n",
            "Trainable params: 17089 (66.75 KB)\n",
            "Non-trainable params: 0 (0.00 Byte)\n",
            "_________________________________________________________________\n"
          ]
        }
      ]
    },
    {
      "cell_type": "code",
      "source": [
        "# Turn data into tensorflow datasets\n",
        "train_char_dataset = tf.data.Dataset.from_tensor_slices((train_chars, train_labels_one_hot)) # It is absolutely crucial that tuple is used. List disconnects runtime\n",
        "val_char_dataset = tf.data.Dataset.from_tensor_slices((val_chars, val_labels_one_hot))\n",
        "test_char_dataset = tf.data.Dataset.from_tensor_slices((test_chars, test_labels_one_hot))\n",
        "\n",
        "train_char_dataset = train_char_dataset.batch(32).prefetch(tf.data.AUTOTUNE)\n",
        "val_char_dataset = val_char_dataset.batch(32).prefetch(tf.data.AUTOTUNE)\n",
        "test_char_dataset = test_char_dataset.batch(32).prefetch(tf.data.AUTOTUNE)"
      ],
      "metadata": {
        "id": "9E6KrHOhBB5C"
      },
      "execution_count": 207,
      "outputs": []
    },
    {
      "cell_type": "code",
      "source": [
        "# Fit the model on chars only\n",
        "model_3_history = model_3.fit(train_char_dataset,\n",
        "                              steps_per_epoch=int(0.1*len(train_char_dataset)),\n",
        "                              epochs=5,\n",
        "                              validation_data=val_char_dataset,\n",
        "                              validation_steps=int(0.1*len(val_char_dataset)))"
      ],
      "metadata": {
        "id": "NxE3UwVuCEZi",
        "colab": {
          "base_uri": "https://localhost:8080/"
        },
        "outputId": "e0387012-3ab9-44d4-c8d1-9cd78a0e672c"
      },
      "execution_count": 208,
      "outputs": [
        {
          "output_type": "stream",
          "name": "stdout",
          "text": [
            "Epoch 1/5\n",
            "562/562 [==============================] - 5s 7ms/step - loss: 1.1970 - accuracy: 0.5120 - val_loss: 0.9922 - val_accuracy: 0.6134\n",
            "Epoch 2/5\n",
            "562/562 [==============================] - 3s 6ms/step - loss: 0.9510 - accuracy: 0.6276 - val_loss: 0.8803 - val_accuracy: 0.6496\n",
            "Epoch 3/5\n",
            "562/562 [==============================] - 5s 8ms/step - loss: 0.8729 - accuracy: 0.6599 - val_loss: 0.8077 - val_accuracy: 0.6902\n",
            "Epoch 4/5\n",
            "562/562 [==============================] - 3s 6ms/step - loss: 0.8179 - accuracy: 0.6884 - val_loss: 0.7730 - val_accuracy: 0.7061\n",
            "Epoch 5/5\n",
            "562/562 [==============================] - 4s 6ms/step - loss: 0.8030 - accuracy: 0.6899 - val_loss: 0.7516 - val_accuracy: 0.7144\n"
          ]
        }
      ]
    },
    {
      "cell_type": "code",
      "source": [
        "# Make predictions with characters only\n",
        "model_3_pred_probs = model_3.predict(val_char_dataset)\n",
        "model_3_pred_probs"
      ],
      "metadata": {
        "id": "gD0978CRC2RG",
        "colab": {
          "base_uri": "https://localhost:8080/"
        },
        "outputId": "8ac79902-73a0-4dbb-e5c9-5a77ec99d8bc"
      },
      "execution_count": 210,
      "outputs": [
        {
          "output_type": "stream",
          "name": "stdout",
          "text": [
            "945/945 [==============================] - 5s 5ms/step\n"
          ]
        },
        {
          "output_type": "execute_result",
          "data": {
            "text/plain": [
              "array([[0.35305256, 0.37391   , 0.03006953, 0.23067987, 0.01228806],\n",
              "       [0.2196107 , 0.5898319 , 0.00790662, 0.16048644, 0.02216437],\n",
              "       [0.08753929, 0.28441453, 0.01453636, 0.6087473 , 0.00476241],\n",
              "       ...,\n",
              "       [0.02416169, 0.0856735 , 0.08134787, 0.01550055, 0.79331636],\n",
              "       [0.06339587, 0.18605056, 0.44433728, 0.07884803, 0.22736825],\n",
              "       [0.39802793, 0.48936576, 0.08453597, 0.0234061 , 0.00466412]],\n",
              "      dtype=float32)"
            ]
          },
          "metadata": {},
          "execution_count": 210
        }
      ]
    },
    {
      "cell_type": "code",
      "source": [
        "# Convert pred probs to preds\n",
        "model_3_preds = tf.argmax(model_3_pred_probs, axis=1)\n",
        "model_3_preds"
      ],
      "metadata": {
        "id": "E-Rf3V3mDdUo",
        "colab": {
          "base_uri": "https://localhost:8080/"
        },
        "outputId": "207c8878-db89-4697-b582-2f60d16f3ac2"
      },
      "execution_count": 211,
      "outputs": [
        {
          "output_type": "execute_result",
          "data": {
            "text/plain": [
              "<tf.Tensor: shape=(30212,), dtype=int64, numpy=array([1, 1, 3, ..., 4, 2, 1])>"
            ]
          },
          "metadata": {},
          "execution_count": 211
        }
      ]
    },
    {
      "cell_type": "code",
      "source": [
        "# Calculate results\n",
        "model_3_results = calculate_results(val_labels_encoded, model_3_preds)\n",
        "model_3_results"
      ],
      "metadata": {
        "colab": {
          "base_uri": "https://localhost:8080/"
        },
        "id": "gFb7UwcayD-D",
        "outputId": "dc13cb25-64ea-4ce9-bfaf-ae3e21b5e12e"
      },
      "execution_count": 212,
      "outputs": [
        {
          "output_type": "execute_result",
          "data": {
            "text/plain": [
              "{'accuracy': 70.6374950350854,\n",
              " 'precision': 0.7089998472639079,\n",
              " 'recall': 0.706374950350854,\n",
              " 'f1': 0.7045700294361602}"
            ]
          },
          "metadata": {},
          "execution_count": 212
        }
      ]
    },
    {
      "cell_type": "markdown",
      "source": [
        "## Model 4: Token+character embedding\n",
        "\n",
        "1. Create a token-level embedding\n",
        "2. Create a character-level model\n",
        "3. Combine 1 and 2 with a concatenate layer\n",
        "4. Build a series of output layers on top of 3\n",
        "5. Construct the model"
      ],
      "metadata": {
        "id": "DwiXN8WRyVai"
      }
    },
    {
      "cell_type": "code",
      "source": [
        "# 1. Setup token inputs/model\n",
        "token_inputs = layers.Input(shape=[], dtype=tf.string, name=\"token_input\")\n",
        "token_embeddings = tf_hub_embedding_layer(token_inputs)\n",
        "token_outputs = layers.Dense(128, activation=\"relu\")(token_embeddings)\n",
        "token_model = tf.keras.Model(token_inputs, token_outputs)\n",
        "\n",
        "# 2. Setup char/inputs model\n",
        "char_inputs = layers.Input(shape=(1,), dtype=tf.string, name=\"char_input\")\n",
        "char_vectors = char_vectorizer(char_inputs)\n",
        "char_embeddings = char_embed(char_vectors)\n",
        "char_bi_lstm = layers.Bidirectional(layers.LSTM(24))(char_embeddings) # bi-LSTM shown in fig 1 of the paper\n",
        "char_model = tf.keras.Model(char_inputs, char_bi_lstm)\n",
        "\n",
        "# 3. Concatenate 1 and 2 outputs\n",
        "token_char_concat = layers.Concatenate(name=\"token_char_hybrid\")([token_model.output, char_model.output])\n",
        "\n",
        "# 4.Create output layers adding dropout\n",
        "combined_dropout = layers.Dropout(.5)(token_char_concat) # randomly sets weights to 0 to prevent overfitting. 50% here\n",
        "combined_dense = layers.Dense(128, activation=\"relu\")(combined_dropout)\n",
        "final_dropout = layers.Dropout(0.5)(combined_dense)\n",
        "output_layer = layers.Dense(num_classes, activation=\"softmax\")(final_dropout)\n",
        "\n",
        "# 5. Construct the model\n",
        "model_4 = tf.keras.Model(inputs=[token_model.input, char_model.input],\n",
        "                         outputs=output_layer,\n",
        "                         name=\"model_4_char_and_token\")\n",
        "\n",
        "model_4.summary()"
      ],
      "metadata": {
        "id": "rlfI77ykzFY6",
        "outputId": "d1b4f3b8-fc3b-4c28-cef0-17bcb503ebf2",
        "colab": {
          "base_uri": "https://localhost:8080/"
        }
      },
      "execution_count": 216,
      "outputs": [
        {
          "output_type": "stream",
          "name": "stdout",
          "text": [
            "Model: \"model_4_char_and_token\"\n",
            "__________________________________________________________________________________________________\n",
            " Layer (type)                Output Shape                 Param #   Connected to                  \n",
            "==================================================================================================\n",
            " char_input (InputLayer)     [(None, 1)]                  0         []                            \n",
            "                                                                                                  \n",
            " token_input (InputLayer)    [(None,)]                    0         []                            \n",
            "                                                                                                  \n",
            " char_vectorizer (TextVecto  (None, 290)                  0         ['char_input[0][0]']          \n",
            " rization)                                                                                        \n",
            "                                                                                                  \n",
            " universal_sentence_encoder  (None, 512)                  2567978   ['token_input[0][0]']         \n",
            "  (KerasLayer)                                            24                                      \n",
            "                                                                                                  \n",
            " char_embed (Embedding)      (None, 290, 25)              700       ['char_vectorizer[1][0]']     \n",
            "                                                                                                  \n",
            " dense_13 (Dense)            (None, 128)                  65664     ['universal_sentence_encoder[2\n",
            "                                                                    ][0]']                        \n",
            "                                                                                                  \n",
            " bidirectional (Bidirection  (None, 48)                   9600      ['char_embed[1][0]']          \n",
            " al)                                                                                              \n",
            "                                                                                                  \n",
            " token_char_hybrid (Concate  (None, 176)                  0         ['dense_13[0][0]',            \n",
            " nate)                                                               'bidirectional[0][0]']       \n",
            "                                                                                                  \n",
            " dropout (Dropout)           (None, 176)                  0         ['token_char_hybrid[0][0]']   \n",
            "                                                                                                  \n",
            " dense_14 (Dense)            (None, 128)                  22656     ['dropout[0][0]']             \n",
            "                                                                                                  \n",
            " dropout_1 (Dropout)         (None, 128)                  0         ['dense_14[0][0]']            \n",
            "                                                                                                  \n",
            " dense_15 (Dense)            (None, 5)                    645       ['dropout_1[0][0]']           \n",
            "                                                                                                  \n",
            "==================================================================================================\n",
            "Total params: 256897089 (979.98 MB)\n",
            "Trainable params: 99265 (387.75 KB)\n",
            "Non-trainable params: 256797824 (979.61 MB)\n",
            "__________________________________________________________________________________________________\n"
          ]
        }
      ]
    },
    {
      "cell_type": "code",
      "source": [
        "# PLot the model\n",
        "from keras.utils import plot_model\n",
        "plot_model(model_4, show_shapes=True)"
      ],
      "metadata": {
        "id": "xtPuUP4T0X3d",
        "outputId": "745adc12-0fa2-45f0-cf9b-73afa75f33f9",
        "colab": {
          "base_uri": "https://localhost:8080/",
          "height": 976
        }
      },
      "execution_count": 218,
      "outputs": [
        {
          "output_type": "execute_result",
          "data": {
            "image/png": "[encoded data removed]",
            "text/plain": [
              "<IPython.core.display.Image object>"
            ]
          },
          "metadata": {},
          "execution_count": 218
        }
      ]
    },
    {
      "cell_type": "markdown",
      "source": [
        "https://medium.com/airbnb-engineering/widetext-a-multimodal-deep-learning-framework-31ce2565880c"
      ],
      "metadata": {
        "id": "mNCS5jy-4niZ"
      }
    },
    {
      "cell_type": "code",
      "source": [
        "# Compile the model\n",
        "model_4.compile(optimizer=tf.keras.optimizers.Adam(),# in the paper they use SGD\n",
        "                loss=\"categorical_crossentropy\",\n",
        "                metrics=[\"accuracy\"])"
      ],
      "metadata": {
        "id": "P4eeY_I65ORY"
      },
      "execution_count": 221,
      "outputs": []
    },
    {
      "cell_type": "markdown",
      "source": [
        "### Combining the token and char dataset into a tf.data.Dataset"
      ],
      "metadata": {
        "id": "tJsa9cJP6NCs"
      }
    },
    {
      "cell_type": "code",
      "source": [
        "# Create efficient input data pipelines\n",
        "# Combine char and token inputs into a dataset\n",
        "train_char_token_data = tf.data.Dataset.from_tensor_slices((train_sentences, train_chars)) # Make dataset out of inputs\n",
        "train_char_token_labels = tf.data.Dataset.from_tensor_slices(train_labels_one_hot) # Make dataset out of labels\n",
        "train_char_token_dataset = tf.data.Dataset.zip((train_char_token_data, train_char_token_labels)) # Combine (zip) into a model-digestable dataset"
      ],
      "metadata": {
        "id": "t0CHf29k5zVq"
      },
      "execution_count": null,
      "outputs": []
    }
  ]
}