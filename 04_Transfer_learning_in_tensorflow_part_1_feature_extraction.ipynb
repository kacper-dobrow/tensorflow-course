{
  "nbformat": 4,
  "nbformat_minor": 0,
  "metadata": {
    "colab": {
      "provenance": [],
      "gpuType": "T4",
      "authorship_tag": "ABX9TyOi4qfcuG0TI+n1yom9q6Sy",
      "include_colab_link": true
    },
    "kernelspec": {
      "name": "python3",
      "display_name": "Python 3"
    },
    "language_info": {
      "name": "python"
    },
    "accelerator": "GPU"
  },
  "cells": [
    {
      "cell_type": "markdown",
      "metadata": {
        "id": "view-in-github",
        "colab_type": "text"
      },
      "source": [
        "<a href=\"https://colab.research.google.com/github/kacper-dobrow/tensorflow-course/blob/main/04_Transfer_learning_in_tensorflow_part_1_feature_extraction.ipynb\" target=\"_parent\"><img src=\"https://colab.research.google.com/assets/colab-badge.svg\" alt=\"Open In Colab\"/></a>"
      ]
    },
    {
      "cell_type": "markdown",
      "source": [
        "# Transfer learning with tensorflow Part 1: Feature Extraction\n",
        "\n",
        "Transfer learning is leveraging a working model's existing architecture and learned patterns\n",
        "\n",
        "Main 2 benefits:\n",
        "1. Can leverage an existing neural net architecture proven to work on problems similar to ours\n",
        "2. Can leverage a working neural net architecture which has already learned patterns on similar data to our own and we can adapt these patterns to our own"
      ],
      "metadata": {
        "id": "m95xI3hD7Bvv"
      }
    },
    {
      "cell_type": "code",
      "source": [
        "# are we using a GPU\n",
        "!nvidia-smi"
      ],
      "metadata": {
        "colab": {
          "base_uri": "https://localhost:8080/"
        },
        "id": "HyUDuy6YUtY3",
        "outputId": "e4c42940-9ce5-4e4c-ef03-aa4b30d36c05"
      },
      "execution_count": 1,
      "outputs": [
        {
          "output_type": "stream",
          "name": "stdout",
          "text": [
            "Thu Oct 12 09:59:33 2023       \n",
            "+-----------------------------------------------------------------------------+\n",
            "| NVIDIA-SMI 525.105.17   Driver Version: 525.105.17   CUDA Version: 12.0     |\n",
            "|-------------------------------+----------------------+----------------------+\n",
            "| GPU  Name        Persistence-M| Bus-Id        Disp.A | Volatile Uncorr. ECC |\n",
            "| Fan  Temp  Perf  Pwr:Usage/Cap|         Memory-Usage | GPU-Util  Compute M. |\n",
            "|                               |                      |               MIG M. |\n",
            "|===============================+======================+======================|\n",
            "|   0  Tesla T4            Off  | 00000000:00:04.0 Off |                    0 |\n",
            "| N/A   45C    P8    10W /  70W |      0MiB / 15360MiB |      0%      Default |\n",
            "|                               |                      |                  N/A |\n",
            "+-------------------------------+----------------------+----------------------+\n",
            "                                                                               \n",
            "+-----------------------------------------------------------------------------+\n",
            "| Processes:                                                                  |\n",
            "|  GPU   GI   CI        PID   Type   Process name                  GPU Memory |\n",
            "|        ID   ID                                                   Usage      |\n",
            "|=============================================================================|\n",
            "|  No running processes found                                                 |\n",
            "+-----------------------------------------------------------------------------+\n"
          ]
        }
      ]
    },
    {
      "cell_type": "markdown",
      "source": [
        "## Downloading and becoming one with the data"
      ],
      "metadata": {
        "id": "Qz0KoTtWU8Kn"
      }
    },
    {
      "cell_type": "code",
      "source": [
        "# Get data - 10% of 10 food types from food 101\n",
        "import zipfile\n",
        "\n",
        "# download the data\n",
        "!wget https://storage.googleapis.com/ztm_tf_course/food_vision/10_food_classes_10_percent.zip\n",
        "\n",
        "# Unzip the downloaded file\n",
        "zip_ref = zipfile.ZipFile('10_food_classes_10_percent.zip')\n",
        "zip_ref.extractall()\n",
        "zip_ref.close()"
      ],
      "metadata": {
        "colab": {
          "base_uri": "https://localhost:8080/"
        },
        "id": "bg6752THVBSu",
        "outputId": "3fc23f91-9de7-45a9-f106-32b79aa03529"
      },
      "execution_count": 2,
      "outputs": [
        {
          "output_type": "stream",
          "name": "stdout",
          "text": [
            "--2023-10-12 10:03:05--  https://storage.googleapis.com/ztm_tf_course/food_vision/10_food_classes_10_percent.zip\n",
            "Resolving storage.googleapis.com (storage.googleapis.com)... 173.194.202.207, 173.194.203.207, 74.125.20.207, ...\n",
            "Connecting to storage.googleapis.com (storage.googleapis.com)|173.194.202.207|:443... connected.\n",
            "HTTP request sent, awaiting response... 200 OK\n",
            "Length: 168546183 (161M) [application/zip]\n",
            "Saving to: ‘10_food_classes_10_percent.zip’\n",
            "\n",
            "10_food_classes_10_ 100%[===================>] 160.74M   164MB/s    in 1.0s    \n",
            "\n",
            "2023-10-12 10:03:06 (164 MB/s) - ‘10_food_classes_10_percent.zip’ saved [168546183/168546183]\n",
            "\n"
          ]
        }
      ]
    },
    {
      "cell_type": "code",
      "source": [
        "# How many images in each folder\n",
        "import os\n",
        "\n",
        "# Walk through the folder and list number of paths\n",
        "for dirpath, dirnames, filenames in os.walk('10_food_classes_10_percent'):\n",
        "  print(f'There are {len(dirnames)} directories and {len(filenames)} images in \"{dirpath}\".')\n"
      ],
      "metadata": {
        "colab": {
          "base_uri": "https://localhost:8080/"
        },
        "id": "U4I00rWeVv44",
        "outputId": "9a57c53b-ee29-40b6-8e0f-f724aa0a58b3"
      },
      "execution_count": 4,
      "outputs": [
        {
          "output_type": "stream",
          "name": "stdout",
          "text": [
            "There are 2 directories and 0 images in \"10_food_classes_10_percent\".\n",
            "There are 10 directories and 0 images in \"10_food_classes_10_percent/test\".\n",
            "There are 0 directories and 250 images in \"10_food_classes_10_percent/test/pizza\".\n",
            "There are 0 directories and 250 images in \"10_food_classes_10_percent/test/grilled_salmon\".\n",
            "There are 0 directories and 250 images in \"10_food_classes_10_percent/test/sushi\".\n",
            "There are 0 directories and 250 images in \"10_food_classes_10_percent/test/ramen\".\n",
            "There are 0 directories and 250 images in \"10_food_classes_10_percent/test/chicken_curry\".\n",
            "There are 0 directories and 250 images in \"10_food_classes_10_percent/test/hamburger\".\n",
            "There are 0 directories and 250 images in \"10_food_classes_10_percent/test/steak\".\n",
            "There are 0 directories and 250 images in \"10_food_classes_10_percent/test/fried_rice\".\n",
            "There are 0 directories and 250 images in \"10_food_classes_10_percent/test/ice_cream\".\n",
            "There are 0 directories and 250 images in \"10_food_classes_10_percent/test/chicken_wings\".\n",
            "There are 10 directories and 0 images in \"10_food_classes_10_percent/train\".\n",
            "There are 0 directories and 75 images in \"10_food_classes_10_percent/train/pizza\".\n",
            "There are 0 directories and 75 images in \"10_food_classes_10_percent/train/grilled_salmon\".\n",
            "There are 0 directories and 75 images in \"10_food_classes_10_percent/train/sushi\".\n",
            "There are 0 directories and 75 images in \"10_food_classes_10_percent/train/ramen\".\n",
            "There are 0 directories and 75 images in \"10_food_classes_10_percent/train/chicken_curry\".\n",
            "There are 0 directories and 75 images in \"10_food_classes_10_percent/train/hamburger\".\n",
            "There are 0 directories and 75 images in \"10_food_classes_10_percent/train/steak\".\n",
            "There are 0 directories and 75 images in \"10_food_classes_10_percent/train/fried_rice\".\n",
            "There are 0 directories and 75 images in \"10_food_classes_10_percent/train/ice_cream\".\n",
            "There are 0 directories and 75 images in \"10_food_classes_10_percent/train/chicken_wings\".\n"
          ]
        }
      ]
    },
    {
      "cell_type": "markdown",
      "source": [
        "## Create some dataloaders\n",
        "\n",
        "We'll use the ImageDataGenerator class to load in our images"
      ],
      "metadata": {
        "id": "dFO7erymW1qx"
      }
    },
    {
      "cell_type": "code",
      "source": [
        "# Setup data inputs\n",
        "from tensorflow.keras.preprocessing.image import ImageDataGenerator\n",
        "\n",
        "IMG_SHAPE = (224,224) # often if you see variables CAPITALIZED it means it is sort of a hyperparameter\n",
        "BATCH_SIZE = 32\n",
        "\n",
        "train_dir = '10_food_classes_10_percent/train/'\n",
        "test_dir = '10_food_classes_10_percent/test/'\n",
        "\n",
        "train_datagen = ImageDataGenerator(rescale = 1./255.)\n",
        "test_datagen = ImageDataGenerator(rescale = 1./255.)\n",
        "\n",
        "print('Training images:')\n",
        "train_data_10_percent = train_datagen.flow_from_directory(train_dir,\n",
        "                                                          target_size = IMG_SHAPE,\n",
        "                                                          batch_size = BATCH_SIZE,\n",
        "                                                          class_mode = 'categorical')\n",
        "\n",
        "print('Testing images:')\n",
        "test_data = test_datagen.flow_from_directory(test_dir,\n",
        "                                             target_size = IMG_SHAPE,\n",
        "                                             batch_size = BATCH_SIZE,\n",
        "                                             class_mode = 'categorical')"
      ],
      "metadata": {
        "colab": {
          "base_uri": "https://localhost:8080/"
        },
        "id": "ztNRld_BXsjA",
        "outputId": "b9924d14-bc49-4328-c987-6f29a5b23a88"
      },
      "execution_count": 17,
      "outputs": [
        {
          "output_type": "stream",
          "name": "stdout",
          "text": [
            "Training images:\n",
            "Found 750 images belonging to 10 classes.\n",
            "Testing images:\n",
            "Found 2500 images belonging to 10 classes.\n"
          ]
        }
      ]
    },
    {
      "cell_type": "markdown",
      "source": [
        "## Setting up callbacks (things to run while the net trains)\n",
        "\n",
        "Callbacks are extra functionality you can add to your models to be performed during or after training. Most popular onse are:\n",
        "* Tracking experiments with the TensorBoard callback\n",
        "* Model checkpoint  with the ModelCheckpoint callback\n",
        "* Stopping the model from training with EarlyStopping callback\n"
      ],
      "metadata": {
        "id": "n-4Egticn8qN"
      }
    },
    {
      "cell_type": "code",
      "source": [
        "# Create TensorBoard callback\n",
        "import datetime\n",
        "\n",
        "def create_tensorboard_callback(dir_name, experiment_name):\n",
        "  log_dir = dir_name + '/' + experiment_name + '/' + datetime.datetime.now().strftime('Y%m%d-%H%M%S')\n",
        "  tensorboard_callback = tf.keras.callbacks.TensorBoard(log_dir = log_dir)\n",
        "  print(f'Saving TensorBoard log files to: {log_dir}')\n",
        "  return tensorboard_callback"
      ],
      "metadata": {
        "id": "QwEblZu0pYpx"
      },
      "execution_count": 6,
      "outputs": []
    },
    {
      "cell_type": "markdown",
      "source": [
        "## Creating models using TensorFlow Hub\n",
        "\n",
        "In the past we used TensorFlow to create our own models layer by layer from scratch.\n",
        "\n",
        "Now we're going to do a similar process, except the majority of our model's layers are going to come from TensorFlow Hub.\n",
        "\n",
        "We can access the pretrained models at: tfhub.dev\n",
        "https://paperswithcode.com/\n",
        "\n",
        "Browsing the tfhub.com and sorting for image classification nets we came across\n",
        "https://tfhub.dev/tensorflow/efficientnet/b0/feature-vector/1\n",
        "\n",
        "https://tfhub.dev/google/imagenet/resnet_v2_50/feature_vector/5\n",
        "\n",
        "Let's compare these two"
      ],
      "metadata": {
        "id": "lxKns-19rDQl"
      }
    },
    {
      "cell_type": "code",
      "source": [
        "efficientnet_url = 'https://tfhub.dev/tensorflow/efficientnet/b0/feature-vector/1'\n",
        "resnet_url = 'https://tfhub.dev/google/imagenet/resnet_v2_50/feature_vector/5'"
      ],
      "metadata": {
        "id": "LCs7oLuDr_ME"
      },
      "execution_count": 7,
      "outputs": []
    },
    {
      "cell_type": "code",
      "source": [
        "# Import dependencies\n",
        "import tensorflow as tf\n",
        "import tensorflow_hub as hub\n",
        "from tensorflow.keras import layers"
      ],
      "metadata": {
        "id": "ky7_8BOvu2f3"
      },
      "execution_count": 9,
      "outputs": []
    },
    {
      "cell_type": "code",
      "source": [
        "IMG_SHAPE+(3,) # just to demonstrate the syntax hack"
      ],
      "metadata": {
        "colab": {
          "base_uri": "https://localhost:8080/"
        },
        "id": "7d2wQpzixa5A",
        "outputId": "fc6fddbd-fea9-4fd0-a190-5ac5b12d8938"
      },
      "execution_count": 10,
      "outputs": [
        {
          "output_type": "execute_result",
          "data": {
            "text/plain": [
              "(224, 224, 3)"
            ]
          },
          "metadata": {},
          "execution_count": 10
        }
      ]
    },
    {
      "cell_type": "code",
      "source": [
        "# Let's create a model function to create a model from url\n",
        "def create_model_from_url(model_url, num_classes = 10):\n",
        "  \"\"\"\n",
        "  Takes a TensorFlow Hub URL and creates a keras Sequential model with it.\n",
        "\n",
        "  Args:\n",
        "    model_url (str): A TensorFlow Hub feature extraction URL\n",
        "    num_classes (int): Number of output neurons in the output layer. Should be equal to number of target classes\n",
        "\n",
        "  Returns:\n",
        "    An uncompiled Keras Sequential model with model_url as feature extractor layer andDense output layer with num_classes output neurons.\n",
        "  \"\"\"\n",
        "  # Download the pretrained model and save it as a Keras layer\n",
        "  feature_extraction_layer = hub.KerasLayer(model_url,\n",
        "                                           trainable = False, # Freeze the already learned patterns\n",
        "                                           name = 'feaure_extraction_layer',\n",
        "                                           input_shape = IMG_SHAPE+(3,))\n",
        "  # Create our own model\n",
        "  model = tf.keras.Sequential([\n",
        "      feature_extraction_layer,\n",
        "      layers.Dense(num_classes, activation = 'softmax', name = 'output_layer')\n",
        "  ])\n",
        "\n",
        "  return model"
      ],
      "metadata": {
        "id": "wU1Y-XYmvfhk"
      },
      "execution_count": 13,
      "outputs": []
    },
    {
      "cell_type": "markdown",
      "source": [
        "### Creating and testing ResNet TensorFlow Hub feature extraction model"
      ],
      "metadata": {
        "id": "7HZSd_OGyI-o"
      }
    },
    {
      "cell_type": "code",
      "source": [
        "# Create the resnet model\n",
        "resnet_model = create_model_from_url(resnet_url,\n",
        "                                     num_classes = train_data_10_percent.num_classes)"
      ],
      "metadata": {
        "id": "dIVs2PqFyAPn"
      },
      "execution_count": 14,
      "outputs": []
    },
    {
      "cell_type": "code",
      "source": [
        "resnet_model.summary()"
      ],
      "metadata": {
        "colab": {
          "base_uri": "https://localhost:8080/"
        },
        "id": "_KncrpogypDC",
        "outputId": "e3950a0d-13d7-45dd-caa0-f7eb46439a3b"
      },
      "execution_count": 15,
      "outputs": [
        {
          "output_type": "stream",
          "name": "stdout",
          "text": [
            "Model: \"sequential\"\n",
            "_________________________________________________________________\n",
            " Layer (type)                Output Shape              Param #   \n",
            "=================================================================\n",
            " feaure_extraction_layer (K  (None, 2048)              23564800  \n",
            " erasLayer)                                                      \n",
            "                                                                 \n",
            " output_layer (Dense)        (None, 10)                20490     \n",
            "                                                                 \n",
            "=================================================================\n",
            "Total params: 23585290 (89.97 MB)\n",
            "Trainable params: 20490 (80.04 KB)\n",
            "Non-trainable params: 23564800 (89.89 MB)\n",
            "_________________________________________________________________\n"
          ]
        }
      ]
    },
    {
      "cell_type": "code",
      "source": [
        "# Compile\n",
        "resnet_model.compile(optimizer = tf.keras.optimizers.Adam(),\n",
        "                     loss = 'categorical_crossentropy',\n",
        "                     metrics = 'accuracy')\n"
      ],
      "metadata": {
        "id": "X3sKKIJZy942"
      },
      "execution_count": 16,
      "outputs": []
    },
    {
      "cell_type": "code",
      "source": [
        "history_resnet = resnet_model.fit(train_data_10_percent,\n",
        "                                  epochs = 5,\n",
        "                                  steps_per_epoch = len(train_data_10_percent),\n",
        "                                  validation_data = test_data_10_percent,\n",
        "                                  validation_steps = len(test_data),\n",
        "                                  callbacks = [create_tensorboard_callback(dir_name = 'tensorflow_hub',\n",
        "                                                                           experiment_name = 'resnet50V2')])"
      ],
      "metadata": {
        "colab": {
          "base_uri": "https://localhost:8080/"
        },
        "id": "1gCU_ROGzl0P",
        "outputId": "fb03c038-ec71-4b40-aed1-78001131d6d2"
      },
      "execution_count": 19,
      "outputs": [
        {
          "output_type": "stream",
          "name": "stdout",
          "text": [
            "Saving TensorBoard log files to: tensorflow_hub/resnet50V2/Y1012-121935\n",
            "Epoch 1/5\n",
            "24/24 [==============================] - 26s 519ms/step - loss: 1.9692 - accuracy: 0.3427 - val_loss: 1.2128 - val_accuracy: 0.6300\n",
            "Epoch 2/5\n",
            "24/24 [==============================] - 11s 464ms/step - loss: 0.9030 - accuracy: 0.7333 - val_loss: 0.8706 - val_accuracy: 0.7184\n",
            "Epoch 3/5\n",
            "24/24 [==============================] - 11s 485ms/step - loss: 0.6300 - accuracy: 0.8253 - val_loss: 0.7692 - val_accuracy: 0.7432\n",
            "Epoch 4/5\n",
            "24/24 [==============================] - 10s 444ms/step - loss: 0.4763 - accuracy: 0.8653 - val_loss: 0.7046 - val_accuracy: 0.7716\n",
            "Epoch 5/5\n",
            "24/24 [==============================] - 10s 446ms/step - loss: 0.3839 - accuracy: 0.9120 - val_loss: 0.6749 - val_accuracy: 0.7808\n"
          ]
        }
      ]
    },
    {
      "cell_type": "code",
      "source": [],
      "metadata": {
        "id": "ySnKXnlu0-QY"
      },
      "execution_count": null,
      "outputs": []
    }
  ]
}